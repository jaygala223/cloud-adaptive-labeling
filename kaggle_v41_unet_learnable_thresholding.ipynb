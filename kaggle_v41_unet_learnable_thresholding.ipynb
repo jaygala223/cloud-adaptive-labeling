{
  "cells": [
    {
      "cell_type": "code",
      "execution_count": null,
      "metadata": {
        "id": "zyUNEHti-N4S"
      },
      "outputs": [],
      "source": [
        "import os\n",
        "os.environ[\"CUDA_VISIBLE_DEVICES\"] = \"0\""
      ]
    },
    {
      "cell_type": "code",
      "execution_count": 1,
      "metadata": {
        "colab": {
          "base_uri": "https://localhost:8080/"
        },
        "id": "OtXvkZL_xBWA",
        "outputId": "c9727119-935a-4385-b5fc-4bc670665f36"
      },
      "outputs": [
        {
          "output_type": "stream",
          "name": "stdout",
          "text": [
            "Installing collected packages: tokenizers, safetensors, xxhash, dill, multiprocess, huggingface_hub, transformers, datasets\n",
            "Successfully installed datasets-2.14.5 dill-0.3.7 huggingface_hub-0.17.2 multiprocess-0.70.15 safetensors-0.3.3 tokenizers-0.13.3 transformers-4.33.2 xxhash-3.3.0\n"
          ]
        }
      ],
      "source": [
        "!pip install datasets transformers albumentations huggingface_hub"
      ]
    },
    {
      "cell_type": "code",
      "execution_count": 2,
      "metadata": {
        "colab": {
          "base_uri": "https://localhost:8080/",
          "height": 209,
          "referenced_widgets": [
            "dc68b5c04b8a4c6e8c17b1ba7b0d87ab",
            "44779b01dd324aa0ac8bf2dbf9c1f136",
            "1330992271ea47b08ad552e670e9e0c7",
            "cc36ddfb745d48929e21263615c2aa43",
            "7a8cb8e4d2a44bbf9b997244ca4814bb",
            "18673350b40443d1b967c920e5749a81",
            "340123bf6ab04ac48032a7be3b61331a",
            "e2cd12ab04824d89bc0d42c34393a2bc",
            "8bfe0780923242af88323a0c243cf541",
            "b41555d3e32d49c4a6f52b29748c9004",
            "26ef697bed644ff297a0efca83c13333",
            "4d88ca22c0ca4c379f2c4bb2b8c60783",
            "753b49719b1d4267b16e9da1df1a74a1",
            "cc1e8ced9db043c2b84cebd22bdbde81",
            "8610d2cb01ad42a5b75b0fcaf314c95c",
            "a4ec325a41bd40268f17ae6b567ad4e6",
            "0925bcff5e9d48dabf013df0c05aaaec",
            "8f6fbcba58f449f0ac73fcbbbe0904d4",
            "7618eb2a104d46e9acab06b59d03ba0b",
            "2f15489582624312a91b50d63d0a0242",
            "7a58f929c3ad489bab04edf1d3d872bb",
            "36ba402208264846a4d1556de693a3ae",
            "d15b5a8263614b3fb9b9702d2f2a698e",
            "ca65c16e3943405a8c45db674d12b00d",
            "a25c338c376744949e1b9b9bfdec0cee",
            "069aee3c626c4846bca5e4691e688425",
            "d27e8799ab9f44f8a7d4f644a85d3c20",
            "6001dd7bef7d40c6925160d47b1bd730",
            "f91e01ac5ed147f18cb2340cf596d53d",
            "c835a90c840a47b3b917ea86f097ec28",
            "949542c5ec054e0a90b786813bd081b8",
            "6ee104a5df9d440ba14557423a63d22b",
            "d1e44467c87845ee9987ccab3c382a74",
            "b7911d4bb9724ab5aa37f2982796e620",
            "6a341fbd590d414984d8516369993331",
            "9a54af1297084a7ca5a02760e91973f0",
            "2eb8fff9fcac497aa25bc51ea6aa2498",
            "16d9096e9955493680f11b8ed836307d",
            "c371d54455d84415a10bbd78b9ab1cd1",
            "f83ce00f694d4dda9df56366b037d425",
            "3340b6eece8a438aaa563ccf9d47d5f4",
            "0bf1936edb554889a4a726fbd7e1ee74",
            "8c816bc37a53495c9bd60785d7ba96f3",
            "3489d302fe5e4f9aac8481f77d911b6f",
            "448baad1349544beb66b56171d225e27",
            "f31c6182483a4888920298d0bd0ea2ae",
            "3a520f16121a4c2388e3a45a14a91935",
            "116f81a56a41450a806c2214cb7b9779",
            "79b7c3400d5a4ad0a32510e43b29e807",
            "e82fa5a122cb4c9d8469a7cde6cbbde6",
            "ed0a070b1c314c14b2c417c9ed6c5bd3",
            "86f36b4d96534180993de172c1852feb",
            "80f4a576f72e4b928a4d7be932e766bb",
            "63f89c79d668462c96f4dd1b5a172e19",
            "774a9f9a32384536916e45a4ffadd201",
            "0857588f6202419698e8499afe74d114",
            "647ceda773294a62bce8b60acc226752",
            "dfcd2ecf317541dcb84430361c1981e2",
            "9f4657663ec04645906be7fa823da22b",
            "b73508b405964ffd8c86ea8bb875ae63",
            "a5c0ba95a3e241d297bef793216b9ce0",
            "f8b64a9dcbd84a1699afb6ce3c4f9e2f",
            "795b4c57dd8442d2b06d7d6785776aae",
            "a53ff084868f44e190feb7dd66a4932e",
            "075bb2d80c7e44938978f66cd42c3794",
            "a1eb768e0c7949db8b4dc5350fc5c482"
          ]
        },
        "execution": {
          "iopub.execute_input": "2023-09-19T03:54:02.719441Z",
          "iopub.status.busy": "2023-09-19T03:54:02.719139Z",
          "iopub.status.idle": "2023-09-19T03:54:25.289535Z",
          "shell.execute_reply": "2023-09-19T03:54:25.288597Z",
          "shell.execute_reply.started": "2023-09-19T03:54:02.719415Z"
        },
        "id": "HP5UOxNGK9lA",
        "outputId": "73893fcf-f4eb-42de-b0ef-57d70cf8af84"
      },
      "outputs": [
        {
          "output_type": "display_data",
          "data": {
            "text/plain": [
              "Downloading readme:   0%|          | 0.00/493 [00:00<?, ?B/s]"
            ],
            "application/vnd.jupyter.widget-view+json": {
              "version_major": 2,
              "version_minor": 0,
              "model_id": "dc68b5c04b8a4c6e8c17b1ba7b0d87ab"
            }
          },
          "metadata": {}
        },
        {
          "output_type": "display_data",
          "data": {
            "text/plain": [
              "Downloading data files:   0%|          | 0/1 [00:00<?, ?it/s]"
            ],
            "application/vnd.jupyter.widget-view+json": {
              "version_major": 2,
              "version_minor": 0,
              "model_id": "4d88ca22c0ca4c379f2c4bb2b8c60783"
            }
          },
          "metadata": {}
        },
        {
          "output_type": "display_data",
          "data": {
            "text/plain": [
              "Downloading data:   0%|          | 0.00/378M [00:00<?, ?B/s]"
            ],
            "application/vnd.jupyter.widget-view+json": {
              "version_major": 2,
              "version_minor": 0,
              "model_id": "d15b5a8263614b3fb9b9702d2f2a698e"
            }
          },
          "metadata": {}
        },
        {
          "output_type": "display_data",
          "data": {
            "text/plain": [
              "Downloading data:   0%|          | 0.00/377M [00:00<?, ?B/s]"
            ],
            "application/vnd.jupyter.widget-view+json": {
              "version_major": 2,
              "version_minor": 0,
              "model_id": "b7911d4bb9724ab5aa37f2982796e620"
            }
          },
          "metadata": {}
        },
        {
          "output_type": "display_data",
          "data": {
            "text/plain": [
              "Extracting data files:   0%|          | 0/1 [00:00<?, ?it/s]"
            ],
            "application/vnd.jupyter.widget-view+json": {
              "version_major": 2,
              "version_minor": 0,
              "model_id": "448baad1349544beb66b56171d225e27"
            }
          },
          "metadata": {}
        },
        {
          "output_type": "display_data",
          "data": {
            "text/plain": [
              "Generating train split:   0%|          | 0/8400 [00:00<?, ? examples/s]"
            ],
            "application/vnd.jupyter.widget-view+json": {
              "version_major": 2,
              "version_minor": 0,
              "model_id": "0857588f6202419698e8499afe74d114"
            }
          },
          "metadata": {}
        }
      ],
      "source": [
        "from datasets import load_dataset\n",
        "\n",
        "dataset = load_dataset(\"jaygala223/38-cloud-train-only-v2\")"
      ]
    },
    {
      "cell_type": "code",
      "execution_count": 3,
      "metadata": {
        "colab": {
          "base_uri": "https://localhost:8080/"
        },
        "execution": {
          "iopub.execute_input": "2023-09-19T03:54:27.207966Z",
          "iopub.status.busy": "2023-09-19T03:54:27.207077Z",
          "iopub.status.idle": "2023-09-19T03:54:27.215381Z",
          "shell.execute_reply": "2023-09-19T03:54:27.214092Z",
          "shell.execute_reply.started": "2023-09-19T03:54:27.207931Z"
        },
        "id": "DYQoifJBK_BO",
        "outputId": "d8f2afa4-655b-4077-860c-840ca67553cb"
      },
      "outputs": [
        {
          "output_type": "execute_result",
          "data": {
            "text/plain": [
              "DatasetDict({\n",
              "    train: Dataset({\n",
              "        features: ['image', 'label'],\n",
              "        num_rows: 8400\n",
              "    })\n",
              "})"
            ]
          },
          "metadata": {},
          "execution_count": 3
        }
      ],
      "source": [
        "dataset"
      ]
    },
    {
      "cell_type": "code",
      "execution_count": 4,
      "metadata": {
        "execution": {
          "iopub.execute_input": "2023-09-19T03:54:29.787234Z",
          "iopub.status.busy": "2023-09-19T03:54:29.786750Z",
          "iopub.status.idle": "2023-09-19T03:54:29.851984Z",
          "shell.execute_reply": "2023-09-19T03:54:29.851099Z",
          "shell.execute_reply.started": "2023-09-19T03:54:29.787150Z"
        },
        "id": "xPt6sgx-LCvK"
      },
      "outputs": [],
      "source": [
        "# shuffle + split dataset\n",
        "dataset = dataset.shuffle(seed=1)\n",
        "dataset = dataset[\"train\"].train_test_split(test_size=0.1)\n",
        "train_ds = dataset[\"train\"]\n",
        "test_ds = dataset[\"test\"]"
      ]
    },
    {
      "cell_type": "code",
      "execution_count": 5,
      "metadata": {
        "colab": {
          "base_uri": "https://localhost:8080/"
        },
        "execution": {
          "iopub.execute_input": "2023-09-19T03:54:32.478982Z",
          "iopub.status.busy": "2023-09-19T03:54:32.478532Z",
          "iopub.status.idle": "2023-09-19T03:54:32.496478Z",
          "shell.execute_reply": "2023-09-19T03:54:32.495557Z",
          "shell.execute_reply.started": "2023-09-19T03:54:32.478945Z"
        },
        "id": "KMpU8TB3LEsz",
        "outputId": "d4677bf5-e19b-4fbf-f572-8430000951c0"
      },
      "outputs": [
        {
          "output_type": "stream",
          "name": "stdout",
          "text": [
            "Dataset({\n",
            "    features: ['image', 'label'],\n",
            "    num_rows: 7560\n",
            "})\n",
            "Dataset({\n",
            "    features: ['image', 'label'],\n",
            "    num_rows: 840\n",
            "})\n"
          ]
        }
      ],
      "source": [
        "print(train_ds)\n",
        "print(test_ds)"
      ]
    },
    {
      "cell_type": "code",
      "execution_count": null,
      "metadata": {
        "colab": {
          "base_uri": "https://localhost:8080/",
          "height": 401
        },
        "execution": {
          "iopub.execute_input": "2023-09-19T03:55:24.527017Z",
          "iopub.status.busy": "2023-09-19T03:55:24.526613Z",
          "iopub.status.idle": "2023-09-19T03:55:24.543811Z",
          "shell.execute_reply": "2023-09-19T03:55:24.542731Z",
          "shell.execute_reply.started": "2023-09-19T03:55:24.526986Z"
        },
        "id": "x8grhQGlwQbd",
        "outputId": "9a5dc01f-7849-4b52-fc85-da89fa50e942"
      },
      "outputs": [
        {
          "data": {
            "image/png": "[encoded data removed]",
            "text/plain": [
              "<PIL.PngImagePlugin.PngImageFile image mode=RGB size=384x384>"
            ]
          },
          "execution_count": 7,
          "metadata": {},
          "output_type": "execute_result"
        }
      ],
      "source": [
        "# let's look at one example (images are pretty high resolution)\n",
        "example = train_ds[839]\n",
        "image = example['image']\n",
        "image"
      ]
    },
    {
      "cell_type": "code",
      "execution_count": null,
      "metadata": {
        "execution": {
          "iopub.execute_input": "2023-09-19T03:55:31.110895Z",
          "iopub.status.busy": "2023-09-19T03:55:31.110491Z",
          "iopub.status.idle": "2023-09-19T03:55:31.118669Z",
          "shell.execute_reply": "2023-09-19T03:55:31.117577Z",
          "shell.execute_reply.started": "2023-09-19T03:55:31.110867Z"
        },
        "id": "_cBddWGG-N4U",
        "outputId": "5e6b4964-b0fa-41d2-bfc2-23d50a3311b0"
      },
      "outputs": [
        {
          "data": {
            "image/png": "[encoded data removed]",
            "text/plain": [
              "<PIL.PngImagePlugin.PngImageFile image mode=L size=384x384>"
            ]
          },
          "execution_count": 8,
          "metadata": {},
          "output_type": "execute_result"
        }
      ],
      "source": [
        "label = example['label']\n",
        "label"
      ]
    },
    {
      "cell_type": "code",
      "execution_count": null,
      "metadata": {
        "colab": {
          "base_uri": "https://localhost:8080/"
        },
        "id": "4IqBZ5xDwQ74",
        "outputId": "8f93a6ba-c30b-4cd4-f846-0ad9ac298fe9"
      },
      "outputs": [
        {
          "data": {
            "text/plain": [
              "(384, 384, 3)"
            ]
          },
          "execution_count": 9,
          "metadata": {},
          "output_type": "execute_result"
        }
      ],
      "source": [
        "import numpy as np\n",
        "np.array(image).shape"
      ]
    },
    {
      "cell_type": "code",
      "execution_count": null,
      "metadata": {
        "colab": {
          "base_uri": "https://localhost:8080/"
        },
        "execution": {
          "iopub.execute_input": "2023-09-15T07:10:32.257008Z",
          "iopub.status.busy": "2023-09-15T07:10:32.256691Z",
          "iopub.status.idle": "2023-09-15T07:10:32.391218Z",
          "shell.execute_reply": "2023-09-15T07:10:32.389897Z",
          "shell.execute_reply.started": "2023-09-15T07:10:32.256981Z"
        },
        "id": "uwinrvnRwS3k",
        "outputId": "bfe5d589-aef7-4485-9196-b4aa0149806d"
      },
      "outputs": [
        {
          "data": {
            "text/plain": [
              "array([[1, 1, 1, ..., 1, 1, 1],\n",
              "       [1, 1, 1, ..., 1, 1, 1],\n",
              "       [1, 1, 1, ..., 1, 1, 1],\n",
              "       ...,\n",
              "       [0, 0, 0, ..., 1, 1, 1],\n",
              "       [0, 0, 0, ..., 1, 1, 1],\n",
              "       [0, 0, 0, ..., 1, 1, 1]], dtype=uint8)"
            ]
          },
          "execution_count": 10,
          "metadata": {},
          "output_type": "execute_result"
        }
      ],
      "source": [
        "import numpy as np\n",
        "\n",
        "# load corresponding ground truth segmentation map, which includes a label per pixel\n",
        "segmentation_map = np.array(example['label'])/255\n",
        "segmentation_map = np.array(segmentation_map, dtype=np.uint8)\n",
        "segmentation_map"
      ]
    },
    {
      "cell_type": "code",
      "execution_count": null,
      "metadata": {
        "colab": {
          "base_uri": "https://localhost:8080/"
        },
        "id": "M26RufPgwUgL",
        "outputId": "f5cc9eb2-df63-469e-ee44-c35ac6bb3412"
      },
      "outputs": [
        {
          "data": {
            "text/plain": [
              "array([0, 1], dtype=uint8)"
            ]
          },
          "execution_count": 11,
          "metadata": {},
          "output_type": "execute_result"
        }
      ],
      "source": [
        "np.unique(segmentation_map)"
      ]
    },
    {
      "cell_type": "code",
      "execution_count": 6,
      "metadata": {
        "colab": {
          "base_uri": "https://localhost:8080/",
          "height": 66,
          "referenced_widgets": [
            "8f87d11abade41e0b454c8edec28b011",
            "3cfe9cf533224a5d82855071e94b02ec",
            "0b598b36bc874e1d84e6f09128938520",
            "a1c63f3346b8498c915811e617f58885",
            "7c0f5c5700264ab4b0f38d4d41a100f5",
            "1af2f9684342404d86cee4cb63726fa7",
            "1808ff976fac40f99b7a0264e17f03d3",
            "d3780d00e9c94c42a09934ddb7df3ebb",
            "766b70fc7ffd453491a8bb00196d3209",
            "546e6a99ab664f1ba8fe24c27a56a615",
            "0cbb768c07ff4f1b9846ab8ac6fc044c"
          ]
        },
        "execution": {
          "iopub.execute_input": "2023-09-19T03:55:44.429917Z",
          "iopub.status.busy": "2023-09-19T03:55:44.429572Z",
          "iopub.status.idle": "2023-09-19T03:55:44.646645Z",
          "shell.execute_reply": "2023-09-19T03:55:44.645706Z",
          "shell.execute_reply.started": "2023-09-19T03:55:44.429889Z"
        },
        "id": "TZQm7iJZwVhW",
        "outputId": "12b67b0f-4ca5-46ac-bd78-e0e063cb5374"
      },
      "outputs": [
        {
          "output_type": "display_data",
          "data": {
            "text/plain": [
              "Downloading (…)e/main/id2label.json:   0%|          | 0.00/32.0 [00:00<?, ?B/s]"
            ],
            "application/vnd.jupyter.widget-view+json": {
              "version_major": 2,
              "version_minor": 0,
              "model_id": "8f87d11abade41e0b454c8edec28b011"
            }
          },
          "metadata": {}
        },
        {
          "output_type": "stream",
          "name": "stdout",
          "text": [
            "{0: 'non-cloud', 1: 'cloud'}\n"
          ]
        }
      ],
      "source": [
        "from huggingface_hub import hf_hub_download\n",
        "import json\n",
        "\n",
        "repo_id = f\"jaygala223/38-cloud-train-only-v2\"\n",
        "filename = \"id2label.json\"\n",
        "id2label = json.load(open(hf_hub_download(repo_id, filename, repo_type=\"dataset\"), \"r\"))\n",
        "id2label = {int(k):v for k,v in id2label.items()}\n",
        "print(id2label)"
      ]
    },
    {
      "cell_type": "code",
      "execution_count": null,
      "metadata": {
        "execution": {
          "iopub.execute_input": "2023-09-13T05:01:42.980777Z",
          "iopub.status.busy": "2023-09-13T05:01:42.980417Z",
          "iopub.status.idle": "2023-09-13T05:01:42.986354Z",
          "shell.execute_reply": "2023-09-13T05:01:42.985144Z",
          "shell.execute_reply.started": "2023-09-13T05:01:42.980747Z"
        },
        "id": "NYrF5ceEwWqJ"
      },
      "outputs": [],
      "source": [
        "# def color_palette():\n",
        "#     \"\"\"Color palette that maps each class to RGB values.\n",
        "\n",
        "#     This one is actually taken from ADE20k.\n",
        "#     \"\"\"\n",
        "\n",
        "#     #since we only have 2 classes\n",
        "#     return [[102, 255, 0], [92, 0, 255]]\n",
        "\n",
        "# palette = color_palette()"
      ]
    },
    {
      "cell_type": "code",
      "execution_count": null,
      "metadata": {
        "execution": {
          "iopub.execute_input": "2023-09-13T05:01:44.832699Z",
          "iopub.status.busy": "2023-09-13T05:01:44.832049Z",
          "iopub.status.idle": "2023-09-13T05:01:45.246775Z",
          "shell.execute_reply": "2023-09-13T05:01:45.244416Z",
          "shell.execute_reply.started": "2023-09-13T05:01:44.832668Z"
        },
        "id": "M3fFGlWAwYBt"
      },
      "outputs": [],
      "source": [
        "# import numpy as np\n",
        "# import matplotlib.pyplot as plt\n",
        "\n",
        "# color_segmentation_map = np.zeros((segmentation_map.shape[0], segmentation_map.shape[1], 3), dtype=np.uint8) # height, width, 3\n",
        "# for label, color in enumerate(palette):\n",
        "#     color_segmentation_map[segmentation_map == label, :] = color\n",
        "# # Convert to BGR\n",
        "# ground_truth_color_seg = color_segmentation_map[..., ::-1]\n",
        "\n",
        "# img = np.array(image) * 0.5 + ground_truth_color_seg * 0.5\n",
        "# img = img.astype(np.uint8)\n",
        "\n",
        "# plt.figure(figsize=(15, 10))\n",
        "# plt.imshow(img)\n",
        "# plt.show()"
      ]
    },
    {
      "cell_type": "code",
      "execution_count": 7,
      "metadata": {
        "execution": {
          "iopub.execute_input": "2023-09-19T03:55:49.538062Z",
          "iopub.status.busy": "2023-09-19T03:55:49.537712Z",
          "iopub.status.idle": "2023-09-19T03:55:52.760471Z",
          "shell.execute_reply": "2023-09-19T03:55:52.759458Z",
          "shell.execute_reply.started": "2023-09-19T03:55:49.538027Z"
        },
        "id": "gCyXLAPOwZwH"
      },
      "outputs": [],
      "source": [
        "import numpy as np\n",
        "from torch.utils.data import Dataset\n",
        "\n",
        "class ImageSegmentationDataset(Dataset):\n",
        "    \"\"\"Image segmentation dataset.\"\"\"\n",
        "\n",
        "    def __init__(self, dataset, transform):\n",
        "        \"\"\"\n",
        "        Args:\n",
        "            dataset\n",
        "        \"\"\"\n",
        "        self.dataset = dataset\n",
        "        self.transform = transform\n",
        "\n",
        "    def __len__(self):\n",
        "        return len(self.dataset)\n",
        "\n",
        "    def __getitem__(self, idx):\n",
        "        original_image = np.array(self.dataset[idx]['image'])\n",
        "        original_segmentation_map = np.array(self.dataset[idx]['label'])\n",
        "\n",
        "        # adding one bottom most pixel as 255 since processor/feature_extractor\n",
        "        # wont take labels without a positive (i.e. class: 1 or cloud)\n",
        "        uniques = np.unique(original_segmentation_map)\n",
        "        if sum(uniques) == 0:\n",
        "            original_segmentation_map[-1, -1] = 255\n",
        "\n",
        "        transformed = self.transform(image=original_image, mask=original_segmentation_map)\n",
        "        image, segmentation_map = transformed['image'], transformed['mask']\n",
        "\n",
        "        # convert to C, H, W\n",
        "        image = image.transpose(2,0,1)\n",
        "\n",
        "        return image, segmentation_map, original_image, original_segmentation_map"
      ]
    },
    {
      "cell_type": "code",
      "execution_count": 8,
      "metadata": {
        "execution": {
          "iopub.execute_input": "2023-09-19T03:55:52.763285Z",
          "iopub.status.busy": "2023-09-19T03:55:52.762417Z",
          "iopub.status.idle": "2023-09-19T03:55:54.470902Z",
          "shell.execute_reply": "2023-09-19T03:55:54.469868Z",
          "shell.execute_reply.started": "2023-09-19T03:55:52.763249Z"
        },
        "id": "7tbKHlgCwa7l"
      },
      "outputs": [],
      "source": [
        "import albumentations as A\n",
        "\n",
        "ADE_MEAN = np.array([123.675, 116.280, 103.530]) / 255\n",
        "ADE_STD = np.array([58.395, 57.120, 57.375]) / 255\n",
        "\n",
        "train_transform = A.Compose([\n",
        "    # A.LongestMaxSize(max_size=384),\n",
        "    # A.RandomCrop(width=100, height=100),\n",
        "    A.HorizontalFlip(p=0.5),\n",
        "    A.Normalize(mean=ADE_MEAN, std=ADE_STD),\n",
        "])\n",
        "\n",
        "test_transform = A.Compose([\n",
        "    # A.Resize(width=100, height=100),\n",
        "    A.Normalize(mean=ADE_MEAN, std=ADE_STD),\n",
        "])\n",
        "# train_dataset = ImageSegmentationDataset(train_ds)\n",
        "train_dataset = ImageSegmentationDataset(train_ds, transform=train_transform)\n",
        "test_dataset = ImageSegmentationDataset(test_ds, transform=test_transform)\n",
        "# test_dataset = ImageSegmentationDataset(test_ds)"
      ]
    },
    {
      "cell_type": "code",
      "execution_count": null,
      "metadata": {
        "colab": {
          "base_uri": "https://localhost:8080/"
        },
        "execution": {
          "iopub.execute_input": "2023-09-13T13:21:27.354501Z",
          "iopub.status.busy": "2023-09-13T13:21:27.353886Z",
          "iopub.status.idle": "2023-09-13T13:21:27.404400Z",
          "shell.execute_reply": "2023-09-13T13:21:27.403489Z",
          "shell.execute_reply.started": "2023-09-13T13:21:27.354463Z"
        },
        "id": "YYBOwHFMwcXp",
        "outputId": "8a4d4161-aec2-45b9-c9ad-f1c7bd856171"
      },
      "outputs": [
        {
          "name": "stdout",
          "output_type": "stream",
          "text": [
            "(3, 384, 384)\n",
            "(384, 384)\n"
          ]
        }
      ],
      "source": [
        "# image, segmentation_map, _, _ = train_dataset[0]\n",
        "image, segmentation_map, _, _ = train_dataset[222]\n",
        "print(image.shape)\n",
        "print(segmentation_map.shape)"
      ]
    },
    {
      "cell_type": "code",
      "execution_count": 9,
      "metadata": {
        "colab": {
          "base_uri": "https://localhost:8080/",
          "height": 86,
          "referenced_widgets": [
            "363c878a85024ca1b283aa611a850927",
            "787ea656e9624b1897e876d5a5355874",
            "acb362a67d8c48f985c492fd5aaa7c54",
            "777b7f661b44412d871f94c72f4b7e58",
            "3098cb92cdb64525bbecde24542d7548",
            "d039af466a1443a39a5b2567a1cc655c",
            "5d431f08fb324b3c9d98f564bdb2b8ef",
            "6637bb3d53994faaacdf1a5b91e1d102",
            "345ffcbaaf5c438db60359c020ade8f1",
            "ae616b49a62442d9826ad12c711f16e1",
            "6b94a3e97e2e4b8d913a6bb9489f754e"
          ]
        },
        "execution": {
          "iopub.execute_input": "2023-09-19T03:55:56.554578Z",
          "iopub.status.busy": "2023-09-19T03:55:56.554019Z",
          "iopub.status.idle": "2023-09-19T03:56:05.901593Z",
          "shell.execute_reply": "2023-09-19T03:56:05.900543Z",
          "shell.execute_reply.started": "2023-09-19T03:55:56.554546Z"
        },
        "id": "3B_pv7bsweRu",
        "outputId": "bdd7ba78-3cee-4cdf-c56e-318fd3d93168"
      },
      "outputs": [
        {
          "output_type": "stream",
          "name": "stderr",
          "text": [
            "The cache for model files in Transformers v4.22.0 has been updated. Migrating your old cache. This is a one-time only operation. You can interrupt this and resume the migration later on by calling `transformers.utils.move_cache()`.\n"
          ]
        },
        {
          "output_type": "display_data",
          "data": {
            "text/plain": [
              "0it [00:00, ?it/s]"
            ],
            "application/vnd.jupyter.widget-view+json": {
              "version_major": 2,
              "version_minor": 0,
              "model_id": "363c878a85024ca1b283aa611a850927"
            }
          },
          "metadata": {}
        }
      ],
      "source": [
        "from transformers import MaskFormerImageProcessor,Mask2FormerImageProcessor, AutoImageProcessor\n",
        "\n",
        "# Create a preprocessor\n",
        "# preprocessor = AutoImageProcessor.from_pretrained(\"facebook/mask2former-swin-tiny-ade-semantic\",\n",
        "#                                                   do_reduce_labels=False,\n",
        "#                                                   do_resize=False, do_rescale=False, do_normalize=False)\n",
        "\n",
        "size = {'longest_edge':384, 'shortest_edge':384}\n",
        "\n",
        "#original\n",
        "preprocessor = Mask2FormerImageProcessor(ignore_index=0,\n",
        "                                        do_reduce_labels=False,\n",
        "                                        do_resize=False,\n",
        "                                        do_rescale=False,\n",
        "                                        do_normalize=True,\n",
        "                                        size=size)\n",
        "\n",
        "#my experiment\n",
        "# preprocessor = Mask2FormerImageProcessor(ignore_index=0, do_reduce_labels=False, do_resize=False, do_rescale=False, do_normalize=False)"
      ]
    },
    {
      "cell_type": "code",
      "execution_count": 10,
      "metadata": {
        "execution": {
          "iopub.execute_input": "2023-09-19T03:56:05.909578Z",
          "iopub.status.busy": "2023-09-19T03:56:05.907029Z",
          "iopub.status.idle": "2023-09-19T03:56:05.918099Z",
          "shell.execute_reply": "2023-09-19T03:56:05.917226Z",
          "shell.execute_reply.started": "2023-09-19T03:56:05.909541Z"
        },
        "id": "qjyUPbv4wgOE"
      },
      "outputs": [],
      "source": [
        "from torch.utils.data import DataLoader\n",
        "\n",
        "def collate_fn(batch):\n",
        "    inputs = list(zip(*batch))\n",
        "    images = inputs[0]\n",
        "    segmentation_maps = inputs[1]\n",
        "    # this function pads the inputs to the same size,\n",
        "    # and creates a pixel mask\n",
        "    # actually padding isn't required here since we are cropping\n",
        "    batch = preprocessor(\n",
        "        images,\n",
        "        segmentation_maps=segmentation_maps,\n",
        "        return_tensors=\"pt\",\n",
        "    )\n",
        "\n",
        "    batch[\"original_images\"] = inputs[2]\n",
        "    batch[\"original_segmentation_maps\"] = inputs[3]\n",
        "\n",
        "    return batch"
      ]
    },
    {
      "cell_type": "code",
      "execution_count": 11,
      "metadata": {
        "execution": {
          "iopub.execute_input": "2023-09-19T03:56:05.925225Z",
          "iopub.status.busy": "2023-09-19T03:56:05.922655Z",
          "iopub.status.idle": "2023-09-19T03:56:05.933310Z",
          "shell.execute_reply": "2023-09-19T03:56:05.932375Z",
          "shell.execute_reply.started": "2023-09-19T03:56:05.925190Z"
        },
        "id": "ksZzEQOowhct"
      },
      "outputs": [],
      "source": [
        "\n",
        "# train_dataloader = DataLoader(train_dataset, batch_size=batch_size, shuffle=True)\n",
        "# test_dataloader = DataLoader(test_dataset, batch_size=batch_size, shuffle=True)\n",
        "\n",
        "# batch size more than 4 causes CUDA out of memory error\n",
        "\n",
        "train_dataloader = DataLoader(train_dataset, batch_size=1, shuffle=False, collate_fn=collate_fn, drop_last=True)\n",
        "test_dataloader = DataLoader(test_dataset, batch_size=1, shuffle=False, collate_fn=collate_fn, drop_last=True)"
      ]
    },
    {
      "cell_type": "code",
      "execution_count": 12,
      "metadata": {
        "colab": {
          "base_uri": "https://localhost:8080/"
        },
        "execution": {
          "iopub.execute_input": "2023-09-19T03:56:10.310391Z",
          "iopub.status.busy": "2023-09-19T03:56:10.310000Z",
          "iopub.status.idle": "2023-09-19T03:56:10.453539Z",
          "shell.execute_reply": "2023-09-19T03:56:10.452345Z",
          "shell.execute_reply.started": "2023-09-19T03:56:10.310362Z"
        },
        "id": "LsRe9bXQwjWI",
        "outputId": "c80fb0db-b7ca-4eb2-e199-0de3d0f3963d"
      },
      "outputs": [
        {
          "output_type": "stream",
          "name": "stdout",
          "text": [
            "pixel_values torch.Size([1, 3, 384, 384])\n",
            "pixel_mask torch.Size([1, 384, 384])\n",
            "mask_labels torch.Size([1, 384, 384])\n",
            "class_labels torch.Size([1])\n",
            "original_images (384, 384, 3)\n",
            "original_segmentation_maps (384, 384)\n"
          ]
        }
      ],
      "source": [
        "import torch\n",
        "\n",
        "batch = next(iter(train_dataloader))\n",
        "\n",
        "for k,v in batch.items():\n",
        "  if isinstance(v, torch.Tensor):\n",
        "    print(k,v.shape)\n",
        "  else:\n",
        "    print(k,v[0].shape)"
      ]
    },
    {
      "cell_type": "code",
      "execution_count": null,
      "metadata": {
        "execution": {
          "iopub.execute_input": "2023-09-15T09:06:55.636093Z",
          "iopub.status.busy": "2023-09-15T09:06:55.635699Z",
          "iopub.status.idle": "2023-09-15T09:06:55.641890Z",
          "shell.execute_reply": "2023-09-15T09:06:55.640851Z",
          "shell.execute_reply.started": "2023-09-15T09:06:55.636062Z"
        },
        "id": "944jVS6twl1l"
      },
      "outputs": [],
      "source": [
        "# from transformers import MaskFormerForInstanceSegmentation, Mask2FormerForUniversalSegmentation\n",
        "\n",
        "# Replace the head of the pre-trained model\n",
        "\n",
        "# model = Mask2FormerForUniversalSegmentation.from_pretrained(\"facebook/mask2former-swin-base-IN21k-ade-semantic\",\n",
        "#                                                             id2label=id2label,\n",
        "#                                                             ignore_mismatched_sizes=True)\n",
        "\n",
        "\n",
        "# from transformers import SegformerFeatureExtractor, SegformerForSemanticSegmentation\n",
        "\n",
        "# feature_extractor = SegformerFeatureExtractor.from_pretrained(\"nvidia/segformer-b3-finetuned-ade-512-512\")\n",
        "# model = SegformerForSemanticSegmentation.from_pretrained(\"nvidia/segformer-b3-finetuned-ade-512-512\")\n",
        "\n",
        "# model = Mask2FormerForUniversalSegmentation.from_pretrained(\"facebook/mask2former-swin-base-ade-semantic\",\n",
        "#                                                           id2label=id2label,\n",
        "#                                                           ignore_mismatched_sizes=True)\n",
        "\n",
        "# model = MaskFormerForInstanceSegmentation.from_pretrained(\"facebook/maskformer-swin-base-ade\",\n",
        "#                                                           id2label=id2label,\n",
        "#                                                           ignore_mismatched_sizes=True)\n",
        "\n",
        "# finetuned_model = MaskFormerForInstanceSegmentation.from_pretrained(\"jaygala223/maskformer-finetuned-for-38-cloud-dataset\",\n",
        "#                                                           id2label=id2label,\n",
        "#                                                           ignore_mismatched_sizes=True)"
      ]
    },
    {
      "cell_type": "code",
      "execution_count": null,
      "metadata": {
        "execution": {
          "iopub.execute_input": "2023-09-18T15:35:29.671320Z",
          "iopub.status.busy": "2023-09-18T15:35:29.670700Z",
          "iopub.status.idle": "2023-09-18T15:35:30.576254Z",
          "shell.execute_reply": "2023-09-18T15:35:30.575329Z",
          "shell.execute_reply.started": "2023-09-18T15:35:29.671282Z"
        },
        "id": "bTBEVtu3wnMj",
        "colab": {
          "referenced_widgets": [
            "c0dca03c6c4b4ceca7dc89bffeca20ee"
          ]
        },
        "outputId": "96efa64b-86d7-4132-bc04-fb213cda791d"
      },
      "outputs": [
        {
          "data": {
            "application/vnd.jupyter.widget-view+json": {
              "model_id": "c0dca03c6c4b4ceca7dc89bffeca20ee",
              "version_major": 2,
              "version_minor": 0
            },
            "text/plain": [
              "Downloading (…)rocessor_config.json:   0%|          | 0.00/372 [00:00<?, ?B/s]"
            ]
          },
          "metadata": {},
          "output_type": "display_data"
        }
      ],
      "source": [
        "# from transformers import MaskFormerFeatureExtractor, MaskFormerForInstanceSegmentation, AutoImageProcessor, UperNetForSemanticSegmentation\n",
        "# from PIL import Image\n",
        "# import requests\n",
        "\n",
        "# size = {'longest_edge':384, 'shortest_edge':383}\n",
        "\n",
        "# load MaskFormer fine-tuned on COCO panoptic segmentation\n",
        "# feature_extractor = Mask2FormerFeatureExtractor.from_pretrained(\"facebook/maskformer-swin-base-ade\",\n",
        "#                                                                size=size,\n",
        "#                                                                )\n",
        "\n",
        "# model 1 is for generating new pred segmentation maps... model 2 is to train on new pred labels\n",
        "\n",
        "# image_processor = AutoImageProcessor.from_pretrained(\"openmmlab/upernet-swin-tiny\")\n",
        "# image_processor = AutoImageProcessor.from_pretrained(\"openmmlab/upernet-swin-tiny\")\n",
        "\n",
        "# model = UperNetForSemanticSegmentation.from_pretrained(\"jaygala223/upernet-swin-tiny-finetuned-for-38-cloud-dataset\")\n",
        "# model = UperNetForSemanticSegmentation.from_pretrained(\"openmmlab/upernet-swin-base\")\n",
        "# model = UperNetForSemanticSegmentation.from_pretrained(\"openmmlab/upernet-swin-tiny\")\n",
        "\n",
        "# model = UperNetForSemanticSegmentation.from_pretrained(\"openmmlab/upernet-swin-tiny\")\n",
        "\n",
        "# load MaskFormer fine-tuned on COCO panoptic segmentation\n",
        "# feature_extractor = MaskFormerFeatureExtractor.from_pretrained(\"facebook/maskformer-swin-base-ade\",\n",
        "#                                                                size={'longest_edge':384, 'shortest_edge':383},\n",
        "#                                                                )"
      ]
    },
    {
      "cell_type": "code",
      "execution_count": null,
      "metadata": {
        "execution": {
          "iopub.execute_input": "2023-09-15T09:07:11.110766Z",
          "iopub.status.busy": "2023-09-15T09:07:11.110353Z",
          "iopub.status.idle": "2023-09-15T09:07:16.485305Z",
          "shell.execute_reply": "2023-09-15T09:07:16.484232Z",
          "shell.execute_reply.started": "2023-09-15T09:07:11.110732Z"
        },
        "id": "3iHAdSgh-N4X"
      },
      "outputs": [],
      "source": [
        "# from transformers import AutoImageProcessor, AutoModelForSemanticSegmentation\n",
        "# from PIL import Image\n",
        "# import requests\n",
        "\n",
        "# image_processor = AutoImageProcessor.from_pretrained(\"google/deeplabv3_mobilenet_v2_1.0_513\")\n",
        "# model = AutoModelForSemanticSegmentation.from_pretrained(\"google/deeplabv3_mobilenet_v2_1.0_513\")"
      ]
    },
    {
      "cell_type": "code",
      "execution_count": 13,
      "metadata": {
        "execution": {
          "iopub.execute_input": "2023-09-19T03:56:21.542783Z",
          "iopub.status.busy": "2023-09-19T03:56:21.542426Z",
          "iopub.status.idle": "2023-09-19T03:56:21.550156Z",
          "shell.execute_reply": "2023-09-19T03:56:21.549233Z",
          "shell.execute_reply.started": "2023-09-19T03:56:21.542756Z"
        },
        "id": "eQ4GE0F4-N4X"
      },
      "outputs": [],
      "source": [
        "import torch\n",
        "\n",
        "def binarize_image(image, threshold = 50):\n",
        "    \"\"\"\n",
        "    Binarizes a color image.\n",
        "\n",
        "    Args:\n",
        "        image (torch.Tensor): Input color image of shape [1, H, W, 3].\n",
        "        threshold (float): Threshold value for binarization (between 0 and 255).\n",
        "\n",
        "    Returns:\n",
        "        torch.Tensor: Binarized image of shape [1, H, W].\n",
        "    \"\"\"\n",
        "    image = image.float()\n",
        "    # Convert the image to grayscale by taking the average across color channels\n",
        "    gray_image = torch.mean(image, dim=3, keepdim=True)  # Shape: [1, H, W, 1]\n",
        "\n",
        "    # Apply binarization based on the threshold\n",
        "    binary_image = torch.where(gray_image >= threshold, torch.ones_like(gray_image), torch.zeros_like(gray_image))\n",
        "\n",
        "    return binary_image.squeeze(dim=3)"
      ]
    },
    {
      "cell_type": "code",
      "execution_count": 14,
      "metadata": {
        "id": "ENfyrS9M-N4X"
      },
      "outputs": [],
      "source": [
        "import torch\n",
        "\n",
        "def binarize_image_learnable(image, threshold):\n",
        "    \"\"\"\n",
        "    Binarizes a color image.\n",
        "\n",
        "    Args:\n",
        "        image (torch.Tensor): Input color image of shape [1, H, W, 3].\n",
        "        threshold (float): Threshold value for binarization (between 0 and 255).\n",
        "\n",
        "    Returns:\n",
        "        torch.Tensor: Binarized image of shape [1, H, W].\n",
        "    \"\"\"\n",
        "    image = image.float()\n",
        "    alpha = 1\n",
        "#     threshold = torch.clamp(threshold,min=0.0, max=1.0)\n",
        "    threshold_l = 255*(0.55 - alpha*torch.sigmoid(threshold))\n",
        "    print(threshold)\n",
        "\n",
        "    # Convert the image to grayscale by taking the average across color channels\n",
        "    gray_image = torch.mean(image, dim=3, keepdim=True)  # Shape: [1, H, W, 1]\n",
        "\n",
        "    # Apply binarization based on the threshold\n",
        "    binary_image = torch.where(gray_image >= threshold_l, torch.ones_like(gray_image), torch.zeros_like(gray_image))\n",
        "    print(threshold.grad,binary_image.grad)\n",
        "    return binary_image.squeeze(dim=3)"
      ]
    },
    {
      "cell_type": "code",
      "execution_count": null,
      "metadata": {
        "execution": {
          "iopub.execute_input": "2023-09-15T09:07:16.496245Z",
          "iopub.status.busy": "2023-09-15T09:07:16.495814Z",
          "iopub.status.idle": "2023-09-15T09:07:16.516425Z",
          "shell.execute_reply": "2023-09-15T09:07:16.515043Z",
          "shell.execute_reply.started": "2023-09-15T09:07:16.496204Z"
        },
        "id": "co5hJJOb-N4X"
      },
      "outputs": [],
      "source": [
        "# import torch\n",
        "# import torch.nn as nn\n",
        "\n",
        "# class ThresholdModule(nn.Module):\n",
        "#     def __init__(self):\n",
        "#         super(ThresholdModule, self).__init__()\n",
        "#         # Define a fully connected layer to learn the threshold value\n",
        "#         self.fc = nn.Linear(3 * 384 * 384, 1)  # Input size is flattened image\n",
        "#         # Initialize the threshold value to a reasonable starting point\n",
        "#         nn.init.constant_(self.fc.weight, 0.5)  # You can adjust the initial value as needed\n",
        "\n",
        "#     def forward(self, x):\n",
        "#         # Flatten the input image\n",
        "#         x = x.view(x.size(0), -1)\n",
        "#         # Ensure that the data type matches (e.g., float32)\n",
        "#         x = x.to(self.fc.weight.dtype)\n",
        "#         # Apply the threshold module\n",
        "#         threshold = torch.sigmoid(self.fc(x))  # Apply sigmoid to ensure it's in [0, 1]\n",
        "#         return threshold"
      ]
    },
    {
      "cell_type": "code",
      "execution_count": null,
      "metadata": {
        "execution": {
          "iopub.execute_input": "2023-09-13T05:37:22.598702Z",
          "iopub.status.busy": "2023-09-13T05:37:22.598339Z",
          "iopub.status.idle": "2023-09-13T05:37:23.099887Z",
          "shell.execute_reply": "2023-09-13T05:37:23.098226Z",
          "shell.execute_reply.started": "2023-09-13T05:37:22.598672Z"
        },
        "id": "3PuM3XH4-N4Y",
        "outputId": "0567caf7-f08d-429e-a1ae-ff923bde187d"
      },
      "outputs": [
        {
          "ename": "NameError",
          "evalue": "name 'device' is not defined",
          "output_type": "error",
          "traceback": [
            "\u001b[0;31m---------------------------------------------------------------------------\u001b[0m",
            "\u001b[0;31mNameError\u001b[0m                                 Traceback (most recent call last)",
            "Cell \u001b[0;32mIn[22], line 2\u001b[0m\n\u001b[1;32m      1\u001b[0m threshold_module \u001b[38;5;241m=\u001b[39m ThresholdModule()\n\u001b[0;32m----> 2\u001b[0m threshold_module\u001b[38;5;241m.\u001b[39mto(\u001b[43mdevice\u001b[49m)\n\u001b[1;32m      3\u001b[0m threshold \u001b[38;5;241m=\u001b[39m threshold_module(images\u001b[38;5;241m.\u001b[39mto(device))\n\u001b[1;32m      4\u001b[0m threshold\u001b[38;5;241m.\u001b[39mitem()\n",
            "\u001b[0;31mNameError\u001b[0m: name 'device' is not defined"
          ]
        }
      ],
      "source": [
        "# threshold_module = ThresholdModule()\n",
        "# threshold_module.to(device)\n",
        "# threshold = threshold_module(images.to(device))\n",
        "# threshold.item()"
      ]
    },
    {
      "cell_type": "code",
      "execution_count": null,
      "metadata": {
        "execution": {
          "iopub.execute_input": "2023-09-14T13:21:17.441056Z",
          "iopub.status.busy": "2023-09-14T13:21:17.440269Z",
          "iopub.status.idle": "2023-09-14T13:21:17.447689Z",
          "shell.execute_reply": "2023-09-14T13:21:17.446674Z",
          "shell.execute_reply.started": "2023-09-14T13:21:17.441020Z"
        },
        "id": "gTvhO2fq-N4Y"
      },
      "outputs": [],
      "source": [
        "def maskformer_forward_pass(model, feature_extractor, images, labels, device):\n",
        "    inputs = feature_extractor(images = images, segmentation_maps = labels, return_tensors = 'pt')\n",
        "\n",
        "    inputs['pixel_values'] = inputs['pixel_values'].float()\n",
        "\n",
        "    inputs['mask_labels'] = torch.stack(inputs['mask_labels'])\n",
        "    inputs['class_labels'] = torch.stack(inputs['class_labels'])\n",
        "\n",
        "    inputs.to(device)\n",
        "\n",
        "    outputs = model(**inputs)\n",
        "\n",
        "    return outputs"
      ]
    },
    {
      "cell_type": "code",
      "execution_count": null,
      "metadata": {
        "execution": {
          "iopub.execute_input": "2023-09-15T07:14:01.446577Z",
          "iopub.status.busy": "2023-09-15T07:14:01.445859Z",
          "iopub.status.idle": "2023-09-15T07:14:01.465019Z",
          "shell.execute_reply": "2023-09-15T07:14:01.463918Z",
          "shell.execute_reply.started": "2023-09-15T07:14:01.446541Z"
        },
        "id": "hJ5LxkSY-N4Y"
      },
      "outputs": [],
      "source": [
        "def upernet_forward_pass(model, image_processor, images, labels, device):\n",
        "    inputs = image_processor(images = images, segmentation_maps = labels, return_tensors = 'pt')\n",
        "    inputs.to(device)\n",
        "\n",
        "    outputs = model(**inputs)\n",
        "\n",
        "    return outputs"
      ]
    },
    {
      "cell_type": "code",
      "execution_count": null,
      "metadata": {
        "execution": {
          "iopub.execute_input": "2023-09-14T13:21:25.272512Z",
          "iopub.status.busy": "2023-09-14T13:21:25.272080Z",
          "iopub.status.idle": "2023-09-14T13:21:25.279790Z",
          "shell.execute_reply": "2023-09-14T13:21:25.278493Z",
          "shell.execute_reply.started": "2023-09-14T13:21:25.272471Z"
        },
        "id": "8-Uzrc7l-N4Y"
      },
      "outputs": [],
      "source": [
        "from torchvision.transforms import ToPILImage\n",
        "import PIL.Image as Image\n",
        "\n",
        "def display_tensor_as_pil(tensor):\n",
        "    tensor = (tensor * 255).byte()\n",
        "\n",
        "    # Convert the PyTorch tensor to a PIL image\n",
        "    to_pil = ToPILImage()\n",
        "    pil_image = to_pil(tensor)\n",
        "\n",
        "    return pil_image"
      ]
    },
    {
      "cell_type": "code",
      "execution_count": null,
      "metadata": {
        "execution": {
          "iopub.execute_input": "2023-09-13T07:21:06.263046Z",
          "iopub.status.busy": "2023-09-13T07:21:06.262649Z",
          "iopub.status.idle": "2023-09-13T07:21:06.277997Z",
          "shell.execute_reply": "2023-09-13T07:21:06.276933Z",
          "shell.execute_reply.started": "2023-09-13T07:21:06.263014Z"
        },
        "id": "n7foZdDO-N4Y",
        "outputId": "ecb2027c-60bc-4a87-ae18-d62b1b244334"
      },
      "outputs": [
        {
          "data": {
            "image/png": "[encoded data removed]",
            "text/plain": [
              "<PIL.Image.Image image mode=RGB size=384x384>"
            ]
          },
          "execution_count": 86,
          "metadata": {},
          "output_type": "execute_result"
        }
      ],
      "source": [
        "# display_tensor_as_pil(images.permute(0, 3, 1, 2)[0]/255)"
      ]
    },
    {
      "cell_type": "code",
      "execution_count": null,
      "metadata": {
        "execution": {
          "iopub.execute_input": "2023-09-13T07:21:08.839017Z",
          "iopub.status.busy": "2023-09-13T07:21:08.837965Z",
          "iopub.status.idle": "2023-09-13T07:21:08.850821Z",
          "shell.execute_reply": "2023-09-13T07:21:08.849682Z",
          "shell.execute_reply.started": "2023-09-13T07:21:08.838971Z"
        },
        "id": "rX4Rhlkq-N4Y",
        "outputId": "8657d694-c79f-48a8-9106-1e40a42d840b"
      },
      "outputs": [
        {
          "name": "stdout",
          "output_type": "stream",
          "text": [
            "tensor(1)\n"
          ]
        },
        {
          "data": {
            "image/png": "[encoded data removed]",
            "text/plain": [
              "<PIL.Image.Image image mode=L size=384x384>"
            ]
          },
          "execution_count": 87,
          "metadata": {},
          "output_type": "execute_result"
        }
      ],
      "source": [
        "# print(torch.sum(labels == 1))\n",
        "\n",
        "# display_tensor_as_pil(labels)"
      ]
    },
    {
      "cell_type": "code",
      "execution_count": null,
      "metadata": {
        "execution": {
          "iopub.execute_input": "2023-09-13T07:21:15.839781Z",
          "iopub.status.busy": "2023-09-13T07:21:15.839379Z",
          "iopub.status.idle": "2023-09-13T07:21:15.852307Z",
          "shell.execute_reply": "2023-09-13T07:21:15.851068Z",
          "shell.execute_reply.started": "2023-09-13T07:21:15.839751Z"
        },
        "id": "orUduXPJ-N4Y",
        "outputId": "1db498da-4f08-48c2-b65e-8d4024f49fd0"
      },
      "outputs": [
        {
          "name": "stdout",
          "output_type": "stream",
          "text": [
            "tensor(0)\n"
          ]
        },
        {
          "data": {
            "image/png": "[encoded data removed]",
            "text/plain": [
              "<PIL.Image.Image image mode=L size=384x384>"
            ]
          },
          "execution_count": 88,
          "metadata": {},
          "output_type": "execute_result"
        }
      ],
      "source": [
        "# print(torch.sum(new_labels == 1))\n",
        "\n",
        "# display_tensor_as_pil(new_labels)"
      ]
    },
    {
      "cell_type": "code",
      "execution_count": null,
      "metadata": {
        "execution": {
          "iopub.execute_input": "2023-09-13T07:22:18.058375Z",
          "iopub.status.busy": "2023-09-13T07:22:18.057750Z",
          "iopub.status.idle": "2023-09-13T07:22:18.069556Z",
          "shell.execute_reply": "2023-09-13T07:22:18.067682Z",
          "shell.execute_reply.started": "2023-09-13T07:22:18.058328Z"
        },
        "id": "K5yolWEK-N4Z",
        "outputId": "b65227bd-120c-44aa-8b37-5ed6242d0799"
      },
      "outputs": [
        {
          "data": {
            "text/plain": [
              "1"
            ]
          },
          "execution_count": 91,
          "metadata": {},
          "output_type": "execute_result"
        }
      ],
      "source": [
        "# torch.sum(labels == 1).item()"
      ]
    },
    {
      "cell_type": "code",
      "execution_count": 31,
      "metadata": {
        "execution": {
          "iopub.execute_input": "2023-09-19T05:08:51.196366Z",
          "iopub.status.busy": "2023-09-19T05:08:51.195979Z",
          "iopub.status.idle": "2023-09-19T05:08:51.443823Z",
          "shell.execute_reply": "2023-09-19T05:08:51.442181Z",
          "shell.execute_reply.started": "2023-09-19T05:08:51.196337Z"
        },
        "colab": {
          "base_uri": "https://localhost:8080/"
        },
        "id": "TSXXHFE7-N4Z",
        "outputId": "4a22663e-7163-4682-c943-bc222ccce440"
      },
      "outputs": [
        {
          "output_type": "stream",
          "name": "stderr",
          "text": [
            "Using cache found in /root/.cache/torch/hub/mateuszbuda_brain-segmentation-pytorch_master\n"
          ]
        }
      ],
      "source": [
        "import torch\n",
        "model = torch.hub.load('mateuszbuda/brain-segmentation-pytorch', 'unet',\n",
        "    in_channels=3, out_channels=1, init_features=32)"
      ]
    },
    {
      "cell_type": "code",
      "execution_count": 15,
      "metadata": {
        "execution": {
          "iopub.execute_input": "2023-09-19T03:56:51.391243Z",
          "iopub.status.busy": "2023-09-19T03:56:51.390859Z",
          "iopub.status.idle": "2023-09-19T03:56:51.396527Z",
          "shell.execute_reply": "2023-09-19T03:56:51.395550Z",
          "shell.execute_reply.started": "2023-09-19T03:56:51.391211Z"
        },
        "id": "iS51_IQn-N4Z"
      },
      "outputs": [],
      "source": [
        "def unet_forward_pass(model, images, device):\n",
        "    model.to(device)\n",
        "    images.to(device)\n",
        "\n",
        "    outputs = model(images.float().permute(0,3,1,2))\n",
        "    # outputs = (outputs > 0).float()\n",
        "    return outputs"
      ]
    },
    {
      "cell_type": "code",
      "execution_count": 20,
      "metadata": {
        "execution": {
          "iopub.execute_input": "2023-09-19T04:53:28.560569Z",
          "iopub.status.busy": "2023-09-19T04:53:28.560209Z",
          "iopub.status.idle": "2023-09-19T04:53:28.675673Z",
          "shell.execute_reply": "2023-09-19T04:53:28.674540Z",
          "shell.execute_reply.started": "2023-09-19T04:53:28.560534Z"
        },
        "id": "DEyiVgTkwoSn",
        "colab": {
          "base_uri": "https://localhost:8080/"
        },
        "outputId": "5d482695-aecb-46c6-eb7a-709fdf222dae"
      },
      "outputs": [
        {
          "output_type": "stream",
          "name": "stdout",
          "text": [
            "done!\n"
          ]
        }
      ],
      "source": [
        "device = \"cpu\"\n",
        "\n",
        "batch = next(iter(train_dataloader))\n",
        "\n",
        "# model = torch.load()\n",
        "\n",
        "images, labels = batch['original_images'], batch['original_segmentation_maps']\n",
        "\n",
        "# first convert to np array then to tensor... because list to tensor is a slow operation\n",
        "images = np.array(images)\n",
        "images = torch.tensor(images)\n",
        "labels = np.array(labels)\n",
        "labels = torch.tensor(labels)/255\n",
        "\n",
        "# print(images.shape)\n",
        "\n",
        "images.to(device)\n",
        "labels.to(device)\n",
        "model.to(device)\n",
        "\n",
        "new_labels = binarize_image(images, threshold=55)\n",
        "\n",
        "# if there is only single cloud (i.e. 1) pixel then leave it\n",
        "# or if all elements in new_labels are 1 then leave it (because image may have SNOW)\n",
        "# note: binarization does poorly on snowy images.\n",
        "# if (labels == 1).all().item() == 1 or (labels == 0).all().item() == 1:\n",
        "#     new_labels = labels\n",
        "\n",
        "outputs = unet_forward_pass(model, images.to(device), device)\n",
        "\n",
        "# outputs = upernet_forward_pass(model, image_processor,images, labels, device)\n",
        "\n",
        "print(\"done!\")"
      ]
    },
    {
      "cell_type": "code",
      "source": [
        "outputs"
      ],
      "metadata": {
        "colab": {
          "base_uri": "https://localhost:8080/"
        },
        "id": "CYIJwtv3Adr2",
        "outputId": "7d95eb05-11b6-4166-9cfb-65a29abc672a"
      },
      "execution_count": 22,
      "outputs": [
        {
          "output_type": "execute_result",
          "data": {
            "text/plain": [
              "tensor([[[[0.4198, 0.6498, 0.8036,  ..., 0.4449, 0.4303, 0.4396],\n",
              "          [0.3800, 0.7409, 0.8780,  ..., 0.4083, 0.5112, 0.3958],\n",
              "          [0.4958, 0.8806, 0.7893,  ..., 0.5354, 0.4316, 0.4160],\n",
              "          ...,\n",
              "          [0.5621, 0.7817, 0.8582,  ..., 0.4824, 0.4292, 0.5398],\n",
              "          [0.4616, 0.8402, 0.7389,  ..., 0.5276, 0.4945, 0.4567],\n",
              "          [0.2825, 0.4636, 0.6494,  ..., 0.5044, 0.5155, 0.4654]]]],\n",
              "       grad_fn=<SigmoidBackward0>)"
            ]
          },
          "metadata": {},
          "execution_count": 22
        }
      ]
    },
    {
      "cell_type": "code",
      "execution_count": 21,
      "metadata": {
        "colab": {
          "base_uri": "https://localhost:8080/"
        },
        "execution": {
          "iopub.execute_input": "2023-09-15T09:34:16.110524Z",
          "iopub.status.busy": "2023-09-15T09:34:16.110112Z",
          "iopub.status.idle": "2023-09-15T09:34:16.118997Z",
          "shell.execute_reply": "2023-09-15T09:34:16.117726Z",
          "shell.execute_reply.started": "2023-09-15T09:34:16.110494Z"
        },
        "id": "lCr67rDEwqHy",
        "outputId": "39ed8bcb-50b4-4c9c-ee3c-14b97b2edf8e"
      },
      "outputs": [
        {
          "output_type": "execute_result",
          "data": {
            "text/plain": [
              "(torch.Size([1, 1, 384, 384]), torch.Size([1, 1, 384, 384]))"
            ]
          },
          "metadata": {},
          "execution_count": 21
        }
      ],
      "source": [
        "outputs.shape, labels.unsqueeze(dim=1).shape"
      ]
    },
    {
      "cell_type": "markdown",
      "metadata": {
        "id": "IQWKPwmEwrN9"
      },
      "source": [
        "TRAINING"
      ]
    },
    {
      "cell_type": "code",
      "execution_count": null,
      "metadata": {
        "id": "ESMx3kjO-N4d"
      },
      "outputs": [],
      "source": [
        "# model=torch.load('unet_checkpoint_44_iou.pth')"
      ]
    },
    {
      "cell_type": "code",
      "execution_count": 26,
      "metadata": {
        "id": "i4Aby8pR-N4d"
      },
      "outputs": [],
      "source": [
        "def calculate_iou(pred_mask_list, true_mask_list):\n",
        "    total_iou = 0.0\n",
        "    num_masks = len(pred_mask_list)\n",
        "\n",
        "    for pred_mask, true_mask in zip(pred_mask_list, true_mask_list):\n",
        "        pred_mask = pred_mask.cpu()\n",
        "        true_mask = true_mask.cpu()\n",
        "        intersection = torch.logical_and(pred_mask, true_mask).sum()\n",
        "        union = torch.logical_or(pred_mask, true_mask).sum()\n",
        "\n",
        "        iou = intersection.float() / union.float()\n",
        "        total_iou += iou.item()\n",
        "\n",
        "    avg_iou = total_iou / num_masks\n",
        "    return avg_iou"
      ]
    },
    {
      "cell_type": "code",
      "execution_count": 29,
      "metadata": {
        "colab": {
          "base_uri": "https://localhost:8080/"
        },
        "id": "YdiZdbb2-N4d",
        "outputId": "ca04befd-8c66-4e0a-9ec4-45ec39baf813"
      },
      "outputs": [
        {
          "output_type": "stream",
          "name": "stdout",
          "text": [
            "Precision: 0.9999999750000006\n",
            "Recall: 0.9999999750000006\n",
            "Accuracy: 0.9999999833333336\n",
            "F1 Score: 0.9999999250000032\n"
          ]
        }
      ],
      "source": [
        "import torch\n",
        "\n",
        "def calculate_metrics(true_labels, predicted_labels, device):\n",
        "    true_positives = 0\n",
        "    false_positives = 0\n",
        "    false_negatives = 0\n",
        "    true_negatives = 0\n",
        "\n",
        "    for true, predicted in zip(true_labels, predicted_labels):\n",
        "        true.to(device)\n",
        "        predicted.to(device)\n",
        "        true_positives += torch.sum((predicted == 1) & (true == 1)).item()\n",
        "        false_positives += torch.sum((predicted == 1) & (true == 0)).item()\n",
        "        false_negatives += torch.sum((predicted == 0) & (true == 1)).item()\n",
        "        true_negatives += torch.sum((predicted == 0) & (true == 0)).item()\n",
        "\n",
        "    precision = true_positives / (true_positives + false_positives + 1e-7)\n",
        "    recall = true_positives / (true_positives + false_negatives + 1e-7)\n",
        "    accuracy = (true_positives + true_negatives) / (true_positives + true_negatives + false_positives + false_negatives + 1e-7)\n",
        "    f1_score = 2 * (precision * recall) / (precision + recall + 1e-7)\n",
        "\n",
        "    return precision, recall, accuracy, f1_score\n",
        "\n",
        "# Example usage\n",
        "true_labels = [torch.tensor([1, 0, 1]), torch.tensor([1, 1, 0])]\n",
        "predicted_labels = [torch.tensor([1, 0, 1]), torch.tensor([1, 1, 0])]\n",
        "\n",
        "precision, recall, accuracy, f1_score = calculate_metrics(true_labels, predicted_labels, \"cpu\")\n",
        "print(\"Precision:\", precision)\n",
        "print(\"Recall:\", recall)\n",
        "print(\"Accuracy:\", accuracy)\n",
        "print(\"F1 Score:\", f1_score)"
      ]
    },
    {
      "cell_type": "code",
      "execution_count": 28,
      "metadata": {
        "id": "W3fCA9lw-N4d"
      },
      "outputs": [],
      "source": [
        "def calculate_iou_from_tensors(predicted, target):\n",
        "    \"\"\"\n",
        "    Calculate Intersection over Union (IoU) between two tensors.\n",
        "\n",
        "    Args:\n",
        "        predicted (torch.Tensor): Predicted binary tensor.\n",
        "        target (torch.Tensor): Ground truth binary tensor.\n",
        "\n",
        "    Returns:\n",
        "        float: Intersection over Union (IoU) score.\n",
        "    \"\"\"\n",
        "    intersection = torch.logical_and(predicted, target).sum()\n",
        "    union = torch.logical_or(predicted, target).sum()\n",
        "    iou = float(intersection) / float(union + 1e-6)  # Add a small epsilon to avoid division by zero\n",
        "    return iou"
      ]
    },
    {
      "cell_type": "code",
      "execution_count": 33,
      "metadata": {
        "colab": {
          "base_uri": "https://localhost:8080/",
          "height": 717,
          "referenced_widgets": [
            "8be31029178a406bb2bff9b2894be669",
            "4ffaa9b1d25944e19f52408d8670254d",
            "8347c1d871d742cb8f61b245b46f81c0",
            "c9f8716a4f4d4bc9916ca3c2c1b8eac1",
            "3517132382fa40ee93d761cbb7f53b1d",
            "b810b139a25f4c47bdd6113c3d87678c",
            "4b1ec42c42b54b749d73ea6a2de35793",
            "47ab7222367b44498fe0c060252878cc",
            "e98f6c22ec40427b8238b2fa9fd0a718",
            "66d460314eab4ad39bd86b9abbfadd7f",
            "0ef77ebeaee140c0b57f6830de67cdf5"
          ]
        },
        "execution": {
          "iopub.execute_input": "2023-09-19T05:09:19.091687Z",
          "iopub.status.busy": "2023-09-19T05:09:19.091075Z",
          "iopub.status.idle": "2023-09-19T06:57:01.931129Z",
          "shell.execute_reply": "2023-09-19T06:57:01.929553Z",
          "shell.execute_reply.started": "2023-09-19T05:09:19.091656Z"
        },
        "id": "qEDfxsEwwsd_",
        "outputId": "9ec157f9-4de0-455f-ece7-92af5ec52e33"
      },
      "outputs": [
        {
          "output_type": "stream",
          "name": "stdout",
          "text": [
            "Epoch: 0\n"
          ]
        },
        {
          "output_type": "display_data",
          "data": {
            "text/plain": [
              "  0%|          | 0/7560 [00:00<?, ?it/s]"
            ],
            "application/vnd.jupyter.widget-view+json": {
              "version_major": 2,
              "version_minor": 0,
              "model_id": "8be31029178a406bb2bff9b2894be669"
            }
          },
          "metadata": {}
        },
        {
          "output_type": "stream",
          "name": "stdout",
          "text": [
            "Loss: 0.9499077200889587\n",
            "threshold value 55\n",
            "Loss: 0.9257221817970276\n",
            "threshold value 55\n",
            "Loss: 0.9138208429018656\n",
            "threshold value 55\n",
            "Loss: 0.8210565000772476\n",
            "threshold value 55\n",
            "Loss: 0.8383759379386901\n",
            "threshold value 55\n",
            "Loss: 0.8143925468126932\n",
            "threshold value 55\n",
            "Loss: 0.8236768926892962\n",
            "threshold value 55\n",
            "Loss: 0.7845476791262627\n",
            "threshold value 55\n"
          ]
        },
        {
          "output_type": "error",
          "ename": "KeyboardInterrupt",
          "evalue": "ignored",
          "traceback": [
            "\u001b[0;31m---------------------------------------------------------------------------\u001b[0m",
            "\u001b[0;31mKeyboardInterrupt\u001b[0m                         Traceback (most recent call last)",
            "\u001b[0;32m<ipython-input-33-656e4cd9a35f>\u001b[0m in \u001b[0;36m<cell line: 26>\u001b[0;34m()\u001b[0m\n\u001b[1;32m     58\u001b[0m \u001b[0;31m#           if_condition += 1\u001b[0m\u001b[0;34m\u001b[0m\u001b[0;34m\u001b[0m\u001b[0m\n\u001b[1;32m     59\u001b[0m \u001b[0;34m\u001b[0m\u001b[0m\n\u001b[0;32m---> 60\u001b[0;31m       \u001b[0moutputs\u001b[0m \u001b[0;34m=\u001b[0m \u001b[0munet_forward_pass\u001b[0m\u001b[0;34m(\u001b[0m\u001b[0mmodel\u001b[0m\u001b[0;34m.\u001b[0m\u001b[0mto\u001b[0m\u001b[0;34m(\u001b[0m\u001b[0mdevice\u001b[0m\u001b[0;34m)\u001b[0m\u001b[0;34m,\u001b[0m \u001b[0mimages\u001b[0m\u001b[0;34m.\u001b[0m\u001b[0mto\u001b[0m\u001b[0;34m(\u001b[0m\u001b[0mdevice\u001b[0m\u001b[0;34m)\u001b[0m\u001b[0;34m,\u001b[0m \u001b[0mdevice\u001b[0m\u001b[0;34m)\u001b[0m\u001b[0;34m\u001b[0m\u001b[0;34m\u001b[0m\u001b[0m\n\u001b[0m\u001b[1;32m     61\u001b[0m       \u001b[0;31m# Backward propagation\u001b[0m\u001b[0;34m\u001b[0m\u001b[0;34m\u001b[0m\u001b[0m\n\u001b[1;32m     62\u001b[0m       \u001b[0mloss\u001b[0m \u001b[0;34m=\u001b[0m \u001b[0mcriterion\u001b[0m\u001b[0;34m(\u001b[0m\u001b[0moutputs\u001b[0m\u001b[0;34m.\u001b[0m\u001b[0mfloat\u001b[0m\u001b[0;34m(\u001b[0m\u001b[0;34m)\u001b[0m\u001b[0;34m.\u001b[0m\u001b[0mto\u001b[0m\u001b[0;34m(\u001b[0m\u001b[0mdevice\u001b[0m\u001b[0;34m)\u001b[0m\u001b[0;34m,\u001b[0m \u001b[0mnew_labels\u001b[0m\u001b[0;34m.\u001b[0m\u001b[0mfloat\u001b[0m\u001b[0;34m(\u001b[0m\u001b[0;34m)\u001b[0m\u001b[0;34m.\u001b[0m\u001b[0munsqueeze\u001b[0m\u001b[0;34m(\u001b[0m\u001b[0mdim\u001b[0m\u001b[0;34m=\u001b[0m\u001b[0;36m1\u001b[0m\u001b[0;34m)\u001b[0m\u001b[0;34m.\u001b[0m\u001b[0mto\u001b[0m\u001b[0;34m(\u001b[0m\u001b[0mdevice\u001b[0m\u001b[0;34m)\u001b[0m\u001b[0;34m)\u001b[0m\u001b[0;34m\u001b[0m\u001b[0;34m\u001b[0m\u001b[0m\n",
            "\u001b[0;32m<ipython-input-15-3c1e77d0885e>\u001b[0m in \u001b[0;36munet_forward_pass\u001b[0;34m(model, images, device)\u001b[0m\n\u001b[1;32m      3\u001b[0m     \u001b[0mimages\u001b[0m\u001b[0;34m.\u001b[0m\u001b[0mto\u001b[0m\u001b[0;34m(\u001b[0m\u001b[0mdevice\u001b[0m\u001b[0;34m)\u001b[0m\u001b[0;34m\u001b[0m\u001b[0;34m\u001b[0m\u001b[0m\n\u001b[1;32m      4\u001b[0m \u001b[0;34m\u001b[0m\u001b[0m\n\u001b[0;32m----> 5\u001b[0;31m     \u001b[0moutputs\u001b[0m \u001b[0;34m=\u001b[0m \u001b[0mmodel\u001b[0m\u001b[0;34m(\u001b[0m\u001b[0mimages\u001b[0m\u001b[0;34m.\u001b[0m\u001b[0mfloat\u001b[0m\u001b[0;34m(\u001b[0m\u001b[0;34m)\u001b[0m\u001b[0;34m.\u001b[0m\u001b[0mpermute\u001b[0m\u001b[0;34m(\u001b[0m\u001b[0;36m0\u001b[0m\u001b[0;34m,\u001b[0m\u001b[0;36m3\u001b[0m\u001b[0;34m,\u001b[0m\u001b[0;36m1\u001b[0m\u001b[0;34m,\u001b[0m\u001b[0;36m2\u001b[0m\u001b[0;34m)\u001b[0m\u001b[0;34m)\u001b[0m\u001b[0;34m\u001b[0m\u001b[0;34m\u001b[0m\u001b[0m\n\u001b[0m\u001b[1;32m      6\u001b[0m     \u001b[0;31m# outputs = (outputs > 0).float()\u001b[0m\u001b[0;34m\u001b[0m\u001b[0;34m\u001b[0m\u001b[0m\n\u001b[1;32m      7\u001b[0m     \u001b[0;32mreturn\u001b[0m \u001b[0moutputs\u001b[0m\u001b[0;34m\u001b[0m\u001b[0;34m\u001b[0m\u001b[0m\n",
            "\u001b[0;32m/usr/local/lib/python3.10/dist-packages/torch/nn/modules/module.py\u001b[0m in \u001b[0;36m_call_impl\u001b[0;34m(self, *args, **kwargs)\u001b[0m\n\u001b[1;32m   1499\u001b[0m                 \u001b[0;32mor\u001b[0m \u001b[0m_global_backward_pre_hooks\u001b[0m \u001b[0;32mor\u001b[0m \u001b[0m_global_backward_hooks\u001b[0m\u001b[0;34m\u001b[0m\u001b[0;34m\u001b[0m\u001b[0m\n\u001b[1;32m   1500\u001b[0m                 or _global_forward_hooks or _global_forward_pre_hooks):\n\u001b[0;32m-> 1501\u001b[0;31m             \u001b[0;32mreturn\u001b[0m \u001b[0mforward_call\u001b[0m\u001b[0;34m(\u001b[0m\u001b[0;34m*\u001b[0m\u001b[0margs\u001b[0m\u001b[0;34m,\u001b[0m \u001b[0;34m**\u001b[0m\u001b[0mkwargs\u001b[0m\u001b[0;34m)\u001b[0m\u001b[0;34m\u001b[0m\u001b[0;34m\u001b[0m\u001b[0m\n\u001b[0m\u001b[1;32m   1502\u001b[0m         \u001b[0;31m# Do not call functions when jit is used\u001b[0m\u001b[0;34m\u001b[0m\u001b[0;34m\u001b[0m\u001b[0m\n\u001b[1;32m   1503\u001b[0m         \u001b[0mfull_backward_hooks\u001b[0m\u001b[0;34m,\u001b[0m \u001b[0mnon_full_backward_hooks\u001b[0m \u001b[0;34m=\u001b[0m \u001b[0;34m[\u001b[0m\u001b[0;34m]\u001b[0m\u001b[0;34m,\u001b[0m \u001b[0;34m[\u001b[0m\u001b[0;34m]\u001b[0m\u001b[0;34m\u001b[0m\u001b[0;34m\u001b[0m\u001b[0m\n",
            "\u001b[0;32m~/.cache/torch/hub/mateuszbuda_brain-segmentation-pytorch_master/unet.py\u001b[0m in \u001b[0;36mforward\u001b[0;34m(self, x)\u001b[0m\n\u001b[1;32m     51\u001b[0m         \u001b[0mbottleneck\u001b[0m \u001b[0;34m=\u001b[0m \u001b[0mself\u001b[0m\u001b[0;34m.\u001b[0m\u001b[0mbottleneck\u001b[0m\u001b[0;34m(\u001b[0m\u001b[0mself\u001b[0m\u001b[0;34m.\u001b[0m\u001b[0mpool4\u001b[0m\u001b[0;34m(\u001b[0m\u001b[0menc4\u001b[0m\u001b[0;34m)\u001b[0m\u001b[0;34m)\u001b[0m\u001b[0;34m\u001b[0m\u001b[0;34m\u001b[0m\u001b[0m\n\u001b[1;32m     52\u001b[0m \u001b[0;34m\u001b[0m\u001b[0m\n\u001b[0;32m---> 53\u001b[0;31m         \u001b[0mdec4\u001b[0m \u001b[0;34m=\u001b[0m \u001b[0mself\u001b[0m\u001b[0;34m.\u001b[0m\u001b[0mupconv4\u001b[0m\u001b[0;34m(\u001b[0m\u001b[0mbottleneck\u001b[0m\u001b[0;34m)\u001b[0m\u001b[0;34m\u001b[0m\u001b[0;34m\u001b[0m\u001b[0m\n\u001b[0m\u001b[1;32m     54\u001b[0m         \u001b[0mdec4\u001b[0m \u001b[0;34m=\u001b[0m \u001b[0mtorch\u001b[0m\u001b[0;34m.\u001b[0m\u001b[0mcat\u001b[0m\u001b[0;34m(\u001b[0m\u001b[0;34m(\u001b[0m\u001b[0mdec4\u001b[0m\u001b[0;34m,\u001b[0m \u001b[0menc4\u001b[0m\u001b[0;34m)\u001b[0m\u001b[0;34m,\u001b[0m \u001b[0mdim\u001b[0m\u001b[0;34m=\u001b[0m\u001b[0;36m1\u001b[0m\u001b[0;34m)\u001b[0m\u001b[0;34m\u001b[0m\u001b[0;34m\u001b[0m\u001b[0m\n\u001b[1;32m     55\u001b[0m         \u001b[0mdec4\u001b[0m \u001b[0;34m=\u001b[0m \u001b[0mself\u001b[0m\u001b[0;34m.\u001b[0m\u001b[0mdecoder4\u001b[0m\u001b[0;34m(\u001b[0m\u001b[0mdec4\u001b[0m\u001b[0;34m)\u001b[0m\u001b[0;34m\u001b[0m\u001b[0;34m\u001b[0m\u001b[0m\n",
            "\u001b[0;32m/usr/local/lib/python3.10/dist-packages/torch/nn/modules/module.py\u001b[0m in \u001b[0;36m_call_impl\u001b[0;34m(self, *args, **kwargs)\u001b[0m\n\u001b[1;32m   1499\u001b[0m                 \u001b[0;32mor\u001b[0m \u001b[0m_global_backward_pre_hooks\u001b[0m \u001b[0;32mor\u001b[0m \u001b[0m_global_backward_hooks\u001b[0m\u001b[0;34m\u001b[0m\u001b[0;34m\u001b[0m\u001b[0m\n\u001b[1;32m   1500\u001b[0m                 or _global_forward_hooks or _global_forward_pre_hooks):\n\u001b[0;32m-> 1501\u001b[0;31m             \u001b[0;32mreturn\u001b[0m \u001b[0mforward_call\u001b[0m\u001b[0;34m(\u001b[0m\u001b[0;34m*\u001b[0m\u001b[0margs\u001b[0m\u001b[0;34m,\u001b[0m \u001b[0;34m**\u001b[0m\u001b[0mkwargs\u001b[0m\u001b[0;34m)\u001b[0m\u001b[0;34m\u001b[0m\u001b[0;34m\u001b[0m\u001b[0m\n\u001b[0m\u001b[1;32m   1502\u001b[0m         \u001b[0;31m# Do not call functions when jit is used\u001b[0m\u001b[0;34m\u001b[0m\u001b[0;34m\u001b[0m\u001b[0m\n\u001b[1;32m   1503\u001b[0m         \u001b[0mfull_backward_hooks\u001b[0m\u001b[0;34m,\u001b[0m \u001b[0mnon_full_backward_hooks\u001b[0m \u001b[0;34m=\u001b[0m \u001b[0;34m[\u001b[0m\u001b[0;34m]\u001b[0m\u001b[0;34m,\u001b[0m \u001b[0;34m[\u001b[0m\u001b[0;34m]\u001b[0m\u001b[0;34m\u001b[0m\u001b[0;34m\u001b[0m\u001b[0m\n",
            "\u001b[0;32m/usr/local/lib/python3.10/dist-packages/torch/nn/modules/conv.py\u001b[0m in \u001b[0;36mforward\u001b[0;34m(self, input, output_size)\u001b[0m\n\u001b[1;32m    954\u001b[0m             num_spatial_dims, self.dilation)  # type: ignore[arg-type]\n\u001b[1;32m    955\u001b[0m \u001b[0;34m\u001b[0m\u001b[0m\n\u001b[0;32m--> 956\u001b[0;31m         return F.conv_transpose2d(\n\u001b[0m\u001b[1;32m    957\u001b[0m             \u001b[0minput\u001b[0m\u001b[0;34m,\u001b[0m \u001b[0mself\u001b[0m\u001b[0;34m.\u001b[0m\u001b[0mweight\u001b[0m\u001b[0;34m,\u001b[0m \u001b[0mself\u001b[0m\u001b[0;34m.\u001b[0m\u001b[0mbias\u001b[0m\u001b[0;34m,\u001b[0m \u001b[0mself\u001b[0m\u001b[0;34m.\u001b[0m\u001b[0mstride\u001b[0m\u001b[0;34m,\u001b[0m \u001b[0mself\u001b[0m\u001b[0;34m.\u001b[0m\u001b[0mpadding\u001b[0m\u001b[0;34m,\u001b[0m\u001b[0;34m\u001b[0m\u001b[0;34m\u001b[0m\u001b[0m\n\u001b[1;32m    958\u001b[0m             output_padding, self.groups, self.dilation)\n",
            "\u001b[0;31mKeyboardInterrupt\u001b[0m: "
          ]
        }
      ],
      "source": [
        "# BINARIZATION TRAINING\n",
        "\n",
        "import torch\n",
        "from tqdm.auto import tqdm\n",
        "import torch.nn as nn\n",
        "from torch.optim.lr_scheduler import StepLR\n",
        "\n",
        "device = torch.device(\"cuda\" if torch.cuda.is_available() else \"cpu\")\n",
        "\n",
        "# threshold_module = ThresholdModule()\n",
        "\n",
        "criterion = nn.BCEWithLogitsLoss()\n",
        "\n",
        "model_optimizer = torch.optim.Adam(model.parameters(), lr=1e-3)\n",
        "\n",
        "learnable_threshold = 55\n",
        "delta_x = 1\n",
        "best_loss = float('inf')\n",
        "\n",
        "running_loss = 0.0\n",
        "num_samples = 0\n",
        "batch_size = 1\n",
        "\n",
        "update_frequency = 50\n",
        "\n",
        "for epoch in range(50):\n",
        "  print(\"Epoch:\", epoch)\n",
        "  model.train()\n",
        "  if_condition = 0\n",
        "  for idx, batch in enumerate(tqdm(train_dataloader)):\n",
        "      # Reset the parameter gradients\n",
        "      model_optimizer.zero_grad()\n",
        "      torch.cuda.empty_cache()\n",
        "\n",
        "      images, labels = batch['original_images'], batch['original_segmentation_maps']\n",
        "\n",
        "      images = np.array(images)\n",
        "      images = torch.tensor(images)\n",
        "      labels = np.array(labels)\n",
        "      labels = torch.tensor(labels)/255\n",
        "\n",
        "      images.to(device)\n",
        "      labels.to(device)\n",
        "      model.to(device)\n",
        "#       threshold_module.to(device)\n",
        "\n",
        "#       threshold = threshold_module(images.to(device))\n",
        "\n",
        "#       new_labels = binarize_image(images, threshold=55)\n",
        "      new_labels = binarize_image(images, threshold=learnable_threshold)\n",
        "#       print()\n",
        "\n",
        "      # if there is only single cloud (i.e. 1) pixel then leave it\n",
        "      # or if all elements in new_labels are 1 then leave it (because image may have SNOW)\n",
        "      # note: binarization does poorly on snowy images.\n",
        "#       if (labels == 1).all().item() == 1 or torch.sum(labels).item() < 10:\n",
        "#           new_labels = labels\n",
        "#           if_condition += 1\n",
        "\n",
        "      outputs = unet_forward_pass(model.to(device), images.to(device), device)\n",
        "      # Backward propagation\n",
        "      loss = criterion(outputs.float().to(device), new_labels.float().unsqueeze(dim=1).to(device))\n",
        "      # loss = torch.autograd.Variable(loss, requires_grad = True)\n",
        "\n",
        "      if loss.item() < best_loss:\n",
        "            best_loss = loss.item()\n",
        "\n",
        "      if (idx + 1) % update_frequency == 0:\n",
        "          # Adjust the threshold every 'update_frequency' iterations\n",
        "          if loss.item() > best_loss:\n",
        "              learnable_threshold -= delta_x  # Decrease the threshold\n",
        "          else:\n",
        "              learnable_threshold += delta_x  # Increase the threshold\n",
        "\n",
        "      loss.backward()\n",
        "\n",
        "      batch_size = batch[\"pixel_values\"].size(0)\n",
        "      running_loss += loss.item()\n",
        "      num_samples += batch_size\n",
        "\n",
        "      if idx % 1 == 0:\n",
        "        print(\"Loss:\", running_loss/num_samples)\n",
        "        print(\"threshold value\", learnable_threshold)\n",
        "#         print(\"Threshold: \", threshold.item())\n",
        "#         print(f\"if_condition executed {if_condition} times\")\n",
        "\n",
        "      # Optimization\n",
        "      model_optimizer.step()\n",
        "\n",
        "#   model.eval()\n",
        "#   device = \"cuda\"\n",
        "#   all_ious = []\n",
        "#   precisions, recalls, accuracies, f1_scores = [], [], [], []\n",
        "#   for idx, batch in enumerate(tqdm(test_dataloader)):\n",
        "#       if idx > 100:\n",
        "#           break\n",
        "#       images, labels = batch['original_images'], batch['original_segmentation_maps']\n",
        "\n",
        "#       images = np.array(images)\n",
        "#       images = torch.tensor(images)\n",
        "#       labels = np.array(labels)\n",
        "#       labels = torch.tensor(labels)/255\n",
        "\n",
        "#       images.to(device)\n",
        "#       labels.to(device)\n",
        "#       model.to(device)\n",
        "\n",
        "#   #     inputs = feature_extractor(images = images, segmentation_maps = labels, return_tensors = 'pt')\n",
        "#   # #     print(inputs)\n",
        "\n",
        "#   #     ##### comment these 2 lines for segformer... keep otherwise ####\n",
        "#   #     inputs['mask_labels'] = torch.stack(inputs['mask_labels'])\n",
        "#   #     inputs['class_labels'] = torch.stack(inputs['class_labels'])\n",
        "#   #     ##### comment these 2 lines for segformer... keep otherwise ####\n",
        "\n",
        "\n",
        "#   #     inputs['pixel_values'] = inputs['pixel_values'].float()\n",
        "#   #     inputs.to(device)\n",
        "\n",
        "#       # Forward pass\n",
        "#       with torch.no_grad():\n",
        "#         # outputs = model(pixel_values=pixel_values.to(device))\n",
        "#   #       threshold = threshold_module(images.to(device))\n",
        "\n",
        "#         new_labels = binarize_image(images, threshold=55)\n",
        "\n",
        "\n",
        "#       # if there is only single cloud (i.e. 1) pixel then leave it\n",
        "#       # or if all elements in new_labels are 1 then leave it (because image may have SNOW)\n",
        "#       # note: binarization does poorly on snowy images.\n",
        "# #       if (labels == 1).all().item() == 1 or torch.sum(labels).item() < 10:\n",
        "# #           new_labels = labels\n",
        "# #           if_condition += 1\n",
        "\n",
        "#         outputs = unet_forward_pass(model.to(device), images.to(device), device)\n",
        "#         outputs = torch.round(outputs)\n",
        "#     #   print(outputs, labels)\n",
        "\n",
        "\n",
        "\n",
        "#     # get original images\n",
        "#     # original_images = batch[\"original_images\"]\n",
        "#     # target_sizes = [(image.shape[0], image.shape[1]) for image in images]\n",
        "#     # predict segmentation maps\n",
        "#     # predicted_segmentation_maps = image_processor.post_process_semantic_segmentation(outputs,\n",
        "#                                                                                 #   target_sizes=target_sizes)\n",
        "\n",
        "\n",
        "#     # for preds in outputs:\n",
        "#     #     preds.int()\n",
        "#     #     preds.to(device)\n",
        "#     #     preds.to(device)\n",
        "#     # for label in labels:\n",
        "#     #     label.int()\n",
        "#     #     label.to(device)\n",
        "\n",
        "#     #for mean iou calculation... pred maps and labels must be same shape\n",
        "#     # labels_list = []\n",
        "\n",
        "#     # for i in range(labels.size(0)):\n",
        "#     #     labels[i].int()\n",
        "#     #     labels[i].to(device)\n",
        "#     #     labels_list.append(labels[i].to(device))\n",
        "\n",
        "# #     print(predicted_segmentation_maps, labels_list)\n",
        "#       all_ious.append(calculate_iou_from_tensors(outputs.to(device), new_labels.unsqueeze(dim=1).to(device)))\n",
        "#       precision, recall, accuracy, f1_score = calculate_metrics(new_labels.unsqueeze(dim=1).to(device), outputs.to(device), device)\n",
        "#       precisions.append(precision)\n",
        "#       recalls.append(recall)\n",
        "#       accuracies.append(accuracy)\n",
        "#       f1_scores.append(f1_score)\n",
        "#   print(\"TESTING NOW:\\nprecision:\", sum(precisions)/ len(precisions))\n",
        "#   print(\"f1_score:\", sum(f1_scores)/ len(f1_scores))\n",
        "#   print(\"recall:\", sum(recalls)/ len(recalls))\n",
        "#   print(\"accuracy:\", sum(accuracies)/ len(accuracies))\n",
        "#   print(\"mIoU: \", sum(all_ious)/len(all_ious))"
      ]
    },
    {
      "cell_type": "code",
      "source": [
        "learnable_threshold"
      ],
      "metadata": {
        "colab": {
          "base_uri": "https://localhost:8080/"
        },
        "id": "OfKZ2J2jFTPd",
        "outputId": "b64cd27b-4ead-42d2-d013-5aae5aa1a844"
      },
      "execution_count": 25,
      "outputs": [
        {
          "output_type": "execute_result",
          "data": {
            "text/plain": [
              "21.0"
            ]
          },
          "metadata": {},
          "execution_count": 25
        }
      ]
    },
    {
      "cell_type": "code",
      "execution_count": null,
      "metadata": {
        "id": "FfrMAfbi-N4e",
        "outputId": "7ab6253a-2e5f-4906-d12c-d37b0f1d8740"
      },
      "outputs": [
        {
          "name": "stdout",
          "output_type": "stream",
          "text": [
            "before loop Parameter containing:\n",
            "tensor([[0.8897]], requires_grad=True)\n",
            "Epoch: 0\n"
          ]
        },
        {
          "name": "stderr",
          "output_type": "stream",
          "text": [
            "\r",
            "  0%|                                                  | 0/1890 [00:00<?, ?it/s]"
          ]
        },
        {
          "name": "stdout",
          "output_type": "stream",
          "text": [
            "Parameter containing:\n",
            "tensor([[0.8897]], requires_grad=True)\n",
            "None None\n"
          ]
        },
        {
          "name": "stderr",
          "output_type": "stream",
          "text": [
            "\r",
            "  0%|                                          | 1/1890 [00:00<15:54,  1.98it/s]"
          ]
        },
        {
          "name": "stdout",
          "output_type": "stream",
          "text": [
            "Loss: 0.17652109265327454\n",
            "Parameter containing:\n",
            "tensor([[0.8897]], requires_grad=True)\n",
            "None None\n"
          ]
        },
        {
          "name": "stderr",
          "output_type": "stream",
          "text": [
            "\r",
            "  0%|                                          | 2/1890 [00:01<16:41,  1.88it/s]"
          ]
        },
        {
          "name": "stdout",
          "output_type": "stream",
          "text": [
            "Parameter containing:\n",
            "tensor([[0.8897]], requires_grad=True)\n",
            "None None\n"
          ]
        },
        {
          "name": "stderr",
          "output_type": "stream",
          "text": [
            "\r",
            "  0%|                                          | 3/1890 [00:01<16:18,  1.93it/s]"
          ]
        },
        {
          "name": "stdout",
          "output_type": "stream",
          "text": [
            "Parameter containing:\n",
            "tensor([[0.8897]], requires_grad=True)\n",
            "None None\n"
          ]
        },
        {
          "name": "stderr",
          "output_type": "stream",
          "text": [
            "\r",
            "  0%|                                          | 4/1890 [00:02<15:54,  1.98it/s]"
          ]
        },
        {
          "name": "stdout",
          "output_type": "stream",
          "text": [
            "Parameter containing:\n",
            "tensor([[0.8897]], requires_grad=True)\n",
            "None None\n"
          ]
        },
        {
          "name": "stderr",
          "output_type": "stream",
          "text": [
            "\r",
            "  0%|                                          | 5/1890 [00:02<15:50,  1.98it/s]"
          ]
        },
        {
          "name": "stdout",
          "output_type": "stream",
          "text": [
            "Parameter containing:\n",
            "tensor([[0.8897]], requires_grad=True)\n",
            "None None\n"
          ]
        },
        {
          "name": "stderr",
          "output_type": "stream",
          "text": [
            "\r",
            "  0%|▏                                         | 6/1890 [00:03<15:40,  2.00it/s]"
          ]
        },
        {
          "name": "stdout",
          "output_type": "stream",
          "text": [
            "Parameter containing:\n",
            "tensor([[0.8897]], requires_grad=True)\n",
            "None None\n"
          ]
        },
        {
          "name": "stderr",
          "output_type": "stream",
          "text": [
            "\r",
            "  0%|▏                                         | 7/1890 [00:03<15:37,  2.01it/s]"
          ]
        },
        {
          "name": "stdout",
          "output_type": "stream",
          "text": [
            "Parameter containing:\n",
            "tensor([[0.8897]], requires_grad=True)\n",
            "None None\n"
          ]
        },
        {
          "name": "stderr",
          "output_type": "stream",
          "text": [
            "\r",
            "  0%|▏                                         | 8/1890 [00:04<15:34,  2.01it/s]"
          ]
        },
        {
          "name": "stdout",
          "output_type": "stream",
          "text": [
            "Parameter containing:\n",
            "tensor([[0.8897]], requires_grad=True)\n",
            "None None\n"
          ]
        },
        {
          "name": "stderr",
          "output_type": "stream",
          "text": [
            "\r",
            "  0%|▏                                         | 9/1890 [00:04<15:30,  2.02it/s]"
          ]
        },
        {
          "name": "stdout",
          "output_type": "stream",
          "text": [
            "Parameter containing:\n",
            "tensor([[0.8897]], requires_grad=True)\n",
            "None None\n"
          ]
        },
        {
          "name": "stderr",
          "output_type": "stream",
          "text": [
            "\r",
            "  1%|▏                                        | 10/1890 [00:05<15:28,  2.03it/s]"
          ]
        },
        {
          "name": "stdout",
          "output_type": "stream",
          "text": [
            "Parameter containing:\n",
            "tensor([[0.8897]], requires_grad=True)\n",
            "None None\n"
          ]
        },
        {
          "name": "stderr",
          "output_type": "stream",
          "text": [
            "\r",
            "  1%|▏                                        | 11/1890 [00:05<15:32,  2.02it/s]"
          ]
        },
        {
          "name": "stdout",
          "output_type": "stream",
          "text": [
            "Parameter containing:\n",
            "tensor([[0.8897]], requires_grad=True)\n",
            "None None\n"
          ]
        },
        {
          "name": "stderr",
          "output_type": "stream",
          "text": [
            "\r",
            "  1%|▎                                        | 12/1890 [00:06<15:32,  2.01it/s]"
          ]
        },
        {
          "name": "stdout",
          "output_type": "stream",
          "text": [
            "Parameter containing:\n",
            "tensor([[0.8897]], requires_grad=True)\n",
            "None None\n"
          ]
        },
        {
          "name": "stderr",
          "output_type": "stream",
          "text": [
            "\r",
            "  1%|▎                                        | 13/1890 [00:06<15:30,  2.02it/s]"
          ]
        },
        {
          "name": "stdout",
          "output_type": "stream",
          "text": [
            "Parameter containing:\n",
            "tensor([[0.8897]], requires_grad=True)\n",
            "None None\n"
          ]
        },
        {
          "name": "stderr",
          "output_type": "stream",
          "text": [
            "\r",
            "  1%|▎                                        | 14/1890 [00:06<15:24,  2.03it/s]"
          ]
        },
        {
          "name": "stdout",
          "output_type": "stream",
          "text": [
            "Parameter containing:\n",
            "tensor([[0.8897]], requires_grad=True)\n",
            "None None\n"
          ]
        },
        {
          "name": "stderr",
          "output_type": "stream",
          "text": [
            "\r",
            "  1%|▎                                        | 15/1890 [00:07<15:23,  2.03it/s]"
          ]
        },
        {
          "name": "stdout",
          "output_type": "stream",
          "text": [
            "Parameter containing:\n",
            "tensor([[0.8897]], requires_grad=True)\n",
            "None None\n"
          ]
        },
        {
          "name": "stderr",
          "output_type": "stream",
          "text": [
            "\r",
            "  1%|▎                                        | 16/1890 [00:07<15:25,  2.02it/s]"
          ]
        },
        {
          "name": "stdout",
          "output_type": "stream",
          "text": [
            "Parameter containing:\n",
            "tensor([[0.8897]], requires_grad=True)\n",
            "None None\n"
          ]
        },
        {
          "name": "stderr",
          "output_type": "stream",
          "text": [
            "\r",
            "  1%|▎                                        | 17/1890 [00:08<15:21,  2.03it/s]"
          ]
        },
        {
          "name": "stdout",
          "output_type": "stream",
          "text": [
            "Parameter containing:\n",
            "tensor([[0.8897]], requires_grad=True)\n",
            "None None\n"
          ]
        },
        {
          "name": "stderr",
          "output_type": "stream",
          "text": [
            "\r",
            "  1%|▍                                        | 18/1890 [00:08<15:24,  2.02it/s]"
          ]
        },
        {
          "name": "stdout",
          "output_type": "stream",
          "text": [
            "Parameter containing:\n",
            "tensor([[0.8897]], requires_grad=True)\n",
            "None None\n"
          ]
        },
        {
          "name": "stderr",
          "output_type": "stream",
          "text": [
            "\r",
            "  1%|▍                                        | 19/1890 [00:09<15:38,  1.99it/s]"
          ]
        },
        {
          "name": "stdout",
          "output_type": "stream",
          "text": [
            "Parameter containing:\n",
            "tensor([[0.8897]], requires_grad=True)\n",
            "None None\n"
          ]
        },
        {
          "name": "stderr",
          "output_type": "stream",
          "text": [
            "\r",
            "  1%|▍                                        | 20/1890 [00:09<15:28,  2.01it/s]"
          ]
        },
        {
          "name": "stdout",
          "output_type": "stream",
          "text": [
            "Parameter containing:\n",
            "tensor([[0.8897]], requires_grad=True)\n",
            "None None\n"
          ]
        },
        {
          "name": "stderr",
          "output_type": "stream",
          "text": [
            "\r",
            "  1%|▍                                        | 21/1890 [00:10<15:27,  2.01it/s]"
          ]
        },
        {
          "name": "stdout",
          "output_type": "stream",
          "text": [
            "Parameter containing:\n",
            "tensor([[0.8897]], requires_grad=True)\n",
            "None None\n"
          ]
        },
        {
          "name": "stderr",
          "output_type": "stream",
          "text": [
            "\r",
            "  1%|▍                                        | 22/1890 [00:10<15:47,  1.97it/s]"
          ]
        },
        {
          "name": "stdout",
          "output_type": "stream",
          "text": [
            "Parameter containing:\n",
            "tensor([[0.8897]], requires_grad=True)\n",
            "None None\n"
          ]
        },
        {
          "name": "stderr",
          "output_type": "stream",
          "text": [
            "\r",
            "  1%|▍                                        | 23/1890 [00:11<15:48,  1.97it/s]"
          ]
        },
        {
          "name": "stdout",
          "output_type": "stream",
          "text": [
            "Parameter containing:\n",
            "tensor([[0.8897]], requires_grad=True)\n",
            "None None\n"
          ]
        },
        {
          "name": "stderr",
          "output_type": "stream",
          "text": [
            "\r",
            "  1%|▌                                        | 24/1890 [00:12<15:46,  1.97it/s]"
          ]
        },
        {
          "name": "stdout",
          "output_type": "stream",
          "text": [
            "Parameter containing:\n",
            "tensor([[0.8897]], requires_grad=True)\n",
            "None None\n"
          ]
        },
        {
          "name": "stderr",
          "output_type": "stream",
          "text": [
            "\r",
            "  1%|▌                                        | 25/1890 [00:12<15:46,  1.97it/s]"
          ]
        },
        {
          "name": "stdout",
          "output_type": "stream",
          "text": [
            "Parameter containing:\n",
            "tensor([[0.8897]], requires_grad=True)\n",
            "None None\n"
          ]
        },
        {
          "name": "stderr",
          "output_type": "stream",
          "text": [
            "\r",
            "  1%|▌                                        | 26/1890 [00:13<15:56,  1.95it/s]"
          ]
        },
        {
          "name": "stdout",
          "output_type": "stream",
          "text": [
            "Parameter containing:\n",
            "tensor([[0.8897]], requires_grad=True)\n",
            "None None\n"
          ]
        },
        {
          "name": "stderr",
          "output_type": "stream",
          "text": [
            "\r",
            "  1%|▌                                        | 27/1890 [00:13<15:46,  1.97it/s]"
          ]
        },
        {
          "name": "stdout",
          "output_type": "stream",
          "text": [
            "Parameter containing:\n",
            "tensor([[0.8897]], requires_grad=True)\n",
            "None None\n"
          ]
        },
        {
          "name": "stderr",
          "output_type": "stream",
          "text": [
            "\r",
            "  1%|▌                                        | 28/1890 [00:14<15:52,  1.95it/s]"
          ]
        },
        {
          "name": "stdout",
          "output_type": "stream",
          "text": [
            "Parameter containing:\n",
            "tensor([[0.8897]], requires_grad=True)\n",
            "None None\n"
          ]
        },
        {
          "name": "stderr",
          "output_type": "stream",
          "text": [
            "\r",
            "  2%|▋                                        | 29/1890 [00:14<15:53,  1.95it/s]"
          ]
        },
        {
          "name": "stdout",
          "output_type": "stream",
          "text": [
            "Parameter containing:\n",
            "tensor([[0.8897]], requires_grad=True)\n",
            "None None\n"
          ]
        },
        {
          "name": "stderr",
          "output_type": "stream",
          "text": [
            "\r",
            "  2%|▋                                        | 30/1890 [00:15<15:35,  1.99it/s]"
          ]
        },
        {
          "name": "stdout",
          "output_type": "stream",
          "text": [
            "Parameter containing:\n",
            "tensor([[0.8897]], requires_grad=True)\n",
            "None None\n"
          ]
        },
        {
          "name": "stderr",
          "output_type": "stream",
          "text": [
            "\r",
            "  2%|▋                                        | 31/1890 [00:15<15:30,  2.00it/s]"
          ]
        },
        {
          "name": "stdout",
          "output_type": "stream",
          "text": [
            "Parameter containing:\n",
            "tensor([[0.8897]], requires_grad=True)\n",
            "None None\n"
          ]
        },
        {
          "name": "stderr",
          "output_type": "stream",
          "text": [
            "\r",
            "  2%|▋                                        | 32/1890 [00:16<15:39,  1.98it/s]"
          ]
        },
        {
          "name": "stdout",
          "output_type": "stream",
          "text": [
            "Parameter containing:\n",
            "tensor([[0.8897]], requires_grad=True)\n",
            "None None\n"
          ]
        },
        {
          "name": "stderr",
          "output_type": "stream",
          "text": [
            "  2%|▋                                        | 33/1890 [00:16<15:49,  1.95it/s]"
          ]
        },
        {
          "name": "stdout",
          "output_type": "stream",
          "text": [
            "Parameter containing:\n",
            "tensor([[0.8897]], requires_grad=True)\n",
            "None None\n"
          ]
        },
        {
          "name": "stderr",
          "output_type": "stream",
          "text": [
            "\n"
          ]
        },
        {
          "ename": "KeyboardInterrupt",
          "evalue": "",
          "output_type": "error",
          "traceback": [
            "\u001b[0;31m---------------------------------------------------------------------------\u001b[0m",
            "\u001b[0;31mKeyboardInterrupt\u001b[0m                         Traceback (most recent call last)",
            "\u001b[0;32m/tmp/ipykernel_11549/3166471355.py\u001b[0m in \u001b[0;36m<module>\u001b[0;34m\u001b[0m\n\u001b[1;32m     61\u001b[0m       \u001b[0moutputs\u001b[0m \u001b[0;34m=\u001b[0m \u001b[0munet_forward_pass\u001b[0m\u001b[0;34m(\u001b[0m\u001b[0mmodel\u001b[0m\u001b[0;34m.\u001b[0m\u001b[0mto\u001b[0m\u001b[0;34m(\u001b[0m\u001b[0mdevice\u001b[0m\u001b[0;34m)\u001b[0m\u001b[0;34m,\u001b[0m \u001b[0mimages\u001b[0m\u001b[0;34m.\u001b[0m\u001b[0mto\u001b[0m\u001b[0;34m(\u001b[0m\u001b[0mdevice\u001b[0m\u001b[0;34m)\u001b[0m\u001b[0;34m,\u001b[0m \u001b[0mdevice\u001b[0m\u001b[0;34m)\u001b[0m\u001b[0;34m\u001b[0m\u001b[0;34m\u001b[0m\u001b[0m\n\u001b[1;32m     62\u001b[0m       \u001b[0;31m# Backward propagation\u001b[0m\u001b[0;34m\u001b[0m\u001b[0;34m\u001b[0m\u001b[0;34m\u001b[0m\u001b[0m\n\u001b[0;32m---> 63\u001b[0;31m       \u001b[0mloss\u001b[0m \u001b[0;34m=\u001b[0m \u001b[0mcriterion\u001b[0m\u001b[0;34m(\u001b[0m\u001b[0moutputs\u001b[0m\u001b[0;34m.\u001b[0m\u001b[0mfloat\u001b[0m\u001b[0;34m(\u001b[0m\u001b[0;34m)\u001b[0m\u001b[0;34m.\u001b[0m\u001b[0mto\u001b[0m\u001b[0;34m(\u001b[0m\u001b[0mdevice\u001b[0m\u001b[0;34m)\u001b[0m\u001b[0;34m,\u001b[0m \u001b[0mlabels\u001b[0m\u001b[0;34m.\u001b[0m\u001b[0mfloat\u001b[0m\u001b[0;34m(\u001b[0m\u001b[0;34m)\u001b[0m\u001b[0;34m.\u001b[0m\u001b[0munsqueeze\u001b[0m\u001b[0;34m(\u001b[0m\u001b[0mdim\u001b[0m\u001b[0;34m=\u001b[0m\u001b[0;36m1\u001b[0m\u001b[0;34m)\u001b[0m\u001b[0;34m.\u001b[0m\u001b[0mto\u001b[0m\u001b[0;34m(\u001b[0m\u001b[0mdevice\u001b[0m\u001b[0;34m)\u001b[0m\u001b[0;34m)\u001b[0m\u001b[0;34m\u001b[0m\u001b[0;34m\u001b[0m\u001b[0m\n\u001b[0m\u001b[1;32m     64\u001b[0m       \u001b[0mloss_l\u001b[0m \u001b[0;34m=\u001b[0m \u001b[0mcriterion_thres\u001b[0m\u001b[0;34m(\u001b[0m\u001b[0mnew_labels\u001b[0m\u001b[0;34m.\u001b[0m\u001b[0mfloat\u001b[0m\u001b[0;34m(\u001b[0m\u001b[0;34m)\u001b[0m\u001b[0;34m,\u001b[0m\u001b[0mlabels\u001b[0m\u001b[0;34m.\u001b[0m\u001b[0mfloat\u001b[0m\u001b[0;34m(\u001b[0m\u001b[0;34m)\u001b[0m\u001b[0;34m)\u001b[0m\u001b[0;34m.\u001b[0m\u001b[0mto\u001b[0m\u001b[0;34m(\u001b[0m\u001b[0mdevice\u001b[0m\u001b[0;34m)\u001b[0m\u001b[0;34m\u001b[0m\u001b[0;34m\u001b[0m\u001b[0m\n\u001b[1;32m     65\u001b[0m       \u001b[0mnew_loss\u001b[0m \u001b[0;34m=\u001b[0m \u001b[0mloss\u001b[0m \u001b[0;34m+\u001b[0m \u001b[0mloss_l\u001b[0m\u001b[0;34m\u001b[0m\u001b[0;34m\u001b[0m\u001b[0m\n",
            "\u001b[0;31mKeyboardInterrupt\u001b[0m: "
          ]
        }
      ],
      "source": [
        "# BINARIZATION TRAINING\n",
        "\n",
        "import torch\n",
        "from tqdm.auto import tqdm\n",
        "import torch.nn as nn\n",
        "from torch.optim.lr_scheduler import StepLR\n",
        "\n",
        "device = torch.device(\"cuda\" if torch.cuda.is_available() else \"cpu\")\n",
        "\n",
        "# threshold_module = ThresholdModule()\n",
        "\n",
        "criterion = nn.BCEWithLogitsLoss()\n",
        "criterion_thres = nn.MSELoss()\n",
        "\n",
        "l_thres = nn.Parameter(torch.randn((1,1)),requires_grad=True)\n",
        "print(\"before loop\", l_thres)\n",
        "# [{'params': pretrained_model.parameters()}, {'params': threshold}]\n",
        "model_optimizer = torch.optim.Adam([{'params': model.parameters()},{'params': l_thres}], lr=1e-3)\n",
        "\n",
        "running_loss = 0.0\n",
        "num_samples = 0\n",
        "batch_size = 4\n",
        "# thres = torch.sigmoid(0.55 - learnable(x))\n",
        "\n",
        "\n",
        "for epoch in range(50):\n",
        "  print(\"Epoch:\", epoch)\n",
        "  model.train()\n",
        "  if_condition = 0\n",
        "  for idx, batch in enumerate(tqdm(train_dataloader)):\n",
        "      # Reset the parameter gradients\n",
        "      model_optimizer.zero_grad()\n",
        "      torch.cuda.empty_cache()\n",
        "\n",
        "      images, labels = batch['original_images'], batch['original_segmentation_maps']\n",
        "\n",
        "      images = np.array(images)\n",
        "      images = torch.tensor(images)\n",
        "      labels = np.array(labels)\n",
        "      labels = torch.tensor(labels)/255\n",
        "\n",
        "      images.to(device)\n",
        "      labels.to(device)\n",
        "      model.to(device)\n",
        "#       threshold_module.to(device)\n",
        "\n",
        "#       threshold = threshold_module(images.to(device))\n",
        "\n",
        "#       new_labels = binarize_image(images, threshold=55)\n",
        "      new_labels = binarize_image_learnable(images, threshold=l_thres)\n",
        "#       print(new_labels.size(),labels.size())\n",
        "#       print()\n",
        "\n",
        "      # if there is only single cloud (i.e. 1) pixel then leave it\n",
        "      # or if all elements in new_labels are 1 then leave it (because image may have SNOW)\n",
        "      # note: binarization does poorly on snowy images.\n",
        "#       if (labels == 1).all().item() == 1 or torch.sum(labels).item() < 10:\n",
        "#           new_labels = labels\n",
        "#           if_condition += 1\n",
        "\n",
        "      outputs = unet_forward_pass(model.to(device), images.to(device), device)\n",
        "      # Backward propagation\n",
        "      loss = criterion(outputs.float().to(device), labels.float().unsqueeze(dim=1).to(device))\n",
        "      loss_l = criterion_thres(new_labels.float(),labels.float()).to(device)\n",
        "      new_loss = loss + loss_l\n",
        "      new_loss.backward()\n",
        "\n",
        "      batch_size = batch[\"pixel_values\"].size(0)\n",
        "      running_loss += loss.item()\n",
        "      num_samples += batch_size\n",
        "\n",
        "      if idx % 100 == 0:\n",
        "        print(\"Loss:\", running_loss/num_samples)\n",
        "#         print(\"threshold value\",l_thres)\n",
        "#         print(\"Threshold: \", threshold.item())\n",
        "#         print(f\"if_condition executed {if_condition} times\")\n",
        "\n",
        "      # Optimization\n",
        "      model_optimizer.step()\n",
        "#       break\n",
        "\n",
        "#   model.eval()\n",
        "#   device = \"cuda\"\n",
        "#   all_ious = []\n",
        "#   precisions, recalls, accuracies, f1_scores = [], [], [], []\n",
        "#   for idx, batch in enumerate(tqdm(test_dataloader)):\n",
        "#       if idx > 100:\n",
        "#           break\n",
        "#       images, labels = batch['original_images'], batch['original_segmentation_maps']\n",
        "\n",
        "#       images = np.array(images)\n",
        "#       images = torch.tensor(images)\n",
        "#       labels = np.array(labels)\n",
        "#       labels = torch.tensor(labels)/255\n",
        "\n",
        "#       images.to(device)\n",
        "#       labels.to(device)\n",
        "#       model.to(device)\n",
        "\n",
        "#   #     inputs = feature_extractor(images = images, segmentation_maps = labels, return_tensors = 'pt')\n",
        "#   # #     print(inputs)\n",
        "\n",
        "#   #     ##### comment these 2 lines for segformer... keep otherwise ####\n",
        "#   #     inputs['mask_labels'] = torch.stack(inputs['mask_labels'])\n",
        "#   #     inputs['class_labels'] = torch.stack(inputs['class_labels'])\n",
        "#   #     ##### comment these 2 lines for segformer... keep otherwise ####\n",
        "\n",
        "\n",
        "#   #     inputs['pixel_values'] = inputs['pixel_values'].float()\n",
        "#   #     inputs.to(device)\n",
        "\n",
        "#       # Forward pass\n",
        "#       with torch.no_grad():\n",
        "#         # outputs = model(pixel_values=pixel_values.to(device))\n",
        "#   #       threshold = threshold_module(images.to(device))\n",
        "\n",
        "#         new_labels = binarize_image(images, threshold=55)\n",
        "\n",
        "\n",
        "#       # if there is only single cloud (i.e. 1) pixel then leave it\n",
        "#       # or if all elements in new_labels are 1 then leave it (because image may have SNOW)\n",
        "#       # note: binarization does poorly on snowy images.\n",
        "# #       if (labels == 1).all().item() == 1 or torch.sum(labels).item() < 10:\n",
        "# #           new_labels = labels\n",
        "# #           if_condition += 1\n",
        "\n",
        "#         outputs = unet_forward_pass(model.to(device), images.to(device), device)\n",
        "#         outputs = torch.round(outputs)\n",
        "#     #   print(outputs, labels)\n",
        "\n",
        "\n",
        "\n",
        "#     # get original images\n",
        "#     # original_images = batch[\"original_images\"]\n",
        "#     # target_sizes = [(image.shape[0], image.shape[1]) for image in images]\n",
        "#     # predict segmentation maps\n",
        "#     # predicted_segmentation_maps = image_processor.post_process_semantic_segmentation(outputs,\n",
        "#                                                                                 #   target_sizes=target_sizes)\n",
        "\n",
        "\n",
        "#     # for preds in outputs:\n",
        "#     #     preds.int()\n",
        "#     #     preds.to(device)\n",
        "#     #     preds.to(device)\n",
        "#     # for label in labels:\n",
        "#     #     label.int()\n",
        "#     #     label.to(device)\n",
        "\n",
        "#     #for mean iou calculation... pred maps and labels must be same shape\n",
        "#     # labels_list = []\n",
        "\n",
        "#     # for i in range(labels.size(0)):\n",
        "#     #     labels[i].int()\n",
        "#     #     labels[i].to(device)\n",
        "#     #     labels_list.append(labels[i].to(device))\n",
        "\n",
        "# #     print(predicted_segmentation_maps, labels_list)\n",
        "#       all_ious.append(calculate_iou_from_tensors(outputs.to(device), new_labels.unsqueeze(dim=1).to(device)))\n",
        "#       precision, recall, accuracy, f1_score = calculate_metrics(new_labels.unsqueeze(dim=1).to(device), outputs.to(device), device)\n",
        "#       precisions.append(precision)\n",
        "#       recalls.append(recall)\n",
        "#       accuracies.append(accuracy)\n",
        "#       f1_scores.append(f1_score)\n",
        "#   print(\"TESTING NOW:\\nprecision:\", sum(precisions)/ len(precisions))\n",
        "#   print(\"f1_score:\", sum(f1_scores)/ len(f1_scores))\n",
        "#   print(\"recall:\", sum(recalls)/ len(recalls))\n",
        "#   print(\"accuracy:\", sum(accuracies)/ len(accuracies))\n",
        "#   print(\"mIoU: \", sum(all_ious)/len(all_ious))"
      ]
    },
    {
      "cell_type": "code",
      "execution_count": null,
      "metadata": {
        "execution": {
          "iopub.execute_input": "2023-09-12T09:27:55.697519Z",
          "iopub.status.busy": "2023-09-12T09:27:55.697145Z",
          "iopub.status.idle": "2023-09-12T09:31:49.088018Z",
          "shell.execute_reply": "2023-09-12T09:31:49.086538Z",
          "shell.execute_reply.started": "2023-09-12T09:27:55.697488Z"
        },
        "colab": {
          "referenced_widgets": [
            "4c6dcf40250f408d8ba433fc2820e5a7"
          ]
        },
        "id": "QUH9h-G3-N4e",
        "outputId": "49df3f99-2d34-4d78-bc78-c5f1b7725344"
      },
      "outputs": [
        {
          "name": "stdout",
          "output_type": "stream",
          "text": [
            "Epoch: 0\n"
          ]
        },
        {
          "data": {
            "application/vnd.jupyter.widget-view+json": {
              "model_id": "4c6dcf40250f408d8ba433fc2820e5a7",
              "version_major": 2,
              "version_minor": 0
            },
            "text/plain": [
              "  0%|          | 0/7560 [00:00<?, ?it/s]"
            ]
          },
          "metadata": {},
          "output_type": "display_data"
        },
        {
          "name": "stdout",
          "output_type": "stream",
          "text": [
            "Loss: 0.2762831449508667\n",
            "\n",
            "Loss: 0.433223276998442\n",
            "\n",
            "Loss: 0.3908966482102649\n",
            "\n",
            "Loss: 0.3794348649939745\n",
            "\n",
            "Loss: 0.3774058534842138\n",
            "\n",
            "Loss: 0.3843945518353054\n",
            "\n",
            "Loss: 0.3911678305909986\n",
            "\n",
            "Loss: 0.4002544316483101\n"
          ]
        },
        {
          "ename": "KeyboardInterrupt",
          "evalue": "",
          "output_type": "error",
          "traceback": [
            "\u001b[0;31m---------------------------------------------------------------------------\u001b[0m",
            "\u001b[0;31mKeyboardInterrupt\u001b[0m                         Traceback (most recent call last)",
            "Cell \u001b[0;32mIn[91], line 49\u001b[0m\n\u001b[1;32m     47\u001b[0m \u001b[38;5;66;03m# Backward propagation\u001b[39;00m\n\u001b[1;32m     48\u001b[0m loss \u001b[38;5;241m=\u001b[39m outputs\u001b[38;5;241m.\u001b[39mloss\n\u001b[0;32m---> 49\u001b[0m \u001b[43mloss\u001b[49m\u001b[38;5;241;43m.\u001b[39;49m\u001b[43mbackward\u001b[49m\u001b[43m(\u001b[49m\u001b[43m)\u001b[49m\n\u001b[1;32m     51\u001b[0m batch_size \u001b[38;5;241m=\u001b[39m batch[\u001b[38;5;124m\"\u001b[39m\u001b[38;5;124mpixel_values\u001b[39m\u001b[38;5;124m\"\u001b[39m]\u001b[38;5;241m.\u001b[39msize(\u001b[38;5;241m0\u001b[39m)\n\u001b[1;32m     52\u001b[0m running_loss \u001b[38;5;241m+\u001b[39m\u001b[38;5;241m=\u001b[39m loss\u001b[38;5;241m.\u001b[39mitem()\n",
            "File \u001b[0;32m/opt/conda/lib/python3.10/site-packages/torch/_tensor.py:487\u001b[0m, in \u001b[0;36mTensor.backward\u001b[0;34m(self, gradient, retain_graph, create_graph, inputs)\u001b[0m\n\u001b[1;32m    477\u001b[0m \u001b[38;5;28;01mif\u001b[39;00m has_torch_function_unary(\u001b[38;5;28mself\u001b[39m):\n\u001b[1;32m    478\u001b[0m     \u001b[38;5;28;01mreturn\u001b[39;00m handle_torch_function(\n\u001b[1;32m    479\u001b[0m         Tensor\u001b[38;5;241m.\u001b[39mbackward,\n\u001b[1;32m    480\u001b[0m         (\u001b[38;5;28mself\u001b[39m,),\n\u001b[0;32m   (...)\u001b[0m\n\u001b[1;32m    485\u001b[0m         inputs\u001b[38;5;241m=\u001b[39minputs,\n\u001b[1;32m    486\u001b[0m     )\n\u001b[0;32m--> 487\u001b[0m \u001b[43mtorch\u001b[49m\u001b[38;5;241;43m.\u001b[39;49m\u001b[43mautograd\u001b[49m\u001b[38;5;241;43m.\u001b[39;49m\u001b[43mbackward\u001b[49m\u001b[43m(\u001b[49m\n\u001b[1;32m    488\u001b[0m \u001b[43m    \u001b[49m\u001b[38;5;28;43mself\u001b[39;49m\u001b[43m,\u001b[49m\u001b[43m \u001b[49m\u001b[43mgradient\u001b[49m\u001b[43m,\u001b[49m\u001b[43m \u001b[49m\u001b[43mretain_graph\u001b[49m\u001b[43m,\u001b[49m\u001b[43m \u001b[49m\u001b[43mcreate_graph\u001b[49m\u001b[43m,\u001b[49m\u001b[43m \u001b[49m\u001b[43minputs\u001b[49m\u001b[38;5;241;43m=\u001b[39;49m\u001b[43minputs\u001b[49m\n\u001b[1;32m    489\u001b[0m \u001b[43m\u001b[49m\u001b[43m)\u001b[49m\n",
            "File \u001b[0;32m/opt/conda/lib/python3.10/site-packages/torch/autograd/__init__.py:200\u001b[0m, in \u001b[0;36mbackward\u001b[0;34m(tensors, grad_tensors, retain_graph, create_graph, grad_variables, inputs)\u001b[0m\n\u001b[1;32m    195\u001b[0m     retain_graph \u001b[38;5;241m=\u001b[39m create_graph\n\u001b[1;32m    197\u001b[0m \u001b[38;5;66;03m# The reason we repeat same the comment below is that\u001b[39;00m\n\u001b[1;32m    198\u001b[0m \u001b[38;5;66;03m# some Python versions print out the first line of a multi-line function\u001b[39;00m\n\u001b[1;32m    199\u001b[0m \u001b[38;5;66;03m# calls in the traceback and some print out the last line\u001b[39;00m\n\u001b[0;32m--> 200\u001b[0m \u001b[43mVariable\u001b[49m\u001b[38;5;241;43m.\u001b[39;49m\u001b[43m_execution_engine\u001b[49m\u001b[38;5;241;43m.\u001b[39;49m\u001b[43mrun_backward\u001b[49m\u001b[43m(\u001b[49m\u001b[43m  \u001b[49m\u001b[38;5;66;43;03m# Calls into the C++ engine to run the backward pass\u001b[39;49;00m\n\u001b[1;32m    201\u001b[0m \u001b[43m    \u001b[49m\u001b[43mtensors\u001b[49m\u001b[43m,\u001b[49m\u001b[43m \u001b[49m\u001b[43mgrad_tensors_\u001b[49m\u001b[43m,\u001b[49m\u001b[43m \u001b[49m\u001b[43mretain_graph\u001b[49m\u001b[43m,\u001b[49m\u001b[43m \u001b[49m\u001b[43mcreate_graph\u001b[49m\u001b[43m,\u001b[49m\u001b[43m \u001b[49m\u001b[43minputs\u001b[49m\u001b[43m,\u001b[49m\n\u001b[1;32m    202\u001b[0m \u001b[43m    \u001b[49m\u001b[43mallow_unreachable\u001b[49m\u001b[38;5;241;43m=\u001b[39;49m\u001b[38;5;28;43;01mTrue\u001b[39;49;00m\u001b[43m,\u001b[49m\u001b[43m \u001b[49m\u001b[43maccumulate_grad\u001b[49m\u001b[38;5;241;43m=\u001b[39;49m\u001b[38;5;28;43;01mTrue\u001b[39;49;00m\u001b[43m)\u001b[49m\n",
            "\u001b[0;31mKeyboardInterrupt\u001b[0m: "
          ]
        }
      ],
      "source": [
        "# # NORMAL TRAINING\n",
        "\n",
        "# import torch\n",
        "# from tqdm.auto import tqdm\n",
        "# from torch.optim.lr_scheduler import StepLR\n",
        "\n",
        "# device = torch.device(\"cuda\" if torch.cuda.is_available() else \"cpu\")\n",
        "# # device = \"cuda\"\n",
        "# model.to(device)\n",
        "\n",
        "# optimizer = torch.optim.Adam(model.parameters(), lr=5e-5)\n",
        "# scheduler = StepLR(optimizer, step_size=400, gamma=0.1)\n",
        "\n",
        "# running_loss = 0.0\n",
        "# num_samples = 0\n",
        "# for epoch in range(3):\n",
        "#   print(\"Epoch:\", epoch)\n",
        "#   model.train()\n",
        "#   for idx, batch in enumerate(tqdm(train_dataloader)):\n",
        "#       # Reset the parameter gradients\n",
        "#       optimizer.zero_grad()\n",
        "\n",
        "#       images, labels = batch['original_images'], batch['original_segmentation_maps']\n",
        "\n",
        "#       images = np.array(images)\n",
        "#       images = torch.tensor(images)\n",
        "#       labels = np.array(labels)\n",
        "#       labels = torch.tensor(labels)/255\n",
        "\n",
        "#       images.to(device)\n",
        "#       labels.to(device)\n",
        "#       model.to(device)\n",
        "\n",
        "#       inputs = feature_extractor(images = images, segmentation_maps = labels, return_tensors = 'pt')\n",
        "# #       print(inputs)\n",
        "#       # comment the mask labels and class labels for segformer\n",
        "#       inputs['mask_labels'] = torch.stack(inputs['mask_labels'])\n",
        "#       inputs['class_labels'] = torch.stack(inputs['class_labels'])\n",
        "#       # comment the mask labels and class labels for segformer\n",
        "\n",
        "#       inputs['pixel_values'] = inputs['pixel_values'].float()\n",
        "#       inputs.to(device)\n",
        "\n",
        "#       outputs = model(**inputs)\n",
        "\n",
        "#       # Backward propagation\n",
        "#       loss = outputs.loss\n",
        "#       loss.backward()\n",
        "\n",
        "#       batch_size = batch[\"pixel_values\"].size(0)\n",
        "#       running_loss += loss.item()\n",
        "#       num_samples += batch_size\n",
        "\n",
        "#       if idx % 100 == 0:\n",
        "#         print(\"Loss:\", running_loss/num_samples)\n",
        "#         if (running_loss/num_samples) <= 0.15:\n",
        "#           break\n",
        "\n",
        "#       # Optimization\n",
        "#       optimizer.step()"
      ]
    },
    {
      "cell_type": "code",
      "execution_count": null,
      "metadata": {
        "colab": {
          "base_uri": "https://localhost:8080/",
          "height": 160,
          "referenced_widgets": [
            "0379948dfb064b3ea8e90376acdab705",
            "eac72f4d5d9740c7b28989166afe17c7",
            "cf866dde78444ef586d0cb8ce92370a3",
            "e0929972c4094d7e95ce6390266a6eb5",
            "a3adec6da09f47eb8f968be6f555d34f",
            "9641d4275e64438eabfd1697df2e65cc",
            "d7d6ea6eb9f048c3a219c0d210ce4f0c",
            "f7941fbf0b2b44a6b71708b9d23d1663",
            "a3656545c80d42c28b6b0b5640eb74df",
            "5261686f8adf4b39ad9fdf04989afefa",
            "bd7c4adc985f4edda92538a5d3b7a005",
            "c8e28571a2de41d28902a62e36051081",
            "21b365b8db734215bbb7993c4fea0d4d",
            "1b8d0f24e8c2480eb1c7de1e34e342c6",
            "a32e587f6f8841a4b96ee9828e73425b",
            "5f3591adcc424499b86f2e98f9fa2416",
            "8381d29736834bb890aa4dfdf9fc944f",
            "811fc1d3b6af4747823b8e9008381a8d",
            "fdf349e3bb6d4a098f67569dd42cfff6",
            "8437804d19224c81abee761a75222cd3",
            "72d64d8b15894184ac8caff1217dd21e",
            "83ccdf4e1144461286d1de2e48f58a82",
            "c87664791d1c448ca2ca4ece96ec6032",
            "025a2aff0cdf4c63a204facec9c7fbc6",
            "87eec65505444f01983d8c2156d66c28",
            "7aca5b98c4f34cb894cabaeaec8fcc66",
            "f08cc88dce7c4416b8508156744172fd",
            "ac36bcd1115e4a63b3e99dd64be1ee60",
            "66bee7a1fb8246238717bc2bc21227c6",
            "d05d1d47fc8c44b1a7db746d5c16e2a2",
            "cca7b615e7c74ef980539a24bff7e88b",
            "31579ea050954f36beab1f0080bafb62",
            "f4f52737b70c4153985467d638283023"
          ]
        },
        "execution": {
          "iopub.execute_input": "2023-09-15T06:20:07.729482Z",
          "iopub.status.busy": "2023-09-15T06:20:07.729116Z",
          "iopub.status.idle": "2023-09-15T06:20:07.763354Z",
          "shell.execute_reply": "2023-09-15T06:20:07.762451Z",
          "shell.execute_reply.started": "2023-09-15T06:20:07.729451Z"
        },
        "id": "nKiBUXDaTp-s",
        "outputId": "8e598289-9988-4859-954b-208639ea5bb0"
      },
      "outputs": [
        {
          "data": {
            "application/vnd.jupyter.widget-view+json": {
              "model_id": "f4f52737b70c4153985467d638283023",
              "version_major": 2,
              "version_minor": 0
            },
            "text/plain": [
              "VBox(children=(HTML(value='<center> <img\\nsrc=https://huggingface.co/front/assets/huggingface_logo-noborder.sv…"
            ]
          },
          "metadata": {},
          "output_type": "display_data"
        }
      ],
      "source": [
        "# from huggingface_hub import notebook_login\n",
        "\n",
        "# notebook_login()"
      ]
    },
    {
      "cell_type": "code",
      "execution_count": null,
      "metadata": {
        "colab": {
          "base_uri": "https://localhost:8080/",
          "height": 164,
          "referenced_widgets": [
            "462eb7c7dee54af097df686de490ce3c",
            "383f291e4fda4d83859d6818a854a253",
            "dce44e3ec26d4ff38fed07d453403543",
            "31f668be3a974f72a1aeb9153b37c5df",
            "860660298c6243918bd4422f737faf52",
            "08d15ce1d61a466c8e4265a32570e0b0",
            "dbe184b793454f4abffc4187346351a7",
            "3c4901f194e741f4a44a4d5e802de1b0",
            "3648db3eb4b74ca1a44a81ffa5c6b03d",
            "7a90cf610169485b8a958636132e3efb",
            "e45b4c68c90e4e09abfb4388472542a0",
            "e95de80b8d06492c9e7dbecfea7d74f9"
          ]
        },
        "execution": {
          "iopub.execute_input": "2023-09-15T06:20:47.859057Z",
          "iopub.status.busy": "2023-09-15T06:20:47.858682Z",
          "iopub.status.idle": "2023-09-15T06:20:49.708220Z",
          "shell.execute_reply": "2023-09-15T06:20:49.706313Z",
          "shell.execute_reply.started": "2023-09-15T06:20:47.859027Z"
        },
        "id": "AHE_z1fuwusk",
        "outputId": "c8b3d4db-ead5-47a9-ec66-e118e55c9e5a"
      },
      "outputs": [
        {
          "data": {
            "application/vnd.jupyter.widget-view+json": {
              "model_id": "e95de80b8d06492c9e7dbecfea7d74f9",
              "version_major": 2,
              "version_minor": 0
            },
            "text/plain": [
              "pytorch_model.bin:   0%|          | 0.00/10.4M [00:00<?, ?B/s]"
            ]
          },
          "metadata": {},
          "output_type": "display_data"
        },
        {
          "data": {
            "text/plain": [
              "CommitInfo(commit_url='https://huggingface.co/jaygala223/google-deeplabv3-vit-backbone-finetuned-for-38-cloud-dataset/commit/9309263838cf3ee0638c489b593317a75ce80aef', commit_message='Upload MobileNetV2ForSemanticSegmentation', commit_description='', oid='9309263838cf3ee0638c489b593317a75ce80aef', pr_url=None, pr_revision=None, pr_num=None)"
            ]
          },
          "execution_count": 25,
          "metadata": {},
          "output_type": "execute_result"
        }
      ],
      "source": [
        "# repo_name = \"google-deeplabv3-vit-backbone-finetuned-for-38-cloud-dataset\"\n",
        "# model.push_to_hub(repo_name)"
      ]
    },
    {
      "cell_type": "markdown",
      "metadata": {
        "id": "3xSl0K-5wxlJ"
      },
      "source": [
        "TESTING"
      ]
    },
    {
      "cell_type": "code",
      "execution_count": null,
      "metadata": {
        "colab": {
          "base_uri": "https://localhost:8080/",
          "height": 136,
          "referenced_widgets": [
            "410af6025c1d441382338dba454edeba",
            "662d3e22d1c441f593d2d34e94464237",
            "0b4c197f601e4aa883bf6c3fc5410661",
            "353f3b03baf846cd98ab9f0b08ce2177",
            "cc416777c59442908206d202f60cb279",
            "cb399f7435304c0d8972f7876164baf3",
            "427658dec6db4475a683ec0845d9c259",
            "724beb02d3274032880bcf9c70cdffe2",
            "43287da33c144ed6b6ac83121c01c4f3",
            "bc025c28e178419daaeb479603cf8950",
            "2f22be15f3ba40629bceab459812c2a0"
          ]
        },
        "id": "8Qd17ar7w2Ae",
        "outputId": "1090ba6d-3122-49ad-f8ac-93fb0b90eb56"
      },
      "outputs": [
        {
          "name": "stderr",
          "output_type": "stream",
          "text": [
            "100%|█████████████████████████████████████████| 189/189 [00:28<00:00,  6.67it/s]"
          ]
        },
        {
          "name": "stdout",
          "output_type": "stream",
          "text": [
            "precision: 0.7431261826168356\n",
            "f1_score: 0.8210024934176154\n",
            "recall: 0.9717475475985264\n",
            "accuracy: 0.9120768480338597\n",
            "mIoU:  0.7369607744816303\n"
          ]
        },
        {
          "name": "stderr",
          "output_type": "stream",
          "text": [
            "\n"
          ]
        }
      ],
      "source": [
        "from tqdm.auto import tqdm\n",
        "\n",
        "model.eval()\n",
        "device = \"cuda\"\n",
        "all_ious = []\n",
        "precisions, recalls, accuracies, f1_scores = [], [], [], []\n",
        "for idx, batch in enumerate(tqdm(test_dataloader)):\n",
        "    if idx > 500:\n",
        "        break\n",
        "    images, labels = batch['original_images'], batch['original_segmentation_maps']\n",
        "\n",
        "    images = np.array(images)\n",
        "    images = torch.tensor(images)\n",
        "    labels = np.array(labels)\n",
        "    labels = torch.tensor(labels)/255\n",
        "\n",
        "    images.to(device)\n",
        "    labels.to(device)\n",
        "    model.to(device)\n",
        "\n",
        "#     inputs = feature_extractor(images = images, segmentation_maps = labels, return_tensors = 'pt')\n",
        "# #     print(inputs)\n",
        "\n",
        "#     ##### comment these 2 lines for segformer... keep otherwise ####\n",
        "#     inputs['mask_labels'] = torch.stack(inputs['mask_labels'])\n",
        "#     inputs['class_labels'] = torch.stack(inputs['class_labels'])\n",
        "#     ##### comment these 2 lines for segformer... keep otherwise ####\n",
        "\n",
        "\n",
        "#     inputs['pixel_values'] = inputs['pixel_values'].float()\n",
        "#     inputs.to(device)\n",
        "\n",
        "    # Forward pass\n",
        "    with torch.no_grad():\n",
        "      # outputs = model(pixel_values=pixel_values.to(device))\n",
        "#       threshold = threshold_module(images.to(device))\n",
        "\n",
        "      new_labels = binarize_image(images, threshold=55)\n",
        "\n",
        "      # if there is only single cloud (i.e. 1) pixel then leave it\n",
        "      # or if all elements in new_labels are 1 then leave it (because image may have SNOW)\n",
        "      # note: binarization does poorly on snowy images.\n",
        "#       if (labels == 1).all().item() == 1 or torch.sum(labels).item() < 10:\n",
        "#           new_labels = labels\n",
        "#           if_condition += 1\n",
        "\n",
        "      outputs = unet_forward_pass(model.to(device), images.to(device), device)\n",
        "      outputs = torch.round(outputs)\n",
        "    #   print(outputs, labels)\n",
        "\n",
        "\n",
        "\n",
        "    # get original images\n",
        "    # original_images = batch[\"original_images\"]\n",
        "    # target_sizes = [(image.shape[0], image.shape[1]) for image in images]\n",
        "    # predict segmentation maps\n",
        "    # predicted_segmentation_maps = image_processor.post_process_semantic_segmentation(outputs,\n",
        "                                                                                #   target_sizes=target_sizes)\n",
        "\n",
        "\n",
        "    # for preds in outputs:\n",
        "    #     preds.int()\n",
        "    #     preds.to(device)\n",
        "    #     preds.to(device)\n",
        "    # for label in labels:\n",
        "    #     label.int()\n",
        "    #     label.to(device)\n",
        "\n",
        "    #for mean iou calculation... pred maps and labels must be same shape\n",
        "    # labels_list = []\n",
        "\n",
        "    # for i in range(labels.size(0)):\n",
        "    #     labels[i].int()\n",
        "    #     labels[i].to(device)\n",
        "    #     labels_list.append(labels[i].to(device))\n",
        "\n",
        "#     print(predicted_segmentation_maps, labels_list)\n",
        "    all_ious.append(calculate_iou_from_tensors(outputs.to(device), new_labels.unsqueeze(dim=1).to(device)))\n",
        "    precision, recall, accuracy, f1_score = calculate_metrics(new_labels.unsqueeze(dim=1).to(device), outputs.to(device), device)\n",
        "    precisions.append(precision)\n",
        "    recalls.append(recall)\n",
        "    accuracies.append(accuracy)\n",
        "    f1_scores.append(f1_score)\n",
        "\n",
        "print(\"precision:\", sum(precisions)/ len(precisions))\n",
        "print(\"f1_score:\", sum(f1_scores)/ len(f1_scores))\n",
        "print(\"recall:\", sum(recalls)/ len(recalls))\n",
        "print(\"accuracy:\", sum(accuracies)/ len(accuracies))\n",
        "print(\"mIoU: \", sum(all_ious)/len(all_ious))"
      ]
    },
    {
      "cell_type": "code",
      "execution_count": null,
      "metadata": {
        "id": "QSY8C2tz-N4f"
      },
      "outputs": [],
      "source": [
        "precision: 0.6497505582459369\n",
        "f1_score: 0.711377510275619\n",
        "recall: 0.8297426301578141\n",
        "accuracy: 0.9436292994530625\n",
        "mIoU:  0.6457766028119563"
      ]
    },
    {
      "cell_type": "code",
      "execution_count": null,
      "metadata": {
        "execution": {
          "iopub.execute_input": "2023-09-18T18:51:54.546698Z",
          "iopub.status.busy": "2023-09-18T18:51:54.546331Z",
          "iopub.status.idle": "2023-09-18T18:51:54.586562Z",
          "shell.execute_reply": "2023-09-18T18:51:54.585334Z",
          "shell.execute_reply.started": "2023-09-18T18:51:54.546668Z"
        },
        "id": "G-7cgsti-N4f"
      },
      "outputs": [],
      "source": [
        "torch.save(model, f'pretrained_unet_checkpoint_{sum(all_ious)/len(all_ious)}_iou.pth')"
      ]
    },
    {
      "cell_type": "code",
      "execution_count": null,
      "metadata": {
        "id": "bVEn7xqc-N4f"
      },
      "outputs": [],
      "source": [
        "# UNET last run at 25 percent loss:\n",
        "precision: 0.7213244974024121\n",
        "f1_score: 0.7090910715197316\n",
        "recall: 0.7562019171459003\n",
        "accuracy: 0.9088815955567087\n",
        "mIoU:  0.4475010399949582"
      ]
    },
    {
      "cell_type": "code",
      "execution_count": null,
      "metadata": {
        "id": "lkFta50U-N4g",
        "outputId": "351216af-a6a2-47cd-862e-9b1801b6f5b4"
      },
      "outputs": [
        {
          "name": "stdout",
          "output_type": "stream",
          "text": [
            "tensor([[[[0., 0., 0.,  ..., 0., 0., 0.],\n",
            "\n",
            "          [0., 0., 0.,  ..., 0., 0., 0.],\n",
            "\n",
            "          [0., 0., 0.,  ..., 0., 0., 0.],\n",
            "\n",
            "          ...,\n",
            "\n",
            "          [0., 0., 0.,  ..., 0., 0., 0.],\n",
            "\n",
            "          [0., 0., 0.,  ..., 0., 0., 0.],\n",
            "\n",
            "          [0., 0., 0.,  ..., 0., 0., 0.]]],\n",
            "\n",
            "\n",
            "\n",
            "\n",
            "\n",
            "        [[[0., 0., 0.,  ..., 0., 0., 0.],\n",
            "\n",
            "          [0., 0., 0.,  ..., 0., 0., 0.],\n",
            "\n",
            "          [0., 0., 0.,  ..., 0., 0., 0.],\n",
            "\n",
            "          ...,\n",
            "\n",
            "          [0., 0., 0.,  ..., 0., 0., 0.],\n",
            "\n",
            "          [0., 0., 0.,  ..., 0., 0., 0.],\n",
            "\n",
            "          [0., 0., 0.,  ..., 0., 0., 0.]]]], device='cuda:0')\n"
          ]
        }
      ],
      "source": [
        "print((outputs>0).float())"
      ]
    },
    {
      "cell_type": "code",
      "execution_count": null,
      "metadata": {
        "id": "Yc2iVbeG-N4g"
      },
      "outputs": [],
      "source": [
        "# deeplabV3 finetuning\n",
        "precision: 0.6400770810940861\n",
        "f1_score: 0.630060150701847\n",
        "recall: 0.6947887683204697\n",
        "accuracy: 0.9036333840987757\n",
        "mIoU:  0.3862483454377"
      ]
    },
    {
      "cell_type": "code",
      "execution_count": null,
      "metadata": {
        "id": "WQr3vP_P-N4g"
      },
      "outputs": [],
      "source": [
        "# swin tiny on PURELY NEW binarized LABELS\n",
        "precision: 0.6152504039786425\n",
        "f1_score: 0.5057209783787969\n",
        "recall: 0.5720778575727808\n",
        "accuracy: 0.8178325834725649\n",
        "mIoU:  0.32597860723862077\n",
        "\n",
        "# finetuned swin tiny on new binarized labels\n",
        "precision: 0.751474905449785\n",
        "f1_score: 0.6871745700037046\n",
        "recall: 0.7321195578032763\n",
        "accuracy: 0.8671422080385202\n",
        "mIoU:  0.4677533339624049"
      ]
    },
    {
      "cell_type": "code",
      "execution_count": null,
      "metadata": {
        "id": "iXyF-jnyWxUM"
      },
      "outputs": [],
      "source": [
        "# MASKFORMER BEFORE LEARNABLE BINARIZATION\n",
        "precision: 0.6140759422455014\n",
        "f1_score: 0.6176200393516758\n",
        "recall: 0.6242902578278914\n",
        "accuracy: 0.9839068029674147\n",
        "mIoU:  0.5901235823447888\n",
        "\n",
        "# MASKFORMER AFTER LEARNABLE BINARIZATION\n",
        "\n",
        "\n",
        "# last run\n",
        "precision: 0.3062933478075279\n",
        "f1_score: 0.34323185572017495\n",
        "recall: 0.969535284181396\n",
        "accuracy: 0.373442743152472\n",
        "mIoU:  0.3061436470183687\n",
        "\n",
        "precision 0.7754642685034004\n",
        "f1_score 0.7528422777953474\n",
        "recall 0.7397811585765738\n",
        "accuracy 0.9775063871126577\n",
        "mIoU:  0.7168471569364722\n",
        "\n",
        "precision 0.5217402294425123\n",
        "f1_score 0.5894180085336521\n",
        "recall 0.999999981816197\n",
        "accuracy 0.5217402294425123\n",
        "mIoU:  0.521740224174788"
      ]
    },
    {
      "cell_type": "markdown",
      "metadata": {
        "id": "gZnRfZ3nTClx"
      },
      "source": [
        "* precision 0.3111225918183273\n",
        "* f1_score 0.3191659886291905\n",
        "* recall 0.3295510091217397\n",
        "* accuracy 0.9829524113575062\n",
        "* mIoU:  0.29805679046190703"
      ]
    },
    {
      "cell_type": "markdown",
      "metadata": {
        "id": "qBIIwKhBElr5"
      },
      "source": [
        "* precision 0.26088595055841357\n",
        "* f1_score 0.29013017962476445\n",
        "* recall 0.3274049580908574\n",
        "* accuracy 0.988511827256274\n",
        "* mIoU:  0.25725841522216797\n",
        "\n"
      ]
    }
  ],
  "metadata": {
    "colab": {
      "provenance": []
    },
    "kernelspec": {
      "display_name": "Python 3",
      "name": "python3"
    },
    "language_info": {
      "codemirror_mode": {
        "name": "ipython",
        "version": 3
      },
      "file_extension": ".py",
      "mimetype": "text/x-python",
      "name": "python",
      "nbconvert_exporter": "python",
      "pygments_lexer": "ipython3",
      "version": "3.7.16"
    },
    "widgets": {
      "application/vnd.jupyter.widget-state+json": {
        "025a2aff0cdf4c63a204facec9c7fbc6": {
          "model_module": "@jupyter-widgets/controls",
          "model_module_version": "1.5.0",
          "model_name": "LabelModel",
          "state": {
            "_dom_classes": [],
            "_model_module": "@jupyter-widgets/controls",
            "_model_module_version": "1.5.0",
            "_model_name": "LabelModel",
            "_view_count": null,
            "_view_module": "@jupyter-widgets/controls",
            "_view_module_version": "1.5.0",
            "_view_name": "LabelView",
            "description": "",
            "description_tooltip": null,
            "layout": "IPY_MODEL_cca7b615e7c74ef980539a24bff7e88b",
            "placeholder": "​",
            "style": "IPY_MODEL_31579ea050954f36beab1f0080bafb62",
            "value": "Login successful"
          }
        },
        "0379948dfb064b3ea8e90376acdab705": {
          "model_module": "@jupyter-widgets/controls",
          "model_module_version": "1.5.0",
          "model_name": "VBoxModel",
          "state": {
            "_dom_classes": [],
            "_model_module": "@jupyter-widgets/controls",
            "_model_module_version": "1.5.0",
            "_model_name": "VBoxModel",
            "_view_count": null,
            "_view_module": "@jupyter-widgets/controls",
            "_view_module_version": "1.5.0",
            "_view_name": "VBoxView",
            "box_style": "",
            "children": [
              "IPY_MODEL_72d64d8b15894184ac8caff1217dd21e",
              "IPY_MODEL_83ccdf4e1144461286d1de2e48f58a82",
              "IPY_MODEL_c87664791d1c448ca2ca4ece96ec6032",
              "IPY_MODEL_025a2aff0cdf4c63a204facec9c7fbc6"
            ],
            "layout": "IPY_MODEL_d7d6ea6eb9f048c3a219c0d210ce4f0c"
          }
        },
        "08d15ce1d61a466c8e4265a32570e0b0": {
          "model_module": "@jupyter-widgets/base",
          "model_module_version": "1.2.0",
          "model_name": "LayoutModel",
          "state": {
            "_model_module": "@jupyter-widgets/base",
            "_model_module_version": "1.2.0",
            "_model_name": "LayoutModel",
            "_view_count": null,
            "_view_module": "@jupyter-widgets/base",
            "_view_module_version": "1.2.0",
            "_view_name": "LayoutView",
            "align_content": null,
            "align_items": null,
            "align_self": null,
            "border": null,
            "bottom": null,
            "display": null,
            "flex": null,
            "flex_flow": null,
            "grid_area": null,
            "grid_auto_columns": null,
            "grid_auto_flow": null,
            "grid_auto_rows": null,
            "grid_column": null,
            "grid_gap": null,
            "grid_row": null,
            "grid_template_areas": null,
            "grid_template_columns": null,
            "grid_template_rows": null,
            "height": null,
            "justify_content": null,
            "justify_items": null,
            "left": null,
            "margin": null,
            "max_height": null,
            "max_width": null,
            "min_height": null,
            "min_width": null,
            "object_fit": null,
            "object_position": null,
            "order": null,
            "overflow": null,
            "overflow_x": null,
            "overflow_y": null,
            "padding": null,
            "right": null,
            "top": null,
            "visibility": null,
            "width": null
          }
        },
        "0b4c197f601e4aa883bf6c3fc5410661": {
          "model_module": "@jupyter-widgets/controls",
          "model_module_version": "1.5.0",
          "model_name": "FloatProgressModel",
          "state": {
            "_dom_classes": [],
            "_model_module": "@jupyter-widgets/controls",
            "_model_module_version": "1.5.0",
            "_model_name": "FloatProgressModel",
            "_view_count": null,
            "_view_module": "@jupyter-widgets/controls",
            "_view_module_version": "1.5.0",
            "_view_name": "ProgressView",
            "bar_style": "danger",
            "description": "",
            "description_tooltip": null,
            "layout": "IPY_MODEL_724beb02d3274032880bcf9c70cdffe2",
            "max": 1680,
            "min": 0,
            "orientation": "horizontal",
            "style": "IPY_MODEL_43287da33c144ed6b6ac83121c01c4f3",
            "value": 11
          }
        },
        "1b8d0f24e8c2480eb1c7de1e34e342c6": {
          "model_module": "@jupyter-widgets/base",
          "model_module_version": "1.2.0",
          "model_name": "LayoutModel",
          "state": {
            "_model_module": "@jupyter-widgets/base",
            "_model_module_version": "1.2.0",
            "_model_name": "LayoutModel",
            "_view_count": null,
            "_view_module": "@jupyter-widgets/base",
            "_view_module_version": "1.2.0",
            "_view_name": "LayoutView",
            "align_content": null,
            "align_items": null,
            "align_self": null,
            "border": null,
            "bottom": null,
            "display": null,
            "flex": null,
            "flex_flow": null,
            "grid_area": null,
            "grid_auto_columns": null,
            "grid_auto_flow": null,
            "grid_auto_rows": null,
            "grid_column": null,
            "grid_gap": null,
            "grid_row": null,
            "grid_template_areas": null,
            "grid_template_columns": null,
            "grid_template_rows": null,
            "height": null,
            "justify_content": null,
            "justify_items": null,
            "left": null,
            "margin": null,
            "max_height": null,
            "max_width": null,
            "min_height": null,
            "min_width": null,
            "object_fit": null,
            "object_position": null,
            "order": null,
            "overflow": null,
            "overflow_x": null,
            "overflow_y": null,
            "padding": null,
            "right": null,
            "top": null,
            "visibility": null,
            "width": null
          }
        },
        "21b365b8db734215bbb7993c4fea0d4d": {
          "model_module": "@jupyter-widgets/controls",
          "model_module_version": "1.5.0",
          "model_name": "DescriptionStyleModel",
          "state": {
            "_model_module": "@jupyter-widgets/controls",
            "_model_module_version": "1.5.0",
            "_model_name": "DescriptionStyleModel",
            "_view_count": null,
            "_view_module": "@jupyter-widgets/base",
            "_view_module_version": "1.2.0",
            "_view_name": "StyleView",
            "description_width": ""
          }
        },
        "2f22be15f3ba40629bceab459812c2a0": {
          "model_module": "@jupyter-widgets/controls",
          "model_module_version": "1.5.0",
          "model_name": "DescriptionStyleModel",
          "state": {
            "_model_module": "@jupyter-widgets/controls",
            "_model_module_version": "1.5.0",
            "_model_name": "DescriptionStyleModel",
            "_view_count": null,
            "_view_module": "@jupyter-widgets/base",
            "_view_module_version": "1.2.0",
            "_view_name": "StyleView",
            "description_width": ""
          }
        },
        "31579ea050954f36beab1f0080bafb62": {
          "model_module": "@jupyter-widgets/controls",
          "model_module_version": "1.5.0",
          "model_name": "DescriptionStyleModel",
          "state": {
            "_model_module": "@jupyter-widgets/controls",
            "_model_module_version": "1.5.0",
            "_model_name": "DescriptionStyleModel",
            "_view_count": null,
            "_view_module": "@jupyter-widgets/base",
            "_view_module_version": "1.2.0",
            "_view_name": "StyleView",
            "description_width": ""
          }
        },
        "31f668be3a974f72a1aeb9153b37c5df": {
          "model_module": "@jupyter-widgets/controls",
          "model_module_version": "1.5.0",
          "model_name": "HTMLModel",
          "state": {
            "_dom_classes": [],
            "_model_module": "@jupyter-widgets/controls",
            "_model_module_version": "1.5.0",
            "_model_name": "HTMLModel",
            "_view_count": null,
            "_view_module": "@jupyter-widgets/controls",
            "_view_module_version": "1.5.0",
            "_view_name": "HTMLView",
            "description": "",
            "description_tooltip": null,
            "layout": "IPY_MODEL_7a90cf610169485b8a958636132e3efb",
            "placeholder": "​",
            "style": "IPY_MODEL_e45b4c68c90e4e09abfb4388472542a0",
            "value": " 190M/190M [00:04&lt;00:00, 52.5MB/s]"
          }
        },
        "353f3b03baf846cd98ab9f0b08ce2177": {
          "model_module": "@jupyter-widgets/controls",
          "model_module_version": "1.5.0",
          "model_name": "HTMLModel",
          "state": {
            "_dom_classes": [],
            "_model_module": "@jupyter-widgets/controls",
            "_model_module_version": "1.5.0",
            "_model_name": "HTMLModel",
            "_view_count": null,
            "_view_module": "@jupyter-widgets/controls",
            "_view_module_version": "1.5.0",
            "_view_name": "HTMLView",
            "description": "",
            "description_tooltip": null,
            "layout": "IPY_MODEL_bc025c28e178419daaeb479603cf8950",
            "placeholder": "​",
            "style": "IPY_MODEL_2f22be15f3ba40629bceab459812c2a0",
            "value": " 11/1680 [00:35&lt;1:29:16,  3.21s/it]"
          }
        },
        "3648db3eb4b74ca1a44a81ffa5c6b03d": {
          "model_module": "@jupyter-widgets/controls",
          "model_module_version": "1.5.0",
          "model_name": "ProgressStyleModel",
          "state": {
            "_model_module": "@jupyter-widgets/controls",
            "_model_module_version": "1.5.0",
            "_model_name": "ProgressStyleModel",
            "_view_count": null,
            "_view_module": "@jupyter-widgets/base",
            "_view_module_version": "1.2.0",
            "_view_name": "StyleView",
            "bar_color": null,
            "description_width": ""
          }
        },
        "383f291e4fda4d83859d6818a854a253": {
          "model_module": "@jupyter-widgets/controls",
          "model_module_version": "1.5.0",
          "model_name": "HTMLModel",
          "state": {
            "_dom_classes": [],
            "_model_module": "@jupyter-widgets/controls",
            "_model_module_version": "1.5.0",
            "_model_name": "HTMLModel",
            "_view_count": null,
            "_view_module": "@jupyter-widgets/controls",
            "_view_module_version": "1.5.0",
            "_view_name": "HTMLView",
            "description": "",
            "description_tooltip": null,
            "layout": "IPY_MODEL_08d15ce1d61a466c8e4265a32570e0b0",
            "placeholder": "​",
            "style": "IPY_MODEL_dbe184b793454f4abffc4187346351a7",
            "value": "pytorch_model.bin: 100%"
          }
        },
        "3c4901f194e741f4a44a4d5e802de1b0": {
          "model_module": "@jupyter-widgets/base",
          "model_module_version": "1.2.0",
          "model_name": "LayoutModel",
          "state": {
            "_model_module": "@jupyter-widgets/base",
            "_model_module_version": "1.2.0",
            "_model_name": "LayoutModel",
            "_view_count": null,
            "_view_module": "@jupyter-widgets/base",
            "_view_module_version": "1.2.0",
            "_view_name": "LayoutView",
            "align_content": null,
            "align_items": null,
            "align_self": null,
            "border": null,
            "bottom": null,
            "display": null,
            "flex": null,
            "flex_flow": null,
            "grid_area": null,
            "grid_auto_columns": null,
            "grid_auto_flow": null,
            "grid_auto_rows": null,
            "grid_column": null,
            "grid_gap": null,
            "grid_row": null,
            "grid_template_areas": null,
            "grid_template_columns": null,
            "grid_template_rows": null,
            "height": null,
            "justify_content": null,
            "justify_items": null,
            "left": null,
            "margin": null,
            "max_height": null,
            "max_width": null,
            "min_height": null,
            "min_width": null,
            "object_fit": null,
            "object_position": null,
            "order": null,
            "overflow": null,
            "overflow_x": null,
            "overflow_y": null,
            "padding": null,
            "right": null,
            "top": null,
            "visibility": null,
            "width": null
          }
        },
        "410af6025c1d441382338dba454edeba": {
          "model_module": "@jupyter-widgets/controls",
          "model_module_version": "1.5.0",
          "model_name": "HBoxModel",
          "state": {
            "_dom_classes": [],
            "_model_module": "@jupyter-widgets/controls",
            "_model_module_version": "1.5.0",
            "_model_name": "HBoxModel",
            "_view_count": null,
            "_view_module": "@jupyter-widgets/controls",
            "_view_module_version": "1.5.0",
            "_view_name": "HBoxView",
            "box_style": "",
            "children": [
              "IPY_MODEL_662d3e22d1c441f593d2d34e94464237",
              "IPY_MODEL_0b4c197f601e4aa883bf6c3fc5410661",
              "IPY_MODEL_353f3b03baf846cd98ab9f0b08ce2177"
            ],
            "layout": "IPY_MODEL_cc416777c59442908206d202f60cb279"
          }
        },
        "427658dec6db4475a683ec0845d9c259": {
          "model_module": "@jupyter-widgets/controls",
          "model_module_version": "1.5.0",
          "model_name": "DescriptionStyleModel",
          "state": {
            "_model_module": "@jupyter-widgets/controls",
            "_model_module_version": "1.5.0",
            "_model_name": "DescriptionStyleModel",
            "_view_count": null,
            "_view_module": "@jupyter-widgets/base",
            "_view_module_version": "1.2.0",
            "_view_name": "StyleView",
            "description_width": ""
          }
        },
        "43287da33c144ed6b6ac83121c01c4f3": {
          "model_module": "@jupyter-widgets/controls",
          "model_module_version": "1.5.0",
          "model_name": "ProgressStyleModel",
          "state": {
            "_model_module": "@jupyter-widgets/controls",
            "_model_module_version": "1.5.0",
            "_model_name": "ProgressStyleModel",
            "_view_count": null,
            "_view_module": "@jupyter-widgets/base",
            "_view_module_version": "1.2.0",
            "_view_name": "StyleView",
            "bar_color": null,
            "description_width": ""
          }
        },
        "462eb7c7dee54af097df686de490ce3c": {
          "model_module": "@jupyter-widgets/controls",
          "model_module_version": "1.5.0",
          "model_name": "HBoxModel",
          "state": {
            "_dom_classes": [],
            "_model_module": "@jupyter-widgets/controls",
            "_model_module_version": "1.5.0",
            "_model_name": "HBoxModel",
            "_view_count": null,
            "_view_module": "@jupyter-widgets/controls",
            "_view_module_version": "1.5.0",
            "_view_name": "HBoxView",
            "box_style": "",
            "children": [
              "IPY_MODEL_383f291e4fda4d83859d6818a854a253",
              "IPY_MODEL_dce44e3ec26d4ff38fed07d453403543",
              "IPY_MODEL_31f668be3a974f72a1aeb9153b37c5df"
            ],
            "layout": "IPY_MODEL_860660298c6243918bd4422f737faf52"
          }
        },
        "5261686f8adf4b39ad9fdf04989afefa": {
          "model_module": "@jupyter-widgets/base",
          "model_module_version": "1.2.0",
          "model_name": "LayoutModel",
          "state": {
            "_model_module": "@jupyter-widgets/base",
            "_model_module_version": "1.2.0",
            "_model_name": "LayoutModel",
            "_view_count": null,
            "_view_module": "@jupyter-widgets/base",
            "_view_module_version": "1.2.0",
            "_view_name": "LayoutView",
            "align_content": null,
            "align_items": null,
            "align_self": null,
            "border": null,
            "bottom": null,
            "display": null,
            "flex": null,
            "flex_flow": null,
            "grid_area": null,
            "grid_auto_columns": null,
            "grid_auto_flow": null,
            "grid_auto_rows": null,
            "grid_column": null,
            "grid_gap": null,
            "grid_row": null,
            "grid_template_areas": null,
            "grid_template_columns": null,
            "grid_template_rows": null,
            "height": null,
            "justify_content": null,
            "justify_items": null,
            "left": null,
            "margin": null,
            "max_height": null,
            "max_width": null,
            "min_height": null,
            "min_width": null,
            "object_fit": null,
            "object_position": null,
            "order": null,
            "overflow": null,
            "overflow_x": null,
            "overflow_y": null,
            "padding": null,
            "right": null,
            "top": null,
            "visibility": null,
            "width": null
          }
        },
        "5f3591adcc424499b86f2e98f9fa2416": {
          "model_module": "@jupyter-widgets/base",
          "model_module_version": "1.2.0",
          "model_name": "LayoutModel",
          "state": {
            "_model_module": "@jupyter-widgets/base",
            "_model_module_version": "1.2.0",
            "_model_name": "LayoutModel",
            "_view_count": null,
            "_view_module": "@jupyter-widgets/base",
            "_view_module_version": "1.2.0",
            "_view_name": "LayoutView",
            "align_content": null,
            "align_items": null,
            "align_self": null,
            "border": null,
            "bottom": null,
            "display": null,
            "flex": null,
            "flex_flow": null,
            "grid_area": null,
            "grid_auto_columns": null,
            "grid_auto_flow": null,
            "grid_auto_rows": null,
            "grid_column": null,
            "grid_gap": null,
            "grid_row": null,
            "grid_template_areas": null,
            "grid_template_columns": null,
            "grid_template_rows": null,
            "height": null,
            "justify_content": null,
            "justify_items": null,
            "left": null,
            "margin": null,
            "max_height": null,
            "max_width": null,
            "min_height": null,
            "min_width": null,
            "object_fit": null,
            "object_position": null,
            "order": null,
            "overflow": null,
            "overflow_x": null,
            "overflow_y": null,
            "padding": null,
            "right": null,
            "top": null,
            "visibility": null,
            "width": null
          }
        },
        "662d3e22d1c441f593d2d34e94464237": {
          "model_module": "@jupyter-widgets/controls",
          "model_module_version": "1.5.0",
          "model_name": "HTMLModel",
          "state": {
            "_dom_classes": [],
            "_model_module": "@jupyter-widgets/controls",
            "_model_module_version": "1.5.0",
            "_model_name": "HTMLModel",
            "_view_count": null,
            "_view_module": "@jupyter-widgets/controls",
            "_view_module_version": "1.5.0",
            "_view_name": "HTMLView",
            "description": "",
            "description_tooltip": null,
            "layout": "IPY_MODEL_cb399f7435304c0d8972f7876164baf3",
            "placeholder": "​",
            "style": "IPY_MODEL_427658dec6db4475a683ec0845d9c259",
            "value": "  1%"
          }
        },
        "66bee7a1fb8246238717bc2bc21227c6": {
          "model_module": "@jupyter-widgets/base",
          "model_module_version": "1.2.0",
          "model_name": "LayoutModel",
          "state": {
            "_model_module": "@jupyter-widgets/base",
            "_model_module_version": "1.2.0",
            "_model_name": "LayoutModel",
            "_view_count": null,
            "_view_module": "@jupyter-widgets/base",
            "_view_module_version": "1.2.0",
            "_view_name": "LayoutView",
            "align_content": null,
            "align_items": null,
            "align_self": null,
            "border": null,
            "bottom": null,
            "display": null,
            "flex": null,
            "flex_flow": null,
            "grid_area": null,
            "grid_auto_columns": null,
            "grid_auto_flow": null,
            "grid_auto_rows": null,
            "grid_column": null,
            "grid_gap": null,
            "grid_row": null,
            "grid_template_areas": null,
            "grid_template_columns": null,
            "grid_template_rows": null,
            "height": null,
            "justify_content": null,
            "justify_items": null,
            "left": null,
            "margin": null,
            "max_height": null,
            "max_width": null,
            "min_height": null,
            "min_width": null,
            "object_fit": null,
            "object_position": null,
            "order": null,
            "overflow": null,
            "overflow_x": null,
            "overflow_y": null,
            "padding": null,
            "right": null,
            "top": null,
            "visibility": null,
            "width": null
          }
        },
        "724beb02d3274032880bcf9c70cdffe2": {
          "model_module": "@jupyter-widgets/base",
          "model_module_version": "1.2.0",
          "model_name": "LayoutModel",
          "state": {
            "_model_module": "@jupyter-widgets/base",
            "_model_module_version": "1.2.0",
            "_model_name": "LayoutModel",
            "_view_count": null,
            "_view_module": "@jupyter-widgets/base",
            "_view_module_version": "1.2.0",
            "_view_name": "LayoutView",
            "align_content": null,
            "align_items": null,
            "align_self": null,
            "border": null,
            "bottom": null,
            "display": null,
            "flex": null,
            "flex_flow": null,
            "grid_area": null,
            "grid_auto_columns": null,
            "grid_auto_flow": null,
            "grid_auto_rows": null,
            "grid_column": null,
            "grid_gap": null,
            "grid_row": null,
            "grid_template_areas": null,
            "grid_template_columns": null,
            "grid_template_rows": null,
            "height": null,
            "justify_content": null,
            "justify_items": null,
            "left": null,
            "margin": null,
            "max_height": null,
            "max_width": null,
            "min_height": null,
            "min_width": null,
            "object_fit": null,
            "object_position": null,
            "order": null,
            "overflow": null,
            "overflow_x": null,
            "overflow_y": null,
            "padding": null,
            "right": null,
            "top": null,
            "visibility": null,
            "width": null
          }
        },
        "72d64d8b15894184ac8caff1217dd21e": {
          "model_module": "@jupyter-widgets/controls",
          "model_module_version": "1.5.0",
          "model_name": "LabelModel",
          "state": {
            "_dom_classes": [],
            "_model_module": "@jupyter-widgets/controls",
            "_model_module_version": "1.5.0",
            "_model_name": "LabelModel",
            "_view_count": null,
            "_view_module": "@jupyter-widgets/controls",
            "_view_module_version": "1.5.0",
            "_view_name": "LabelView",
            "description": "",
            "description_tooltip": null,
            "layout": "IPY_MODEL_87eec65505444f01983d8c2156d66c28",
            "placeholder": "​",
            "style": "IPY_MODEL_7aca5b98c4f34cb894cabaeaec8fcc66",
            "value": "Token is valid (permission: write)."
          }
        },
        "7a90cf610169485b8a958636132e3efb": {
          "model_module": "@jupyter-widgets/base",
          "model_module_version": "1.2.0",
          "model_name": "LayoutModel",
          "state": {
            "_model_module": "@jupyter-widgets/base",
            "_model_module_version": "1.2.0",
            "_model_name": "LayoutModel",
            "_view_count": null,
            "_view_module": "@jupyter-widgets/base",
            "_view_module_version": "1.2.0",
            "_view_name": "LayoutView",
            "align_content": null,
            "align_items": null,
            "align_self": null,
            "border": null,
            "bottom": null,
            "display": null,
            "flex": null,
            "flex_flow": null,
            "grid_area": null,
            "grid_auto_columns": null,
            "grid_auto_flow": null,
            "grid_auto_rows": null,
            "grid_column": null,
            "grid_gap": null,
            "grid_row": null,
            "grid_template_areas": null,
            "grid_template_columns": null,
            "grid_template_rows": null,
            "height": null,
            "justify_content": null,
            "justify_items": null,
            "left": null,
            "margin": null,
            "max_height": null,
            "max_width": null,
            "min_height": null,
            "min_width": null,
            "object_fit": null,
            "object_position": null,
            "order": null,
            "overflow": null,
            "overflow_x": null,
            "overflow_y": null,
            "padding": null,
            "right": null,
            "top": null,
            "visibility": null,
            "width": null
          }
        },
        "7aca5b98c4f34cb894cabaeaec8fcc66": {
          "model_module": "@jupyter-widgets/controls",
          "model_module_version": "1.5.0",
          "model_name": "DescriptionStyleModel",
          "state": {
            "_model_module": "@jupyter-widgets/controls",
            "_model_module_version": "1.5.0",
            "_model_name": "DescriptionStyleModel",
            "_view_count": null,
            "_view_module": "@jupyter-widgets/base",
            "_view_module_version": "1.2.0",
            "_view_name": "StyleView",
            "description_width": ""
          }
        },
        "811fc1d3b6af4747823b8e9008381a8d": {
          "model_module": "@jupyter-widgets/controls",
          "model_module_version": "1.5.0",
          "model_name": "LabelModel",
          "state": {
            "_dom_classes": [],
            "_model_module": "@jupyter-widgets/controls",
            "_model_module_version": "1.5.0",
            "_model_name": "LabelModel",
            "_view_count": null,
            "_view_module": "@jupyter-widgets/controls",
            "_view_module_version": "1.5.0",
            "_view_name": "LabelView",
            "description": "",
            "description_tooltip": null,
            "layout": "IPY_MODEL_fdf349e3bb6d4a098f67569dd42cfff6",
            "placeholder": "​",
            "style": "IPY_MODEL_8437804d19224c81abee761a75222cd3",
            "value": "Connecting..."
          }
        },
        "8381d29736834bb890aa4dfdf9fc944f": {
          "model_module": "@jupyter-widgets/controls",
          "model_module_version": "1.5.0",
          "model_name": "DescriptionStyleModel",
          "state": {
            "_model_module": "@jupyter-widgets/controls",
            "_model_module_version": "1.5.0",
            "_model_name": "DescriptionStyleModel",
            "_view_count": null,
            "_view_module": "@jupyter-widgets/base",
            "_view_module_version": "1.2.0",
            "_view_name": "StyleView",
            "description_width": ""
          }
        },
        "83ccdf4e1144461286d1de2e48f58a82": {
          "model_module": "@jupyter-widgets/controls",
          "model_module_version": "1.5.0",
          "model_name": "LabelModel",
          "state": {
            "_dom_classes": [],
            "_model_module": "@jupyter-widgets/controls",
            "_model_module_version": "1.5.0",
            "_model_name": "LabelModel",
            "_view_count": null,
            "_view_module": "@jupyter-widgets/controls",
            "_view_module_version": "1.5.0",
            "_view_name": "LabelView",
            "description": "",
            "description_tooltip": null,
            "layout": "IPY_MODEL_f08cc88dce7c4416b8508156744172fd",
            "placeholder": "​",
            "style": "IPY_MODEL_ac36bcd1115e4a63b3e99dd64be1ee60",
            "value": "Your token has been saved in your configured git credential helpers (store)."
          }
        },
        "8437804d19224c81abee761a75222cd3": {
          "model_module": "@jupyter-widgets/controls",
          "model_module_version": "1.5.0",
          "model_name": "DescriptionStyleModel",
          "state": {
            "_model_module": "@jupyter-widgets/controls",
            "_model_module_version": "1.5.0",
            "_model_name": "DescriptionStyleModel",
            "_view_count": null,
            "_view_module": "@jupyter-widgets/base",
            "_view_module_version": "1.2.0",
            "_view_name": "StyleView",
            "description_width": ""
          }
        },
        "860660298c6243918bd4422f737faf52": {
          "model_module": "@jupyter-widgets/base",
          "model_module_version": "1.2.0",
          "model_name": "LayoutModel",
          "state": {
            "_model_module": "@jupyter-widgets/base",
            "_model_module_version": "1.2.0",
            "_model_name": "LayoutModel",
            "_view_count": null,
            "_view_module": "@jupyter-widgets/base",
            "_view_module_version": "1.2.0",
            "_view_name": "LayoutView",
            "align_content": null,
            "align_items": null,
            "align_self": null,
            "border": null,
            "bottom": null,
            "display": null,
            "flex": null,
            "flex_flow": null,
            "grid_area": null,
            "grid_auto_columns": null,
            "grid_auto_flow": null,
            "grid_auto_rows": null,
            "grid_column": null,
            "grid_gap": null,
            "grid_row": null,
            "grid_template_areas": null,
            "grid_template_columns": null,
            "grid_template_rows": null,
            "height": null,
            "justify_content": null,
            "justify_items": null,
            "left": null,
            "margin": null,
            "max_height": null,
            "max_width": null,
            "min_height": null,
            "min_width": null,
            "object_fit": null,
            "object_position": null,
            "order": null,
            "overflow": null,
            "overflow_x": null,
            "overflow_y": null,
            "padding": null,
            "right": null,
            "top": null,
            "visibility": null,
            "width": null
          }
        },
        "87eec65505444f01983d8c2156d66c28": {
          "model_module": "@jupyter-widgets/base",
          "model_module_version": "1.2.0",
          "model_name": "LayoutModel",
          "state": {
            "_model_module": "@jupyter-widgets/base",
            "_model_module_version": "1.2.0",
            "_model_name": "LayoutModel",
            "_view_count": null,
            "_view_module": "@jupyter-widgets/base",
            "_view_module_version": "1.2.0",
            "_view_name": "LayoutView",
            "align_content": null,
            "align_items": null,
            "align_self": null,
            "border": null,
            "bottom": null,
            "display": null,
            "flex": null,
            "flex_flow": null,
            "grid_area": null,
            "grid_auto_columns": null,
            "grid_auto_flow": null,
            "grid_auto_rows": null,
            "grid_column": null,
            "grid_gap": null,
            "grid_row": null,
            "grid_template_areas": null,
            "grid_template_columns": null,
            "grid_template_rows": null,
            "height": null,
            "justify_content": null,
            "justify_items": null,
            "left": null,
            "margin": null,
            "max_height": null,
            "max_width": null,
            "min_height": null,
            "min_width": null,
            "object_fit": null,
            "object_position": null,
            "order": null,
            "overflow": null,
            "overflow_x": null,
            "overflow_y": null,
            "padding": null,
            "right": null,
            "top": null,
            "visibility": null,
            "width": null
          }
        },
        "9641d4275e64438eabfd1697df2e65cc": {
          "model_module": "@jupyter-widgets/controls",
          "model_module_version": "1.5.0",
          "model_name": "HTMLModel",
          "state": {
            "_dom_classes": [],
            "_model_module": "@jupyter-widgets/controls",
            "_model_module_version": "1.5.0",
            "_model_name": "HTMLModel",
            "_view_count": null,
            "_view_module": "@jupyter-widgets/controls",
            "_view_module_version": "1.5.0",
            "_view_name": "HTMLView",
            "description": "",
            "description_tooltip": null,
            "layout": "IPY_MODEL_5f3591adcc424499b86f2e98f9fa2416",
            "placeholder": "​",
            "style": "IPY_MODEL_8381d29736834bb890aa4dfdf9fc944f",
            "value": "\n<b>Pro Tip:</b> If you don't already have one, you can create a dedicated\n'notebooks' token with 'write' access, that you can then easily reuse for all\nnotebooks. </center>"
          }
        },
        "a32e587f6f8841a4b96ee9828e73425b": {
          "model_module": "@jupyter-widgets/controls",
          "model_module_version": "1.5.0",
          "model_name": "ButtonStyleModel",
          "state": {
            "_model_module": "@jupyter-widgets/controls",
            "_model_module_version": "1.5.0",
            "_model_name": "ButtonStyleModel",
            "_view_count": null,
            "_view_module": "@jupyter-widgets/base",
            "_view_module_version": "1.2.0",
            "_view_name": "StyleView",
            "button_color": null,
            "font_weight": ""
          }
        },
        "a3656545c80d42c28b6b0b5640eb74df": {
          "model_module": "@jupyter-widgets/controls",
          "model_module_version": "1.5.0",
          "model_name": "DescriptionStyleModel",
          "state": {
            "_model_module": "@jupyter-widgets/controls",
            "_model_module_version": "1.5.0",
            "_model_name": "DescriptionStyleModel",
            "_view_count": null,
            "_view_module": "@jupyter-widgets/base",
            "_view_module_version": "1.2.0",
            "_view_name": "StyleView",
            "description_width": ""
          }
        },
        "a3adec6da09f47eb8f968be6f555d34f": {
          "model_module": "@jupyter-widgets/controls",
          "model_module_version": "1.5.0",
          "model_name": "ButtonModel",
          "state": {
            "_dom_classes": [],
            "_model_module": "@jupyter-widgets/controls",
            "_model_module_version": "1.5.0",
            "_model_name": "ButtonModel",
            "_view_count": null,
            "_view_module": "@jupyter-widgets/controls",
            "_view_module_version": "1.5.0",
            "_view_name": "ButtonView",
            "button_style": "",
            "description": "Login",
            "disabled": false,
            "icon": "",
            "layout": "IPY_MODEL_1b8d0f24e8c2480eb1c7de1e34e342c6",
            "style": "IPY_MODEL_a32e587f6f8841a4b96ee9828e73425b",
            "tooltip": ""
          }
        },
        "ac36bcd1115e4a63b3e99dd64be1ee60": {
          "model_module": "@jupyter-widgets/controls",
          "model_module_version": "1.5.0",
          "model_name": "DescriptionStyleModel",
          "state": {
            "_model_module": "@jupyter-widgets/controls",
            "_model_module_version": "1.5.0",
            "_model_name": "DescriptionStyleModel",
            "_view_count": null,
            "_view_module": "@jupyter-widgets/base",
            "_view_module_version": "1.2.0",
            "_view_name": "StyleView",
            "description_width": ""
          }
        },
        "bc025c28e178419daaeb479603cf8950": {
          "model_module": "@jupyter-widgets/base",
          "model_module_version": "1.2.0",
          "model_name": "LayoutModel",
          "state": {
            "_model_module": "@jupyter-widgets/base",
            "_model_module_version": "1.2.0",
            "_model_name": "LayoutModel",
            "_view_count": null,
            "_view_module": "@jupyter-widgets/base",
            "_view_module_version": "1.2.0",
            "_view_name": "LayoutView",
            "align_content": null,
            "align_items": null,
            "align_self": null,
            "border": null,
            "bottom": null,
            "display": null,
            "flex": null,
            "flex_flow": null,
            "grid_area": null,
            "grid_auto_columns": null,
            "grid_auto_flow": null,
            "grid_auto_rows": null,
            "grid_column": null,
            "grid_gap": null,
            "grid_row": null,
            "grid_template_areas": null,
            "grid_template_columns": null,
            "grid_template_rows": null,
            "height": null,
            "justify_content": null,
            "justify_items": null,
            "left": null,
            "margin": null,
            "max_height": null,
            "max_width": null,
            "min_height": null,
            "min_width": null,
            "object_fit": null,
            "object_position": null,
            "order": null,
            "overflow": null,
            "overflow_x": null,
            "overflow_y": null,
            "padding": null,
            "right": null,
            "top": null,
            "visibility": null,
            "width": null
          }
        },
        "bd7c4adc985f4edda92538a5d3b7a005": {
          "model_module": "@jupyter-widgets/controls",
          "model_module_version": "1.5.0",
          "model_name": "DescriptionStyleModel",
          "state": {
            "_model_module": "@jupyter-widgets/controls",
            "_model_module_version": "1.5.0",
            "_model_name": "DescriptionStyleModel",
            "_view_count": null,
            "_view_module": "@jupyter-widgets/base",
            "_view_module_version": "1.2.0",
            "_view_name": "StyleView",
            "description_width": ""
          }
        },
        "c87664791d1c448ca2ca4ece96ec6032": {
          "model_module": "@jupyter-widgets/controls",
          "model_module_version": "1.5.0",
          "model_name": "LabelModel",
          "state": {
            "_dom_classes": [],
            "_model_module": "@jupyter-widgets/controls",
            "_model_module_version": "1.5.0",
            "_model_name": "LabelModel",
            "_view_count": null,
            "_view_module": "@jupyter-widgets/controls",
            "_view_module_version": "1.5.0",
            "_view_name": "LabelView",
            "description": "",
            "description_tooltip": null,
            "layout": "IPY_MODEL_66bee7a1fb8246238717bc2bc21227c6",
            "placeholder": "​",
            "style": "IPY_MODEL_d05d1d47fc8c44b1a7db746d5c16e2a2",
            "value": "Your token has been saved to /root/.cache/huggingface/token"
          }
        },
        "c8e28571a2de41d28902a62e36051081": {
          "model_module": "@jupyter-widgets/base",
          "model_module_version": "1.2.0",
          "model_name": "LayoutModel",
          "state": {
            "_model_module": "@jupyter-widgets/base",
            "_model_module_version": "1.2.0",
            "_model_name": "LayoutModel",
            "_view_count": null,
            "_view_module": "@jupyter-widgets/base",
            "_view_module_version": "1.2.0",
            "_view_name": "LayoutView",
            "align_content": null,
            "align_items": null,
            "align_self": null,
            "border": null,
            "bottom": null,
            "display": null,
            "flex": null,
            "flex_flow": null,
            "grid_area": null,
            "grid_auto_columns": null,
            "grid_auto_flow": null,
            "grid_auto_rows": null,
            "grid_column": null,
            "grid_gap": null,
            "grid_row": null,
            "grid_template_areas": null,
            "grid_template_columns": null,
            "grid_template_rows": null,
            "height": null,
            "justify_content": null,
            "justify_items": null,
            "left": null,
            "margin": null,
            "max_height": null,
            "max_width": null,
            "min_height": null,
            "min_width": null,
            "object_fit": null,
            "object_position": null,
            "order": null,
            "overflow": null,
            "overflow_x": null,
            "overflow_y": null,
            "padding": null,
            "right": null,
            "top": null,
            "visibility": null,
            "width": null
          }
        },
        "cb399f7435304c0d8972f7876164baf3": {
          "model_module": "@jupyter-widgets/base",
          "model_module_version": "1.2.0",
          "model_name": "LayoutModel",
          "state": {
            "_model_module": "@jupyter-widgets/base",
            "_model_module_version": "1.2.0",
            "_model_name": "LayoutModel",
            "_view_count": null,
            "_view_module": "@jupyter-widgets/base",
            "_view_module_version": "1.2.0",
            "_view_name": "LayoutView",
            "align_content": null,
            "align_items": null,
            "align_self": null,
            "border": null,
            "bottom": null,
            "display": null,
            "flex": null,
            "flex_flow": null,
            "grid_area": null,
            "grid_auto_columns": null,
            "grid_auto_flow": null,
            "grid_auto_rows": null,
            "grid_column": null,
            "grid_gap": null,
            "grid_row": null,
            "grid_template_areas": null,
            "grid_template_columns": null,
            "grid_template_rows": null,
            "height": null,
            "justify_content": null,
            "justify_items": null,
            "left": null,
            "margin": null,
            "max_height": null,
            "max_width": null,
            "min_height": null,
            "min_width": null,
            "object_fit": null,
            "object_position": null,
            "order": null,
            "overflow": null,
            "overflow_x": null,
            "overflow_y": null,
            "padding": null,
            "right": null,
            "top": null,
            "visibility": null,
            "width": null
          }
        },
        "cc416777c59442908206d202f60cb279": {
          "model_module": "@jupyter-widgets/base",
          "model_module_version": "1.2.0",
          "model_name": "LayoutModel",
          "state": {
            "_model_module": "@jupyter-widgets/base",
            "_model_module_version": "1.2.0",
            "_model_name": "LayoutModel",
            "_view_count": null,
            "_view_module": "@jupyter-widgets/base",
            "_view_module_version": "1.2.0",
            "_view_name": "LayoutView",
            "align_content": null,
            "align_items": null,
            "align_self": null,
            "border": null,
            "bottom": null,
            "display": null,
            "flex": null,
            "flex_flow": null,
            "grid_area": null,
            "grid_auto_columns": null,
            "grid_auto_flow": null,
            "grid_auto_rows": null,
            "grid_column": null,
            "grid_gap": null,
            "grid_row": null,
            "grid_template_areas": null,
            "grid_template_columns": null,
            "grid_template_rows": null,
            "height": null,
            "justify_content": null,
            "justify_items": null,
            "left": null,
            "margin": null,
            "max_height": null,
            "max_width": null,
            "min_height": null,
            "min_width": null,
            "object_fit": null,
            "object_position": null,
            "order": null,
            "overflow": null,
            "overflow_x": null,
            "overflow_y": null,
            "padding": null,
            "right": null,
            "top": null,
            "visibility": null,
            "width": null
          }
        },
        "cca7b615e7c74ef980539a24bff7e88b": {
          "model_module": "@jupyter-widgets/base",
          "model_module_version": "1.2.0",
          "model_name": "LayoutModel",
          "state": {
            "_model_module": "@jupyter-widgets/base",
            "_model_module_version": "1.2.0",
            "_model_name": "LayoutModel",
            "_view_count": null,
            "_view_module": "@jupyter-widgets/base",
            "_view_module_version": "1.2.0",
            "_view_name": "LayoutView",
            "align_content": null,
            "align_items": null,
            "align_self": null,
            "border": null,
            "bottom": null,
            "display": null,
            "flex": null,
            "flex_flow": null,
            "grid_area": null,
            "grid_auto_columns": null,
            "grid_auto_flow": null,
            "grid_auto_rows": null,
            "grid_column": null,
            "grid_gap": null,
            "grid_row": null,
            "grid_template_areas": null,
            "grid_template_columns": null,
            "grid_template_rows": null,
            "height": null,
            "justify_content": null,
            "justify_items": null,
            "left": null,
            "margin": null,
            "max_height": null,
            "max_width": null,
            "min_height": null,
            "min_width": null,
            "object_fit": null,
            "object_position": null,
            "order": null,
            "overflow": null,
            "overflow_x": null,
            "overflow_y": null,
            "padding": null,
            "right": null,
            "top": null,
            "visibility": null,
            "width": null
          }
        },
        "cf866dde78444ef586d0cb8ce92370a3": {
          "model_module": "@jupyter-widgets/controls",
          "model_module_version": "1.5.0",
          "model_name": "PasswordModel",
          "state": {
            "_dom_classes": [],
            "_model_module": "@jupyter-widgets/controls",
            "_model_module_version": "1.5.0",
            "_model_name": "PasswordModel",
            "_view_count": null,
            "_view_module": "@jupyter-widgets/controls",
            "_view_module_version": "1.5.0",
            "_view_name": "PasswordView",
            "continuous_update": true,
            "description": "Token:",
            "description_tooltip": null,
            "disabled": false,
            "layout": "IPY_MODEL_5261686f8adf4b39ad9fdf04989afefa",
            "placeholder": "​",
            "style": "IPY_MODEL_bd7c4adc985f4edda92538a5d3b7a005",
            "value": ""
          }
        },
        "d05d1d47fc8c44b1a7db746d5c16e2a2": {
          "model_module": "@jupyter-widgets/controls",
          "model_module_version": "1.5.0",
          "model_name": "DescriptionStyleModel",
          "state": {
            "_model_module": "@jupyter-widgets/controls",
            "_model_module_version": "1.5.0",
            "_model_name": "DescriptionStyleModel",
            "_view_count": null,
            "_view_module": "@jupyter-widgets/base",
            "_view_module_version": "1.2.0",
            "_view_name": "StyleView",
            "description_width": ""
          }
        },
        "d7d6ea6eb9f048c3a219c0d210ce4f0c": {
          "model_module": "@jupyter-widgets/base",
          "model_module_version": "1.2.0",
          "model_name": "LayoutModel",
          "state": {
            "_model_module": "@jupyter-widgets/base",
            "_model_module_version": "1.2.0",
            "_model_name": "LayoutModel",
            "_view_count": null,
            "_view_module": "@jupyter-widgets/base",
            "_view_module_version": "1.2.0",
            "_view_name": "LayoutView",
            "align_content": null,
            "align_items": "center",
            "align_self": null,
            "border": null,
            "bottom": null,
            "display": "flex",
            "flex": null,
            "flex_flow": "column",
            "grid_area": null,
            "grid_auto_columns": null,
            "grid_auto_flow": null,
            "grid_auto_rows": null,
            "grid_column": null,
            "grid_gap": null,
            "grid_row": null,
            "grid_template_areas": null,
            "grid_template_columns": null,
            "grid_template_rows": null,
            "height": null,
            "justify_content": null,
            "justify_items": null,
            "left": null,
            "margin": null,
            "max_height": null,
            "max_width": null,
            "min_height": null,
            "min_width": null,
            "object_fit": null,
            "object_position": null,
            "order": null,
            "overflow": null,
            "overflow_x": null,
            "overflow_y": null,
            "padding": null,
            "right": null,
            "top": null,
            "visibility": null,
            "width": "50%"
          }
        },
        "dbe184b793454f4abffc4187346351a7": {
          "model_module": "@jupyter-widgets/controls",
          "model_module_version": "1.5.0",
          "model_name": "DescriptionStyleModel",
          "state": {
            "_model_module": "@jupyter-widgets/controls",
            "_model_module_version": "1.5.0",
            "_model_name": "DescriptionStyleModel",
            "_view_count": null,
            "_view_module": "@jupyter-widgets/base",
            "_view_module_version": "1.2.0",
            "_view_name": "StyleView",
            "description_width": ""
          }
        },
        "dce44e3ec26d4ff38fed07d453403543": {
          "model_module": "@jupyter-widgets/controls",
          "model_module_version": "1.5.0",
          "model_name": "FloatProgressModel",
          "state": {
            "_dom_classes": [],
            "_model_module": "@jupyter-widgets/controls",
            "_model_module_version": "1.5.0",
            "_model_name": "FloatProgressModel",
            "_view_count": null,
            "_view_module": "@jupyter-widgets/controls",
            "_view_module_version": "1.5.0",
            "_view_name": "ProgressView",
            "bar_style": "success",
            "description": "",
            "description_tooltip": null,
            "layout": "IPY_MODEL_3c4901f194e741f4a44a4d5e802de1b0",
            "max": 189580509,
            "min": 0,
            "orientation": "horizontal",
            "style": "IPY_MODEL_3648db3eb4b74ca1a44a81ffa5c6b03d",
            "value": 189580509
          }
        },
        "e0929972c4094d7e95ce6390266a6eb5": {
          "model_module": "@jupyter-widgets/controls",
          "model_module_version": "1.5.0",
          "model_name": "CheckboxModel",
          "state": {
            "_dom_classes": [],
            "_model_module": "@jupyter-widgets/controls",
            "_model_module_version": "1.5.0",
            "_model_name": "CheckboxModel",
            "_view_count": null,
            "_view_module": "@jupyter-widgets/controls",
            "_view_module_version": "1.5.0",
            "_view_name": "CheckboxView",
            "description": "Add token as git credential?",
            "description_tooltip": null,
            "disabled": false,
            "indent": true,
            "layout": "IPY_MODEL_c8e28571a2de41d28902a62e36051081",
            "style": "IPY_MODEL_21b365b8db734215bbb7993c4fea0d4d",
            "value": true
          }
        },
        "e45b4c68c90e4e09abfb4388472542a0": {
          "model_module": "@jupyter-widgets/controls",
          "model_module_version": "1.5.0",
          "model_name": "DescriptionStyleModel",
          "state": {
            "_model_module": "@jupyter-widgets/controls",
            "_model_module_version": "1.5.0",
            "_model_name": "DescriptionStyleModel",
            "_view_count": null,
            "_view_module": "@jupyter-widgets/base",
            "_view_module_version": "1.2.0",
            "_view_name": "StyleView",
            "description_width": ""
          }
        },
        "eac72f4d5d9740c7b28989166afe17c7": {
          "model_module": "@jupyter-widgets/controls",
          "model_module_version": "1.5.0",
          "model_name": "HTMLModel",
          "state": {
            "_dom_classes": [],
            "_model_module": "@jupyter-widgets/controls",
            "_model_module_version": "1.5.0",
            "_model_name": "HTMLModel",
            "_view_count": null,
            "_view_module": "@jupyter-widgets/controls",
            "_view_module_version": "1.5.0",
            "_view_name": "HTMLView",
            "description": "",
            "description_tooltip": null,
            "layout": "IPY_MODEL_f7941fbf0b2b44a6b71708b9d23d1663",
            "placeholder": "​",
            "style": "IPY_MODEL_a3656545c80d42c28b6b0b5640eb74df",
            "value": "<center> <img\nsrc=https://huggingface.co/front/assets/huggingface_logo-noborder.svg\nalt='Hugging Face'> <br> Copy a token from <a\nhref=\"https://huggingface.co/settings/tokens\" target=\"_blank\">your Hugging Face\ntokens page</a> and paste it below. <br> Immediately click login after copying\nyour token or it might be stored in plain text in this notebook file. </center>"
          }
        },
        "f08cc88dce7c4416b8508156744172fd": {
          "model_module": "@jupyter-widgets/base",
          "model_module_version": "1.2.0",
          "model_name": "LayoutModel",
          "state": {
            "_model_module": "@jupyter-widgets/base",
            "_model_module_version": "1.2.0",
            "_model_name": "LayoutModel",
            "_view_count": null,
            "_view_module": "@jupyter-widgets/base",
            "_view_module_version": "1.2.0",
            "_view_name": "LayoutView",
            "align_content": null,
            "align_items": null,
            "align_self": null,
            "border": null,
            "bottom": null,
            "display": null,
            "flex": null,
            "flex_flow": null,
            "grid_area": null,
            "grid_auto_columns": null,
            "grid_auto_flow": null,
            "grid_auto_rows": null,
            "grid_column": null,
            "grid_gap": null,
            "grid_row": null,
            "grid_template_areas": null,
            "grid_template_columns": null,
            "grid_template_rows": null,
            "height": null,
            "justify_content": null,
            "justify_items": null,
            "left": null,
            "margin": null,
            "max_height": null,
            "max_width": null,
            "min_height": null,
            "min_width": null,
            "object_fit": null,
            "object_position": null,
            "order": null,
            "overflow": null,
            "overflow_x": null,
            "overflow_y": null,
            "padding": null,
            "right": null,
            "top": null,
            "visibility": null,
            "width": null
          }
        },
        "f7941fbf0b2b44a6b71708b9d23d1663": {
          "model_module": "@jupyter-widgets/base",
          "model_module_version": "1.2.0",
          "model_name": "LayoutModel",
          "state": {
            "_model_module": "@jupyter-widgets/base",
            "_model_module_version": "1.2.0",
            "_model_name": "LayoutModel",
            "_view_count": null,
            "_view_module": "@jupyter-widgets/base",
            "_view_module_version": "1.2.0",
            "_view_name": "LayoutView",
            "align_content": null,
            "align_items": null,
            "align_self": null,
            "border": null,
            "bottom": null,
            "display": null,
            "flex": null,
            "flex_flow": null,
            "grid_area": null,
            "grid_auto_columns": null,
            "grid_auto_flow": null,
            "grid_auto_rows": null,
            "grid_column": null,
            "grid_gap": null,
            "grid_row": null,
            "grid_template_areas": null,
            "grid_template_columns": null,
            "grid_template_rows": null,
            "height": null,
            "justify_content": null,
            "justify_items": null,
            "left": null,
            "margin": null,
            "max_height": null,
            "max_width": null,
            "min_height": null,
            "min_width": null,
            "object_fit": null,
            "object_position": null,
            "order": null,
            "overflow": null,
            "overflow_x": null,
            "overflow_y": null,
            "padding": null,
            "right": null,
            "top": null,
            "visibility": null,
            "width": null
          }
        },
        "fdf349e3bb6d4a098f67569dd42cfff6": {
          "model_module": "@jupyter-widgets/base",
          "model_module_version": "1.2.0",
          "model_name": "LayoutModel",
          "state": {
            "_model_module": "@jupyter-widgets/base",
            "_model_module_version": "1.2.0",
            "_model_name": "LayoutModel",
            "_view_count": null,
            "_view_module": "@jupyter-widgets/base",
            "_view_module_version": "1.2.0",
            "_view_name": "LayoutView",
            "align_content": null,
            "align_items": null,
            "align_self": null,
            "border": null,
            "bottom": null,
            "display": null,
            "flex": null,
            "flex_flow": null,
            "grid_area": null,
            "grid_auto_columns": null,
            "grid_auto_flow": null,
            "grid_auto_rows": null,
            "grid_column": null,
            "grid_gap": null,
            "grid_row": null,
            "grid_template_areas": null,
            "grid_template_columns": null,
            "grid_template_rows": null,
            "height": null,
            "justify_content": null,
            "justify_items": null,
            "left": null,
            "margin": null,
            "max_height": null,
            "max_width": null,
            "min_height": null,
            "min_width": null,
            "object_fit": null,
            "object_position": null,
            "order": null,
            "overflow": null,
            "overflow_x": null,
            "overflow_y": null,
            "padding": null,
            "right": null,
            "top": null,
            "visibility": null,
            "width": null
          }
        },
        "dc68b5c04b8a4c6e8c17b1ba7b0d87ab": {
          "model_module": "@jupyter-widgets/controls",
          "model_name": "HBoxModel",
          "model_module_version": "1.5.0",
          "state": {
            "_dom_classes": [],
            "_model_module": "@jupyter-widgets/controls",
            "_model_module_version": "1.5.0",
            "_model_name": "HBoxModel",
            "_view_count": null,
            "_view_module": "@jupyter-widgets/controls",
            "_view_module_version": "1.5.0",
            "_view_name": "HBoxView",
            "box_style": "",
            "children": [
              "IPY_MODEL_44779b01dd324aa0ac8bf2dbf9c1f136",
              "IPY_MODEL_1330992271ea47b08ad552e670e9e0c7",
              "IPY_MODEL_cc36ddfb745d48929e21263615c2aa43"
            ],
            "layout": "IPY_MODEL_7a8cb8e4d2a44bbf9b997244ca4814bb"
          }
        },
        "44779b01dd324aa0ac8bf2dbf9c1f136": {
          "model_module": "@jupyter-widgets/controls",
          "model_name": "HTMLModel",
          "model_module_version": "1.5.0",
          "state": {
            "_dom_classes": [],
            "_model_module": "@jupyter-widgets/controls",
            "_model_module_version": "1.5.0",
            "_model_name": "HTMLModel",
            "_view_count": null,
            "_view_module": "@jupyter-widgets/controls",
            "_view_module_version": "1.5.0",
            "_view_name": "HTMLView",
            "description": "",
            "description_tooltip": null,
            "layout": "IPY_MODEL_18673350b40443d1b967c920e5749a81",
            "placeholder": "​",
            "style": "IPY_MODEL_340123bf6ab04ac48032a7be3b61331a",
            "value": "Downloading readme: 100%"
          }
        },
        "1330992271ea47b08ad552e670e9e0c7": {
          "model_module": "@jupyter-widgets/controls",
          "model_name": "FloatProgressModel",
          "model_module_version": "1.5.0",
          "state": {
            "_dom_classes": [],
            "_model_module": "@jupyter-widgets/controls",
            "_model_module_version": "1.5.0",
            "_model_name": "FloatProgressModel",
            "_view_count": null,
            "_view_module": "@jupyter-widgets/controls",
            "_view_module_version": "1.5.0",
            "_view_name": "ProgressView",
            "bar_style": "success",
            "description": "",
            "description_tooltip": null,
            "layout": "IPY_MODEL_e2cd12ab04824d89bc0d42c34393a2bc",
            "max": 493,
            "min": 0,
            "orientation": "horizontal",
            "style": "IPY_MODEL_8bfe0780923242af88323a0c243cf541",
            "value": 493
          }
        },
        "cc36ddfb745d48929e21263615c2aa43": {
          "model_module": "@jupyter-widgets/controls",
          "model_name": "HTMLModel",
          "model_module_version": "1.5.0",
          "state": {
            "_dom_classes": [],
            "_model_module": "@jupyter-widgets/controls",
            "_model_module_version": "1.5.0",
            "_model_name": "HTMLModel",
            "_view_count": null,
            "_view_module": "@jupyter-widgets/controls",
            "_view_module_version": "1.5.0",
            "_view_name": "HTMLView",
            "description": "",
            "description_tooltip": null,
            "layout": "IPY_MODEL_b41555d3e32d49c4a6f52b29748c9004",
            "placeholder": "​",
            "style": "IPY_MODEL_26ef697bed644ff297a0efca83c13333",
            "value": " 493/493 [00:00&lt;00:00, 21.1kB/s]"
          }
        },
        "7a8cb8e4d2a44bbf9b997244ca4814bb": {
          "model_module": "@jupyter-widgets/base",
          "model_name": "LayoutModel",
          "model_module_version": "1.2.0",
          "state": {
            "_model_module": "@jupyter-widgets/base",
            "_model_module_version": "1.2.0",
            "_model_name": "LayoutModel",
            "_view_count": null,
            "_view_module": "@jupyter-widgets/base",
            "_view_module_version": "1.2.0",
            "_view_name": "LayoutView",
            "align_content": null,
            "align_items": null,
            "align_self": null,
            "border": null,
            "bottom": null,
            "display": null,
            "flex": null,
            "flex_flow": null,
            "grid_area": null,
            "grid_auto_columns": null,
            "grid_auto_flow": null,
            "grid_auto_rows": null,
            "grid_column": null,
            "grid_gap": null,
            "grid_row": null,
            "grid_template_areas": null,
            "grid_template_columns": null,
            "grid_template_rows": null,
            "height": null,
            "justify_content": null,
            "justify_items": null,
            "left": null,
            "margin": null,
            "max_height": null,
            "max_width": null,
            "min_height": null,
            "min_width": null,
            "object_fit": null,
            "object_position": null,
            "order": null,
            "overflow": null,
            "overflow_x": null,
            "overflow_y": null,
            "padding": null,
            "right": null,
            "top": null,
            "visibility": null,
            "width": null
          }
        },
        "18673350b40443d1b967c920e5749a81": {
          "model_module": "@jupyter-widgets/base",
          "model_name": "LayoutModel",
          "model_module_version": "1.2.0",
          "state": {
            "_model_module": "@jupyter-widgets/base",
            "_model_module_version": "1.2.0",
            "_model_name": "LayoutModel",
            "_view_count": null,
            "_view_module": "@jupyter-widgets/base",
            "_view_module_version": "1.2.0",
            "_view_name": "LayoutView",
            "align_content": null,
            "align_items": null,
            "align_self": null,
            "border": null,
            "bottom": null,
            "display": null,
            "flex": null,
            "flex_flow": null,
            "grid_area": null,
            "grid_auto_columns": null,
            "grid_auto_flow": null,
            "grid_auto_rows": null,
            "grid_column": null,
            "grid_gap": null,
            "grid_row": null,
            "grid_template_areas": null,
            "grid_template_columns": null,
            "grid_template_rows": null,
            "height": null,
            "justify_content": null,
            "justify_items": null,
            "left": null,
            "margin": null,
            "max_height": null,
            "max_width": null,
            "min_height": null,
            "min_width": null,
            "object_fit": null,
            "object_position": null,
            "order": null,
            "overflow": null,
            "overflow_x": null,
            "overflow_y": null,
            "padding": null,
            "right": null,
            "top": null,
            "visibility": null,
            "width": null
          }
        },
        "340123bf6ab04ac48032a7be3b61331a": {
          "model_module": "@jupyter-widgets/controls",
          "model_name": "DescriptionStyleModel",
          "model_module_version": "1.5.0",
          "state": {
            "_model_module": "@jupyter-widgets/controls",
            "_model_module_version": "1.5.0",
            "_model_name": "DescriptionStyleModel",
            "_view_count": null,
            "_view_module": "@jupyter-widgets/base",
            "_view_module_version": "1.2.0",
            "_view_name": "StyleView",
            "description_width": ""
          }
        },
        "e2cd12ab04824d89bc0d42c34393a2bc": {
          "model_module": "@jupyter-widgets/base",
          "model_name": "LayoutModel",
          "model_module_version": "1.2.0",
          "state": {
            "_model_module": "@jupyter-widgets/base",
            "_model_module_version": "1.2.0",
            "_model_name": "LayoutModel",
            "_view_count": null,
            "_view_module": "@jupyter-widgets/base",
            "_view_module_version": "1.2.0",
            "_view_name": "LayoutView",
            "align_content": null,
            "align_items": null,
            "align_self": null,
            "border": null,
            "bottom": null,
            "display": null,
            "flex": null,
            "flex_flow": null,
            "grid_area": null,
            "grid_auto_columns": null,
            "grid_auto_flow": null,
            "grid_auto_rows": null,
            "grid_column": null,
            "grid_gap": null,
            "grid_row": null,
            "grid_template_areas": null,
            "grid_template_columns": null,
            "grid_template_rows": null,
            "height": null,
            "justify_content": null,
            "justify_items": null,
            "left": null,
            "margin": null,
            "max_height": null,
            "max_width": null,
            "min_height": null,
            "min_width": null,
            "object_fit": null,
            "object_position": null,
            "order": null,
            "overflow": null,
            "overflow_x": null,
            "overflow_y": null,
            "padding": null,
            "right": null,
            "top": null,
            "visibility": null,
            "width": null
          }
        },
        "8bfe0780923242af88323a0c243cf541": {
          "model_module": "@jupyter-widgets/controls",
          "model_name": "ProgressStyleModel",
          "model_module_version": "1.5.0",
          "state": {
            "_model_module": "@jupyter-widgets/controls",
            "_model_module_version": "1.5.0",
            "_model_name": "ProgressStyleModel",
            "_view_count": null,
            "_view_module": "@jupyter-widgets/base",
            "_view_module_version": "1.2.0",
            "_view_name": "StyleView",
            "bar_color": null,
            "description_width": ""
          }
        },
        "b41555d3e32d49c4a6f52b29748c9004": {
          "model_module": "@jupyter-widgets/base",
          "model_name": "LayoutModel",
          "model_module_version": "1.2.0",
          "state": {
            "_model_module": "@jupyter-widgets/base",
            "_model_module_version": "1.2.0",
            "_model_name": "LayoutModel",
            "_view_count": null,
            "_view_module": "@jupyter-widgets/base",
            "_view_module_version": "1.2.0",
            "_view_name": "LayoutView",
            "align_content": null,
            "align_items": null,
            "align_self": null,
            "border": null,
            "bottom": null,
            "display": null,
            "flex": null,
            "flex_flow": null,
            "grid_area": null,
            "grid_auto_columns": null,
            "grid_auto_flow": null,
            "grid_auto_rows": null,
            "grid_column": null,
            "grid_gap": null,
            "grid_row": null,
            "grid_template_areas": null,
            "grid_template_columns": null,
            "grid_template_rows": null,
            "height": null,
            "justify_content": null,
            "justify_items": null,
            "left": null,
            "margin": null,
            "max_height": null,
            "max_width": null,
            "min_height": null,
            "min_width": null,
            "object_fit": null,
            "object_position": null,
            "order": null,
            "overflow": null,
            "overflow_x": null,
            "overflow_y": null,
            "padding": null,
            "right": null,
            "top": null,
            "visibility": null,
            "width": null
          }
        },
        "26ef697bed644ff297a0efca83c13333": {
          "model_module": "@jupyter-widgets/controls",
          "model_name": "DescriptionStyleModel",
          "model_module_version": "1.5.0",
          "state": {
            "_model_module": "@jupyter-widgets/controls",
            "_model_module_version": "1.5.0",
            "_model_name": "DescriptionStyleModel",
            "_view_count": null,
            "_view_module": "@jupyter-widgets/base",
            "_view_module_version": "1.2.0",
            "_view_name": "StyleView",
            "description_width": ""
          }
        },
        "4d88ca22c0ca4c379f2c4bb2b8c60783": {
          "model_module": "@jupyter-widgets/controls",
          "model_name": "HBoxModel",
          "model_module_version": "1.5.0",
          "state": {
            "_dom_classes": [],
            "_model_module": "@jupyter-widgets/controls",
            "_model_module_version": "1.5.0",
            "_model_name": "HBoxModel",
            "_view_count": null,
            "_view_module": "@jupyter-widgets/controls",
            "_view_module_version": "1.5.0",
            "_view_name": "HBoxView",
            "box_style": "",
            "children": [
              "IPY_MODEL_753b49719b1d4267b16e9da1df1a74a1",
              "IPY_MODEL_cc1e8ced9db043c2b84cebd22bdbde81",
              "IPY_MODEL_8610d2cb01ad42a5b75b0fcaf314c95c"
            ],
            "layout": "IPY_MODEL_a4ec325a41bd40268f17ae6b567ad4e6"
          }
        },
        "753b49719b1d4267b16e9da1df1a74a1": {
          "model_module": "@jupyter-widgets/controls",
          "model_name": "HTMLModel",
          "model_module_version": "1.5.0",
          "state": {
            "_dom_classes": [],
            "_model_module": "@jupyter-widgets/controls",
            "_model_module_version": "1.5.0",
            "_model_name": "HTMLModel",
            "_view_count": null,
            "_view_module": "@jupyter-widgets/controls",
            "_view_module_version": "1.5.0",
            "_view_name": "HTMLView",
            "description": "",
            "description_tooltip": null,
            "layout": "IPY_MODEL_0925bcff5e9d48dabf013df0c05aaaec",
            "placeholder": "​",
            "style": "IPY_MODEL_8f6fbcba58f449f0ac73fcbbbe0904d4",
            "value": "Downloading data files: 100%"
          }
        },
        "cc1e8ced9db043c2b84cebd22bdbde81": {
          "model_module": "@jupyter-widgets/controls",
          "model_name": "FloatProgressModel",
          "model_module_version": "1.5.0",
          "state": {
            "_dom_classes": [],
            "_model_module": "@jupyter-widgets/controls",
            "_model_module_version": "1.5.0",
            "_model_name": "FloatProgressModel",
            "_view_count": null,
            "_view_module": "@jupyter-widgets/controls",
            "_view_module_version": "1.5.0",
            "_view_name": "ProgressView",
            "bar_style": "success",
            "description": "",
            "description_tooltip": null,
            "layout": "IPY_MODEL_7618eb2a104d46e9acab06b59d03ba0b",
            "max": 1,
            "min": 0,
            "orientation": "horizontal",
            "style": "IPY_MODEL_2f15489582624312a91b50d63d0a0242",
            "value": 1
          }
        },
        "8610d2cb01ad42a5b75b0fcaf314c95c": {
          "model_module": "@jupyter-widgets/controls",
          "model_name": "HTMLModel",
          "model_module_version": "1.5.0",
          "state": {
            "_dom_classes": [],
            "_model_module": "@jupyter-widgets/controls",
            "_model_module_version": "1.5.0",
            "_model_name": "HTMLModel",
            "_view_count": null,
            "_view_module": "@jupyter-widgets/controls",
            "_view_module_version": "1.5.0",
            "_view_name": "HTMLView",
            "description": "",
            "description_tooltip": null,
            "layout": "IPY_MODEL_7a58f929c3ad489bab04edf1d3d872bb",
            "placeholder": "​",
            "style": "IPY_MODEL_36ba402208264846a4d1556de693a3ae",
            "value": " 1/1 [00:46&lt;00:00, 46.94s/it]"
          }
        },
        "a4ec325a41bd40268f17ae6b567ad4e6": {
          "model_module": "@jupyter-widgets/base",
          "model_name": "LayoutModel",
          "model_module_version": "1.2.0",
          "state": {
            "_model_module": "@jupyter-widgets/base",
            "_model_module_version": "1.2.0",
            "_model_name": "LayoutModel",
            "_view_count": null,
            "_view_module": "@jupyter-widgets/base",
            "_view_module_version": "1.2.0",
            "_view_name": "LayoutView",
            "align_content": null,
            "align_items": null,
            "align_self": null,
            "border": null,
            "bottom": null,
            "display": null,
            "flex": null,
            "flex_flow": null,
            "grid_area": null,
            "grid_auto_columns": null,
            "grid_auto_flow": null,
            "grid_auto_rows": null,
            "grid_column": null,
            "grid_gap": null,
            "grid_row": null,
            "grid_template_areas": null,
            "grid_template_columns": null,
            "grid_template_rows": null,
            "height": null,
            "justify_content": null,
            "justify_items": null,
            "left": null,
            "margin": null,
            "max_height": null,
            "max_width": null,
            "min_height": null,
            "min_width": null,
            "object_fit": null,
            "object_position": null,
            "order": null,
            "overflow": null,
            "overflow_x": null,
            "overflow_y": null,
            "padding": null,
            "right": null,
            "top": null,
            "visibility": null,
            "width": null
          }
        },
        "0925bcff5e9d48dabf013df0c05aaaec": {
          "model_module": "@jupyter-widgets/base",
          "model_name": "LayoutModel",
          "model_module_version": "1.2.0",
          "state": {
            "_model_module": "@jupyter-widgets/base",
            "_model_module_version": "1.2.0",
            "_model_name": "LayoutModel",
            "_view_count": null,
            "_view_module": "@jupyter-widgets/base",
            "_view_module_version": "1.2.0",
            "_view_name": "LayoutView",
            "align_content": null,
            "align_items": null,
            "align_self": null,
            "border": null,
            "bottom": null,
            "display": null,
            "flex": null,
            "flex_flow": null,
            "grid_area": null,
            "grid_auto_columns": null,
            "grid_auto_flow": null,
            "grid_auto_rows": null,
            "grid_column": null,
            "grid_gap": null,
            "grid_row": null,
            "grid_template_areas": null,
            "grid_template_columns": null,
            "grid_template_rows": null,
            "height": null,
            "justify_content": null,
            "justify_items": null,
            "left": null,
            "margin": null,
            "max_height": null,
            "max_width": null,
            "min_height": null,
            "min_width": null,
            "object_fit": null,
            "object_position": null,
            "order": null,
            "overflow": null,
            "overflow_x": null,
            "overflow_y": null,
            "padding": null,
            "right": null,
            "top": null,
            "visibility": null,
            "width": null
          }
        },
        "8f6fbcba58f449f0ac73fcbbbe0904d4": {
          "model_module": "@jupyter-widgets/controls",
          "model_name": "DescriptionStyleModel",
          "model_module_version": "1.5.0",
          "state": {
            "_model_module": "@jupyter-widgets/controls",
            "_model_module_version": "1.5.0",
            "_model_name": "DescriptionStyleModel",
            "_view_count": null,
            "_view_module": "@jupyter-widgets/base",
            "_view_module_version": "1.2.0",
            "_view_name": "StyleView",
            "description_width": ""
          }
        },
        "7618eb2a104d46e9acab06b59d03ba0b": {
          "model_module": "@jupyter-widgets/base",
          "model_name": "LayoutModel",
          "model_module_version": "1.2.0",
          "state": {
            "_model_module": "@jupyter-widgets/base",
            "_model_module_version": "1.2.0",
            "_model_name": "LayoutModel",
            "_view_count": null,
            "_view_module": "@jupyter-widgets/base",
            "_view_module_version": "1.2.0",
            "_view_name": "LayoutView",
            "align_content": null,
            "align_items": null,
            "align_self": null,
            "border": null,
            "bottom": null,
            "display": null,
            "flex": null,
            "flex_flow": null,
            "grid_area": null,
            "grid_auto_columns": null,
            "grid_auto_flow": null,
            "grid_auto_rows": null,
            "grid_column": null,
            "grid_gap": null,
            "grid_row": null,
            "grid_template_areas": null,
            "grid_template_columns": null,
            "grid_template_rows": null,
            "height": null,
            "justify_content": null,
            "justify_items": null,
            "left": null,
            "margin": null,
            "max_height": null,
            "max_width": null,
            "min_height": null,
            "min_width": null,
            "object_fit": null,
            "object_position": null,
            "order": null,
            "overflow": null,
            "overflow_x": null,
            "overflow_y": null,
            "padding": null,
            "right": null,
            "top": null,
            "visibility": null,
            "width": null
          }
        },
        "2f15489582624312a91b50d63d0a0242": {
          "model_module": "@jupyter-widgets/controls",
          "model_name": "ProgressStyleModel",
          "model_module_version": "1.5.0",
          "state": {
            "_model_module": "@jupyter-widgets/controls",
            "_model_module_version": "1.5.0",
            "_model_name": "ProgressStyleModel",
            "_view_count": null,
            "_view_module": "@jupyter-widgets/base",
            "_view_module_version": "1.2.0",
            "_view_name": "StyleView",
            "bar_color": null,
            "description_width": ""
          }
        },
        "7a58f929c3ad489bab04edf1d3d872bb": {
          "model_module": "@jupyter-widgets/base",
          "model_name": "LayoutModel",
          "model_module_version": "1.2.0",
          "state": {
            "_model_module": "@jupyter-widgets/base",
            "_model_module_version": "1.2.0",
            "_model_name": "LayoutModel",
            "_view_count": null,
            "_view_module": "@jupyter-widgets/base",
            "_view_module_version": "1.2.0",
            "_view_name": "LayoutView",
            "align_content": null,
            "align_items": null,
            "align_self": null,
            "border": null,
            "bottom": null,
            "display": null,
            "flex": null,
            "flex_flow": null,
            "grid_area": null,
            "grid_auto_columns": null,
            "grid_auto_flow": null,
            "grid_auto_rows": null,
            "grid_column": null,
            "grid_gap": null,
            "grid_row": null,
            "grid_template_areas": null,
            "grid_template_columns": null,
            "grid_template_rows": null,
            "height": null,
            "justify_content": null,
            "justify_items": null,
            "left": null,
            "margin": null,
            "max_height": null,
            "max_width": null,
            "min_height": null,
            "min_width": null,
            "object_fit": null,
            "object_position": null,
            "order": null,
            "overflow": null,
            "overflow_x": null,
            "overflow_y": null,
            "padding": null,
            "right": null,
            "top": null,
            "visibility": null,
            "width": null
          }
        },
        "36ba402208264846a4d1556de693a3ae": {
          "model_module": "@jupyter-widgets/controls",
          "model_name": "DescriptionStyleModel",
          "model_module_version": "1.5.0",
          "state": {
            "_model_module": "@jupyter-widgets/controls",
            "_model_module_version": "1.5.0",
            "_model_name": "DescriptionStyleModel",
            "_view_count": null,
            "_view_module": "@jupyter-widgets/base",
            "_view_module_version": "1.2.0",
            "_view_name": "StyleView",
            "description_width": ""
          }
        },
        "d15b5a8263614b3fb9b9702d2f2a698e": {
          "model_module": "@jupyter-widgets/controls",
          "model_name": "HBoxModel",
          "model_module_version": "1.5.0",
          "state": {
            "_dom_classes": [],
            "_model_module": "@jupyter-widgets/controls",
            "_model_module_version": "1.5.0",
            "_model_name": "HBoxModel",
            "_view_count": null,
            "_view_module": "@jupyter-widgets/controls",
            "_view_module_version": "1.5.0",
            "_view_name": "HBoxView",
            "box_style": "",
            "children": [
              "IPY_MODEL_ca65c16e3943405a8c45db674d12b00d",
              "IPY_MODEL_a25c338c376744949e1b9b9bfdec0cee",
              "IPY_MODEL_069aee3c626c4846bca5e4691e688425"
            ],
            "layout": "IPY_MODEL_d27e8799ab9f44f8a7d4f644a85d3c20"
          }
        },
        "ca65c16e3943405a8c45db674d12b00d": {
          "model_module": "@jupyter-widgets/controls",
          "model_name": "HTMLModel",
          "model_module_version": "1.5.0",
          "state": {
            "_dom_classes": [],
            "_model_module": "@jupyter-widgets/controls",
            "_model_module_version": "1.5.0",
            "_model_name": "HTMLModel",
            "_view_count": null,
            "_view_module": "@jupyter-widgets/controls",
            "_view_module_version": "1.5.0",
            "_view_name": "HTMLView",
            "description": "",
            "description_tooltip": null,
            "layout": "IPY_MODEL_6001dd7bef7d40c6925160d47b1bd730",
            "placeholder": "​",
            "style": "IPY_MODEL_f91e01ac5ed147f18cb2340cf596d53d",
            "value": "Downloading data: 100%"
          }
        },
        "a25c338c376744949e1b9b9bfdec0cee": {
          "model_module": "@jupyter-widgets/controls",
          "model_name": "FloatProgressModel",
          "model_module_version": "1.5.0",
          "state": {
            "_dom_classes": [],
            "_model_module": "@jupyter-widgets/controls",
            "_model_module_version": "1.5.0",
            "_model_name": "FloatProgressModel",
            "_view_count": null,
            "_view_module": "@jupyter-widgets/controls",
            "_view_module_version": "1.5.0",
            "_view_name": "ProgressView",
            "bar_style": "success",
            "description": "",
            "description_tooltip": null,
            "layout": "IPY_MODEL_c835a90c840a47b3b917ea86f097ec28",
            "max": 377655820,
            "min": 0,
            "orientation": "horizontal",
            "style": "IPY_MODEL_949542c5ec054e0a90b786813bd081b8",
            "value": 377655820
          }
        },
        "069aee3c626c4846bca5e4691e688425": {
          "model_module": "@jupyter-widgets/controls",
          "model_name": "HTMLModel",
          "model_module_version": "1.5.0",
          "state": {
            "_dom_classes": [],
            "_model_module": "@jupyter-widgets/controls",
            "_model_module_version": "1.5.0",
            "_model_name": "HTMLModel",
            "_view_count": null,
            "_view_module": "@jupyter-widgets/controls",
            "_view_module_version": "1.5.0",
            "_view_name": "HTMLView",
            "description": "",
            "description_tooltip": null,
            "layout": "IPY_MODEL_6ee104a5df9d440ba14557423a63d22b",
            "placeholder": "​",
            "style": "IPY_MODEL_d1e44467c87845ee9987ccab3c382a74",
            "value": " 378M/378M [00:23&lt;00:00, 17.5MB/s]"
          }
        },
        "d27e8799ab9f44f8a7d4f644a85d3c20": {
          "model_module": "@jupyter-widgets/base",
          "model_name": "LayoutModel",
          "model_module_version": "1.2.0",
          "state": {
            "_model_module": "@jupyter-widgets/base",
            "_model_module_version": "1.2.0",
            "_model_name": "LayoutModel",
            "_view_count": null,
            "_view_module": "@jupyter-widgets/base",
            "_view_module_version": "1.2.0",
            "_view_name": "LayoutView",
            "align_content": null,
            "align_items": null,
            "align_self": null,
            "border": null,
            "bottom": null,
            "display": null,
            "flex": null,
            "flex_flow": null,
            "grid_area": null,
            "grid_auto_columns": null,
            "grid_auto_flow": null,
            "grid_auto_rows": null,
            "grid_column": null,
            "grid_gap": null,
            "grid_row": null,
            "grid_template_areas": null,
            "grid_template_columns": null,
            "grid_template_rows": null,
            "height": null,
            "justify_content": null,
            "justify_items": null,
            "left": null,
            "margin": null,
            "max_height": null,
            "max_width": null,
            "min_height": null,
            "min_width": null,
            "object_fit": null,
            "object_position": null,
            "order": null,
            "overflow": null,
            "overflow_x": null,
            "overflow_y": null,
            "padding": null,
            "right": null,
            "top": null,
            "visibility": null,
            "width": null
          }
        },
        "6001dd7bef7d40c6925160d47b1bd730": {
          "model_module": "@jupyter-widgets/base",
          "model_name": "LayoutModel",
          "model_module_version": "1.2.0",
          "state": {
            "_model_module": "@jupyter-widgets/base",
            "_model_module_version": "1.2.0",
            "_model_name": "LayoutModel",
            "_view_count": null,
            "_view_module": "@jupyter-widgets/base",
            "_view_module_version": "1.2.0",
            "_view_name": "LayoutView",
            "align_content": null,
            "align_items": null,
            "align_self": null,
            "border": null,
            "bottom": null,
            "display": null,
            "flex": null,
            "flex_flow": null,
            "grid_area": null,
            "grid_auto_columns": null,
            "grid_auto_flow": null,
            "grid_auto_rows": null,
            "grid_column": null,
            "grid_gap": null,
            "grid_row": null,
            "grid_template_areas": null,
            "grid_template_columns": null,
            "grid_template_rows": null,
            "height": null,
            "justify_content": null,
            "justify_items": null,
            "left": null,
            "margin": null,
            "max_height": null,
            "max_width": null,
            "min_height": null,
            "min_width": null,
            "object_fit": null,
            "object_position": null,
            "order": null,
            "overflow": null,
            "overflow_x": null,
            "overflow_y": null,
            "padding": null,
            "right": null,
            "top": null,
            "visibility": null,
            "width": null
          }
        },
        "f91e01ac5ed147f18cb2340cf596d53d": {
          "model_module": "@jupyter-widgets/controls",
          "model_name": "DescriptionStyleModel",
          "model_module_version": "1.5.0",
          "state": {
            "_model_module": "@jupyter-widgets/controls",
            "_model_module_version": "1.5.0",
            "_model_name": "DescriptionStyleModel",
            "_view_count": null,
            "_view_module": "@jupyter-widgets/base",
            "_view_module_version": "1.2.0",
            "_view_name": "StyleView",
            "description_width": ""
          }
        },
        "c835a90c840a47b3b917ea86f097ec28": {
          "model_module": "@jupyter-widgets/base",
          "model_name": "LayoutModel",
          "model_module_version": "1.2.0",
          "state": {
            "_model_module": "@jupyter-widgets/base",
            "_model_module_version": "1.2.0",
            "_model_name": "LayoutModel",
            "_view_count": null,
            "_view_module": "@jupyter-widgets/base",
            "_view_module_version": "1.2.0",
            "_view_name": "LayoutView",
            "align_content": null,
            "align_items": null,
            "align_self": null,
            "border": null,
            "bottom": null,
            "display": null,
            "flex": null,
            "flex_flow": null,
            "grid_area": null,
            "grid_auto_columns": null,
            "grid_auto_flow": null,
            "grid_auto_rows": null,
            "grid_column": null,
            "grid_gap": null,
            "grid_row": null,
            "grid_template_areas": null,
            "grid_template_columns": null,
            "grid_template_rows": null,
            "height": null,
            "justify_content": null,
            "justify_items": null,
            "left": null,
            "margin": null,
            "max_height": null,
            "max_width": null,
            "min_height": null,
            "min_width": null,
            "object_fit": null,
            "object_position": null,
            "order": null,
            "overflow": null,
            "overflow_x": null,
            "overflow_y": null,
            "padding": null,
            "right": null,
            "top": null,
            "visibility": null,
            "width": null
          }
        },
        "949542c5ec054e0a90b786813bd081b8": {
          "model_module": "@jupyter-widgets/controls",
          "model_name": "ProgressStyleModel",
          "model_module_version": "1.5.0",
          "state": {
            "_model_module": "@jupyter-widgets/controls",
            "_model_module_version": "1.5.0",
            "_model_name": "ProgressStyleModel",
            "_view_count": null,
            "_view_module": "@jupyter-widgets/base",
            "_view_module_version": "1.2.0",
            "_view_name": "StyleView",
            "bar_color": null,
            "description_width": ""
          }
        },
        "6ee104a5df9d440ba14557423a63d22b": {
          "model_module": "@jupyter-widgets/base",
          "model_name": "LayoutModel",
          "model_module_version": "1.2.0",
          "state": {
            "_model_module": "@jupyter-widgets/base",
            "_model_module_version": "1.2.0",
            "_model_name": "LayoutModel",
            "_view_count": null,
            "_view_module": "@jupyter-widgets/base",
            "_view_module_version": "1.2.0",
            "_view_name": "LayoutView",
            "align_content": null,
            "align_items": null,
            "align_self": null,
            "border": null,
            "bottom": null,
            "display": null,
            "flex": null,
            "flex_flow": null,
            "grid_area": null,
            "grid_auto_columns": null,
            "grid_auto_flow": null,
            "grid_auto_rows": null,
            "grid_column": null,
            "grid_gap": null,
            "grid_row": null,
            "grid_template_areas": null,
            "grid_template_columns": null,
            "grid_template_rows": null,
            "height": null,
            "justify_content": null,
            "justify_items": null,
            "left": null,
            "margin": null,
            "max_height": null,
            "max_width": null,
            "min_height": null,
            "min_width": null,
            "object_fit": null,
            "object_position": null,
            "order": null,
            "overflow": null,
            "overflow_x": null,
            "overflow_y": null,
            "padding": null,
            "right": null,
            "top": null,
            "visibility": null,
            "width": null
          }
        },
        "d1e44467c87845ee9987ccab3c382a74": {
          "model_module": "@jupyter-widgets/controls",
          "model_name": "DescriptionStyleModel",
          "model_module_version": "1.5.0",
          "state": {
            "_model_module": "@jupyter-widgets/controls",
            "_model_module_version": "1.5.0",
            "_model_name": "DescriptionStyleModel",
            "_view_count": null,
            "_view_module": "@jupyter-widgets/base",
            "_view_module_version": "1.2.0",
            "_view_name": "StyleView",
            "description_width": ""
          }
        },
        "b7911d4bb9724ab5aa37f2982796e620": {
          "model_module": "@jupyter-widgets/controls",
          "model_name": "HBoxModel",
          "model_module_version": "1.5.0",
          "state": {
            "_dom_classes": [],
            "_model_module": "@jupyter-widgets/controls",
            "_model_module_version": "1.5.0",
            "_model_name": "HBoxModel",
            "_view_count": null,
            "_view_module": "@jupyter-widgets/controls",
            "_view_module_version": "1.5.0",
            "_view_name": "HBoxView",
            "box_style": "",
            "children": [
              "IPY_MODEL_6a341fbd590d414984d8516369993331",
              "IPY_MODEL_9a54af1297084a7ca5a02760e91973f0",
              "IPY_MODEL_2eb8fff9fcac497aa25bc51ea6aa2498"
            ],
            "layout": "IPY_MODEL_16d9096e9955493680f11b8ed836307d"
          }
        },
        "6a341fbd590d414984d8516369993331": {
          "model_module": "@jupyter-widgets/controls",
          "model_name": "HTMLModel",
          "model_module_version": "1.5.0",
          "state": {
            "_dom_classes": [],
            "_model_module": "@jupyter-widgets/controls",
            "_model_module_version": "1.5.0",
            "_model_name": "HTMLModel",
            "_view_count": null,
            "_view_module": "@jupyter-widgets/controls",
            "_view_module_version": "1.5.0",
            "_view_name": "HTMLView",
            "description": "",
            "description_tooltip": null,
            "layout": "IPY_MODEL_c371d54455d84415a10bbd78b9ab1cd1",
            "placeholder": "​",
            "style": "IPY_MODEL_f83ce00f694d4dda9df56366b037d425",
            "value": "Downloading data: 100%"
          }
        },
        "9a54af1297084a7ca5a02760e91973f0": {
          "model_module": "@jupyter-widgets/controls",
          "model_name": "FloatProgressModel",
          "model_module_version": "1.5.0",
          "state": {
            "_dom_classes": [],
            "_model_module": "@jupyter-widgets/controls",
            "_model_module_version": "1.5.0",
            "_model_name": "FloatProgressModel",
            "_view_count": null,
            "_view_module": "@jupyter-widgets/controls",
            "_view_module_version": "1.5.0",
            "_view_name": "ProgressView",
            "bar_style": "success",
            "description": "",
            "description_tooltip": null,
            "layout": "IPY_MODEL_3340b6eece8a438aaa563ccf9d47d5f4",
            "max": 376733779,
            "min": 0,
            "orientation": "horizontal",
            "style": "IPY_MODEL_0bf1936edb554889a4a726fbd7e1ee74",
            "value": 376733779
          }
        },
        "2eb8fff9fcac497aa25bc51ea6aa2498": {
          "model_module": "@jupyter-widgets/controls",
          "model_name": "HTMLModel",
          "model_module_version": "1.5.0",
          "state": {
            "_dom_classes": [],
            "_model_module": "@jupyter-widgets/controls",
            "_model_module_version": "1.5.0",
            "_model_name": "HTMLModel",
            "_view_count": null,
            "_view_module": "@jupyter-widgets/controls",
            "_view_module_version": "1.5.0",
            "_view_name": "HTMLView",
            "description": "",
            "description_tooltip": null,
            "layout": "IPY_MODEL_8c816bc37a53495c9bd60785d7ba96f3",
            "placeholder": "​",
            "style": "IPY_MODEL_3489d302fe5e4f9aac8481f77d911b6f",
            "value": " 377M/377M [00:23&lt;00:00, 15.9MB/s]"
          }
        },
        "16d9096e9955493680f11b8ed836307d": {
          "model_module": "@jupyter-widgets/base",
          "model_name": "LayoutModel",
          "model_module_version": "1.2.0",
          "state": {
            "_model_module": "@jupyter-widgets/base",
            "_model_module_version": "1.2.0",
            "_model_name": "LayoutModel",
            "_view_count": null,
            "_view_module": "@jupyter-widgets/base",
            "_view_module_version": "1.2.0",
            "_view_name": "LayoutView",
            "align_content": null,
            "align_items": null,
            "align_self": null,
            "border": null,
            "bottom": null,
            "display": null,
            "flex": null,
            "flex_flow": null,
            "grid_area": null,
            "grid_auto_columns": null,
            "grid_auto_flow": null,
            "grid_auto_rows": null,
            "grid_column": null,
            "grid_gap": null,
            "grid_row": null,
            "grid_template_areas": null,
            "grid_template_columns": null,
            "grid_template_rows": null,
            "height": null,
            "justify_content": null,
            "justify_items": null,
            "left": null,
            "margin": null,
            "max_height": null,
            "max_width": null,
            "min_height": null,
            "min_width": null,
            "object_fit": null,
            "object_position": null,
            "order": null,
            "overflow": null,
            "overflow_x": null,
            "overflow_y": null,
            "padding": null,
            "right": null,
            "top": null,
            "visibility": null,
            "width": null
          }
        },
        "c371d54455d84415a10bbd78b9ab1cd1": {
          "model_module": "@jupyter-widgets/base",
          "model_name": "LayoutModel",
          "model_module_version": "1.2.0",
          "state": {
            "_model_module": "@jupyter-widgets/base",
            "_model_module_version": "1.2.0",
            "_model_name": "LayoutModel",
            "_view_count": null,
            "_view_module": "@jupyter-widgets/base",
            "_view_module_version": "1.2.0",
            "_view_name": "LayoutView",
            "align_content": null,
            "align_items": null,
            "align_self": null,
            "border": null,
            "bottom": null,
            "display": null,
            "flex": null,
            "flex_flow": null,
            "grid_area": null,
            "grid_auto_columns": null,
            "grid_auto_flow": null,
            "grid_auto_rows": null,
            "grid_column": null,
            "grid_gap": null,
            "grid_row": null,
            "grid_template_areas": null,
            "grid_template_columns": null,
            "grid_template_rows": null,
            "height": null,
            "justify_content": null,
            "justify_items": null,
            "left": null,
            "margin": null,
            "max_height": null,
            "max_width": null,
            "min_height": null,
            "min_width": null,
            "object_fit": null,
            "object_position": null,
            "order": null,
            "overflow": null,
            "overflow_x": null,
            "overflow_y": null,
            "padding": null,
            "right": null,
            "top": null,
            "visibility": null,
            "width": null
          }
        },
        "f83ce00f694d4dda9df56366b037d425": {
          "model_module": "@jupyter-widgets/controls",
          "model_name": "DescriptionStyleModel",
          "model_module_version": "1.5.0",
          "state": {
            "_model_module": "@jupyter-widgets/controls",
            "_model_module_version": "1.5.0",
            "_model_name": "DescriptionStyleModel",
            "_view_count": null,
            "_view_module": "@jupyter-widgets/base",
            "_view_module_version": "1.2.0",
            "_view_name": "StyleView",
            "description_width": ""
          }
        },
        "3340b6eece8a438aaa563ccf9d47d5f4": {
          "model_module": "@jupyter-widgets/base",
          "model_name": "LayoutModel",
          "model_module_version": "1.2.0",
          "state": {
            "_model_module": "@jupyter-widgets/base",
            "_model_module_version": "1.2.0",
            "_model_name": "LayoutModel",
            "_view_count": null,
            "_view_module": "@jupyter-widgets/base",
            "_view_module_version": "1.2.0",
            "_view_name": "LayoutView",
            "align_content": null,
            "align_items": null,
            "align_self": null,
            "border": null,
            "bottom": null,
            "display": null,
            "flex": null,
            "flex_flow": null,
            "grid_area": null,
            "grid_auto_columns": null,
            "grid_auto_flow": null,
            "grid_auto_rows": null,
            "grid_column": null,
            "grid_gap": null,
            "grid_row": null,
            "grid_template_areas": null,
            "grid_template_columns": null,
            "grid_template_rows": null,
            "height": null,
            "justify_content": null,
            "justify_items": null,
            "left": null,
            "margin": null,
            "max_height": null,
            "max_width": null,
            "min_height": null,
            "min_width": null,
            "object_fit": null,
            "object_position": null,
            "order": null,
            "overflow": null,
            "overflow_x": null,
            "overflow_y": null,
            "padding": null,
            "right": null,
            "top": null,
            "visibility": null,
            "width": null
          }
        },
        "0bf1936edb554889a4a726fbd7e1ee74": {
          "model_module": "@jupyter-widgets/controls",
          "model_name": "ProgressStyleModel",
          "model_module_version": "1.5.0",
          "state": {
            "_model_module": "@jupyter-widgets/controls",
            "_model_module_version": "1.5.0",
            "_model_name": "ProgressStyleModel",
            "_view_count": null,
            "_view_module": "@jupyter-widgets/base",
            "_view_module_version": "1.2.0",
            "_view_name": "StyleView",
            "bar_color": null,
            "description_width": ""
          }
        },
        "8c816bc37a53495c9bd60785d7ba96f3": {
          "model_module": "@jupyter-widgets/base",
          "model_name": "LayoutModel",
          "model_module_version": "1.2.0",
          "state": {
            "_model_module": "@jupyter-widgets/base",
            "_model_module_version": "1.2.0",
            "_model_name": "LayoutModel",
            "_view_count": null,
            "_view_module": "@jupyter-widgets/base",
            "_view_module_version": "1.2.0",
            "_view_name": "LayoutView",
            "align_content": null,
            "align_items": null,
            "align_self": null,
            "border": null,
            "bottom": null,
            "display": null,
            "flex": null,
            "flex_flow": null,
            "grid_area": null,
            "grid_auto_columns": null,
            "grid_auto_flow": null,
            "grid_auto_rows": null,
            "grid_column": null,
            "grid_gap": null,
            "grid_row": null,
            "grid_template_areas": null,
            "grid_template_columns": null,
            "grid_template_rows": null,
            "height": null,
            "justify_content": null,
            "justify_items": null,
            "left": null,
            "margin": null,
            "max_height": null,
            "max_width": null,
            "min_height": null,
            "min_width": null,
            "object_fit": null,
            "object_position": null,
            "order": null,
            "overflow": null,
            "overflow_x": null,
            "overflow_y": null,
            "padding": null,
            "right": null,
            "top": null,
            "visibility": null,
            "width": null
          }
        },
        "3489d302fe5e4f9aac8481f77d911b6f": {
          "model_module": "@jupyter-widgets/controls",
          "model_name": "DescriptionStyleModel",
          "model_module_version": "1.5.0",
          "state": {
            "_model_module": "@jupyter-widgets/controls",
            "_model_module_version": "1.5.0",
            "_model_name": "DescriptionStyleModel",
            "_view_count": null,
            "_view_module": "@jupyter-widgets/base",
            "_view_module_version": "1.2.0",
            "_view_name": "StyleView",
            "description_width": ""
          }
        },
        "448baad1349544beb66b56171d225e27": {
          "model_module": "@jupyter-widgets/controls",
          "model_name": "HBoxModel",
          "model_module_version": "1.5.0",
          "state": {
            "_dom_classes": [],
            "_model_module": "@jupyter-widgets/controls",
            "_model_module_version": "1.5.0",
            "_model_name": "HBoxModel",
            "_view_count": null,
            "_view_module": "@jupyter-widgets/controls",
            "_view_module_version": "1.5.0",
            "_view_name": "HBoxView",
            "box_style": "",
            "children": [
              "IPY_MODEL_f31c6182483a4888920298d0bd0ea2ae",
              "IPY_MODEL_3a520f16121a4c2388e3a45a14a91935",
              "IPY_MODEL_116f81a56a41450a806c2214cb7b9779"
            ],
            "layout": "IPY_MODEL_79b7c3400d5a4ad0a32510e43b29e807"
          }
        },
        "f31c6182483a4888920298d0bd0ea2ae": {
          "model_module": "@jupyter-widgets/controls",
          "model_name": "HTMLModel",
          "model_module_version": "1.5.0",
          "state": {
            "_dom_classes": [],
            "_model_module": "@jupyter-widgets/controls",
            "_model_module_version": "1.5.0",
            "_model_name": "HTMLModel",
            "_view_count": null,
            "_view_module": "@jupyter-widgets/controls",
            "_view_module_version": "1.5.0",
            "_view_name": "HTMLView",
            "description": "",
            "description_tooltip": null,
            "layout": "IPY_MODEL_e82fa5a122cb4c9d8469a7cde6cbbde6",
            "placeholder": "​",
            "style": "IPY_MODEL_ed0a070b1c314c14b2c417c9ed6c5bd3",
            "value": "Extracting data files: 100%"
          }
        },
        "3a520f16121a4c2388e3a45a14a91935": {
          "model_module": "@jupyter-widgets/controls",
          "model_name": "FloatProgressModel",
          "model_module_version": "1.5.0",
          "state": {
            "_dom_classes": [],
            "_model_module": "@jupyter-widgets/controls",
            "_model_module_version": "1.5.0",
            "_model_name": "FloatProgressModel",
            "_view_count": null,
            "_view_module": "@jupyter-widgets/controls",
            "_view_module_version": "1.5.0",
            "_view_name": "ProgressView",
            "bar_style": "success",
            "description": "",
            "description_tooltip": null,
            "layout": "IPY_MODEL_86f36b4d96534180993de172c1852feb",
            "max": 1,
            "min": 0,
            "orientation": "horizontal",
            "style": "IPY_MODEL_80f4a576f72e4b928a4d7be932e766bb",
            "value": 1
          }
        },
        "116f81a56a41450a806c2214cb7b9779": {
          "model_module": "@jupyter-widgets/controls",
          "model_name": "HTMLModel",
          "model_module_version": "1.5.0",
          "state": {
            "_dom_classes": [],
            "_model_module": "@jupyter-widgets/controls",
            "_model_module_version": "1.5.0",
            "_model_name": "HTMLModel",
            "_view_count": null,
            "_view_module": "@jupyter-widgets/controls",
            "_view_module_version": "1.5.0",
            "_view_name": "HTMLView",
            "description": "",
            "description_tooltip": null,
            "layout": "IPY_MODEL_63f89c79d668462c96f4dd1b5a172e19",
            "placeholder": "​",
            "style": "IPY_MODEL_774a9f9a32384536916e45a4ffadd201",
            "value": " 1/1 [00:00&lt;00:00, 36.93it/s]"
          }
        },
        "79b7c3400d5a4ad0a32510e43b29e807": {
          "model_module": "@jupyter-widgets/base",
          "model_name": "LayoutModel",
          "model_module_version": "1.2.0",
          "state": {
            "_model_module": "@jupyter-widgets/base",
            "_model_module_version": "1.2.0",
            "_model_name": "LayoutModel",
            "_view_count": null,
            "_view_module": "@jupyter-widgets/base",
            "_view_module_version": "1.2.0",
            "_view_name": "LayoutView",
            "align_content": null,
            "align_items": null,
            "align_self": null,
            "border": null,
            "bottom": null,
            "display": null,
            "flex": null,
            "flex_flow": null,
            "grid_area": null,
            "grid_auto_columns": null,
            "grid_auto_flow": null,
            "grid_auto_rows": null,
            "grid_column": null,
            "grid_gap": null,
            "grid_row": null,
            "grid_template_areas": null,
            "grid_template_columns": null,
            "grid_template_rows": null,
            "height": null,
            "justify_content": null,
            "justify_items": null,
            "left": null,
            "margin": null,
            "max_height": null,
            "max_width": null,
            "min_height": null,
            "min_width": null,
            "object_fit": null,
            "object_position": null,
            "order": null,
            "overflow": null,
            "overflow_x": null,
            "overflow_y": null,
            "padding": null,
            "right": null,
            "top": null,
            "visibility": null,
            "width": null
          }
        },
        "e82fa5a122cb4c9d8469a7cde6cbbde6": {
          "model_module": "@jupyter-widgets/base",
          "model_name": "LayoutModel",
          "model_module_version": "1.2.0",
          "state": {
            "_model_module": "@jupyter-widgets/base",
            "_model_module_version": "1.2.0",
            "_model_name": "LayoutModel",
            "_view_count": null,
            "_view_module": "@jupyter-widgets/base",
            "_view_module_version": "1.2.0",
            "_view_name": "LayoutView",
            "align_content": null,
            "align_items": null,
            "align_self": null,
            "border": null,
            "bottom": null,
            "display": null,
            "flex": null,
            "flex_flow": null,
            "grid_area": null,
            "grid_auto_columns": null,
            "grid_auto_flow": null,
            "grid_auto_rows": null,
            "grid_column": null,
            "grid_gap": null,
            "grid_row": null,
            "grid_template_areas": null,
            "grid_template_columns": null,
            "grid_template_rows": null,
            "height": null,
            "justify_content": null,
            "justify_items": null,
            "left": null,
            "margin": null,
            "max_height": null,
            "max_width": null,
            "min_height": null,
            "min_width": null,
            "object_fit": null,
            "object_position": null,
            "order": null,
            "overflow": null,
            "overflow_x": null,
            "overflow_y": null,
            "padding": null,
            "right": null,
            "top": null,
            "visibility": null,
            "width": null
          }
        },
        "ed0a070b1c314c14b2c417c9ed6c5bd3": {
          "model_module": "@jupyter-widgets/controls",
          "model_name": "DescriptionStyleModel",
          "model_module_version": "1.5.0",
          "state": {
            "_model_module": "@jupyter-widgets/controls",
            "_model_module_version": "1.5.0",
            "_model_name": "DescriptionStyleModel",
            "_view_count": null,
            "_view_module": "@jupyter-widgets/base",
            "_view_module_version": "1.2.0",
            "_view_name": "StyleView",
            "description_width": ""
          }
        },
        "86f36b4d96534180993de172c1852feb": {
          "model_module": "@jupyter-widgets/base",
          "model_name": "LayoutModel",
          "model_module_version": "1.2.0",
          "state": {
            "_model_module": "@jupyter-widgets/base",
            "_model_module_version": "1.2.0",
            "_model_name": "LayoutModel",
            "_view_count": null,
            "_view_module": "@jupyter-widgets/base",
            "_view_module_version": "1.2.0",
            "_view_name": "LayoutView",
            "align_content": null,
            "align_items": null,
            "align_self": null,
            "border": null,
            "bottom": null,
            "display": null,
            "flex": null,
            "flex_flow": null,
            "grid_area": null,
            "grid_auto_columns": null,
            "grid_auto_flow": null,
            "grid_auto_rows": null,
            "grid_column": null,
            "grid_gap": null,
            "grid_row": null,
            "grid_template_areas": null,
            "grid_template_columns": null,
            "grid_template_rows": null,
            "height": null,
            "justify_content": null,
            "justify_items": null,
            "left": null,
            "margin": null,
            "max_height": null,
            "max_width": null,
            "min_height": null,
            "min_width": null,
            "object_fit": null,
            "object_position": null,
            "order": null,
            "overflow": null,
            "overflow_x": null,
            "overflow_y": null,
            "padding": null,
            "right": null,
            "top": null,
            "visibility": null,
            "width": null
          }
        },
        "80f4a576f72e4b928a4d7be932e766bb": {
          "model_module": "@jupyter-widgets/controls",
          "model_name": "ProgressStyleModel",
          "model_module_version": "1.5.0",
          "state": {
            "_model_module": "@jupyter-widgets/controls",
            "_model_module_version": "1.5.0",
            "_model_name": "ProgressStyleModel",
            "_view_count": null,
            "_view_module": "@jupyter-widgets/base",
            "_view_module_version": "1.2.0",
            "_view_name": "StyleView",
            "bar_color": null,
            "description_width": ""
          }
        },
        "63f89c79d668462c96f4dd1b5a172e19": {
          "model_module": "@jupyter-widgets/base",
          "model_name": "LayoutModel",
          "model_module_version": "1.2.0",
          "state": {
            "_model_module": "@jupyter-widgets/base",
            "_model_module_version": "1.2.0",
            "_model_name": "LayoutModel",
            "_view_count": null,
            "_view_module": "@jupyter-widgets/base",
            "_view_module_version": "1.2.0",
            "_view_name": "LayoutView",
            "align_content": null,
            "align_items": null,
            "align_self": null,
            "border": null,
            "bottom": null,
            "display": null,
            "flex": null,
            "flex_flow": null,
            "grid_area": null,
            "grid_auto_columns": null,
            "grid_auto_flow": null,
            "grid_auto_rows": null,
            "grid_column": null,
            "grid_gap": null,
            "grid_row": null,
            "grid_template_areas": null,
            "grid_template_columns": null,
            "grid_template_rows": null,
            "height": null,
            "justify_content": null,
            "justify_items": null,
            "left": null,
            "margin": null,
            "max_height": null,
            "max_width": null,
            "min_height": null,
            "min_width": null,
            "object_fit": null,
            "object_position": null,
            "order": null,
            "overflow": null,
            "overflow_x": null,
            "overflow_y": null,
            "padding": null,
            "right": null,
            "top": null,
            "visibility": null,
            "width": null
          }
        },
        "774a9f9a32384536916e45a4ffadd201": {
          "model_module": "@jupyter-widgets/controls",
          "model_name": "DescriptionStyleModel",
          "model_module_version": "1.5.0",
          "state": {
            "_model_module": "@jupyter-widgets/controls",
            "_model_module_version": "1.5.0",
            "_model_name": "DescriptionStyleModel",
            "_view_count": null,
            "_view_module": "@jupyter-widgets/base",
            "_view_module_version": "1.2.0",
            "_view_name": "StyleView",
            "description_width": ""
          }
        },
        "0857588f6202419698e8499afe74d114": {
          "model_module": "@jupyter-widgets/controls",
          "model_name": "HBoxModel",
          "model_module_version": "1.5.0",
          "state": {
            "_dom_classes": [],
            "_model_module": "@jupyter-widgets/controls",
            "_model_module_version": "1.5.0",
            "_model_name": "HBoxModel",
            "_view_count": null,
            "_view_module": "@jupyter-widgets/controls",
            "_view_module_version": "1.5.0",
            "_view_name": "HBoxView",
            "box_style": "",
            "children": [
              "IPY_MODEL_647ceda773294a62bce8b60acc226752",
              "IPY_MODEL_dfcd2ecf317541dcb84430361c1981e2",
              "IPY_MODEL_9f4657663ec04645906be7fa823da22b"
            ],
            "layout": "IPY_MODEL_b73508b405964ffd8c86ea8bb875ae63"
          }
        },
        "647ceda773294a62bce8b60acc226752": {
          "model_module": "@jupyter-widgets/controls",
          "model_name": "HTMLModel",
          "model_module_version": "1.5.0",
          "state": {
            "_dom_classes": [],
            "_model_module": "@jupyter-widgets/controls",
            "_model_module_version": "1.5.0",
            "_model_name": "HTMLModel",
            "_view_count": null,
            "_view_module": "@jupyter-widgets/controls",
            "_view_module_version": "1.5.0",
            "_view_name": "HTMLView",
            "description": "",
            "description_tooltip": null,
            "layout": "IPY_MODEL_a5c0ba95a3e241d297bef793216b9ce0",
            "placeholder": "​",
            "style": "IPY_MODEL_f8b64a9dcbd84a1699afb6ce3c4f9e2f",
            "value": "Generating train split: 100%"
          }
        },
        "dfcd2ecf317541dcb84430361c1981e2": {
          "model_module": "@jupyter-widgets/controls",
          "model_name": "FloatProgressModel",
          "model_module_version": "1.5.0",
          "state": {
            "_dom_classes": [],
            "_model_module": "@jupyter-widgets/controls",
            "_model_module_version": "1.5.0",
            "_model_name": "FloatProgressModel",
            "_view_count": null,
            "_view_module": "@jupyter-widgets/controls",
            "_view_module_version": "1.5.0",
            "_view_name": "ProgressView",
            "bar_style": "success",
            "description": "",
            "description_tooltip": null,
            "layout": "IPY_MODEL_795b4c57dd8442d2b06d7d6785776aae",
            "max": 8400,
            "min": 0,
            "orientation": "horizontal",
            "style": "IPY_MODEL_a53ff084868f44e190feb7dd66a4932e",
            "value": 8400
          }
        },
        "9f4657663ec04645906be7fa823da22b": {
          "model_module": "@jupyter-widgets/controls",
          "model_name": "HTMLModel",
          "model_module_version": "1.5.0",
          "state": {
            "_dom_classes": [],
            "_model_module": "@jupyter-widgets/controls",
            "_model_module_version": "1.5.0",
            "_model_name": "HTMLModel",
            "_view_count": null,
            "_view_module": "@jupyter-widgets/controls",
            "_view_module_version": "1.5.0",
            "_view_name": "HTMLView",
            "description": "",
            "description_tooltip": null,
            "layout": "IPY_MODEL_075bb2d80c7e44938978f66cd42c3794",
            "placeholder": "​",
            "style": "IPY_MODEL_a1eb768e0c7949db8b4dc5350fc5c482",
            "value": " 8400/8400 [00:08&lt;00:00, 964.81 examples/s]"
          }
        },
        "b73508b405964ffd8c86ea8bb875ae63": {
          "model_module": "@jupyter-widgets/base",
          "model_name": "LayoutModel",
          "model_module_version": "1.2.0",
          "state": {
            "_model_module": "@jupyter-widgets/base",
            "_model_module_version": "1.2.0",
            "_model_name": "LayoutModel",
            "_view_count": null,
            "_view_module": "@jupyter-widgets/base",
            "_view_module_version": "1.2.0",
            "_view_name": "LayoutView",
            "align_content": null,
            "align_items": null,
            "align_self": null,
            "border": null,
            "bottom": null,
            "display": null,
            "flex": null,
            "flex_flow": null,
            "grid_area": null,
            "grid_auto_columns": null,
            "grid_auto_flow": null,
            "grid_auto_rows": null,
            "grid_column": null,
            "grid_gap": null,
            "grid_row": null,
            "grid_template_areas": null,
            "grid_template_columns": null,
            "grid_template_rows": null,
            "height": null,
            "justify_content": null,
            "justify_items": null,
            "left": null,
            "margin": null,
            "max_height": null,
            "max_width": null,
            "min_height": null,
            "min_width": null,
            "object_fit": null,
            "object_position": null,
            "order": null,
            "overflow": null,
            "overflow_x": null,
            "overflow_y": null,
            "padding": null,
            "right": null,
            "top": null,
            "visibility": null,
            "width": null
          }
        },
        "a5c0ba95a3e241d297bef793216b9ce0": {
          "model_module": "@jupyter-widgets/base",
          "model_name": "LayoutModel",
          "model_module_version": "1.2.0",
          "state": {
            "_model_module": "@jupyter-widgets/base",
            "_model_module_version": "1.2.0",
            "_model_name": "LayoutModel",
            "_view_count": null,
            "_view_module": "@jupyter-widgets/base",
            "_view_module_version": "1.2.0",
            "_view_name": "LayoutView",
            "align_content": null,
            "align_items": null,
            "align_self": null,
            "border": null,
            "bottom": null,
            "display": null,
            "flex": null,
            "flex_flow": null,
            "grid_area": null,
            "grid_auto_columns": null,
            "grid_auto_flow": null,
            "grid_auto_rows": null,
            "grid_column": null,
            "grid_gap": null,
            "grid_row": null,
            "grid_template_areas": null,
            "grid_template_columns": null,
            "grid_template_rows": null,
            "height": null,
            "justify_content": null,
            "justify_items": null,
            "left": null,
            "margin": null,
            "max_height": null,
            "max_width": null,
            "min_height": null,
            "min_width": null,
            "object_fit": null,
            "object_position": null,
            "order": null,
            "overflow": null,
            "overflow_x": null,
            "overflow_y": null,
            "padding": null,
            "right": null,
            "top": null,
            "visibility": null,
            "width": null
          }
        },
        "f8b64a9dcbd84a1699afb6ce3c4f9e2f": {
          "model_module": "@jupyter-widgets/controls",
          "model_name": "DescriptionStyleModel",
          "model_module_version": "1.5.0",
          "state": {
            "_model_module": "@jupyter-widgets/controls",
            "_model_module_version": "1.5.0",
            "_model_name": "DescriptionStyleModel",
            "_view_count": null,
            "_view_module": "@jupyter-widgets/base",
            "_view_module_version": "1.2.0",
            "_view_name": "StyleView",
            "description_width": ""
          }
        },
        "795b4c57dd8442d2b06d7d6785776aae": {
          "model_module": "@jupyter-widgets/base",
          "model_name": "LayoutModel",
          "model_module_version": "1.2.0",
          "state": {
            "_model_module": "@jupyter-widgets/base",
            "_model_module_version": "1.2.0",
            "_model_name": "LayoutModel",
            "_view_count": null,
            "_view_module": "@jupyter-widgets/base",
            "_view_module_version": "1.2.0",
            "_view_name": "LayoutView",
            "align_content": null,
            "align_items": null,
            "align_self": null,
            "border": null,
            "bottom": null,
            "display": null,
            "flex": null,
            "flex_flow": null,
            "grid_area": null,
            "grid_auto_columns": null,
            "grid_auto_flow": null,
            "grid_auto_rows": null,
            "grid_column": null,
            "grid_gap": null,
            "grid_row": null,
            "grid_template_areas": null,
            "grid_template_columns": null,
            "grid_template_rows": null,
            "height": null,
            "justify_content": null,
            "justify_items": null,
            "left": null,
            "margin": null,
            "max_height": null,
            "max_width": null,
            "min_height": null,
            "min_width": null,
            "object_fit": null,
            "object_position": null,
            "order": null,
            "overflow": null,
            "overflow_x": null,
            "overflow_y": null,
            "padding": null,
            "right": null,
            "top": null,
            "visibility": null,
            "width": null
          }
        },
        "a53ff084868f44e190feb7dd66a4932e": {
          "model_module": "@jupyter-widgets/controls",
          "model_name": "ProgressStyleModel",
          "model_module_version": "1.5.0",
          "state": {
            "_model_module": "@jupyter-widgets/controls",
            "_model_module_version": "1.5.0",
            "_model_name": "ProgressStyleModel",
            "_view_count": null,
            "_view_module": "@jupyter-widgets/base",
            "_view_module_version": "1.2.0",
            "_view_name": "StyleView",
            "bar_color": null,
            "description_width": ""
          }
        },
        "075bb2d80c7e44938978f66cd42c3794": {
          "model_module": "@jupyter-widgets/base",
          "model_name": "LayoutModel",
          "model_module_version": "1.2.0",
          "state": {
            "_model_module": "@jupyter-widgets/base",
            "_model_module_version": "1.2.0",
            "_model_name": "LayoutModel",
            "_view_count": null,
            "_view_module": "@jupyter-widgets/base",
            "_view_module_version": "1.2.0",
            "_view_name": "LayoutView",
            "align_content": null,
            "align_items": null,
            "align_self": null,
            "border": null,
            "bottom": null,
            "display": null,
            "flex": null,
            "flex_flow": null,
            "grid_area": null,
            "grid_auto_columns": null,
            "grid_auto_flow": null,
            "grid_auto_rows": null,
            "grid_column": null,
            "grid_gap": null,
            "grid_row": null,
            "grid_template_areas": null,
            "grid_template_columns": null,
            "grid_template_rows": null,
            "height": null,
            "justify_content": null,
            "justify_items": null,
            "left": null,
            "margin": null,
            "max_height": null,
            "max_width": null,
            "min_height": null,
            "min_width": null,
            "object_fit": null,
            "object_position": null,
            "order": null,
            "overflow": null,
            "overflow_x": null,
            "overflow_y": null,
            "padding": null,
            "right": null,
            "top": null,
            "visibility": null,
            "width": null
          }
        },
        "a1eb768e0c7949db8b4dc5350fc5c482": {
          "model_module": "@jupyter-widgets/controls",
          "model_name": "DescriptionStyleModel",
          "model_module_version": "1.5.0",
          "state": {
            "_model_module": "@jupyter-widgets/controls",
            "_model_module_version": "1.5.0",
            "_model_name": "DescriptionStyleModel",
            "_view_count": null,
            "_view_module": "@jupyter-widgets/base",
            "_view_module_version": "1.2.0",
            "_view_name": "StyleView",
            "description_width": ""
          }
        },
        "8f87d11abade41e0b454c8edec28b011": {
          "model_module": "@jupyter-widgets/controls",
          "model_name": "HBoxModel",
          "model_module_version": "1.5.0",
          "state": {
            "_dom_classes": [],
            "_model_module": "@jupyter-widgets/controls",
            "_model_module_version": "1.5.0",
            "_model_name": "HBoxModel",
            "_view_count": null,
            "_view_module": "@jupyter-widgets/controls",
            "_view_module_version": "1.5.0",
            "_view_name": "HBoxView",
            "box_style": "",
            "children": [
              "IPY_MODEL_3cfe9cf533224a5d82855071e94b02ec",
              "IPY_MODEL_0b598b36bc874e1d84e6f09128938520",
              "IPY_MODEL_a1c63f3346b8498c915811e617f58885"
            ],
            "layout": "IPY_MODEL_7c0f5c5700264ab4b0f38d4d41a100f5"
          }
        },
        "3cfe9cf533224a5d82855071e94b02ec": {
          "model_module": "@jupyter-widgets/controls",
          "model_name": "HTMLModel",
          "model_module_version": "1.5.0",
          "state": {
            "_dom_classes": [],
            "_model_module": "@jupyter-widgets/controls",
            "_model_module_version": "1.5.0",
            "_model_name": "HTMLModel",
            "_view_count": null,
            "_view_module": "@jupyter-widgets/controls",
            "_view_module_version": "1.5.0",
            "_view_name": "HTMLView",
            "description": "",
            "description_tooltip": null,
            "layout": "IPY_MODEL_1af2f9684342404d86cee4cb63726fa7",
            "placeholder": "​",
            "style": "IPY_MODEL_1808ff976fac40f99b7a0264e17f03d3",
            "value": "Downloading (…)e/main/id2label.json: 100%"
          }
        },
        "0b598b36bc874e1d84e6f09128938520": {
          "model_module": "@jupyter-widgets/controls",
          "model_name": "FloatProgressModel",
          "model_module_version": "1.5.0",
          "state": {
            "_dom_classes": [],
            "_model_module": "@jupyter-widgets/controls",
            "_model_module_version": "1.5.0",
            "_model_name": "FloatProgressModel",
            "_view_count": null,
            "_view_module": "@jupyter-widgets/controls",
            "_view_module_version": "1.5.0",
            "_view_name": "ProgressView",
            "bar_style": "success",
            "description": "",
            "description_tooltip": null,
            "layout": "IPY_MODEL_d3780d00e9c94c42a09934ddb7df3ebb",
            "max": 32,
            "min": 0,
            "orientation": "horizontal",
            "style": "IPY_MODEL_766b70fc7ffd453491a8bb00196d3209",
            "value": 32
          }
        },
        "a1c63f3346b8498c915811e617f58885": {
          "model_module": "@jupyter-widgets/controls",
          "model_name": "HTMLModel",
          "model_module_version": "1.5.0",
          "state": {
            "_dom_classes": [],
            "_model_module": "@jupyter-widgets/controls",
            "_model_module_version": "1.5.0",
            "_model_name": "HTMLModel",
            "_view_count": null,
            "_view_module": "@jupyter-widgets/controls",
            "_view_module_version": "1.5.0",
            "_view_name": "HTMLView",
            "description": "",
            "description_tooltip": null,
            "layout": "IPY_MODEL_546e6a99ab664f1ba8fe24c27a56a615",
            "placeholder": "​",
            "style": "IPY_MODEL_0cbb768c07ff4f1b9846ab8ac6fc044c",
            "value": " 32.0/32.0 [00:00&lt;00:00, 1.42kB/s]"
          }
        },
        "7c0f5c5700264ab4b0f38d4d41a100f5": {
          "model_module": "@jupyter-widgets/base",
          "model_name": "LayoutModel",
          "model_module_version": "1.2.0",
          "state": {
            "_model_module": "@jupyter-widgets/base",
            "_model_module_version": "1.2.0",
            "_model_name": "LayoutModel",
            "_view_count": null,
            "_view_module": "@jupyter-widgets/base",
            "_view_module_version": "1.2.0",
            "_view_name": "LayoutView",
            "align_content": null,
            "align_items": null,
            "align_self": null,
            "border": null,
            "bottom": null,
            "display": null,
            "flex": null,
            "flex_flow": null,
            "grid_area": null,
            "grid_auto_columns": null,
            "grid_auto_flow": null,
            "grid_auto_rows": null,
            "grid_column": null,
            "grid_gap": null,
            "grid_row": null,
            "grid_template_areas": null,
            "grid_template_columns": null,
            "grid_template_rows": null,
            "height": null,
            "justify_content": null,
            "justify_items": null,
            "left": null,
            "margin": null,
            "max_height": null,
            "max_width": null,
            "min_height": null,
            "min_width": null,
            "object_fit": null,
            "object_position": null,
            "order": null,
            "overflow": null,
            "overflow_x": null,
            "overflow_y": null,
            "padding": null,
            "right": null,
            "top": null,
            "visibility": null,
            "width": null
          }
        },
        "1af2f9684342404d86cee4cb63726fa7": {
          "model_module": "@jupyter-widgets/base",
          "model_name": "LayoutModel",
          "model_module_version": "1.2.0",
          "state": {
            "_model_module": "@jupyter-widgets/base",
            "_model_module_version": "1.2.0",
            "_model_name": "LayoutModel",
            "_view_count": null,
            "_view_module": "@jupyter-widgets/base",
            "_view_module_version": "1.2.0",
            "_view_name": "LayoutView",
            "align_content": null,
            "align_items": null,
            "align_self": null,
            "border": null,
            "bottom": null,
            "display": null,
            "flex": null,
            "flex_flow": null,
            "grid_area": null,
            "grid_auto_columns": null,
            "grid_auto_flow": null,
            "grid_auto_rows": null,
            "grid_column": null,
            "grid_gap": null,
            "grid_row": null,
            "grid_template_areas": null,
            "grid_template_columns": null,
            "grid_template_rows": null,
            "height": null,
            "justify_content": null,
            "justify_items": null,
            "left": null,
            "margin": null,
            "max_height": null,
            "max_width": null,
            "min_height": null,
            "min_width": null,
            "object_fit": null,
            "object_position": null,
            "order": null,
            "overflow": null,
            "overflow_x": null,
            "overflow_y": null,
            "padding": null,
            "right": null,
            "top": null,
            "visibility": null,
            "width": null
          }
        },
        "1808ff976fac40f99b7a0264e17f03d3": {
          "model_module": "@jupyter-widgets/controls",
          "model_name": "DescriptionStyleModel",
          "model_module_version": "1.5.0",
          "state": {
            "_model_module": "@jupyter-widgets/controls",
            "_model_module_version": "1.5.0",
            "_model_name": "DescriptionStyleModel",
            "_view_count": null,
            "_view_module": "@jupyter-widgets/base",
            "_view_module_version": "1.2.0",
            "_view_name": "StyleView",
            "description_width": ""
          }
        },
        "d3780d00e9c94c42a09934ddb7df3ebb": {
          "model_module": "@jupyter-widgets/base",
          "model_name": "LayoutModel",
          "model_module_version": "1.2.0",
          "state": {
            "_model_module": "@jupyter-widgets/base",
            "_model_module_version": "1.2.0",
            "_model_name": "LayoutModel",
            "_view_count": null,
            "_view_module": "@jupyter-widgets/base",
            "_view_module_version": "1.2.0",
            "_view_name": "LayoutView",
            "align_content": null,
            "align_items": null,
            "align_self": null,
            "border": null,
            "bottom": null,
            "display": null,
            "flex": null,
            "flex_flow": null,
            "grid_area": null,
            "grid_auto_columns": null,
            "grid_auto_flow": null,
            "grid_auto_rows": null,
            "grid_column": null,
            "grid_gap": null,
            "grid_row": null,
            "grid_template_areas": null,
            "grid_template_columns": null,
            "grid_template_rows": null,
            "height": null,
            "justify_content": null,
            "justify_items": null,
            "left": null,
            "margin": null,
            "max_height": null,
            "max_width": null,
            "min_height": null,
            "min_width": null,
            "object_fit": null,
            "object_position": null,
            "order": null,
            "overflow": null,
            "overflow_x": null,
            "overflow_y": null,
            "padding": null,
            "right": null,
            "top": null,
            "visibility": null,
            "width": null
          }
        },
        "766b70fc7ffd453491a8bb00196d3209": {
          "model_module": "@jupyter-widgets/controls",
          "model_name": "ProgressStyleModel",
          "model_module_version": "1.5.0",
          "state": {
            "_model_module": "@jupyter-widgets/controls",
            "_model_module_version": "1.5.0",
            "_model_name": "ProgressStyleModel",
            "_view_count": null,
            "_view_module": "@jupyter-widgets/base",
            "_view_module_version": "1.2.0",
            "_view_name": "StyleView",
            "bar_color": null,
            "description_width": ""
          }
        },
        "546e6a99ab664f1ba8fe24c27a56a615": {
          "model_module": "@jupyter-widgets/base",
          "model_name": "LayoutModel",
          "model_module_version": "1.2.0",
          "state": {
            "_model_module": "@jupyter-widgets/base",
            "_model_module_version": "1.2.0",
            "_model_name": "LayoutModel",
            "_view_count": null,
            "_view_module": "@jupyter-widgets/base",
            "_view_module_version": "1.2.0",
            "_view_name": "LayoutView",
            "align_content": null,
            "align_items": null,
            "align_self": null,
            "border": null,
            "bottom": null,
            "display": null,
            "flex": null,
            "flex_flow": null,
            "grid_area": null,
            "grid_auto_columns": null,
            "grid_auto_flow": null,
            "grid_auto_rows": null,
            "grid_column": null,
            "grid_gap": null,
            "grid_row": null,
            "grid_template_areas": null,
            "grid_template_columns": null,
            "grid_template_rows": null,
            "height": null,
            "justify_content": null,
            "justify_items": null,
            "left": null,
            "margin": null,
            "max_height": null,
            "max_width": null,
            "min_height": null,
            "min_width": null,
            "object_fit": null,
            "object_position": null,
            "order": null,
            "overflow": null,
            "overflow_x": null,
            "overflow_y": null,
            "padding": null,
            "right": null,
            "top": null,
            "visibility": null,
            "width": null
          }
        },
        "0cbb768c07ff4f1b9846ab8ac6fc044c": {
          "model_module": "@jupyter-widgets/controls",
          "model_name": "DescriptionStyleModel",
          "model_module_version": "1.5.0",
          "state": {
            "_model_module": "@jupyter-widgets/controls",
            "_model_module_version": "1.5.0",
            "_model_name": "DescriptionStyleModel",
            "_view_count": null,
            "_view_module": "@jupyter-widgets/base",
            "_view_module_version": "1.2.0",
            "_view_name": "StyleView",
            "description_width": ""
          }
        },
        "363c878a85024ca1b283aa611a850927": {
          "model_module": "@jupyter-widgets/controls",
          "model_name": "HBoxModel",
          "model_module_version": "1.5.0",
          "state": {
            "_dom_classes": [],
            "_model_module": "@jupyter-widgets/controls",
            "_model_module_version": "1.5.0",
            "_model_name": "HBoxModel",
            "_view_count": null,
            "_view_module": "@jupyter-widgets/controls",
            "_view_module_version": "1.5.0",
            "_view_name": "HBoxView",
            "box_style": "",
            "children": [
              "IPY_MODEL_787ea656e9624b1897e876d5a5355874",
              "IPY_MODEL_acb362a67d8c48f985c492fd5aaa7c54",
              "IPY_MODEL_777b7f661b44412d871f94c72f4b7e58"
            ],
            "layout": "IPY_MODEL_3098cb92cdb64525bbecde24542d7548"
          }
        },
        "787ea656e9624b1897e876d5a5355874": {
          "model_module": "@jupyter-widgets/controls",
          "model_name": "HTMLModel",
          "model_module_version": "1.5.0",
          "state": {
            "_dom_classes": [],
            "_model_module": "@jupyter-widgets/controls",
            "_model_module_version": "1.5.0",
            "_model_name": "HTMLModel",
            "_view_count": null,
            "_view_module": "@jupyter-widgets/controls",
            "_view_module_version": "1.5.0",
            "_view_name": "HTMLView",
            "description": "",
            "description_tooltip": null,
            "layout": "IPY_MODEL_d039af466a1443a39a5b2567a1cc655c",
            "placeholder": "​",
            "style": "IPY_MODEL_5d431f08fb324b3c9d98f564bdb2b8ef",
            "value": ""
          }
        },
        "acb362a67d8c48f985c492fd5aaa7c54": {
          "model_module": "@jupyter-widgets/controls",
          "model_name": "FloatProgressModel",
          "model_module_version": "1.5.0",
          "state": {
            "_dom_classes": [],
            "_model_module": "@jupyter-widgets/controls",
            "_model_module_version": "1.5.0",
            "_model_name": "FloatProgressModel",
            "_view_count": null,
            "_view_module": "@jupyter-widgets/controls",
            "_view_module_version": "1.5.0",
            "_view_name": "ProgressView",
            "bar_style": "success",
            "description": "",
            "description_tooltip": null,
            "layout": "IPY_MODEL_6637bb3d53994faaacdf1a5b91e1d102",
            "max": 1,
            "min": 0,
            "orientation": "horizontal",
            "style": "IPY_MODEL_345ffcbaaf5c438db60359c020ade8f1",
            "value": 0
          }
        },
        "777b7f661b44412d871f94c72f4b7e58": {
          "model_module": "@jupyter-widgets/controls",
          "model_name": "HTMLModel",
          "model_module_version": "1.5.0",
          "state": {
            "_dom_classes": [],
            "_model_module": "@jupyter-widgets/controls",
            "_model_module_version": "1.5.0",
            "_model_name": "HTMLModel",
            "_view_count": null,
            "_view_module": "@jupyter-widgets/controls",
            "_view_module_version": "1.5.0",
            "_view_name": "HTMLView",
            "description": "",
            "description_tooltip": null,
            "layout": "IPY_MODEL_ae616b49a62442d9826ad12c711f16e1",
            "placeholder": "​",
            "style": "IPY_MODEL_6b94a3e97e2e4b8d913a6bb9489f754e",
            "value": " 0/0 [00:00&lt;?, ?it/s]"
          }
        },
        "3098cb92cdb64525bbecde24542d7548": {
          "model_module": "@jupyter-widgets/base",
          "model_name": "LayoutModel",
          "model_module_version": "1.2.0",
          "state": {
            "_model_module": "@jupyter-widgets/base",
            "_model_module_version": "1.2.0",
            "_model_name": "LayoutModel",
            "_view_count": null,
            "_view_module": "@jupyter-widgets/base",
            "_view_module_version": "1.2.0",
            "_view_name": "LayoutView",
            "align_content": null,
            "align_items": null,
            "align_self": null,
            "border": null,
            "bottom": null,
            "display": null,
            "flex": null,
            "flex_flow": null,
            "grid_area": null,
            "grid_auto_columns": null,
            "grid_auto_flow": null,
            "grid_auto_rows": null,
            "grid_column": null,
            "grid_gap": null,
            "grid_row": null,
            "grid_template_areas": null,
            "grid_template_columns": null,
            "grid_template_rows": null,
            "height": null,
            "justify_content": null,
            "justify_items": null,
            "left": null,
            "margin": null,
            "max_height": null,
            "max_width": null,
            "min_height": null,
            "min_width": null,
            "object_fit": null,
            "object_position": null,
            "order": null,
            "overflow": null,
            "overflow_x": null,
            "overflow_y": null,
            "padding": null,
            "right": null,
            "top": null,
            "visibility": null,
            "width": null
          }
        },
        "d039af466a1443a39a5b2567a1cc655c": {
          "model_module": "@jupyter-widgets/base",
          "model_name": "LayoutModel",
          "model_module_version": "1.2.0",
          "state": {
            "_model_module": "@jupyter-widgets/base",
            "_model_module_version": "1.2.0",
            "_model_name": "LayoutModel",
            "_view_count": null,
            "_view_module": "@jupyter-widgets/base",
            "_view_module_version": "1.2.0",
            "_view_name": "LayoutView",
            "align_content": null,
            "align_items": null,
            "align_self": null,
            "border": null,
            "bottom": null,
            "display": null,
            "flex": null,
            "flex_flow": null,
            "grid_area": null,
            "grid_auto_columns": null,
            "grid_auto_flow": null,
            "grid_auto_rows": null,
            "grid_column": null,
            "grid_gap": null,
            "grid_row": null,
            "grid_template_areas": null,
            "grid_template_columns": null,
            "grid_template_rows": null,
            "height": null,
            "justify_content": null,
            "justify_items": null,
            "left": null,
            "margin": null,
            "max_height": null,
            "max_width": null,
            "min_height": null,
            "min_width": null,
            "object_fit": null,
            "object_position": null,
            "order": null,
            "overflow": null,
            "overflow_x": null,
            "overflow_y": null,
            "padding": null,
            "right": null,
            "top": null,
            "visibility": null,
            "width": null
          }
        },
        "5d431f08fb324b3c9d98f564bdb2b8ef": {
          "model_module": "@jupyter-widgets/controls",
          "model_name": "DescriptionStyleModel",
          "model_module_version": "1.5.0",
          "state": {
            "_model_module": "@jupyter-widgets/controls",
            "_model_module_version": "1.5.0",
            "_model_name": "DescriptionStyleModel",
            "_view_count": null,
            "_view_module": "@jupyter-widgets/base",
            "_view_module_version": "1.2.0",
            "_view_name": "StyleView",
            "description_width": ""
          }
        },
        "6637bb3d53994faaacdf1a5b91e1d102": {
          "model_module": "@jupyter-widgets/base",
          "model_name": "LayoutModel",
          "model_module_version": "1.2.0",
          "state": {
            "_model_module": "@jupyter-widgets/base",
            "_model_module_version": "1.2.0",
            "_model_name": "LayoutModel",
            "_view_count": null,
            "_view_module": "@jupyter-widgets/base",
            "_view_module_version": "1.2.0",
            "_view_name": "LayoutView",
            "align_content": null,
            "align_items": null,
            "align_self": null,
            "border": null,
            "bottom": null,
            "display": null,
            "flex": null,
            "flex_flow": null,
            "grid_area": null,
            "grid_auto_columns": null,
            "grid_auto_flow": null,
            "grid_auto_rows": null,
            "grid_column": null,
            "grid_gap": null,
            "grid_row": null,
            "grid_template_areas": null,
            "grid_template_columns": null,
            "grid_template_rows": null,
            "height": null,
            "justify_content": null,
            "justify_items": null,
            "left": null,
            "margin": null,
            "max_height": null,
            "max_width": null,
            "min_height": null,
            "min_width": null,
            "object_fit": null,
            "object_position": null,
            "order": null,
            "overflow": null,
            "overflow_x": null,
            "overflow_y": null,
            "padding": null,
            "right": null,
            "top": null,
            "visibility": null,
            "width": "20px"
          }
        },
        "345ffcbaaf5c438db60359c020ade8f1": {
          "model_module": "@jupyter-widgets/controls",
          "model_name": "ProgressStyleModel",
          "model_module_version": "1.5.0",
          "state": {
            "_model_module": "@jupyter-widgets/controls",
            "_model_module_version": "1.5.0",
            "_model_name": "ProgressStyleModel",
            "_view_count": null,
            "_view_module": "@jupyter-widgets/base",
            "_view_module_version": "1.2.0",
            "_view_name": "StyleView",
            "bar_color": null,
            "description_width": ""
          }
        },
        "ae616b49a62442d9826ad12c711f16e1": {
          "model_module": "@jupyter-widgets/base",
          "model_name": "LayoutModel",
          "model_module_version": "1.2.0",
          "state": {
            "_model_module": "@jupyter-widgets/base",
            "_model_module_version": "1.2.0",
            "_model_name": "LayoutModel",
            "_view_count": null,
            "_view_module": "@jupyter-widgets/base",
            "_view_module_version": "1.2.0",
            "_view_name": "LayoutView",
            "align_content": null,
            "align_items": null,
            "align_self": null,
            "border": null,
            "bottom": null,
            "display": null,
            "flex": null,
            "flex_flow": null,
            "grid_area": null,
            "grid_auto_columns": null,
            "grid_auto_flow": null,
            "grid_auto_rows": null,
            "grid_column": null,
            "grid_gap": null,
            "grid_row": null,
            "grid_template_areas": null,
            "grid_template_columns": null,
            "grid_template_rows": null,
            "height": null,
            "justify_content": null,
            "justify_items": null,
            "left": null,
            "margin": null,
            "max_height": null,
            "max_width": null,
            "min_height": null,
            "min_width": null,
            "object_fit": null,
            "object_position": null,
            "order": null,
            "overflow": null,
            "overflow_x": null,
            "overflow_y": null,
            "padding": null,
            "right": null,
            "top": null,
            "visibility": null,
            "width": null
          }
        },
        "6b94a3e97e2e4b8d913a6bb9489f754e": {
          "model_module": "@jupyter-widgets/controls",
          "model_name": "DescriptionStyleModel",
          "model_module_version": "1.5.0",
          "state": {
            "_model_module": "@jupyter-widgets/controls",
            "_model_module_version": "1.5.0",
            "_model_name": "DescriptionStyleModel",
            "_view_count": null,
            "_view_module": "@jupyter-widgets/base",
            "_view_module_version": "1.2.0",
            "_view_name": "StyleView",
            "description_width": ""
          }
        },
        "8be31029178a406bb2bff9b2894be669": {
          "model_module": "@jupyter-widgets/controls",
          "model_name": "HBoxModel",
          "model_module_version": "1.5.0",
          "state": {
            "_dom_classes": [],
            "_model_module": "@jupyter-widgets/controls",
            "_model_module_version": "1.5.0",
            "_model_name": "HBoxModel",
            "_view_count": null,
            "_view_module": "@jupyter-widgets/controls",
            "_view_module_version": "1.5.0",
            "_view_name": "HBoxView",
            "box_style": "",
            "children": [
              "IPY_MODEL_4ffaa9b1d25944e19f52408d8670254d",
              "IPY_MODEL_8347c1d871d742cb8f61b245b46f81c0",
              "IPY_MODEL_c9f8716a4f4d4bc9916ca3c2c1b8eac1"
            ],
            "layout": "IPY_MODEL_3517132382fa40ee93d761cbb7f53b1d"
          }
        },
        "4ffaa9b1d25944e19f52408d8670254d": {
          "model_module": "@jupyter-widgets/controls",
          "model_name": "HTMLModel",
          "model_module_version": "1.5.0",
          "state": {
            "_dom_classes": [],
            "_model_module": "@jupyter-widgets/controls",
            "_model_module_version": "1.5.0",
            "_model_name": "HTMLModel",
            "_view_count": null,
            "_view_module": "@jupyter-widgets/controls",
            "_view_module_version": "1.5.0",
            "_view_name": "HTMLView",
            "description": "",
            "description_tooltip": null,
            "layout": "IPY_MODEL_b810b139a25f4c47bdd6113c3d87678c",
            "placeholder": "​",
            "style": "IPY_MODEL_4b1ec42c42b54b749d73ea6a2de35793",
            "value": "  0%"
          }
        },
        "8347c1d871d742cb8f61b245b46f81c0": {
          "model_module": "@jupyter-widgets/controls",
          "model_name": "FloatProgressModel",
          "model_module_version": "1.5.0",
          "state": {
            "_dom_classes": [],
            "_model_module": "@jupyter-widgets/controls",
            "_model_module_version": "1.5.0",
            "_model_name": "FloatProgressModel",
            "_view_count": null,
            "_view_module": "@jupyter-widgets/controls",
            "_view_module_version": "1.5.0",
            "_view_name": "ProgressView",
            "bar_style": "danger",
            "description": "",
            "description_tooltip": null,
            "layout": "IPY_MODEL_47ab7222367b44498fe0c060252878cc",
            "max": 7560,
            "min": 0,
            "orientation": "horizontal",
            "style": "IPY_MODEL_e98f6c22ec40427b8238b2fa9fd0a718",
            "value": 8
          }
        },
        "c9f8716a4f4d4bc9916ca3c2c1b8eac1": {
          "model_module": "@jupyter-widgets/controls",
          "model_name": "HTMLModel",
          "model_module_version": "1.5.0",
          "state": {
            "_dom_classes": [],
            "_model_module": "@jupyter-widgets/controls",
            "_model_module_version": "1.5.0",
            "_model_name": "HTMLModel",
            "_view_count": null,
            "_view_module": "@jupyter-widgets/controls",
            "_view_module_version": "1.5.0",
            "_view_name": "HTMLView",
            "description": "",
            "description_tooltip": null,
            "layout": "IPY_MODEL_66d460314eab4ad39bd86b9abbfadd7f",
            "placeholder": "​",
            "style": "IPY_MODEL_0ef77ebeaee140c0b57f6830de67cdf5",
            "value": " 8/7560 [00:54&lt;13:28:40,  6.42s/it]"
          }
        },
        "3517132382fa40ee93d761cbb7f53b1d": {
          "model_module": "@jupyter-widgets/base",
          "model_name": "LayoutModel",
          "model_module_version": "1.2.0",
          "state": {
            "_model_module": "@jupyter-widgets/base",
            "_model_module_version": "1.2.0",
            "_model_name": "LayoutModel",
            "_view_count": null,
            "_view_module": "@jupyter-widgets/base",
            "_view_module_version": "1.2.0",
            "_view_name": "LayoutView",
            "align_content": null,
            "align_items": null,
            "align_self": null,
            "border": null,
            "bottom": null,
            "display": null,
            "flex": null,
            "flex_flow": null,
            "grid_area": null,
            "grid_auto_columns": null,
            "grid_auto_flow": null,
            "grid_auto_rows": null,
            "grid_column": null,
            "grid_gap": null,
            "grid_row": null,
            "grid_template_areas": null,
            "grid_template_columns": null,
            "grid_template_rows": null,
            "height": null,
            "justify_content": null,
            "justify_items": null,
            "left": null,
            "margin": null,
            "max_height": null,
            "max_width": null,
            "min_height": null,
            "min_width": null,
            "object_fit": null,
            "object_position": null,
            "order": null,
            "overflow": null,
            "overflow_x": null,
            "overflow_y": null,
            "padding": null,
            "right": null,
            "top": null,
            "visibility": null,
            "width": null
          }
        },
        "b810b139a25f4c47bdd6113c3d87678c": {
          "model_module": "@jupyter-widgets/base",
          "model_name": "LayoutModel",
          "model_module_version": "1.2.0",
          "state": {
            "_model_module": "@jupyter-widgets/base",
            "_model_module_version": "1.2.0",
            "_model_name": "LayoutModel",
            "_view_count": null,
            "_view_module": "@jupyter-widgets/base",
            "_view_module_version": "1.2.0",
            "_view_name": "LayoutView",
            "align_content": null,
            "align_items": null,
            "align_self": null,
            "border": null,
            "bottom": null,
            "display": null,
            "flex": null,
            "flex_flow": null,
            "grid_area": null,
            "grid_auto_columns": null,
            "grid_auto_flow": null,
            "grid_auto_rows": null,
            "grid_column": null,
            "grid_gap": null,
            "grid_row": null,
            "grid_template_areas": null,
            "grid_template_columns": null,
            "grid_template_rows": null,
            "height": null,
            "justify_content": null,
            "justify_items": null,
            "left": null,
            "margin": null,
            "max_height": null,
            "max_width": null,
            "min_height": null,
            "min_width": null,
            "object_fit": null,
            "object_position": null,
            "order": null,
            "overflow": null,
            "overflow_x": null,
            "overflow_y": null,
            "padding": null,
            "right": null,
            "top": null,
            "visibility": null,
            "width": null
          }
        },
        "4b1ec42c42b54b749d73ea6a2de35793": {
          "model_module": "@jupyter-widgets/controls",
          "model_name": "DescriptionStyleModel",
          "model_module_version": "1.5.0",
          "state": {
            "_model_module": "@jupyter-widgets/controls",
            "_model_module_version": "1.5.0",
            "_model_name": "DescriptionStyleModel",
            "_view_count": null,
            "_view_module": "@jupyter-widgets/base",
            "_view_module_version": "1.2.0",
            "_view_name": "StyleView",
            "description_width": ""
          }
        },
        "47ab7222367b44498fe0c060252878cc": {
          "model_module": "@jupyter-widgets/base",
          "model_name": "LayoutModel",
          "model_module_version": "1.2.0",
          "state": {
            "_model_module": "@jupyter-widgets/base",
            "_model_module_version": "1.2.0",
            "_model_name": "LayoutModel",
            "_view_count": null,
            "_view_module": "@jupyter-widgets/base",
            "_view_module_version": "1.2.0",
            "_view_name": "LayoutView",
            "align_content": null,
            "align_items": null,
            "align_self": null,
            "border": null,
            "bottom": null,
            "display": null,
            "flex": null,
            "flex_flow": null,
            "grid_area": null,
            "grid_auto_columns": null,
            "grid_auto_flow": null,
            "grid_auto_rows": null,
            "grid_column": null,
            "grid_gap": null,
            "grid_row": null,
            "grid_template_areas": null,
            "grid_template_columns": null,
            "grid_template_rows": null,
            "height": null,
            "justify_content": null,
            "justify_items": null,
            "left": null,
            "margin": null,
            "max_height": null,
            "max_width": null,
            "min_height": null,
            "min_width": null,
            "object_fit": null,
            "object_position": null,
            "order": null,
            "overflow": null,
            "overflow_x": null,
            "overflow_y": null,
            "padding": null,
            "right": null,
            "top": null,
            "visibility": null,
            "width": null
          }
        },
        "e98f6c22ec40427b8238b2fa9fd0a718": {
          "model_module": "@jupyter-widgets/controls",
          "model_name": "ProgressStyleModel",
          "model_module_version": "1.5.0",
          "state": {
            "_model_module": "@jupyter-widgets/controls",
            "_model_module_version": "1.5.0",
            "_model_name": "ProgressStyleModel",
            "_view_count": null,
            "_view_module": "@jupyter-widgets/base",
            "_view_module_version": "1.2.0",
            "_view_name": "StyleView",
            "bar_color": null,
            "description_width": ""
          }
        },
        "66d460314eab4ad39bd86b9abbfadd7f": {
          "model_module": "@jupyter-widgets/base",
          "model_name": "LayoutModel",
          "model_module_version": "1.2.0",
          "state": {
            "_model_module": "@jupyter-widgets/base",
            "_model_module_version": "1.2.0",
            "_model_name": "LayoutModel",
            "_view_count": null,
            "_view_module": "@jupyter-widgets/base",
            "_view_module_version": "1.2.0",
            "_view_name": "LayoutView",
            "align_content": null,
            "align_items": null,
            "align_self": null,
            "border": null,
            "bottom": null,
            "display": null,
            "flex": null,
            "flex_flow": null,
            "grid_area": null,
            "grid_auto_columns": null,
            "grid_auto_flow": null,
            "grid_auto_rows": null,
            "grid_column": null,
            "grid_gap": null,
            "grid_row": null,
            "grid_template_areas": null,
            "grid_template_columns": null,
            "grid_template_rows": null,
            "height": null,
            "justify_content": null,
            "justify_items": null,
            "left": null,
            "margin": null,
            "max_height": null,
            "max_width": null,
            "min_height": null,
            "min_width": null,
            "object_fit": null,
            "object_position": null,
            "order": null,
            "overflow": null,
            "overflow_x": null,
            "overflow_y": null,
            "padding": null,
            "right": null,
            "top": null,
            "visibility": null,
            "width": null
          }
        },
        "0ef77ebeaee140c0b57f6830de67cdf5": {
          "model_module": "@jupyter-widgets/controls",
          "model_name": "DescriptionStyleModel",
          "model_module_version": "1.5.0",
          "state": {
            "_model_module": "@jupyter-widgets/controls",
            "_model_module_version": "1.5.0",
            "_model_name": "DescriptionStyleModel",
            "_view_count": null,
            "_view_module": "@jupyter-widgets/base",
            "_view_module_version": "1.2.0",
            "_view_name": "StyleView",
            "description_width": ""
          }
        }
      }
    }
  },
  "nbformat": 4,
  "nbformat_minor": 0
}
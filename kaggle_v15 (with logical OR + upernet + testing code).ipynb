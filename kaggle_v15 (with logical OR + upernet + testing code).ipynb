{
  "metadata": {
    "kernelspec": {
      "display_name": "Python 3",
      "name": "python3"
    },
    "language_info": {
      "name": "python",
      "version": "3.10.12",
      "mimetype": "text/x-python",
      "codemirror_mode": {
        "name": "ipython",
        "version": 3
      },
      "pygments_lexer": "ipython3",
      "nbconvert_exporter": "python",
      "file_extension": ".py"
    },
    "colab": {
      "provenance": [],
      "gpuType": "T4"
    },
    "accelerator": "GPU",
    "widgets": {
      "application/vnd.jupyter.widget-state+json": {
        "3d30eaef755f4b2cb70f16f214dee18f": {
          "model_module": "@jupyter-widgets/controls",
          "model_name": "HBoxModel",
          "model_module_version": "1.5.0",
          "state": {
            "_dom_classes": [],
            "_model_module": "@jupyter-widgets/controls",
            "_model_module_version": "1.5.0",
            "_model_name": "HBoxModel",
            "_view_count": null,
            "_view_module": "@jupyter-widgets/controls",
            "_view_module_version": "1.5.0",
            "_view_name": "HBoxView",
            "box_style": "",
            "children": [
              "IPY_MODEL_39f239d0a23b43afa735e1e7b579c166",
              "IPY_MODEL_c735c17c4bf644e3ad7eec0e73b3cfc8",
              "IPY_MODEL_b46bfac4311c44b4b97844d82f4614e5"
            ],
            "layout": "IPY_MODEL_0198c9c758f44049a244da8d4ed53ad3"
          }
        },
        "39f239d0a23b43afa735e1e7b579c166": {
          "model_module": "@jupyter-widgets/controls",
          "model_name": "HTMLModel",
          "model_module_version": "1.5.0",
          "state": {
            "_dom_classes": [],
            "_model_module": "@jupyter-widgets/controls",
            "_model_module_version": "1.5.0",
            "_model_name": "HTMLModel",
            "_view_count": null,
            "_view_module": "@jupyter-widgets/controls",
            "_view_module_version": "1.5.0",
            "_view_name": "HTMLView",
            "description": "",
            "description_tooltip": null,
            "layout": "IPY_MODEL_9cf37daaee2d412f9ccf960ef675ad0f",
            "placeholder": "​",
            "style": "IPY_MODEL_90469943fdaa43dd8cbf7e77a0b70b39",
            "value": " 27%"
          }
        },
        "c735c17c4bf644e3ad7eec0e73b3cfc8": {
          "model_module": "@jupyter-widgets/controls",
          "model_name": "FloatProgressModel",
          "model_module_version": "1.5.0",
          "state": {
            "_dom_classes": [],
            "_model_module": "@jupyter-widgets/controls",
            "_model_module_version": "1.5.0",
            "_model_name": "FloatProgressModel",
            "_view_count": null,
            "_view_module": "@jupyter-widgets/controls",
            "_view_module_version": "1.5.0",
            "_view_name": "ProgressView",
            "bar_style": "danger",
            "description": "",
            "description_tooltip": null,
            "layout": "IPY_MODEL_a6035f8cacb641b3a729ee850fb44514",
            "max": 4158,
            "min": 0,
            "orientation": "horizontal",
            "style": "IPY_MODEL_fc10412027fc459c98395510ee0ce8c4",
            "value": 1126
          }
        },
        "b46bfac4311c44b4b97844d82f4614e5": {
          "model_module": "@jupyter-widgets/controls",
          "model_name": "HTMLModel",
          "model_module_version": "1.5.0",
          "state": {
            "_dom_classes": [],
            "_model_module": "@jupyter-widgets/controls",
            "_model_module_version": "1.5.0",
            "_model_name": "HTMLModel",
            "_view_count": null,
            "_view_module": "@jupyter-widgets/controls",
            "_view_module_version": "1.5.0",
            "_view_name": "HTMLView",
            "description": "",
            "description_tooltip": null,
            "layout": "IPY_MODEL_ccb3b50ddb5848688f0d804709dd7a5a",
            "placeholder": "​",
            "style": "IPY_MODEL_3b7be05d93a44d39892236d94758b944",
            "value": " 1126/4158 [19:12&lt;50:47,  1.00s/it]"
          }
        },
        "0198c9c758f44049a244da8d4ed53ad3": {
          "model_module": "@jupyter-widgets/base",
          "model_name": "LayoutModel",
          "model_module_version": "1.2.0",
          "state": {
            "_model_module": "@jupyter-widgets/base",
            "_model_module_version": "1.2.0",
            "_model_name": "LayoutModel",
            "_view_count": null,
            "_view_module": "@jupyter-widgets/base",
            "_view_module_version": "1.2.0",
            "_view_name": "LayoutView",
            "align_content": null,
            "align_items": null,
            "align_self": null,
            "border": null,
            "bottom": null,
            "display": null,
            "flex": null,
            "flex_flow": null,
            "grid_area": null,
            "grid_auto_columns": null,
            "grid_auto_flow": null,
            "grid_auto_rows": null,
            "grid_column": null,
            "grid_gap": null,
            "grid_row": null,
            "grid_template_areas": null,
            "grid_template_columns": null,
            "grid_template_rows": null,
            "height": null,
            "justify_content": null,
            "justify_items": null,
            "left": null,
            "margin": null,
            "max_height": null,
            "max_width": null,
            "min_height": null,
            "min_width": null,
            "object_fit": null,
            "object_position": null,
            "order": null,
            "overflow": null,
            "overflow_x": null,
            "overflow_y": null,
            "padding": null,
            "right": null,
            "top": null,
            "visibility": null,
            "width": null
          }
        },
        "9cf37daaee2d412f9ccf960ef675ad0f": {
          "model_module": "@jupyter-widgets/base",
          "model_name": "LayoutModel",
          "model_module_version": "1.2.0",
          "state": {
            "_model_module": "@jupyter-widgets/base",
            "_model_module_version": "1.2.0",
            "_model_name": "LayoutModel",
            "_view_count": null,
            "_view_module": "@jupyter-widgets/base",
            "_view_module_version": "1.2.0",
            "_view_name": "LayoutView",
            "align_content": null,
            "align_items": null,
            "align_self": null,
            "border": null,
            "bottom": null,
            "display": null,
            "flex": null,
            "flex_flow": null,
            "grid_area": null,
            "grid_auto_columns": null,
            "grid_auto_flow": null,
            "grid_auto_rows": null,
            "grid_column": null,
            "grid_gap": null,
            "grid_row": null,
            "grid_template_areas": null,
            "grid_template_columns": null,
            "grid_template_rows": null,
            "height": null,
            "justify_content": null,
            "justify_items": null,
            "left": null,
            "margin": null,
            "max_height": null,
            "max_width": null,
            "min_height": null,
            "min_width": null,
            "object_fit": null,
            "object_position": null,
            "order": null,
            "overflow": null,
            "overflow_x": null,
            "overflow_y": null,
            "padding": null,
            "right": null,
            "top": null,
            "visibility": null,
            "width": null
          }
        },
        "90469943fdaa43dd8cbf7e77a0b70b39": {
          "model_module": "@jupyter-widgets/controls",
          "model_name": "DescriptionStyleModel",
          "model_module_version": "1.5.0",
          "state": {
            "_model_module": "@jupyter-widgets/controls",
            "_model_module_version": "1.5.0",
            "_model_name": "DescriptionStyleModel",
            "_view_count": null,
            "_view_module": "@jupyter-widgets/base",
            "_view_module_version": "1.2.0",
            "_view_name": "StyleView",
            "description_width": ""
          }
        },
        "a6035f8cacb641b3a729ee850fb44514": {
          "model_module": "@jupyter-widgets/base",
          "model_name": "LayoutModel",
          "model_module_version": "1.2.0",
          "state": {
            "_model_module": "@jupyter-widgets/base",
            "_model_module_version": "1.2.0",
            "_model_name": "LayoutModel",
            "_view_count": null,
            "_view_module": "@jupyter-widgets/base",
            "_view_module_version": "1.2.0",
            "_view_name": "LayoutView",
            "align_content": null,
            "align_items": null,
            "align_self": null,
            "border": null,
            "bottom": null,
            "display": null,
            "flex": null,
            "flex_flow": null,
            "grid_area": null,
            "grid_auto_columns": null,
            "grid_auto_flow": null,
            "grid_auto_rows": null,
            "grid_column": null,
            "grid_gap": null,
            "grid_row": null,
            "grid_template_areas": null,
            "grid_template_columns": null,
            "grid_template_rows": null,
            "height": null,
            "justify_content": null,
            "justify_items": null,
            "left": null,
            "margin": null,
            "max_height": null,
            "max_width": null,
            "min_height": null,
            "min_width": null,
            "object_fit": null,
            "object_position": null,
            "order": null,
            "overflow": null,
            "overflow_x": null,
            "overflow_y": null,
            "padding": null,
            "right": null,
            "top": null,
            "visibility": null,
            "width": null
          }
        },
        "fc10412027fc459c98395510ee0ce8c4": {
          "model_module": "@jupyter-widgets/controls",
          "model_name": "ProgressStyleModel",
          "model_module_version": "1.5.0",
          "state": {
            "_model_module": "@jupyter-widgets/controls",
            "_model_module_version": "1.5.0",
            "_model_name": "ProgressStyleModel",
            "_view_count": null,
            "_view_module": "@jupyter-widgets/base",
            "_view_module_version": "1.2.0",
            "_view_name": "StyleView",
            "bar_color": null,
            "description_width": ""
          }
        },
        "ccb3b50ddb5848688f0d804709dd7a5a": {
          "model_module": "@jupyter-widgets/base",
          "model_name": "LayoutModel",
          "model_module_version": "1.2.0",
          "state": {
            "_model_module": "@jupyter-widgets/base",
            "_model_module_version": "1.2.0",
            "_model_name": "LayoutModel",
            "_view_count": null,
            "_view_module": "@jupyter-widgets/base",
            "_view_module_version": "1.2.0",
            "_view_name": "LayoutView",
            "align_content": null,
            "align_items": null,
            "align_self": null,
            "border": null,
            "bottom": null,
            "display": null,
            "flex": null,
            "flex_flow": null,
            "grid_area": null,
            "grid_auto_columns": null,
            "grid_auto_flow": null,
            "grid_auto_rows": null,
            "grid_column": null,
            "grid_gap": null,
            "grid_row": null,
            "grid_template_areas": null,
            "grid_template_columns": null,
            "grid_template_rows": null,
            "height": null,
            "justify_content": null,
            "justify_items": null,
            "left": null,
            "margin": null,
            "max_height": null,
            "max_width": null,
            "min_height": null,
            "min_width": null,
            "object_fit": null,
            "object_position": null,
            "order": null,
            "overflow": null,
            "overflow_x": null,
            "overflow_y": null,
            "padding": null,
            "right": null,
            "top": null,
            "visibility": null,
            "width": null
          }
        },
        "3b7be05d93a44d39892236d94758b944": {
          "model_module": "@jupyter-widgets/controls",
          "model_name": "DescriptionStyleModel",
          "model_module_version": "1.5.0",
          "state": {
            "_model_module": "@jupyter-widgets/controls",
            "_model_module_version": "1.5.0",
            "_model_name": "DescriptionStyleModel",
            "_view_count": null,
            "_view_module": "@jupyter-widgets/base",
            "_view_module_version": "1.2.0",
            "_view_name": "StyleView",
            "description_width": ""
          }
        },
        "45fef118afe64fd48aabc0fceba93792": {
          "model_module": "@jupyter-widgets/controls",
          "model_name": "HBoxModel",
          "model_module_version": "1.5.0",
          "state": {
            "_dom_classes": [],
            "_model_module": "@jupyter-widgets/controls",
            "_model_module_version": "1.5.0",
            "_model_name": "HBoxModel",
            "_view_count": null,
            "_view_module": "@jupyter-widgets/controls",
            "_view_module_version": "1.5.0",
            "_view_name": "HBoxView",
            "box_style": "",
            "children": [
              "IPY_MODEL_9fd8fb730a8349c494e5177b319da145",
              "IPY_MODEL_ef51a7df6fc14a7d91cfb31f17222c6c",
              "IPY_MODEL_24d2dc623f3f4ca18e68516f68d624d0"
            ],
            "layout": "IPY_MODEL_6a2dacb0eb3a43a38d721bac020496d3"
          }
        },
        "9fd8fb730a8349c494e5177b319da145": {
          "model_module": "@jupyter-widgets/controls",
          "model_name": "HTMLModel",
          "model_module_version": "1.5.0",
          "state": {
            "_dom_classes": [],
            "_model_module": "@jupyter-widgets/controls",
            "_model_module_version": "1.5.0",
            "_model_name": "HTMLModel",
            "_view_count": null,
            "_view_module": "@jupyter-widgets/controls",
            "_view_module_version": "1.5.0",
            "_view_name": "HTMLView",
            "description": "",
            "description_tooltip": null,
            "layout": "IPY_MODEL_4ae058b90f5e4254b5c3976fe064ef9d",
            "placeholder": "​",
            "style": "IPY_MODEL_17e380fa2fdd433fb0040622f24a5e0b",
            "value": " 25%"
          }
        },
        "ef51a7df6fc14a7d91cfb31f17222c6c": {
          "model_module": "@jupyter-widgets/controls",
          "model_name": "FloatProgressModel",
          "model_module_version": "1.5.0",
          "state": {
            "_dom_classes": [],
            "_model_module": "@jupyter-widgets/controls",
            "_model_module_version": "1.5.0",
            "_model_name": "FloatProgressModel",
            "_view_count": null,
            "_view_module": "@jupyter-widgets/controls",
            "_view_module_version": "1.5.0",
            "_view_name": "ProgressView",
            "bar_style": "danger",
            "description": "",
            "description_tooltip": null,
            "layout": "IPY_MODEL_ce38b348fa59482a9d5ceb9662683626",
            "max": 4158,
            "min": 0,
            "orientation": "horizontal",
            "style": "IPY_MODEL_ad339f2d032940fea58b33097597c855",
            "value": 1047
          }
        },
        "24d2dc623f3f4ca18e68516f68d624d0": {
          "model_module": "@jupyter-widgets/controls",
          "model_name": "HTMLModel",
          "model_module_version": "1.5.0",
          "state": {
            "_dom_classes": [],
            "_model_module": "@jupyter-widgets/controls",
            "_model_module_version": "1.5.0",
            "_model_name": "HTMLModel",
            "_view_count": null,
            "_view_module": "@jupyter-widgets/controls",
            "_view_module_version": "1.5.0",
            "_view_name": "HTMLView",
            "description": "",
            "description_tooltip": null,
            "layout": "IPY_MODEL_04acf53ec0ff431683c098273071450d",
            "placeholder": "​",
            "style": "IPY_MODEL_2cbbca59f0e84d8ea176cd4a7a7e293f",
            "value": " 1047/4158 [13:16&lt;40:30,  1.28it/s]"
          }
        },
        "6a2dacb0eb3a43a38d721bac020496d3": {
          "model_module": "@jupyter-widgets/base",
          "model_name": "LayoutModel",
          "model_module_version": "1.2.0",
          "state": {
            "_model_module": "@jupyter-widgets/base",
            "_model_module_version": "1.2.0",
            "_model_name": "LayoutModel",
            "_view_count": null,
            "_view_module": "@jupyter-widgets/base",
            "_view_module_version": "1.2.0",
            "_view_name": "LayoutView",
            "align_content": null,
            "align_items": null,
            "align_self": null,
            "border": null,
            "bottom": null,
            "display": null,
            "flex": null,
            "flex_flow": null,
            "grid_area": null,
            "grid_auto_columns": null,
            "grid_auto_flow": null,
            "grid_auto_rows": null,
            "grid_column": null,
            "grid_gap": null,
            "grid_row": null,
            "grid_template_areas": null,
            "grid_template_columns": null,
            "grid_template_rows": null,
            "height": null,
            "justify_content": null,
            "justify_items": null,
            "left": null,
            "margin": null,
            "max_height": null,
            "max_width": null,
            "min_height": null,
            "min_width": null,
            "object_fit": null,
            "object_position": null,
            "order": null,
            "overflow": null,
            "overflow_x": null,
            "overflow_y": null,
            "padding": null,
            "right": null,
            "top": null,
            "visibility": null,
            "width": null
          }
        },
        "4ae058b90f5e4254b5c3976fe064ef9d": {
          "model_module": "@jupyter-widgets/base",
          "model_name": "LayoutModel",
          "model_module_version": "1.2.0",
          "state": {
            "_model_module": "@jupyter-widgets/base",
            "_model_module_version": "1.2.0",
            "_model_name": "LayoutModel",
            "_view_count": null,
            "_view_module": "@jupyter-widgets/base",
            "_view_module_version": "1.2.0",
            "_view_name": "LayoutView",
            "align_content": null,
            "align_items": null,
            "align_self": null,
            "border": null,
            "bottom": null,
            "display": null,
            "flex": null,
            "flex_flow": null,
            "grid_area": null,
            "grid_auto_columns": null,
            "grid_auto_flow": null,
            "grid_auto_rows": null,
            "grid_column": null,
            "grid_gap": null,
            "grid_row": null,
            "grid_template_areas": null,
            "grid_template_columns": null,
            "grid_template_rows": null,
            "height": null,
            "justify_content": null,
            "justify_items": null,
            "left": null,
            "margin": null,
            "max_height": null,
            "max_width": null,
            "min_height": null,
            "min_width": null,
            "object_fit": null,
            "object_position": null,
            "order": null,
            "overflow": null,
            "overflow_x": null,
            "overflow_y": null,
            "padding": null,
            "right": null,
            "top": null,
            "visibility": null,
            "width": null
          }
        },
        "17e380fa2fdd433fb0040622f24a5e0b": {
          "model_module": "@jupyter-widgets/controls",
          "model_name": "DescriptionStyleModel",
          "model_module_version": "1.5.0",
          "state": {
            "_model_module": "@jupyter-widgets/controls",
            "_model_module_version": "1.5.0",
            "_model_name": "DescriptionStyleModel",
            "_view_count": null,
            "_view_module": "@jupyter-widgets/base",
            "_view_module_version": "1.2.0",
            "_view_name": "StyleView",
            "description_width": ""
          }
        },
        "ce38b348fa59482a9d5ceb9662683626": {
          "model_module": "@jupyter-widgets/base",
          "model_name": "LayoutModel",
          "model_module_version": "1.2.0",
          "state": {
            "_model_module": "@jupyter-widgets/base",
            "_model_module_version": "1.2.0",
            "_model_name": "LayoutModel",
            "_view_count": null,
            "_view_module": "@jupyter-widgets/base",
            "_view_module_version": "1.2.0",
            "_view_name": "LayoutView",
            "align_content": null,
            "align_items": null,
            "align_self": null,
            "border": null,
            "bottom": null,
            "display": null,
            "flex": null,
            "flex_flow": null,
            "grid_area": null,
            "grid_auto_columns": null,
            "grid_auto_flow": null,
            "grid_auto_rows": null,
            "grid_column": null,
            "grid_gap": null,
            "grid_row": null,
            "grid_template_areas": null,
            "grid_template_columns": null,
            "grid_template_rows": null,
            "height": null,
            "justify_content": null,
            "justify_items": null,
            "left": null,
            "margin": null,
            "max_height": null,
            "max_width": null,
            "min_height": null,
            "min_width": null,
            "object_fit": null,
            "object_position": null,
            "order": null,
            "overflow": null,
            "overflow_x": null,
            "overflow_y": null,
            "padding": null,
            "right": null,
            "top": null,
            "visibility": null,
            "width": null
          }
        },
        "ad339f2d032940fea58b33097597c855": {
          "model_module": "@jupyter-widgets/controls",
          "model_name": "ProgressStyleModel",
          "model_module_version": "1.5.0",
          "state": {
            "_model_module": "@jupyter-widgets/controls",
            "_model_module_version": "1.5.0",
            "_model_name": "ProgressStyleModel",
            "_view_count": null,
            "_view_module": "@jupyter-widgets/base",
            "_view_module_version": "1.2.0",
            "_view_name": "StyleView",
            "bar_color": null,
            "description_width": ""
          }
        },
        "04acf53ec0ff431683c098273071450d": {
          "model_module": "@jupyter-widgets/base",
          "model_name": "LayoutModel",
          "model_module_version": "1.2.0",
          "state": {
            "_model_module": "@jupyter-widgets/base",
            "_model_module_version": "1.2.0",
            "_model_name": "LayoutModel",
            "_view_count": null,
            "_view_module": "@jupyter-widgets/base",
            "_view_module_version": "1.2.0",
            "_view_name": "LayoutView",
            "align_content": null,
            "align_items": null,
            "align_self": null,
            "border": null,
            "bottom": null,
            "display": null,
            "flex": null,
            "flex_flow": null,
            "grid_area": null,
            "grid_auto_columns": null,
            "grid_auto_flow": null,
            "grid_auto_rows": null,
            "grid_column": null,
            "grid_gap": null,
            "grid_row": null,
            "grid_template_areas": null,
            "grid_template_columns": null,
            "grid_template_rows": null,
            "height": null,
            "justify_content": null,
            "justify_items": null,
            "left": null,
            "margin": null,
            "max_height": null,
            "max_width": null,
            "min_height": null,
            "min_width": null,
            "object_fit": null,
            "object_position": null,
            "order": null,
            "overflow": null,
            "overflow_x": null,
            "overflow_y": null,
            "padding": null,
            "right": null,
            "top": null,
            "visibility": null,
            "width": null
          }
        },
        "2cbbca59f0e84d8ea176cd4a7a7e293f": {
          "model_module": "@jupyter-widgets/controls",
          "model_name": "DescriptionStyleModel",
          "model_module_version": "1.5.0",
          "state": {
            "_model_module": "@jupyter-widgets/controls",
            "_model_module_version": "1.5.0",
            "_model_name": "DescriptionStyleModel",
            "_view_count": null,
            "_view_module": "@jupyter-widgets/base",
            "_view_module_version": "1.2.0",
            "_view_name": "StyleView",
            "description_width": ""
          }
        },
        "627afeb37916495aac839ab127608c8a": {
          "model_module": "@jupyter-widgets/controls",
          "model_name": "HBoxModel",
          "model_module_version": "1.5.0",
          "state": {
            "_dom_classes": [],
            "_model_module": "@jupyter-widgets/controls",
            "_model_module_version": "1.5.0",
            "_model_name": "HBoxModel",
            "_view_count": null,
            "_view_module": "@jupyter-widgets/controls",
            "_view_module_version": "1.5.0",
            "_view_name": "HBoxView",
            "box_style": "",
            "children": [
              "IPY_MODEL_bf2e0b37b67046bfbed4b7fc6f777e3c",
              "IPY_MODEL_c3f37fe115b24d57b192513d0f9fa864",
              "IPY_MODEL_e05180f5b1b64ca584da2359478ced99"
            ],
            "layout": "IPY_MODEL_667f1a9383ba4e6eb201872cc2c370e4"
          }
        },
        "bf2e0b37b67046bfbed4b7fc6f777e3c": {
          "model_module": "@jupyter-widgets/controls",
          "model_name": "HTMLModel",
          "model_module_version": "1.5.0",
          "state": {
            "_dom_classes": [],
            "_model_module": "@jupyter-widgets/controls",
            "_model_module_version": "1.5.0",
            "_model_name": "HTMLModel",
            "_view_count": null,
            "_view_module": "@jupyter-widgets/controls",
            "_view_module_version": "1.5.0",
            "_view_name": "HTMLView",
            "description": "",
            "description_tooltip": null,
            "layout": "IPY_MODEL_112c19dc33194a57940813d24ceb8711",
            "placeholder": "​",
            "style": "IPY_MODEL_0d5c1b233b0a493ea7c92d378fdfcfba",
            "value": " 26%"
          }
        },
        "c3f37fe115b24d57b192513d0f9fa864": {
          "model_module": "@jupyter-widgets/controls",
          "model_name": "FloatProgressModel",
          "model_module_version": "1.5.0",
          "state": {
            "_dom_classes": [],
            "_model_module": "@jupyter-widgets/controls",
            "_model_module_version": "1.5.0",
            "_model_name": "FloatProgressModel",
            "_view_count": null,
            "_view_module": "@jupyter-widgets/controls",
            "_view_module_version": "1.5.0",
            "_view_name": "ProgressView",
            "bar_style": "danger",
            "description": "",
            "description_tooltip": null,
            "layout": "IPY_MODEL_268a3dedfa824daabc0945ee57e02db3",
            "max": 42,
            "min": 0,
            "orientation": "horizontal",
            "style": "IPY_MODEL_1057198b51ad4237a8815e9a055c714b",
            "value": 11
          }
        },
        "e05180f5b1b64ca584da2359478ced99": {
          "model_module": "@jupyter-widgets/controls",
          "model_name": "HTMLModel",
          "model_module_version": "1.5.0",
          "state": {
            "_dom_classes": [],
            "_model_module": "@jupyter-widgets/controls",
            "_model_module_version": "1.5.0",
            "_model_name": "HTMLModel",
            "_view_count": null,
            "_view_module": "@jupyter-widgets/controls",
            "_view_module_version": "1.5.0",
            "_view_name": "HTMLView",
            "description": "",
            "description_tooltip": null,
            "layout": "IPY_MODEL_2318b655902045fd9ce51a1b896d9553",
            "placeholder": "​",
            "style": "IPY_MODEL_bf046d0d09b74bf7bc6f51e0af15f17e",
            "value": " 11/42 [03:24&lt;09:39, 18.70s/it]"
          }
        },
        "667f1a9383ba4e6eb201872cc2c370e4": {
          "model_module": "@jupyter-widgets/base",
          "model_name": "LayoutModel",
          "model_module_version": "1.2.0",
          "state": {
            "_model_module": "@jupyter-widgets/base",
            "_model_module_version": "1.2.0",
            "_model_name": "LayoutModel",
            "_view_count": null,
            "_view_module": "@jupyter-widgets/base",
            "_view_module_version": "1.2.0",
            "_view_name": "LayoutView",
            "align_content": null,
            "align_items": null,
            "align_self": null,
            "border": null,
            "bottom": null,
            "display": null,
            "flex": null,
            "flex_flow": null,
            "grid_area": null,
            "grid_auto_columns": null,
            "grid_auto_flow": null,
            "grid_auto_rows": null,
            "grid_column": null,
            "grid_gap": null,
            "grid_row": null,
            "grid_template_areas": null,
            "grid_template_columns": null,
            "grid_template_rows": null,
            "height": null,
            "justify_content": null,
            "justify_items": null,
            "left": null,
            "margin": null,
            "max_height": null,
            "max_width": null,
            "min_height": null,
            "min_width": null,
            "object_fit": null,
            "object_position": null,
            "order": null,
            "overflow": null,
            "overflow_x": null,
            "overflow_y": null,
            "padding": null,
            "right": null,
            "top": null,
            "visibility": null,
            "width": null
          }
        },
        "112c19dc33194a57940813d24ceb8711": {
          "model_module": "@jupyter-widgets/base",
          "model_name": "LayoutModel",
          "model_module_version": "1.2.0",
          "state": {
            "_model_module": "@jupyter-widgets/base",
            "_model_module_version": "1.2.0",
            "_model_name": "LayoutModel",
            "_view_count": null,
            "_view_module": "@jupyter-widgets/base",
            "_view_module_version": "1.2.0",
            "_view_name": "LayoutView",
            "align_content": null,
            "align_items": null,
            "align_self": null,
            "border": null,
            "bottom": null,
            "display": null,
            "flex": null,
            "flex_flow": null,
            "grid_area": null,
            "grid_auto_columns": null,
            "grid_auto_flow": null,
            "grid_auto_rows": null,
            "grid_column": null,
            "grid_gap": null,
            "grid_row": null,
            "grid_template_areas": null,
            "grid_template_columns": null,
            "grid_template_rows": null,
            "height": null,
            "justify_content": null,
            "justify_items": null,
            "left": null,
            "margin": null,
            "max_height": null,
            "max_width": null,
            "min_height": null,
            "min_width": null,
            "object_fit": null,
            "object_position": null,
            "order": null,
            "overflow": null,
            "overflow_x": null,
            "overflow_y": null,
            "padding": null,
            "right": null,
            "top": null,
            "visibility": null,
            "width": null
          }
        },
        "0d5c1b233b0a493ea7c92d378fdfcfba": {
          "model_module": "@jupyter-widgets/controls",
          "model_name": "DescriptionStyleModel",
          "model_module_version": "1.5.0",
          "state": {
            "_model_module": "@jupyter-widgets/controls",
            "_model_module_version": "1.5.0",
            "_model_name": "DescriptionStyleModel",
            "_view_count": null,
            "_view_module": "@jupyter-widgets/base",
            "_view_module_version": "1.2.0",
            "_view_name": "StyleView",
            "description_width": ""
          }
        },
        "268a3dedfa824daabc0945ee57e02db3": {
          "model_module": "@jupyter-widgets/base",
          "model_name": "LayoutModel",
          "model_module_version": "1.2.0",
          "state": {
            "_model_module": "@jupyter-widgets/base",
            "_model_module_version": "1.2.0",
            "_model_name": "LayoutModel",
            "_view_count": null,
            "_view_module": "@jupyter-widgets/base",
            "_view_module_version": "1.2.0",
            "_view_name": "LayoutView",
            "align_content": null,
            "align_items": null,
            "align_self": null,
            "border": null,
            "bottom": null,
            "display": null,
            "flex": null,
            "flex_flow": null,
            "grid_area": null,
            "grid_auto_columns": null,
            "grid_auto_flow": null,
            "grid_auto_rows": null,
            "grid_column": null,
            "grid_gap": null,
            "grid_row": null,
            "grid_template_areas": null,
            "grid_template_columns": null,
            "grid_template_rows": null,
            "height": null,
            "justify_content": null,
            "justify_items": null,
            "left": null,
            "margin": null,
            "max_height": null,
            "max_width": null,
            "min_height": null,
            "min_width": null,
            "object_fit": null,
            "object_position": null,
            "order": null,
            "overflow": null,
            "overflow_x": null,
            "overflow_y": null,
            "padding": null,
            "right": null,
            "top": null,
            "visibility": null,
            "width": null
          }
        },
        "1057198b51ad4237a8815e9a055c714b": {
          "model_module": "@jupyter-widgets/controls",
          "model_name": "ProgressStyleModel",
          "model_module_version": "1.5.0",
          "state": {
            "_model_module": "@jupyter-widgets/controls",
            "_model_module_version": "1.5.0",
            "_model_name": "ProgressStyleModel",
            "_view_count": null,
            "_view_module": "@jupyter-widgets/base",
            "_view_module_version": "1.2.0",
            "_view_name": "StyleView",
            "bar_color": null,
            "description_width": ""
          }
        },
        "2318b655902045fd9ce51a1b896d9553": {
          "model_module": "@jupyter-widgets/base",
          "model_name": "LayoutModel",
          "model_module_version": "1.2.0",
          "state": {
            "_model_module": "@jupyter-widgets/base",
            "_model_module_version": "1.2.0",
            "_model_name": "LayoutModel",
            "_view_count": null,
            "_view_module": "@jupyter-widgets/base",
            "_view_module_version": "1.2.0",
            "_view_name": "LayoutView",
            "align_content": null,
            "align_items": null,
            "align_self": null,
            "border": null,
            "bottom": null,
            "display": null,
            "flex": null,
            "flex_flow": null,
            "grid_area": null,
            "grid_auto_columns": null,
            "grid_auto_flow": null,
            "grid_auto_rows": null,
            "grid_column": null,
            "grid_gap": null,
            "grid_row": null,
            "grid_template_areas": null,
            "grid_template_columns": null,
            "grid_template_rows": null,
            "height": null,
            "justify_content": null,
            "justify_items": null,
            "left": null,
            "margin": null,
            "max_height": null,
            "max_width": null,
            "min_height": null,
            "min_width": null,
            "object_fit": null,
            "object_position": null,
            "order": null,
            "overflow": null,
            "overflow_x": null,
            "overflow_y": null,
            "padding": null,
            "right": null,
            "top": null,
            "visibility": null,
            "width": null
          }
        },
        "bf046d0d09b74bf7bc6f51e0af15f17e": {
          "model_module": "@jupyter-widgets/controls",
          "model_name": "DescriptionStyleModel",
          "model_module_version": "1.5.0",
          "state": {
            "_model_module": "@jupyter-widgets/controls",
            "_model_module_version": "1.5.0",
            "_model_name": "DescriptionStyleModel",
            "_view_count": null,
            "_view_module": "@jupyter-widgets/base",
            "_view_module_version": "1.2.0",
            "_view_name": "StyleView",
            "description_width": ""
          }
        }
      }
    }
  },
  "nbformat_minor": 0,
  "nbformat": 4,
  "cells": [
    {
      "cell_type": "code",
      "source": [
        "!pip install datasets transformers albumentations huggingface_hub"
      ],
      "metadata": {
        "id": "OtXvkZL_xBWA",
        "colab": {
          "base_uri": "https://localhost:8080/"
        },
        "outputId": "fd99217e-af1c-4f40-9d5d-600831fff32a",
        "execution": {
          "iopub.status.busy": "2023-08-19T10:57:27.704386Z",
          "iopub.execute_input": "2023-08-19T10:57:27.704865Z",
          "iopub.status.idle": "2023-08-19T10:57:41.576662Z",
          "shell.execute_reply.started": "2023-08-19T10:57:27.704833Z",
          "shell.execute_reply": "2023-08-19T10:57:41.575510Z"
        },
        "trusted": true
      },
      "execution_count": 1,
      "outputs": [
        {
          "output_type": "stream",
          "name": "stdout",
          "text": [
            "Requirement already satisfied: datasets in /usr/local/lib/python3.10/dist-packages (2.14.4)\n",
            "Requirement already satisfied: transformers in /usr/local/lib/python3.10/dist-packages (4.31.0)\n",
            "Requirement already satisfied: albumentations in /usr/local/lib/python3.10/dist-packages (1.3.1)\n",
            "Requirement already satisfied: huggingface_hub in /usr/local/lib/python3.10/dist-packages (0.16.4)\n",
            "Requirement already satisfied: numpy>=1.17 in /usr/local/lib/python3.10/dist-packages (from datasets) (1.23.5)\n",
            "Requirement already satisfied: pyarrow>=8.0.0 in /usr/local/lib/python3.10/dist-packages (from datasets) (9.0.0)\n",
            "Requirement already satisfied: dill<0.3.8,>=0.3.0 in /usr/local/lib/python3.10/dist-packages (from datasets) (0.3.7)\n",
            "Requirement already satisfied: pandas in /usr/local/lib/python3.10/dist-packages (from datasets) (1.5.3)\n",
            "Requirement already satisfied: requests>=2.19.0 in /usr/local/lib/python3.10/dist-packages (from datasets) (2.31.0)\n",
            "Requirement already satisfied: tqdm>=4.62.1 in /usr/local/lib/python3.10/dist-packages (from datasets) (4.66.1)\n",
            "Requirement already satisfied: xxhash in /usr/local/lib/python3.10/dist-packages (from datasets) (3.3.0)\n",
            "Requirement already satisfied: multiprocess in /usr/local/lib/python3.10/dist-packages (from datasets) (0.70.15)\n",
            "Requirement already satisfied: fsspec[http]>=2021.11.1 in /usr/local/lib/python3.10/dist-packages (from datasets) (2023.6.0)\n",
            "Requirement already satisfied: aiohttp in /usr/local/lib/python3.10/dist-packages (from datasets) (3.8.5)\n",
            "Requirement already satisfied: packaging in /usr/local/lib/python3.10/dist-packages (from datasets) (23.1)\n",
            "Requirement already satisfied: pyyaml>=5.1 in /usr/local/lib/python3.10/dist-packages (from datasets) (6.0.1)\n",
            "Requirement already satisfied: filelock in /usr/local/lib/python3.10/dist-packages (from transformers) (3.12.2)\n",
            "Requirement already satisfied: regex!=2019.12.17 in /usr/local/lib/python3.10/dist-packages (from transformers) (2023.6.3)\n",
            "Requirement already satisfied: tokenizers!=0.11.3,<0.14,>=0.11.1 in /usr/local/lib/python3.10/dist-packages (from transformers) (0.13.3)\n",
            "Requirement already satisfied: safetensors>=0.3.1 in /usr/local/lib/python3.10/dist-packages (from transformers) (0.3.2)\n",
            "Requirement already satisfied: scipy>=1.1.0 in /usr/local/lib/python3.10/dist-packages (from albumentations) (1.10.1)\n",
            "Requirement already satisfied: scikit-image>=0.16.1 in /usr/local/lib/python3.10/dist-packages (from albumentations) (0.19.3)\n",
            "Requirement already satisfied: qudida>=0.0.4 in /usr/local/lib/python3.10/dist-packages (from albumentations) (0.0.4)\n",
            "Requirement already satisfied: opencv-python-headless>=4.1.1 in /usr/local/lib/python3.10/dist-packages (from albumentations) (4.8.0.76)\n",
            "Requirement already satisfied: typing-extensions>=3.7.4.3 in /usr/local/lib/python3.10/dist-packages (from huggingface_hub) (4.7.1)\n",
            "Requirement already satisfied: attrs>=17.3.0 in /usr/local/lib/python3.10/dist-packages (from aiohttp->datasets) (23.1.0)\n",
            "Requirement already satisfied: charset-normalizer<4.0,>=2.0 in /usr/local/lib/python3.10/dist-packages (from aiohttp->datasets) (3.2.0)\n",
            "Requirement already satisfied: multidict<7.0,>=4.5 in /usr/local/lib/python3.10/dist-packages (from aiohttp->datasets) (6.0.4)\n",
            "Requirement already satisfied: async-timeout<5.0,>=4.0.0a3 in /usr/local/lib/python3.10/dist-packages (from aiohttp->datasets) (4.0.3)\n",
            "Requirement already satisfied: yarl<2.0,>=1.0 in /usr/local/lib/python3.10/dist-packages (from aiohttp->datasets) (1.9.2)\n",
            "Requirement already satisfied: frozenlist>=1.1.1 in /usr/local/lib/python3.10/dist-packages (from aiohttp->datasets) (1.4.0)\n",
            "Requirement already satisfied: aiosignal>=1.1.2 in /usr/local/lib/python3.10/dist-packages (from aiohttp->datasets) (1.3.1)\n",
            "Requirement already satisfied: scikit-learn>=0.19.1 in /usr/local/lib/python3.10/dist-packages (from qudida>=0.0.4->albumentations) (1.2.2)\n",
            "Requirement already satisfied: idna<4,>=2.5 in /usr/local/lib/python3.10/dist-packages (from requests>=2.19.0->datasets) (3.4)\n",
            "Requirement already satisfied: urllib3<3,>=1.21.1 in /usr/local/lib/python3.10/dist-packages (from requests>=2.19.0->datasets) (2.0.4)\n",
            "Requirement already satisfied: certifi>=2017.4.17 in /usr/local/lib/python3.10/dist-packages (from requests>=2.19.0->datasets) (2023.7.22)\n",
            "Requirement already satisfied: networkx>=2.2 in /usr/local/lib/python3.10/dist-packages (from scikit-image>=0.16.1->albumentations) (3.1)\n",
            "Requirement already satisfied: pillow!=7.1.0,!=7.1.1,!=8.3.0,>=6.1.0 in /usr/local/lib/python3.10/dist-packages (from scikit-image>=0.16.1->albumentations) (9.4.0)\n",
            "Requirement already satisfied: imageio>=2.4.1 in /usr/local/lib/python3.10/dist-packages (from scikit-image>=0.16.1->albumentations) (2.31.1)\n",
            "Requirement already satisfied: tifffile>=2019.7.26 in /usr/local/lib/python3.10/dist-packages (from scikit-image>=0.16.1->albumentations) (2023.8.12)\n",
            "Requirement already satisfied: PyWavelets>=1.1.1 in /usr/local/lib/python3.10/dist-packages (from scikit-image>=0.16.1->albumentations) (1.4.1)\n",
            "Requirement already satisfied: python-dateutil>=2.8.1 in /usr/local/lib/python3.10/dist-packages (from pandas->datasets) (2.8.2)\n",
            "Requirement already satisfied: pytz>=2020.1 in /usr/local/lib/python3.10/dist-packages (from pandas->datasets) (2023.3)\n",
            "Requirement already satisfied: six>=1.5 in /usr/local/lib/python3.10/dist-packages (from python-dateutil>=2.8.1->pandas->datasets) (1.16.0)\n",
            "Requirement already satisfied: joblib>=1.1.1 in /usr/local/lib/python3.10/dist-packages (from scikit-learn>=0.19.1->qudida>=0.0.4->albumentations) (1.3.2)\n",
            "Requirement already satisfied: threadpoolctl>=2.0.0 in /usr/local/lib/python3.10/dist-packages (from scikit-learn>=0.19.1->qudida>=0.0.4->albumentations) (3.2.0)\n"
          ]
        }
      ]
    },
    {
      "cell_type": "code",
      "source": [
        "# NEW ALGO #\n",
        "\n",
        "\"\"\"\n",
        "to deal with inconsistently labelled data\n",
        "we will train our model on the original data\n",
        "then we will use the output maps from this model\n",
        "and combine them with original maps using (logical OR)\n",
        "then re-train and check results\n",
        "\n",
        "\"\"\""
      ],
      "metadata": {
        "colab": {
          "base_uri": "https://localhost:8080/",
          "height": 53
        },
        "id": "y2CkGHF30xOi",
        "outputId": "ce64203e-5abf-4520-d966-31ad90104149"
      },
      "execution_count": 2,
      "outputs": [
        {
          "output_type": "execute_result",
          "data": {
            "text/plain": [
              "'\\nto deal with inconsistently labelled data\\nwe will train our model on the original data\\nthen we will use the output maps from this model\\nand combine them with original maps using (logical OR)\\nthen re-train and check results\\n\\n'"
            ],
            "application/vnd.google.colaboratory.intrinsic+json": {
              "type": "string"
            }
          },
          "metadata": {},
          "execution_count": 2
        }
      ]
    },
    {
      "cell_type": "code",
      "source": [
        "from datasets import load_dataset\n",
        "\n",
        "dataset = load_dataset(\"jaygala223/38-cloud-train-only-v2\")"
      ],
      "metadata": {
        "id": "HP5UOxNGK9lA",
        "execution": {
          "iopub.status.busy": "2023-08-19T12:07:12.175873Z",
          "iopub.execute_input": "2023-08-19T12:07:12.176153Z",
          "iopub.status.idle": "2023-08-19T12:07:34.005999Z",
          "shell.execute_reply.started": "2023-08-19T12:07:12.176128Z",
          "shell.execute_reply": "2023-08-19T12:07:34.004839Z"
        },
        "trusted": true
      },
      "execution_count": 3,
      "outputs": []
    },
    {
      "cell_type": "code",
      "source": [
        "dataset"
      ],
      "metadata": {
        "colab": {
          "base_uri": "https://localhost:8080/"
        },
        "id": "DYQoifJBK_BO",
        "outputId": "5cb370d2-cae7-450e-df22-605ac4f9fa58",
        "execution": {
          "iopub.status.busy": "2023-08-19T12:07:35.219812Z",
          "iopub.execute_input": "2023-08-19T12:07:35.220466Z",
          "iopub.status.idle": "2023-08-19T12:07:35.232094Z",
          "shell.execute_reply.started": "2023-08-19T12:07:35.220433Z",
          "shell.execute_reply": "2023-08-19T12:07:35.230946Z"
        },
        "trusted": true
      },
      "execution_count": 4,
      "outputs": [
        {
          "output_type": "execute_result",
          "data": {
            "text/plain": [
              "DatasetDict({\n",
              "    train: Dataset({\n",
              "        features: ['image', 'label'],\n",
              "        num_rows: 8400\n",
              "    })\n",
              "})"
            ]
          },
          "metadata": {},
          "execution_count": 4
        }
      ]
    },
    {
      "cell_type": "code",
      "source": [
        "# # exclude bad labels\n",
        "\n",
        "# bad_labels = [35, 36]\n",
        "\n",
        "# dataset['train'] = dataset['train'].select(\n",
        "#     (\n",
        "#         i for i in range(dataset['train'].num_rows)\n",
        "#         if i not in set(bad_labels)\n",
        "#     )\n",
        "# )"
      ],
      "metadata": {
        "id": "uh_9uHAV78IT"
      },
      "execution_count": 5,
      "outputs": []
    },
    {
      "cell_type": "code",
      "source": [
        "dataset['train'][2500]['image']"
      ],
      "metadata": {
        "colab": {
          "base_uri": "https://localhost:8080/",
          "height": 401
        },
        "id": "8LZBNrkrjDlu",
        "outputId": "b245d9e0-6f21-45ae-b29b-02020b61101d"
      },
      "execution_count": 7,
      "outputs": [
        {
          "output_type": "execute_result",
          "data": {
            "text/plain": [
              "<PIL.PngImagePlugin.PngImageFile image mode=RGB size=384x384>"
            ],
            "image/png": "[encoded data removed]"
          },
          "metadata": {},
          "execution_count": 7
        }
      ]
    },
    {
      "cell_type": "code",
      "source": [
        "dataset['train'][2500]['label']"
      ],
      "metadata": {
        "colab": {
          "base_uri": "https://localhost:8080/",
          "height": 401
        },
        "id": "f-Ioqg5FizPO",
        "outputId": "68d33e3e-ea65-4a66-f5f1-3fe40c17b5f8"
      },
      "execution_count": 8,
      "outputs": [
        {
          "output_type": "execute_result",
          "data": {
            "text/plain": [
              "<PIL.PngImagePlugin.PngImageFile image mode=L size=384x384>"
            ],
            "image/png": "[encoded data removed]"
          },
          "metadata": {},
          "execution_count": 8
        }
      ]
    },
    {
      "cell_type": "code",
      "source": [
        "# shuffle + split dataset\n",
        "dataset = dataset.shuffle(seed=1)\n",
        "dataset = dataset[\"train\"].train_test_split(test_size=0.01)\n",
        "train_ds = dataset[\"train\"]\n",
        "test_ds = dataset[\"test\"]"
      ],
      "metadata": {
        "id": "xPt6sgx-LCvK",
        "execution": {
          "iopub.status.busy": "2023-08-19T12:07:48.563695Z",
          "iopub.execute_input": "2023-08-19T12:07:48.564072Z",
          "iopub.status.idle": "2023-08-19T12:07:48.621647Z",
          "shell.execute_reply.started": "2023-08-19T12:07:48.564041Z",
          "shell.execute_reply": "2023-08-19T12:07:48.620665Z"
        },
        "trusted": true
      },
      "execution_count": 9,
      "outputs": []
    },
    {
      "cell_type": "code",
      "source": [
        "print(train_ds)\n",
        "print(test_ds)"
      ],
      "metadata": {
        "colab": {
          "base_uri": "https://localhost:8080/"
        },
        "id": "KMpU8TB3LEsz",
        "outputId": "6516b11d-6068-48e8-83f7-75e373340398",
        "execution": {
          "iopub.status.busy": "2023-08-19T12:08:05.258542Z",
          "iopub.execute_input": "2023-08-19T12:08:05.258890Z",
          "iopub.status.idle": "2023-08-19T12:08:05.264331Z",
          "shell.execute_reply.started": "2023-08-19T12:08:05.258862Z",
          "shell.execute_reply": "2023-08-19T12:08:05.263344Z"
        },
        "trusted": true
      },
      "execution_count": 10,
      "outputs": [
        {
          "output_type": "stream",
          "name": "stdout",
          "text": [
            "Dataset({\n",
            "    features: ['image', 'label'],\n",
            "    num_rows: 8316\n",
            "})\n",
            "Dataset({\n",
            "    features: ['image', 'label'],\n",
            "    num_rows: 84\n",
            "})\n"
          ]
        }
      ]
    },
    {
      "cell_type": "code",
      "source": [
        "# let's look at one example\n",
        "example = train_ds[39]\n",
        "image = example['image']\n",
        "image"
      ],
      "metadata": {
        "colab": {
          "base_uri": "https://localhost:8080/",
          "height": 401
        },
        "id": "x8grhQGlwQbd",
        "outputId": "b51b8a41-9a90-4119-c29b-7a0ea4b58265",
        "execution": {
          "iopub.status.busy": "2023-08-19T12:08:07.461746Z",
          "iopub.execute_input": "2023-08-19T12:08:07.462105Z",
          "iopub.status.idle": "2023-08-19T12:08:07.580048Z",
          "shell.execute_reply.started": "2023-08-19T12:08:07.462078Z",
          "shell.execute_reply": "2023-08-19T12:08:07.577495Z"
        },
        "trusted": true
      },
      "execution_count": 11,
      "outputs": [
        {
          "output_type": "execute_result",
          "data": {
            "text/plain": [
              "<PIL.PngImagePlugin.PngImageFile image mode=RGB size=384x384>"
            ],
            "image/png": "[encoded data removed]"
          },
          "metadata": {},
          "execution_count": 11
        }
      ]
    },
    {
      "cell_type": "code",
      "source": [
        "import numpy as np\n",
        "np.array(image).shape"
      ],
      "metadata": {
        "colab": {
          "base_uri": "https://localhost:8080/"
        },
        "id": "4IqBZ5xDwQ74",
        "outputId": "030be5be-864c-4f11-da45-6a78c9f4893d",
        "execution": {
          "iopub.status.busy": "2023-08-19T12:08:25.620425Z",
          "iopub.execute_input": "2023-08-19T12:08:25.620798Z",
          "iopub.status.idle": "2023-08-19T12:08:25.628291Z",
          "shell.execute_reply.started": "2023-08-19T12:08:25.620768Z",
          "shell.execute_reply": "2023-08-19T12:08:25.627303Z"
        },
        "trusted": true
      },
      "execution_count": 12,
      "outputs": [
        {
          "output_type": "execute_result",
          "data": {
            "text/plain": [
              "(384, 384, 3)"
            ]
          },
          "metadata": {},
          "execution_count": 12
        }
      ]
    },
    {
      "cell_type": "code",
      "source": [
        "import numpy as np\n",
        "\n",
        "# load corresponding ground truth segmentation map, which includes a label per pixel\n",
        "segmentation_map = np.array(example['label'])/255\n",
        "segmentation_map = np.array(segmentation_map, dtype=np.uint8)\n",
        "segmentation_map"
      ],
      "metadata": {
        "colab": {
          "base_uri": "https://localhost:8080/"
        },
        "id": "uwinrvnRwS3k",
        "outputId": "c3086eab-ebcb-4c68-d8a1-267017436e9d",
        "execution": {
          "iopub.status.busy": "2023-08-19T12:08:27.014784Z",
          "iopub.execute_input": "2023-08-19T12:08:27.015456Z",
          "iopub.status.idle": "2023-08-19T12:08:27.026778Z",
          "shell.execute_reply.started": "2023-08-19T12:08:27.015415Z",
          "shell.execute_reply": "2023-08-19T12:08:27.025549Z"
        },
        "trusted": true
      },
      "execution_count": 13,
      "outputs": [
        {
          "output_type": "execute_result",
          "data": {
            "text/plain": [
              "array([[0, 0, 0, ..., 0, 0, 0],\n",
              "       [0, 0, 0, ..., 0, 0, 0],\n",
              "       [0, 0, 0, ..., 0, 0, 0],\n",
              "       ...,\n",
              "       [0, 0, 0, ..., 0, 0, 0],\n",
              "       [0, 0, 0, ..., 0, 0, 0],\n",
              "       [0, 0, 0, ..., 0, 0, 0]], dtype=uint8)"
            ]
          },
          "metadata": {},
          "execution_count": 13
        }
      ]
    },
    {
      "cell_type": "code",
      "source": [
        "np.unique(segmentation_map)"
      ],
      "metadata": {
        "colab": {
          "base_uri": "https://localhost:8080/"
        },
        "id": "M26RufPgwUgL",
        "outputId": "f5352a13-f705-4859-97ec-471fefb95ae4",
        "execution": {
          "iopub.status.busy": "2023-08-19T12:08:28.619004Z",
          "iopub.execute_input": "2023-08-19T12:08:28.619361Z",
          "iopub.status.idle": "2023-08-19T12:08:28.631068Z",
          "shell.execute_reply.started": "2023-08-19T12:08:28.619330Z",
          "shell.execute_reply": "2023-08-19T12:08:28.629844Z"
        },
        "trusted": true
      },
      "execution_count": 14,
      "outputs": [
        {
          "output_type": "execute_result",
          "data": {
            "text/plain": [
              "array([0], dtype=uint8)"
            ]
          },
          "metadata": {},
          "execution_count": 14
        }
      ]
    },
    {
      "cell_type": "code",
      "source": [
        "from huggingface_hub import hf_hub_download\n",
        "import json\n",
        "\n",
        "repo_id = f\"jaygala223/38-cloud-train-only-v2\"\n",
        "filename = \"id2label.json\"\n",
        "id2label = json.load(open(hf_hub_download(repo_id, filename, repo_type=\"dataset\"), \"r\"))\n",
        "id2label = {int(k):v for k,v in id2label.items()}\n",
        "print(id2label)"
      ],
      "metadata": {
        "colab": {
          "base_uri": "https://localhost:8080/"
        },
        "id": "TZQm7iJZwVhW",
        "outputId": "3a3cc70c-51ed-4c4e-ef51-2d87b9c7f09f",
        "execution": {
          "iopub.status.busy": "2023-08-19T12:08:30.510637Z",
          "iopub.execute_input": "2023-08-19T12:08:30.511004Z",
          "iopub.status.idle": "2023-08-19T12:08:30.753040Z",
          "shell.execute_reply.started": "2023-08-19T12:08:30.510973Z",
          "shell.execute_reply": "2023-08-19T12:08:30.752102Z"
        },
        "trusted": true
      },
      "execution_count": 15,
      "outputs": [
        {
          "output_type": "stream",
          "name": "stdout",
          "text": [
            "{0: 'non-cloud', 1: 'cloud'}\n"
          ]
        }
      ]
    },
    {
      "cell_type": "code",
      "source": [
        "def color_palette():\n",
        "    \"\"\"Color palette that maps each class to RGB values.\n",
        "\n",
        "    This one is actually taken from ADE20k.\n",
        "    \"\"\"\n",
        "    # return [[120, 120, 120], [180, 120, 120], [6, 230, 230], [80, 50, 50],\n",
        "    #         [4, 200, 3], [120, 120, 80], [140, 140, 140], [204, 5, 255],\n",
        "    #         [230, 230, 230], [4, 250, 7], [224, 5, 255], [235, 255, 7],\n",
        "    #         [150, 5, 61], [120, 120, 70], [8, 255, 51], [255, 6, 82],\n",
        "    #         [143, 255, 140], [204, 255, 4], [255, 51, 7], [204, 70, 3],\n",
        "    #         [0, 102, 200], [61, 230, 250], [255, 6, 51], [11, 102, 255],\n",
        "    #         [255, 7, 71], [255, 9, 224], [9, 7, 230], [220, 220, 220],\n",
        "    #         [255, 9, 92], [112, 9, 255], [8, 255, 214], [7, 255, 224],\n",
        "    #         [255, 184, 6], [10, 255, 71], [255, 41, 10], [7, 255, 255],\n",
        "    #         [224, 255, 8], [102, 8, 255], [255, 61, 6], [255, 194, 7],\n",
        "    #         [255, 122, 8], [0, 255, 20], [255, 8, 41], [255, 5, 153],\n",
        "    #         [6, 51, 255], [235, 12, 255], [160, 150, 20], [0, 163, 255],\n",
        "    #         [140, 140, 140], [250, 10, 15], [20, 255, 0], [31, 255, 0],\n",
        "    #         [255, 31, 0], [255, 224, 0], [153, 255, 0], [0, 0, 255],\n",
        "    #         [255, 71, 0], [0, 235, 255], [0, 173, 255], [31, 0, 255],\n",
        "    #         [11, 200, 200], [255, 82, 0], [0, 255, 245], [0, 61, 255],\n",
        "    #         [0, 255, 112], [0, 255, 133], [255, 0, 0], [255, 163, 0],\n",
        "    #         [255, 102, 0], [194, 255, 0], [0, 143, 255], [51, 255, 0],\n",
        "    #         [0, 82, 255], [0, 255, 41], [0, 255, 173], [10, 0, 255],\n",
        "    #         [173, 255, 0], [0, 255, 153], [255, 92, 0], [255, 0, 255],\n",
        "    #         [255, 0, 245], [255, 0, 102], [255, 173, 0], [255, 0, 20],\n",
        "    #         [255, 184, 184], [0, 31, 255], [0, 255, 61], [0, 71, 255],\n",
        "    #         [255, 0, 204], [0, 255, 194], [0, 255, 82], [0, 10, 255],\n",
        "    #         [0, 112, 255], [51, 0, 255], [0, 194, 255], [0, 122, 255],\n",
        "    #         [0, 255, 163], [255, 153, 0], [0, 255, 10], [255, 112, 0],\n",
        "    #         [143, 255, 0], [82, 0, 255], [163, 255, 0], [255, 235, 0],\n",
        "    #         [8, 184, 170], [133, 0, 255], [0, 255, 92], [184, 0, 255],\n",
        "    #         [255, 0, 31], [0, 184, 255], [0, 214, 255], [255, 0, 112],\n",
        "    #         [92, 255, 0], [0, 224, 255], [112, 224, 255], [70, 184, 160],\n",
        "    #         [163, 0, 255], [153, 0, 255], [71, 255, 0], [255, 0, 163],\n",
        "    #         [255, 204, 0], [255, 0, 143], [0, 255, 235], [133, 255, 0],\n",
        "    #         [255, 0, 235], [245, 0, 255], [255, 0, 122], [255, 245, 0],\n",
        "    #         [10, 190, 212], [214, 255, 0], [0, 204, 255], [20, 0, 255],\n",
        "    #         [255, 255, 0], [0, 153, 255], [0, 41, 255], [0, 255, 204],\n",
        "    #         [41, 0, 255], [41, 255, 0], [173, 0, 255], [0, 245, 255],\n",
        "    #         [71, 0, 255], [122, 0, 255], [0, 255, 184], [0, 92, 255],\n",
        "    #         [184, 255, 0], [0, 133, 255], [255, 214, 0], [25, 194, 194],\n",
        "    #         [102, 255, 0], [92, 0, 255]]\n",
        "\n",
        "    #since we only have 2 classes\n",
        "    return [[102, 255, 0], [92, 0, 255]]\n",
        "\n",
        "palette = color_palette()"
      ],
      "metadata": {
        "id": "NYrF5ceEwWqJ",
        "execution": {
          "iopub.status.busy": "2023-08-19T12:08:32.845725Z",
          "iopub.execute_input": "2023-08-19T12:08:32.846091Z",
          "iopub.status.idle": "2023-08-19T12:08:32.853583Z",
          "shell.execute_reply.started": "2023-08-19T12:08:32.846062Z",
          "shell.execute_reply": "2023-08-19T12:08:32.852635Z"
        },
        "trusted": true
      },
      "execution_count": 16,
      "outputs": []
    },
    {
      "cell_type": "code",
      "source": [
        "import numpy as np\n",
        "import matplotlib.pyplot as plt\n",
        "\n",
        "color_segmentation_map = np.zeros((segmentation_map.shape[0], segmentation_map.shape[1], 3), dtype=np.uint8) # height, width, 3\n",
        "for label, color in enumerate(palette):\n",
        "    color_segmentation_map[segmentation_map == label, :] = color\n",
        "# Convert to BGR\n",
        "ground_truth_color_seg = color_segmentation_map[..., ::-1]\n",
        "\n",
        "img = np.array(image) * 0.5 + ground_truth_color_seg * 0.5\n",
        "img = img.astype(np.uint8)\n",
        "\n",
        "plt.figure(figsize=(15, 10))\n",
        "plt.imshow(img)\n",
        "plt.show()"
      ],
      "metadata": {
        "colab": {
          "base_uri": "https://localhost:8080/",
          "height": 835
        },
        "id": "M3fFGlWAwYBt",
        "outputId": "a234ba1f-327a-4cca-abaa-41099da83caa",
        "execution": {
          "iopub.status.busy": "2023-08-19T12:08:34.522090Z",
          "iopub.execute_input": "2023-08-19T12:08:34.522444Z",
          "iopub.status.idle": "2023-08-19T12:08:35.148319Z",
          "shell.execute_reply.started": "2023-08-19T12:08:34.522415Z",
          "shell.execute_reply": "2023-08-19T12:08:35.147370Z"
        },
        "trusted": true
      },
      "execution_count": 17,
      "outputs": [
        {
          "output_type": "display_data",
          "data": {
            "text/plain": [
              "<Figure size 1500x1000 with 1 Axes>"
            ],
            "image/png": "[encoded data removed]"
          },
          "metadata": {}
        }
      ]
    },
    {
      "cell_type": "code",
      "source": [
        "import numpy as np\n",
        "from torch.utils.data import Dataset\n",
        "\n",
        "class ImageSegmentationDataset(Dataset):\n",
        "    \"\"\"Image segmentation dataset.\"\"\"\n",
        "\n",
        "    def __init__(self, dataset, transform):\n",
        "        \"\"\"\n",
        "        Args:\n",
        "            dataset\n",
        "        \"\"\"\n",
        "        self.dataset = dataset\n",
        "        self.transform = transform\n",
        "\n",
        "    def __len__(self):\n",
        "        return len(self.dataset)\n",
        "\n",
        "    def __getitem__(self, idx):\n",
        "        original_image = np.array(self.dataset[idx]['image'])\n",
        "        original_segmentation_map = np.array(self.dataset[idx]['label'])\n",
        "\n",
        "        # adding one bottom most pixel as 255 since processor/feature_extractor\n",
        "        # wont take labels without a positive (i.e. class: 1 or cloud)\n",
        "        uniques = np.unique(original_segmentation_map)\n",
        "        if sum(uniques) == 0:\n",
        "            original_segmentation_map[-1, -1] = 255\n",
        "\n",
        "        transformed = self.transform(image=original_image, mask=original_segmentation_map)\n",
        "        image, segmentation_map = transformed['image'], transformed['mask']\n",
        "\n",
        "        # convert to C, H, W\n",
        "        image = image.transpose(2,0,1)\n",
        "\n",
        "        return image, segmentation_map, original_image, original_segmentation_map"
      ],
      "metadata": {
        "id": "gCyXLAPOwZwH",
        "execution": {
          "iopub.status.busy": "2023-08-19T12:08:36.419011Z",
          "iopub.execute_input": "2023-08-19T12:08:36.419858Z",
          "iopub.status.idle": "2023-08-19T12:08:39.732007Z",
          "shell.execute_reply.started": "2023-08-19T12:08:36.419820Z",
          "shell.execute_reply": "2023-08-19T12:08:39.731004Z"
        },
        "trusted": true
      },
      "execution_count": 18,
      "outputs": []
    },
    {
      "cell_type": "code",
      "source": [
        "import albumentations as A\n",
        "\n",
        "\n",
        "ADE_MEAN = np.array([100, 100, 100]) / 255\n",
        "ADE_STD = np.array([100, 100, 100]) / 255\n",
        "\n",
        "train_transform = A.Compose([\n",
        "    # A.LongestMaxSize(max_size=384),\n",
        "    # A.RandomCrop(width=100, height=100),\n",
        "    A.HorizontalFlip(p=0.5),\n",
        "    A.Normalize(mean=ADE_MEAN, std=ADE_STD),\n",
        "])\n",
        "\n",
        "test_transform = A.Compose([\n",
        "    # A.Resize(width=100, height=100),\n",
        "    A.Normalize(mean=ADE_MEAN, std=ADE_STD),\n",
        "])\n",
        "\n",
        "# train_dataset = ImageSegmentationDataset(train_ds)\n",
        "train_dataset = ImageSegmentationDataset(train_ds, transform=train_transform)\n",
        "test_dataset = ImageSegmentationDataset(test_ds, transform=test_transform)\n",
        "# test_dataset = ImageSegmentationDataset(test_ds)"
      ],
      "metadata": {
        "id": "7tbKHlgCwa7l",
        "execution": {
          "iopub.status.busy": "2023-08-19T12:08:50.695817Z",
          "iopub.execute_input": "2023-08-19T12:08:50.696525Z",
          "iopub.status.idle": "2023-08-19T12:08:52.259190Z",
          "shell.execute_reply.started": "2023-08-19T12:08:50.696466Z",
          "shell.execute_reply": "2023-08-19T12:08:52.258203Z"
        },
        "trusted": true
      },
      "execution_count": 19,
      "outputs": []
    },
    {
      "cell_type": "code",
      "source": [
        "# image, segmentation_map, _, _ = train_dataset[0]\n",
        "image, segmentation_map, _, _ = train_dataset[222]\n",
        "print(image.shape)\n",
        "print(segmentation_map.shape)"
      ],
      "metadata": {
        "colab": {
          "base_uri": "https://localhost:8080/"
        },
        "id": "YYBOwHFMwcXp",
        "outputId": "95a1223c-d697-4a56-bcc0-b73da233ac59",
        "execution": {
          "iopub.status.busy": "2023-08-19T12:08:55.212292Z",
          "iopub.execute_input": "2023-08-19T12:08:55.212794Z",
          "iopub.status.idle": "2023-08-19T12:08:55.260651Z",
          "shell.execute_reply.started": "2023-08-19T12:08:55.212754Z",
          "shell.execute_reply": "2023-08-19T12:08:55.259740Z"
        },
        "trusted": true
      },
      "execution_count": 20,
      "outputs": [
        {
          "output_type": "stream",
          "name": "stdout",
          "text": [
            "(3, 384, 384)\n",
            "(384, 384)\n"
          ]
        }
      ]
    },
    {
      "cell_type": "code",
      "source": [
        "from transformers import MaskFormerImageProcessor,Mask2FormerImageProcessor, AutoImageProcessor\n",
        "\n",
        "# Create a preprocessor\n",
        "# preprocessor = AutoImageProcessor.from_pretrained(\"facebook/mask2former-swin-tiny-ade-semantic\",\n",
        "#                                                   do_reduce_labels=False,\n",
        "#                                                   do_resize=False, do_rescale=False, do_normalize=False)\n",
        "\n",
        "size = {'longest_edge':384, 'shortest_edge':384}\n",
        "\n",
        "#original\n",
        "preprocessor = MaskFormerImageProcessor(ignore_index=0,\n",
        "                                        do_reduce_labels=False,\n",
        "                                        do_resize=False,\n",
        "                                        do_rescale=False,\n",
        "                                        do_normalize=True,\n",
        "                                        size=size)\n",
        "\n",
        "#my experiment\n",
        "# preprocessor = Mask2FormerImageProcessor(ignore_index=0, do_reduce_labels=False, do_resize=False, do_rescale=False, do_normalize=False)"
      ],
      "metadata": {
        "id": "3B_pv7bsweRu",
        "execution": {
          "iopub.status.busy": "2023-08-19T12:08:56.740427Z",
          "iopub.execute_input": "2023-08-19T12:08:56.740982Z",
          "iopub.status.idle": "2023-08-19T12:09:05.084661Z",
          "shell.execute_reply.started": "2023-08-19T12:08:56.740941Z",
          "shell.execute_reply": "2023-08-19T12:09:05.083625Z"
        },
        "trusted": true
      },
      "execution_count": 21,
      "outputs": []
    },
    {
      "cell_type": "code",
      "source": [
        "from torch.utils.data import DataLoader\n",
        "\n",
        "def collate_fn(batch):\n",
        "    inputs = list(zip(*batch))\n",
        "    images = inputs[0]\n",
        "    segmentation_maps = inputs[1]\n",
        "    # this function pads the inputs to the same size,\n",
        "    # and creates a pixel mask\n",
        "    # actually padding isn't required here since we are cropping\n",
        "    batch = preprocessor(\n",
        "        images,\n",
        "        segmentation_maps=segmentation_maps,\n",
        "        return_tensors=\"pt\",\n",
        "    )\n",
        "\n",
        "    batch[\"original_images\"] = inputs[2]\n",
        "    batch[\"original_segmentation_maps\"] = inputs[3]\n",
        "\n",
        "    return batch"
      ],
      "metadata": {
        "id": "qjyUPbv4wgOE",
        "execution": {
          "iopub.status.busy": "2023-08-19T12:09:05.086633Z",
          "iopub.execute_input": "2023-08-19T12:09:05.087221Z",
          "iopub.status.idle": "2023-08-19T12:09:05.093643Z",
          "shell.execute_reply.started": "2023-08-19T12:09:05.087194Z",
          "shell.execute_reply": "2023-08-19T12:09:05.092547Z"
        },
        "trusted": true
      },
      "execution_count": 22,
      "outputs": []
    },
    {
      "cell_type": "code",
      "source": [
        "\n",
        "# train_dataloader = DataLoader(train_dataset, batch_size=batch_size, shuffle=True)\n",
        "# test_dataloader = DataLoader(test_dataset, batch_size=batch_size, shuffle=True)\n",
        "\n",
        "# batch size more than 4 causes CUDA out of memory error\n",
        "\n",
        "train_dataloader = DataLoader(train_dataset, batch_size=2, shuffle=True, collate_fn=collate_fn, drop_last=True)\n",
        "test_dataloader = DataLoader(test_dataset, batch_size=2, shuffle=False, collate_fn=collate_fn, drop_last=True)"
      ],
      "metadata": {
        "id": "ksZzEQOowhct",
        "execution": {
          "iopub.status.busy": "2023-08-19T12:09:05.095362Z",
          "iopub.execute_input": "2023-08-19T12:09:05.096116Z",
          "iopub.status.idle": "2023-08-19T12:09:05.106867Z",
          "shell.execute_reply.started": "2023-08-19T12:09:05.096084Z",
          "shell.execute_reply": "2023-08-19T12:09:05.105948Z"
        },
        "trusted": true
      },
      "execution_count": 32,
      "outputs": []
    },
    {
      "cell_type": "code",
      "source": [
        "import torch\n",
        "\n",
        "batch = next(iter(train_dataloader))\n",
        "\n",
        "for k,v in batch.items():\n",
        "  if isinstance(v, torch.Tensor):\n",
        "    print(k,v.shape)\n",
        "  else:\n",
        "    print(k,v[0].shape)"
      ],
      "metadata": {
        "colab": {
          "base_uri": "https://localhost:8080/"
        },
        "id": "LsRe9bXQwjWI",
        "outputId": "7fee5e3f-2469-4337-987a-7e2647bceb87",
        "execution": {
          "iopub.status.busy": "2023-08-19T12:09:05.108707Z",
          "iopub.execute_input": "2023-08-19T12:09:05.109166Z",
          "iopub.status.idle": "2023-08-19T12:09:05.230435Z",
          "shell.execute_reply.started": "2023-08-19T12:09:05.109136Z",
          "shell.execute_reply": "2023-08-19T12:09:05.229314Z"
        },
        "trusted": true
      },
      "execution_count": 33,
      "outputs": [
        {
          "output_type": "stream",
          "name": "stdout",
          "text": [
            "pixel_values torch.Size([2, 3, 384, 384])\n",
            "pixel_mask torch.Size([2, 384, 384])\n",
            "mask_labels torch.Size([1, 384, 384])\n",
            "class_labels torch.Size([1])\n",
            "original_images (384, 384, 3)\n",
            "original_segmentation_maps (384, 384)\n"
          ]
        }
      ]
    },
    {
      "cell_type": "code",
      "source": [
        "from transformers import MaskFormerForInstanceSegmentation, Mask2FormerForUniversalSegmentation\n",
        "\n",
        "# Replace the head of the pre-trained model\n",
        "\n",
        "# model = Mask2FormerForUniversalSegmentation.from_pretrained(\"facebook/mask2former-swin-base-IN21k-ade-semantic\",\n",
        "#                                                             id2label=id2label,\n",
        "#                                                             ignore_mismatched_sizes=True)\n",
        "\n",
        "\n",
        "from transformers import SegformerFeatureExtractor, SegformerForSemanticSegmentation\n",
        "\n",
        "# feature_extractor = SegformerFeatureExtractor.from_pretrained(\"nvidia/segformer-b3-finetuned-ade-512-512\")\n",
        "# model = SegformerForSemanticSegmentation.from_pretrained(\"nvidia/segformer-b3-finetuned-ade-512-512\")\n",
        "\n",
        "# model = Mask2FormerForUniversalSegmentation.from_pretrained(\"facebook/mask2former-swin-base-ade-semantic\",\n",
        "#                                                           id2label=id2label,\n",
        "#                                                           ignore_mismatched_sizes=True)\n",
        "\n",
        "# model = MaskFormerForInstanceSegmentation.from_pretrained(\"facebook/maskformer-swin-base-ade\",\n",
        "#                                                           id2label=id2label,\n",
        "#                                                           ignore_mismatched_sizes=True)\n",
        "\n",
        "# model = MaskFormerForInstanceSegmentation.from_pretrained(\"jaygala223/maskformer-finetuned-for-38-cloud-dataset\",\n",
        "#                                                           id2label=id2label,\n",
        "#                                                           ignore_mismatched_sizes=True)"
      ],
      "metadata": {
        "id": "944jVS6twl1l",
        "execution": {
          "iopub.status.busy": "2023-08-19T12:09:22.271306Z",
          "iopub.execute_input": "2023-08-19T12:09:22.271688Z",
          "iopub.status.idle": "2023-08-19T12:09:22.963097Z",
          "shell.execute_reply.started": "2023-08-19T12:09:22.271656Z",
          "shell.execute_reply": "2023-08-19T12:09:22.962099Z"
        },
        "trusted": true
      },
      "execution_count": 72,
      "outputs": []
    },
    {
      "cell_type": "code",
      "source": [
        "from transformers import MaskFormerFeatureExtractor, MaskFormerForInstanceSegmentation, AutoImageProcessor, UperNetForSemanticSegmentation\n",
        "from PIL import Image\n",
        "import requests\n",
        "\n",
        "size = {'longest_edge':384, 'shortest_edge':383}\n",
        "\n",
        "# load MaskFormer fine-tuned on COCO panoptic segmentation\n",
        "# feature_extractor = Mask2FormerFeatureExtractor.from_pretrained(\"facebook/maskformer-swin-base-ade\",\n",
        "#                                                                size=size,\n",
        "#                                                                )\n",
        "\n",
        "# model 1 is for generating new pred segmentation maps... model 2 is to train on new pred labels\n",
        "\n",
        "image_processor = AutoImageProcessor.from_pretrained(\"openmmlab/upernet-swin-tiny\")\n",
        "model1 = UperNetForSemanticSegmentation.from_pretrained(\"jaygala223/upernet-swin-tiny-finetuned-for-38-cloud-dataset\")\n",
        "model2 = UperNetForSemanticSegmentation.from_pretrained(\"jaygala223/upernet-swin-tiny-finetuned-for-38-cloud-dataset\")"
      ],
      "metadata": {
        "id": "bTBEVtu3wnMj",
        "execution": {
          "iopub.status.busy": "2023-08-19T12:53:54.767073Z",
          "iopub.execute_input": "2023-08-19T12:53:54.767455Z",
          "iopub.status.idle": "2023-08-19T12:54:28.307818Z",
          "shell.execute_reply.started": "2023-08-19T12:53:54.767423Z",
          "shell.execute_reply": "2023-08-19T12:54:28.306774Z"
        },
        "trusted": true
      },
      "execution_count": 26,
      "outputs": []
    },
    {
      "cell_type": "code",
      "source": [
        "import torch\n",
        "device = \"cuda\"\n",
        "batch = next(iter(train_dataloader))\n",
        "\n",
        "images, labels = batch['original_images'], batch['original_segmentation_maps']\n",
        "\n",
        "# first convert to np array then to tensor... because list to tensor is a slow operation\n",
        "images = np.array(images)\n",
        "images = torch.tensor(images)/255\n",
        "labels = np.array(labels)\n",
        "labels = torch.tensor(labels)/255\n",
        "\n",
        "images.to(device)\n",
        "labels.to(device)\n",
        "model1.to(device)\n",
        "model2.to(device)\n",
        "\n",
        "inputs1 = image_processor(images = images, segmentation_maps = labels, return_tensors = 'pt')\n",
        "# print(inputs)\n",
        "# for item in inputs['mask_labels']:\n",
        "#     print(item.shape)\n",
        "\n",
        "# inputs['mask_labels'] = torch.stack(inputs['mask_labels'])\n",
        "# inputs['class_labels'] = torch.stack(inputs['class_labels'])\n",
        "\n",
        "# inputs['pixel_values'] = inputs['pixel_values'].float()\n",
        "\n",
        "inputs1.to(device)\n",
        "\n",
        "print(labels.shape)\n",
        "\n",
        "outputs1 = model1(**inputs1)\n",
        "\n",
        "target_sizes1 = [(image.shape[0], image.shape[1]) for image in images]\n",
        "\n",
        "predicted_segmentation_maps1 = image_processor.post_process_semantic_segmentation(outputs1,\n",
        "                                                                                  target_sizes=target_sizes1)\n",
        "\n",
        "images = images\n",
        "\n",
        "# generate new labels using OR\n",
        "labels = torch.logical_or(labels.to(device), torch.stack(predicted_segmentation_maps1).to(device))\n",
        "# print(labels.shape)\n",
        "inputs2 = image_processor(images = images, segmentation_maps = labels, return_tensors = 'pt')\n",
        "\n",
        "inputs2.to(device)\n",
        "\n",
        "# train on new labels to tackle label inconsistency\n",
        "outputs2 = model2(**inputs2)\n",
        "\n",
        "print(\"done!\")"
      ],
      "metadata": {
        "id": "DEyiVgTkwoSn",
        "execution": {
          "iopub.status.busy": "2023-08-19T12:54:28.310003Z",
          "iopub.execute_input": "2023-08-19T12:54:28.310363Z",
          "iopub.status.idle": "2023-08-19T12:54:28.976340Z",
          "shell.execute_reply.started": "2023-08-19T12:54:28.310332Z",
          "shell.execute_reply": "2023-08-19T12:54:28.975277Z"
        },
        "trusted": true,
        "colab": {
          "base_uri": "https://localhost:8080/"
        },
        "outputId": "3b8de3ec-f27c-4706-c9c0-ca4647457f84"
      },
      "execution_count": 51,
      "outputs": [
        {
          "output_type": "stream",
          "name": "stdout",
          "text": [
            "torch.Size([2, 384, 384])\n",
            "done!\n"
          ]
        }
      ]
    },
    {
      "cell_type": "code",
      "source": [
        "print(outputs1.loss)\n",
        "print(outputs2.loss)"
      ],
      "metadata": {
        "colab": {
          "base_uri": "https://localhost:8080/"
        },
        "id": "lCr67rDEwqHy",
        "outputId": "9fb8eaa5-dfdf-486f-e9e4-c2dea10f41b5",
        "execution": {
          "iopub.status.busy": "2023-08-19T12:54:44.061072Z",
          "iopub.execute_input": "2023-08-19T12:54:44.061843Z",
          "iopub.status.idle": "2023-08-19T12:54:44.070057Z",
          "shell.execute_reply.started": "2023-08-19T12:54:44.061805Z",
          "shell.execute_reply": "2023-08-19T12:54:44.069057Z"
        },
        "trusted": true
      },
      "execution_count": 52,
      "outputs": [
        {
          "output_type": "stream",
          "name": "stdout",
          "text": [
            "tensor(9.8007, device='cuda:0', grad_fn=<AddBackward0>)\n",
            "tensor(5.7583, device='cuda:0', grad_fn=<AddBackward0>)\n"
          ]
        }
      ]
    },
    {
      "cell_type": "markdown",
      "source": [
        "TRAINING"
      ],
      "metadata": {
        "id": "IQWKPwmEwrN9"
      }
    },
    {
      "cell_type": "code",
      "source": [
        "# UPER NET with new LOGICAL OR technique\n",
        "\n",
        "import torch\n",
        "from tqdm.auto import tqdm\n",
        "from torch.optim.lr_scheduler import StepLR\n",
        "\n",
        "device = torch.device(\"cuda\" if torch.cuda.is_available() else \"cpu\")\n",
        "# device = \"cuda\"\n",
        "model1.to(device)\n",
        "model2.to(device)\n",
        "\n",
        "optimizer = torch.optim.Adam(model2.parameters(), lr=5e-9)\n",
        "scheduler = StepLR(optimizer, step_size=1000, gamma=0.1)\n",
        "\n",
        "running_loss = 0.0\n",
        "num_samples = 0\n",
        "\n",
        "for epoch in range(1):\n",
        "  print(\"Epoch:\", epoch)\n",
        "  model2.train()\n",
        "  for idx, batch in enumerate(tqdm(train_dataloader)):\n",
        "      # Reset the parameter gradients\n",
        "      optimizer.zero_grad()\n",
        "\n",
        "      images, labels = batch['original_images'], batch['original_segmentation_maps']\n",
        "\n",
        "      images = np.array(images)\n",
        "      images = torch.tensor(images)\n",
        "      labels = np.array(labels)\n",
        "      labels = torch.tensor(labels)/255\n",
        "\n",
        "      images.to(device)\n",
        "      labels.to(device)\n",
        "\n",
        "      # forward pass\n",
        "\n",
        "      inputs1 = image_processor(images = images, segmentation_maps = labels, return_tensors = 'pt')\n",
        "\n",
        "      inputs1.to(device)\n",
        "\n",
        "      outputs1 = model1(**inputs1)\n",
        "\n",
        "      target_sizes1 = [(image.shape[0], image.shape[1]) for image in images]\n",
        "\n",
        "      predicted_segmentation_maps1 = image_processor.post_process_semantic_segmentation(outputs1,\n",
        "                                                                                        target_sizes=target_sizes1)\n",
        "\n",
        "      images = images\n",
        "\n",
        "      # generate new labels using OR\n",
        "      labels = torch.logical_or(labels.to(device), torch.stack(predicted_segmentation_maps1).to(device))\n",
        "\n",
        "      inputs2 = image_processor(images = images, segmentation_maps = labels, return_tensors = 'pt')\n",
        "\n",
        "      inputs2.to(device)\n",
        "\n",
        "      # train on new labels to tackle label inconsistency\n",
        "      outputs2 = model2(**inputs2)\n",
        "\n",
        "      # Backward propagation\n",
        "      loss = outputs2.loss\n",
        "      loss.backward()\n",
        "\n",
        "      batch_size = batch[\"pixel_values\"].size(0)\n",
        "      running_loss += loss.item()\n",
        "      num_samples += batch_size\n",
        "\n",
        "      if idx % 50 == 0:\n",
        "        print(\"Loss:\", running_loss/num_samples)\n",
        "\n",
        "      # Optimization\n",
        "      optimizer.step()\n",
        "\n",
        "#       scheduler.step()"
      ],
      "metadata": {
        "colab": {
          "base_uri": "https://localhost:8080/",
          "height": 693,
          "referenced_widgets": [
            "3d30eaef755f4b2cb70f16f214dee18f",
            "39f239d0a23b43afa735e1e7b579c166",
            "c735c17c4bf644e3ad7eec0e73b3cfc8",
            "b46bfac4311c44b4b97844d82f4614e5",
            "0198c9c758f44049a244da8d4ed53ad3",
            "9cf37daaee2d412f9ccf960ef675ad0f",
            "90469943fdaa43dd8cbf7e77a0b70b39",
            "a6035f8cacb641b3a729ee850fb44514",
            "fc10412027fc459c98395510ee0ce8c4",
            "ccb3b50ddb5848688f0d804709dd7a5a",
            "3b7be05d93a44d39892236d94758b944"
          ]
        },
        "id": "uKhfV2vWES5O",
        "outputId": "3451bbd8-cbfe-4a6f-ab19-b7917daa29c6"
      },
      "execution_count": 53,
      "outputs": [
        {
          "output_type": "stream",
          "name": "stdout",
          "text": [
            "Epoch: 0\n"
          ]
        },
        {
          "output_type": "display_data",
          "data": {
            "text/plain": [
              "  0%|          | 0/4158 [00:00<?, ?it/s]"
            ],
            "application/vnd.jupyter.widget-view+json": {
              "version_major": 2,
              "version_minor": 0,
              "model_id": "3d30eaef755f4b2cb70f16f214dee18f"
            }
          },
          "metadata": {}
        },
        {
          "output_type": "stream",
          "name": "stdout",
          "text": [
            "Loss: 0.043854523450136185\n",
            "Loss: 0.051961157032672095\n",
            "Loss: 0.05162179639728943\n",
            "Loss: 0.05677070579991139\n",
            "Loss: 0.060039517423369694\n",
            "Loss: 0.06355442780355712\n",
            "Loss: 0.06892514838821617\n",
            "Loss: 0.06687966949091508\n",
            "Loss: 0.0652336896236921\n",
            "Loss: 0.06541936295086356\n",
            "Loss: 0.06467616828362979\n",
            "Loss: 0.0648776139732714\n",
            "Loss: 0.06534787930064709\n",
            "Loss: 0.06537858276669445\n",
            "Loss: 0.06517510365670848\n",
            "Loss: 0.06506557562035048\n",
            "Loss: 0.06530990938919964\n",
            "Loss: 0.06483117593058356\n",
            "Loss: 0.06511472679465827\n",
            "Loss: 0.06566580594296946\n",
            "Loss: 0.06534579016833932\n",
            "Loss: 0.06516145261139258\n",
            "Loss: 0.06503297065382148\n"
          ]
        },
        {
          "output_type": "error",
          "ename": "KeyboardInterrupt",
          "evalue": "ignored",
          "traceback": [
            "\u001b[0;31m---------------------------------------------------------------------------\u001b[0m",
            "\u001b[0;31mKeyboardInterrupt\u001b[0m                         Traceback (most recent call last)",
            "\u001b[0;32m<ipython-input-53-0225fb61593a>\u001b[0m in \u001b[0;36m<cell line: 18>\u001b[0;34m()\u001b[0m\n\u001b[1;32m     63\u001b[0m \u001b[0;34m\u001b[0m\u001b[0m\n\u001b[1;32m     64\u001b[0m       \u001b[0mbatch_size\u001b[0m \u001b[0;34m=\u001b[0m \u001b[0mbatch\u001b[0m\u001b[0;34m[\u001b[0m\u001b[0;34m\"pixel_values\"\u001b[0m\u001b[0;34m]\u001b[0m\u001b[0;34m.\u001b[0m\u001b[0msize\u001b[0m\u001b[0;34m(\u001b[0m\u001b[0;36m0\u001b[0m\u001b[0;34m)\u001b[0m\u001b[0;34m\u001b[0m\u001b[0;34m\u001b[0m\u001b[0m\n\u001b[0;32m---> 65\u001b[0;31m       \u001b[0mrunning_loss\u001b[0m \u001b[0;34m+=\u001b[0m \u001b[0mloss\u001b[0m\u001b[0;34m.\u001b[0m\u001b[0mitem\u001b[0m\u001b[0;34m(\u001b[0m\u001b[0;34m)\u001b[0m\u001b[0;34m\u001b[0m\u001b[0;34m\u001b[0m\u001b[0m\n\u001b[0m\u001b[1;32m     66\u001b[0m       \u001b[0mnum_samples\u001b[0m \u001b[0;34m+=\u001b[0m \u001b[0mbatch_size\u001b[0m\u001b[0;34m\u001b[0m\u001b[0;34m\u001b[0m\u001b[0m\n\u001b[1;32m     67\u001b[0m \u001b[0;34m\u001b[0m\u001b[0m\n",
            "\u001b[0;31mKeyboardInterrupt\u001b[0m: "
          ]
        }
      ]
    },
    {
      "cell_type": "code",
      "source": [
        "import torch\n",
        "from tqdm.auto import tqdm\n",
        "from torch.optim.lr_scheduler import StepLR\n",
        "\n",
        "device = torch.device(\"cuda\" if torch.cuda.is_available() else \"cpu\")\n",
        "# device = \"cuda\"\n",
        "model1.to(device)\n",
        "model2.to(device)\n",
        "\n",
        "optimizer = torch.optim.Adam(model.parameters(), lr=5e-9)\n",
        "scheduler = StepLR(optimizer, step_size=1000, gamma=0.1)\n",
        "\n",
        "running_loss = 0.0\n",
        "num_samples = 0\n",
        "for epoch in range(1):\n",
        "  print(\"Epoch:\", epoch)\n",
        "  model.train()\n",
        "  for idx, batch in enumerate(tqdm(train_dataloader)):\n",
        "      # Reset the parameter gradients\n",
        "      optimizer.zero_grad()\n",
        "\n",
        "      images, labels = batch['original_images'], batch['original_segmentation_maps']\n",
        "\n",
        "      images = np.array(images)\n",
        "      images = torch.tensor(images)\n",
        "      labels = np.array(labels)\n",
        "      labels = torch.tensor(labels)/255\n",
        "\n",
        "      images.to(device)\n",
        "      labels.to(device)\n",
        "\n",
        "#       inputs = feature_extractor(images = images, segmentation_maps = labels, return_tensors = 'pt')\n",
        "#       print(inputs)\n",
        "\n",
        "      # UPER NET TINY\n",
        "      # inputs = image_processor(images = images, segmentation_maps = labels, return_tensors = 'pt')\n",
        "\n",
        "      # UPER NET TINY\n",
        "\n",
        "#       inputs = feature_extractor(images = images, segmentation_maps = labels, return_tensors = 'pt')\n",
        "      # comment the mask labels and class labels for segformer\n",
        "#       inputs['mask_labels'] = torch.stack(inputs['mask_labels'])\n",
        "#       inputs['class_labels'] = torch.stack(inputs['class_labels'])\n",
        "      # comment the mask labels and class labels for segformer\n",
        "\n",
        "#       inputs['pixel_values'] = inputs['pixel_values'].float()\n",
        "      # inputs.to(device)\n",
        "\n",
        "      # outputs = model(**inputs)\n",
        "\n",
        "      # Backward propagation\n",
        "      loss = outputs.loss\n",
        "      loss.backward()\n",
        "\n",
        "      batch_size = batch[\"pixel_values\"].size(0)\n",
        "      running_loss += loss.item()\n",
        "      num_samples += batch_size\n",
        "\n",
        "      if idx % 50 == 0:\n",
        "        print(\"Loss:\", running_loss/num_samples)\n",
        "\n",
        "      # Optimization\n",
        "      optimizer.step()\n",
        "\n",
        "#       scheduler.step()"
      ],
      "metadata": {
        "colab": {
          "base_uri": "https://localhost:8080/",
          "height": 659,
          "referenced_widgets": [
            "45fef118afe64fd48aabc0fceba93792",
            "9fd8fb730a8349c494e5177b319da145",
            "ef51a7df6fc14a7d91cfb31f17222c6c",
            "24d2dc623f3f4ca18e68516f68d624d0",
            "6a2dacb0eb3a43a38d721bac020496d3",
            "4ae058b90f5e4254b5c3976fe064ef9d",
            "17e380fa2fdd433fb0040622f24a5e0b",
            "ce38b348fa59482a9d5ceb9662683626",
            "ad339f2d032940fea58b33097597c855",
            "04acf53ec0ff431683c098273071450d",
            "2cbbca59f0e84d8ea176cd4a7a7e293f"
          ]
        },
        "id": "qEDfxsEwwsd_",
        "outputId": "5c62c4a2-457a-4a84-f76d-31256f06739e",
        "execution": {
          "iopub.status.busy": "2023-08-19T12:56:48.399072Z",
          "iopub.execute_input": "2023-08-19T12:56:48.400120Z",
          "iopub.status.idle": "2023-08-19T12:56:50.885757Z",
          "shell.execute_reply.started": "2023-08-19T12:56:48.400082Z",
          "shell.execute_reply": "2023-08-19T12:56:50.884421Z"
        },
        "trusted": true
      },
      "execution_count": 29,
      "outputs": [
        {
          "output_type": "stream",
          "name": "stdout",
          "text": [
            "Epoch: 0\n"
          ]
        },
        {
          "output_type": "display_data",
          "data": {
            "text/plain": [
              "  0%|          | 0/4158 [00:00<?, ?it/s]"
            ],
            "application/vnd.jupyter.widget-view+json": {
              "version_major": 2,
              "version_minor": 0,
              "model_id": "45fef118afe64fd48aabc0fceba93792"
            }
          },
          "metadata": {}
        },
        {
          "output_type": "stream",
          "name": "stdout",
          "text": [
            "Loss: 0.15979760885238647\n",
            "Loss: 0.055722007600992336\n",
            "Loss: 0.06555868521111437\n",
            "Loss: 0.0683302745802809\n",
            "Loss: 0.07045274599228259\n",
            "Loss: 0.07108875591515663\n",
            "Loss: 0.07116940762983802\n",
            "Loss: 0.07196800433300923\n",
            "Loss: 0.07115603786918737\n",
            "Loss: 0.07202088099154758\n",
            "Loss: 0.07035374725349024\n",
            "Loss: 0.07224220690484785\n",
            "Loss: 0.07146401131624812\n",
            "Loss: 0.07119912233778752\n",
            "Loss: 0.07050936658017752\n",
            "Loss: 0.07263780275630094\n",
            "Loss: 0.07209392496327707\n",
            "Loss: 0.0718220066925955\n",
            "Loss: 0.07200786000123861\n",
            "Loss: 0.07263111094155836\n",
            "Loss: 0.0729698621305999\n"
          ]
        },
        {
          "output_type": "error",
          "ename": "KeyboardInterrupt",
          "evalue": "ignored",
          "traceback": [
            "\u001b[0;31m---------------------------------------------------------------------------\u001b[0m",
            "\u001b[0;31mKeyboardInterrupt\u001b[0m                         Traceback (most recent call last)",
            "\u001b[0;32m<ipython-input-29-25dcd96c078f>\u001b[0m in \u001b[0;36m<cell line: 14>\u001b[0;34m()\u001b[0m\n\u001b[1;32m     53\u001b[0m \u001b[0;34m\u001b[0m\u001b[0m\n\u001b[1;32m     54\u001b[0m       \u001b[0mbatch_size\u001b[0m \u001b[0;34m=\u001b[0m \u001b[0mbatch\u001b[0m\u001b[0;34m[\u001b[0m\u001b[0;34m\"pixel_values\"\u001b[0m\u001b[0;34m]\u001b[0m\u001b[0;34m.\u001b[0m\u001b[0msize\u001b[0m\u001b[0;34m(\u001b[0m\u001b[0;36m0\u001b[0m\u001b[0;34m)\u001b[0m\u001b[0;34m\u001b[0m\u001b[0;34m\u001b[0m\u001b[0m\n\u001b[0;32m---> 55\u001b[0;31m       \u001b[0mrunning_loss\u001b[0m \u001b[0;34m+=\u001b[0m \u001b[0mloss\u001b[0m\u001b[0;34m.\u001b[0m\u001b[0mitem\u001b[0m\u001b[0;34m(\u001b[0m\u001b[0;34m)\u001b[0m\u001b[0;34m\u001b[0m\u001b[0;34m\u001b[0m\u001b[0m\n\u001b[0m\u001b[1;32m     56\u001b[0m       \u001b[0mnum_samples\u001b[0m \u001b[0;34m+=\u001b[0m \u001b[0mbatch_size\u001b[0m\u001b[0;34m\u001b[0m\u001b[0;34m\u001b[0m\u001b[0m\n\u001b[1;32m     57\u001b[0m \u001b[0;34m\u001b[0m\u001b[0m\n",
            "\u001b[0;31mKeyboardInterrupt\u001b[0m: "
          ]
        }
      ]
    },
    {
      "cell_type": "code",
      "source": [
        "from huggingface_hub import notebook_login\n",
        "\n",
        "notebook_login()"
      ],
      "metadata": {
        "id": "nKiBUXDaTp-s",
        "colab": {
          "base_uri": "https://localhost:8080/",
          "height": 160,
          "referenced_widgets": [
            "0379948dfb064b3ea8e90376acdab705",
            "eac72f4d5d9740c7b28989166afe17c7",
            "cf866dde78444ef586d0cb8ce92370a3",
            "e0929972c4094d7e95ce6390266a6eb5",
            "a3adec6da09f47eb8f968be6f555d34f",
            "9641d4275e64438eabfd1697df2e65cc",
            "d7d6ea6eb9f048c3a219c0d210ce4f0c",
            "f7941fbf0b2b44a6b71708b9d23d1663",
            "a3656545c80d42c28b6b0b5640eb74df",
            "5261686f8adf4b39ad9fdf04989afefa",
            "bd7c4adc985f4edda92538a5d3b7a005",
            "c8e28571a2de41d28902a62e36051081",
            "21b365b8db734215bbb7993c4fea0d4d",
            "1b8d0f24e8c2480eb1c7de1e34e342c6",
            "a32e587f6f8841a4b96ee9828e73425b",
            "5f3591adcc424499b86f2e98f9fa2416",
            "8381d29736834bb890aa4dfdf9fc944f",
            "811fc1d3b6af4747823b8e9008381a8d",
            "fdf349e3bb6d4a098f67569dd42cfff6",
            "8437804d19224c81abee761a75222cd3",
            "72d64d8b15894184ac8caff1217dd21e",
            "83ccdf4e1144461286d1de2e48f58a82",
            "c87664791d1c448ca2ca4ece96ec6032",
            "025a2aff0cdf4c63a204facec9c7fbc6",
            "87eec65505444f01983d8c2156d66c28",
            "7aca5b98c4f34cb894cabaeaec8fcc66",
            "f08cc88dce7c4416b8508156744172fd",
            "ac36bcd1115e4a63b3e99dd64be1ee60",
            "66bee7a1fb8246238717bc2bc21227c6",
            "d05d1d47fc8c44b1a7db746d5c16e2a2",
            "cca7b615e7c74ef980539a24bff7e88b",
            "31579ea050954f36beab1f0080bafb62",
            "7e32676609394d11a22ef80508a96549"
          ]
        },
        "outputId": "8e598289-9988-4859-954b-208639ea5bb0",
        "execution": {
          "iopub.status.busy": "2023-08-19T12:45:58.875007Z",
          "iopub.execute_input": "2023-08-19T12:45:58.875383Z",
          "iopub.status.idle": "2023-08-19T12:45:58.905387Z",
          "shell.execute_reply.started": "2023-08-19T12:45:58.875351Z",
          "shell.execute_reply": "2023-08-19T12:45:58.904497Z"
        },
        "trusted": true
      },
      "execution_count": null,
      "outputs": [
        {
          "output_type": "display_data",
          "data": {
            "text/plain": "VBox(children=(HTML(value='<center> <img\\nsrc=https://huggingface.co/front/assets/huggingface_logo-noborder.sv…",
            "application/vnd.jupyter.widget-view+json": {
              "version_major": 2,
              "version_minor": 0,
              "model_id": "7e32676609394d11a22ef80508a96549"
            }
          },
          "metadata": {}
        }
      ]
    },
    {
      "cell_type": "code",
      "source": [
        "# repo_name = \"Upernet-finetuned-for-38-cloud-dataset\"\n",
        "model.push_to_hub(repo_name)"
      ],
      "metadata": {
        "colab": {
          "base_uri": "https://localhost:8080/",
          "height": 164,
          "referenced_widgets": [
            "462eb7c7dee54af097df686de490ce3c",
            "383f291e4fda4d83859d6818a854a253",
            "dce44e3ec26d4ff38fed07d453403543",
            "31f668be3a974f72a1aeb9153b37c5df",
            "860660298c6243918bd4422f737faf52",
            "08d15ce1d61a466c8e4265a32570e0b0",
            "dbe184b793454f4abffc4187346351a7",
            "3c4901f194e741f4a44a4d5e802de1b0",
            "3648db3eb4b74ca1a44a81ffa5c6b03d",
            "7a90cf610169485b8a958636132e3efb",
            "e45b4c68c90e4e09abfb4388472542a0",
            "99b5aeec1d9245c895bf28d9b19b4dc7"
          ]
        },
        "id": "AHE_z1fuwusk",
        "outputId": "c8b3d4db-ead5-47a9-ec66-e118e55c9e5a",
        "execution": {
          "iopub.status.busy": "2023-08-19T12:46:11.259237Z",
          "iopub.execute_input": "2023-08-19T12:46:11.259934Z",
          "iopub.status.idle": "2023-08-19T12:46:23.752585Z",
          "shell.execute_reply.started": "2023-08-19T12:46:11.259881Z",
          "shell.execute_reply": "2023-08-19T12:46:23.751427Z"
        },
        "trusted": true
      },
      "execution_count": null,
      "outputs": [
        {
          "output_type": "display_data",
          "data": {
            "text/plain": "pytorch_model.bin:   0%|          | 0.00/241M [00:00<?, ?B/s]",
            "application/vnd.jupyter.widget-view+json": {
              "version_major": 2,
              "version_minor": 0,
              "model_id": "99b5aeec1d9245c895bf28d9b19b4dc7"
            }
          },
          "metadata": {}
        },
        {
          "execution_count": 27,
          "output_type": "execute_result",
          "data": {
            "text/plain": "CommitInfo(commit_url='https://huggingface.co/jaygala223/Upernet-finetuned-for-38-cloud-dataset/commit/a89a09c27bb5790b7328220fb68c391054826f0f', commit_message='Upload UperNetForSemanticSegmentation', commit_description='', oid='a89a09c27bb5790b7328220fb68c391054826f0f', pr_url=None, pr_revision=None, pr_num=None)"
          },
          "metadata": {}
        }
      ]
    },
    {
      "cell_type": "markdown",
      "source": [
        "TESTING"
      ],
      "metadata": {
        "id": "3xSl0K-5wxlJ"
      }
    },
    {
      "cell_type": "code",
      "source": [
        "def calculate_iou(pred_mask_list, true_mask_list):\n",
        "    total_iou = 0.0\n",
        "    num_masks = len(pred_mask_list)\n",
        "\n",
        "    for pred_mask, true_mask in zip(pred_mask_list, true_mask_list):\n",
        "        pred_mask = pred_mask.cpu()\n",
        "        true_mask = true_mask.cpu()\n",
        "        intersection = torch.logical_and(pred_mask, true_mask).sum()\n",
        "        union = torch.logical_or(pred_mask, true_mask).sum()\n",
        "\n",
        "        iou = intersection.float() / union.float()\n",
        "        total_iou += iou.item()\n",
        "\n",
        "    avg_iou = total_iou / num_masks\n",
        "    return avg_iou"
      ],
      "metadata": {
        "id": "rg7wPCadwwc8",
        "execution": {
          "iopub.status.busy": "2023-08-19T12:46:26.619592Z",
          "iopub.execute_input": "2023-08-19T12:46:26.620071Z",
          "iopub.status.idle": "2023-08-19T12:46:26.633127Z",
          "shell.execute_reply.started": "2023-08-19T12:46:26.620032Z",
          "shell.execute_reply": "2023-08-19T12:46:26.632143Z"
        },
        "trusted": true
      },
      "execution_count": 54,
      "outputs": []
    },
    {
      "cell_type": "code",
      "source": [
        "import torch\n",
        "\n",
        "def calculate_metrics(true_labels, predicted_labels, device):\n",
        "    true_positives = 0\n",
        "    false_positives = 0\n",
        "    false_negatives = 0\n",
        "    true_negatives = 0\n",
        "\n",
        "    for true, predicted in zip(true_labels, predicted_labels):\n",
        "        true.to(device)\n",
        "        predicted.to(device)\n",
        "        true_positives += torch.sum((predicted == 1) & (true == 1)).item()\n",
        "        false_positives += torch.sum((predicted == 1) & (true == 0)).item()\n",
        "        false_negatives += torch.sum((predicted == 0) & (true == 1)).item()\n",
        "        true_negatives += torch.sum((predicted == 0) & (true == 0)).item()\n",
        "\n",
        "    precision = true_positives / (true_positives + false_positives + 1e-7)\n",
        "    recall = true_positives / (true_positives + false_negatives + 1e-7)\n",
        "    accuracy = (true_positives + true_negatives) / (true_positives + true_negatives + false_positives + false_negatives + 1e-7)\n",
        "    f1_score = 2 * (precision * recall) / (precision + recall + 1e-7)\n",
        "\n",
        "    return precision, recall, accuracy, f1_score\n",
        "\n",
        "# Example usage\n",
        "true_labels = [torch.tensor([1, 0, 1]), torch.tensor([1, 1, 0])]\n",
        "predicted_labels = [torch.tensor([1, 0, 1]), torch.tensor([1, 1, 0])]\n",
        "\n",
        "precision, recall, accuracy, f1_score = calculate_metrics(true_labels, predicted_labels, \"cuda\")\n",
        "print(\"Precision:\", precision)\n",
        "print(\"Recall:\", recall)\n",
        "print(\"Accuracy:\", accuracy)\n",
        "print(\"F1 Score:\", f1_score)"
      ],
      "metadata": {
        "colab": {
          "base_uri": "https://localhost:8080/"
        },
        "id": "N7lGb8VewzuI",
        "outputId": "d12d7e6f-a4e6-41ed-bf6d-7992cb49ec2a",
        "execution": {
          "iopub.status.busy": "2023-08-19T12:46:28.515288Z",
          "iopub.execute_input": "2023-08-19T12:46:28.515775Z",
          "iopub.status.idle": "2023-08-19T12:46:28.542690Z",
          "shell.execute_reply.started": "2023-08-19T12:46:28.515736Z",
          "shell.execute_reply": "2023-08-19T12:46:28.541619Z"
        },
        "trusted": true
      },
      "execution_count": 55,
      "outputs": [
        {
          "output_type": "stream",
          "name": "stdout",
          "text": [
            "Precision: 0.9999999750000006\n",
            "Recall: 0.9999999750000006\n",
            "Accuracy: 0.9999999833333336\n",
            "F1 Score: 0.9999999250000032\n"
          ]
        }
      ]
    },
    {
      "cell_type": "code",
      "source": [
        "# UPERNET evaluation WITH NEW ALGO: LOGICAL OR\n",
        "\n",
        "from tqdm.auto import tqdm\n",
        "\n",
        "model.eval()\n",
        "device = \"cpu\"\n",
        "all_ious = []\n",
        "precisions, recalls, accuracies, f1_scores = [], [], [], []\n",
        "for idx, batch in enumerate(tqdm(test_dataloader)):\n",
        "    if idx > 10:\n",
        "        break\n",
        "    images, labels = batch['original_images'], batch['original_segmentation_maps']\n",
        "\n",
        "    images = np.array(images)\n",
        "    images = torch.tensor(images)\n",
        "    labels = np.array(labels)\n",
        "    labels = torch.tensor(labels)/255\n",
        "\n",
        "    images.to(device)\n",
        "    labels.to(device)\n",
        "    model1.to(device)\n",
        "    model2.to(device)\n",
        "\n",
        "\n",
        "    # Forward pass\n",
        "    with torch.no_grad():\n",
        "      # forward pass\n",
        "\n",
        "      inputs1 = image_processor(images = images, segmentation_maps = labels, return_tensors = 'pt')\n",
        "\n",
        "      inputs1.to(device)\n",
        "\n",
        "      outputs1 = model1(**inputs1)\n",
        "\n",
        "      target_sizes1 = [(image.shape[0], image.shape[1]) for image in images]\n",
        "\n",
        "      predicted_segmentation_maps1 = image_processor.post_process_semantic_segmentation(outputs1,\n",
        "                                                                                        target_sizes=target_sizes1)\n",
        "\n",
        "      images = images\n",
        "\n",
        "      # generate new labels using OR\n",
        "      labels = torch.logical_or(labels.to(device), torch.stack(predicted_segmentation_maps1).to(device))\n",
        "\n",
        "      inputs2 = image_processor(images = images, segmentation_maps = labels, return_tensors = 'pt')\n",
        "\n",
        "      inputs2.to(device)\n",
        "\n",
        "      # train on new labels to tackle label inconsistency\n",
        "      outputs2 = model2(**inputs2)\n",
        "\n",
        "    # get original images\n",
        "    # original_images = batch[\"original_images\"]\n",
        "    target_sizes = [(image.shape[0], image.shape[1]) for image in images]\n",
        "    # predict segmentation maps\n",
        "    predicted_segmentation_maps = image_processor.post_process_semantic_segmentation(outputs2,\n",
        "                                                                                  target_sizes=target_sizes)\n",
        "\n",
        "#     print(outputs.keys())\n",
        "    # get ground truth segmentation maps\n",
        "    # ground_truth_segmentation_maps = batch[\"original_segmentation_maps\"]\n",
        "    for preds in predicted_segmentation_maps:\n",
        "        preds.int()\n",
        "        preds.to(device)\n",
        "    for label in labels:\n",
        "        label.int()\n",
        "        label.to(device)\n",
        "\n",
        "#     print(predicted_segmentation_maps)\n",
        "#     print(labels)\n",
        "\n",
        "    # removing all values into a list of ints because the evaluate library expects it that way.\n",
        "    labels_for_evaluation = []\n",
        "\n",
        "    for label in labels:\n",
        "        labels_for_evaluation.append(label.view(-1))\n",
        "\n",
        "    labels_for_evaluation = torch.cat(labels_for_evaluation, dim = 0)\n",
        "    labels_for_evaluation.int()\n",
        "\n",
        "    pred_labels_for_evaluation = []\n",
        "\n",
        "    for preds in predicted_segmentation_maps:\n",
        "        pred_labels_for_evaluation.append(label.view(-1))\n",
        "\n",
        "    pred_labels_for_evaluation = torch.cat(pred_labels_for_evaluation, dim = 0)\n",
        "    pred_labels_for_evaluation.int()\n",
        "\n",
        "    #for mean iou calculation... pred maps and labels must be same shape\n",
        "    labels_list = []\n",
        "\n",
        "    for i in range(labels.size(0)):\n",
        "        labels[i].int()\n",
        "        labels_list.append(labels[i])\n",
        "\n",
        "#     print(predicted_segmentation_maps, labels_list)\n",
        "    all_ious.append(calculate_iou(predicted_segmentation_maps, labels_list))\n",
        "    precision, recall, accuracy, f1_score = calculate_metrics(labels_list, predicted_segmentation_maps, device)\n",
        "    precisions.append(precision)\n",
        "    recalls.append(recall)\n",
        "    accuracies.append(accuracy)\n",
        "    f1_scores.append(f1_score)\n",
        "\n",
        "print(\"precision\", sum(precisions)/ len(precisions))\n",
        "print(\"f1_score\", sum(f1_scores)/ len(f1_scores))\n",
        "print(\"recall\", sum(recalls)/ len(recalls))\n",
        "print(\"accuracy\", sum(accuracies)/ len(accuracies))\n",
        "print(\"mIoU: \", sum(all_ious)/len(all_ious))"
      ],
      "metadata": {
        "id": "gg1psZc3QicD"
      },
      "execution_count": null,
      "outputs": []
    },
    {
      "cell_type": "code",
      "source": [
        "from tqdm.auto import tqdm\n",
        "\n",
        "model.eval()\n",
        "device = \"cpu\"\n",
        "all_ious = []\n",
        "precisions, recalls, accuracies, f1_scores = [], [], [], []\n",
        "for idx, batch in enumerate(tqdm(test_dataloader)):\n",
        "    if idx > 10:\n",
        "        break\n",
        "    images, labels = batch['original_images'], batch['original_segmentation_maps']\n",
        "\n",
        "    images = np.array(images)\n",
        "    images = torch.tensor(images)\n",
        "    labels = np.array(labels)\n",
        "    labels = torch.tensor(labels)/255\n",
        "\n",
        "    images.to(device)\n",
        "    labels.to(device)\n",
        "    model.to(device)\n",
        "\n",
        "    ### Upernet\n",
        "    inputs = image_processor(images = images, segmentation_maps = labels, return_tensors = 'pt')\n",
        "\n",
        "    ### upernet\n",
        "\n",
        "#     inputs = feature_extractor(images = images, segmentation_maps = labels, return_tensors = 'pt')\n",
        "#     print(inputs)\n",
        "\n",
        "    ##### comment these 2 lines for segformer... keep otherwise ####\n",
        "#     inputs['mask_labels'] = torch.stack(inputs['mask_labels'])\n",
        "#     inputs['class_labels'] = torch.stack(inputs['class_labels'])\n",
        "    ##### comment these 2 lines for segformer... keep otherwise ####\n",
        "#     inputs['pixel_values'] = inputs['pixel_values'].float()\n",
        "    inputs.to(device)\n",
        "\n",
        "    # Forward pass\n",
        "    with torch.no_grad():\n",
        "      # outputs = model(pixel_values=pixel_values.to(device))\n",
        "      outputs = model(**inputs)\n",
        "\n",
        "    # get original images\n",
        "    # original_images = batch[\"original_images\"]\n",
        "    target_sizes = [(image.shape[0], image.shape[1]) for image in images]\n",
        "    # predict segmentation maps\n",
        "    predicted_segmentation_maps = image_processor.post_process_semantic_segmentation(outputs,\n",
        "                                                                                  target_sizes=target_sizes)\n",
        "\n",
        "#     print(outputs.keys())\n",
        "    # get ground truth segmentation maps\n",
        "    # ground_truth_segmentation_maps = batch[\"original_segmentation_maps\"]\n",
        "    for preds in predicted_segmentation_maps:\n",
        "        preds.int()\n",
        "        preds.to(device)\n",
        "    for label in labels:\n",
        "        label.int()\n",
        "        label.to(device)\n",
        "\n",
        "#     print(predicted_segmentation_maps)\n",
        "#     print(labels)\n",
        "\n",
        "    # removing all values into a list of ints because the evaluate library expects it that way.\n",
        "    labels_for_evaluation = []\n",
        "\n",
        "    for label in labels:\n",
        "        labels_for_evaluation.append(label.view(-1))\n",
        "\n",
        "    labels_for_evaluation = torch.cat(labels_for_evaluation, dim = 0)\n",
        "    labels_for_evaluation.int()\n",
        "\n",
        "    pred_labels_for_evaluation = []\n",
        "\n",
        "    for preds in predicted_segmentation_maps:\n",
        "        pred_labels_for_evaluation.append(label.view(-1))\n",
        "\n",
        "    pred_labels_for_evaluation = torch.cat(pred_labels_for_evaluation, dim = 0)\n",
        "    pred_labels_for_evaluation.int()\n",
        "\n",
        "    #for mean iou calculation... pred maps and labels must be same shape\n",
        "    labels_list = []\n",
        "\n",
        "    for i in range(labels.size(0)):\n",
        "        labels[i].int()\n",
        "        labels_list.append(labels[i])\n",
        "\n",
        "#     print(predicted_segmentation_maps, labels_list)\n",
        "    all_ious.append(calculate_iou(predicted_segmentation_maps, labels_list))\n",
        "    precision, recall, accuracy, f1_score = calculate_metrics(labels_list, predicted_segmentation_maps, device)\n",
        "    precisions.append(precision)\n",
        "    recalls.append(recall)\n",
        "    accuracies.append(accuracy)\n",
        "    f1_scores.append(f1_score)\n",
        "\n",
        "print(\"precision\", sum(precisions)/ len(precisions))\n",
        "print(\"f1_score\", sum(f1_scores)/ len(f1_scores))\n",
        "print(\"recall\", sum(recalls)/ len(recalls))\n",
        "print(\"accuracy\", sum(accuracies)/ len(accuracies))\n",
        "print(\"mIoU: \", sum(all_ious)/len(all_ious))"
      ],
      "metadata": {
        "id": "8Qd17ar7w2Ae",
        "colab": {
          "base_uri": "https://localhost:8080/",
          "height": 136,
          "referenced_widgets": [
            "627afeb37916495aac839ab127608c8a",
            "bf2e0b37b67046bfbed4b7fc6f777e3c",
            "c3f37fe115b24d57b192513d0f9fa864",
            "e05180f5b1b64ca584da2359478ced99",
            "667f1a9383ba4e6eb201872cc2c370e4",
            "112c19dc33194a57940813d24ceb8711",
            "0d5c1b233b0a493ea7c92d378fdfcfba",
            "268a3dedfa824daabc0945ee57e02db3",
            "1057198b51ad4237a8815e9a055c714b",
            "2318b655902045fd9ce51a1b896d9553",
            "bf046d0d09b74bf7bc6f51e0af15f17e"
          ]
        },
        "outputId": "55eff49f-81c3-421a-d3e9-cc1ebe6bd537",
        "execution": {
          "iopub.status.busy": "2023-08-19T12:46:33.086543Z",
          "iopub.execute_input": "2023-08-19T12:46:33.086952Z",
          "iopub.status.idle": "2023-08-19T12:48:40.404497Z",
          "shell.execute_reply.started": "2023-08-19T12:46:33.086923Z",
          "shell.execute_reply": "2023-08-19T12:48:40.403555Z"
        },
        "trusted": true
      },
      "execution_count": 34,
      "outputs": [
        {
          "output_type": "display_data",
          "data": {
            "text/plain": [
              "  0%|          | 0/42 [00:00<?, ?it/s]"
            ],
            "application/vnd.jupyter.widget-view+json": {
              "version_major": 2,
              "version_minor": 0,
              "model_id": "627afeb37916495aac839ab127608c8a"
            }
          },
          "metadata": {}
        },
        {
          "output_type": "stream",
          "name": "stdout",
          "text": [
            "precision 0.8760828459704162\n",
            "f1_score 0.740377590438284\n",
            "recall 0.7183875923777739\n",
            "accuracy 0.9722693857517221\n",
            "mIoU:  0.5161226363005963\n"
          ]
        }
      ]
    },
    {
      "cell_type": "code",
      "source": [
        "# upernet-swin tiny (tuned)\n",
        "precision 0.9392357746591729\n",
        "f1_score 0.8274812357961276\n",
        "recall 0.8020496805250736\n",
        "accuracy 0.9476910215432391\n",
        "mIoU:  0.4426152956756679\n",
        "\n",
        "# upernet-swin tiny (tuned)\n",
        "precision 0.8683672456144808\n",
        "f1_score 0.7479758424948\n",
        "recall 0.7284804817339592\n",
        "accuracy 0.9722921968707247\n",
        "mIoU:  0.5187820670279589\n",
        "\n",
        "# upernet swin large (untuned)\n",
        "precision 0.04674390520428237\n",
        "f1_score 0.05677240963341936\n",
        "recall 0.07227933222051418\n",
        "accuracy 0.1463044294935711\n",
        "mIoU:  0.33444785990053044\n",
        "\n",
        "#maskformer tuned\n",
        "precision 0.7754642685034004\n",
        "f1_score 0.7528422777953474\n",
        "recall 0.7397811585765738\n",
        "accuracy 0.9775063871126577\n",
        "mIoU:  0.7168471569364722\n",
        "\n",
        "precision 0.5217402294425123\n",
        "f1_score 0.5894180085336521\n",
        "recall 0.999999981816197\n",
        "accuracy 0.5217402294425123\n",
        "mIoU:  0.521740224174788"
      ],
      "metadata": {
        "id": "iXyF-jnyWxUM",
        "execution": {
          "iopub.status.busy": "2023-08-19T12:06:24.193427Z",
          "iopub.execute_input": "2023-08-19T12:06:24.193803Z",
          "iopub.status.idle": "2023-08-19T12:06:24.568191Z",
          "shell.execute_reply.started": "2023-08-19T12:06:24.193770Z",
          "shell.execute_reply": "2023-08-19T12:06:24.566728Z"
        },
        "trusted": true,
        "outputId": "384798fe-da1c-4b5e-9f58-573286b61a60"
      },
      "execution_count": null,
      "outputs": [
        {
          "output_type": "display_data",
          "data": {
            "text/plain": "\u001b[31m╭─\u001b[0m\u001b[31m──────────────────────────────\u001b[0m\u001b[31m \u001b[0m\u001b[1;31mTraceback \u001b[0m\u001b[1;2;31m(most recent call last)\u001b[0m\u001b[31m \u001b[0m\u001b[31m───────────────────────────────\u001b[0m\u001b[31m─╮\u001b[0m\n\u001b[31m│\u001b[0m \u001b[2;33m/opt/conda/lib/python3.10/site-packages/IPython/core/\u001b[0m\u001b[1;33minteractiveshell.py\u001b[0m:\u001b[94m3241\u001b[0m in \u001b[92mrun_cell_async\u001b[0m  \u001b[31m│\u001b[0m\n\u001b[31m│\u001b[0m                                                                                                  \u001b[31m│\u001b[0m\n\u001b[31m│\u001b[0m   \u001b[2m3238 \u001b[0m\u001b[2m│   │   │   \u001b[0m\u001b[94mwith\u001b[0m \u001b[96mself\u001b[0m.display_trap:                                                       \u001b[31m│\u001b[0m\n\u001b[31m│\u001b[0m   \u001b[2m3239 \u001b[0m\u001b[2m│   │   │   │   \u001b[0m\u001b[2m# Compile to bytecode\u001b[0m                                                     \u001b[31m│\u001b[0m\n\u001b[31m│\u001b[0m   \u001b[2m3240 \u001b[0m\u001b[2m│   │   │   │   \u001b[0m\u001b[94mtry\u001b[0m:                                                                      \u001b[31m│\u001b[0m\n\u001b[31m│\u001b[0m \u001b[31m❱ \u001b[0m3241 \u001b[2m│   │   │   │   │   \u001b[0mcode_ast = compiler.ast_parse(cell, filename=cell_name)               \u001b[31m│\u001b[0m\n\u001b[31m│\u001b[0m   \u001b[2m3242 \u001b[0m\u001b[2m│   │   │   │   \u001b[0m\u001b[94mexcept\u001b[0m \u001b[96mself\u001b[0m.custom_exceptions \u001b[94mas\u001b[0m e:                                       \u001b[31m│\u001b[0m\n\u001b[31m│\u001b[0m   \u001b[2m3243 \u001b[0m\u001b[2m│   │   │   │   │   \u001b[0metype, value, tb = sys.exc_info()                                     \u001b[31m│\u001b[0m\n\u001b[31m│\u001b[0m   \u001b[2m3244 \u001b[0m\u001b[2m│   │   │   │   │   \u001b[0m\u001b[96mself\u001b[0m.CustomTB(etype, value, tb)                                       \u001b[31m│\u001b[0m\n\u001b[31m│\u001b[0m                                                                                                  \u001b[31m│\u001b[0m\n\u001b[31m│\u001b[0m \u001b[2;33m/opt/conda/lib/python3.10/site-packages/IPython/core/\u001b[0m\u001b[1;33mcompilerop.py\u001b[0m:\u001b[94m86\u001b[0m in \u001b[92mast_parse\u001b[0m               \u001b[31m│\u001b[0m\n\u001b[31m│\u001b[0m                                                                                                  \u001b[31m│\u001b[0m\n\u001b[31m│\u001b[0m   \u001b[2m 83 \u001b[0m\u001b[2m│   │   \u001b[0m                                                                                   \u001b[31m│\u001b[0m\n\u001b[31m│\u001b[0m   \u001b[2m 84 \u001b[0m\u001b[2;33m│   │   \u001b[0m\u001b[33mArguments are exactly the same as ast.parse (in the standard library),\u001b[0m             \u001b[31m│\u001b[0m\n\u001b[31m│\u001b[0m   \u001b[2m 85 \u001b[0m\u001b[2;33m│   │   \u001b[0m\u001b[33mand are passed to the built-in compile function.\"\"\"\u001b[0m                                \u001b[31m│\u001b[0m\n\u001b[31m│\u001b[0m \u001b[31m❱ \u001b[0m 86 \u001b[2m│   │   \u001b[0m\u001b[94mreturn\u001b[0m \u001b[96mcompile\u001b[0m(source, filename, symbol, \u001b[96mself\u001b[0m.flags | PyCF_ONLY_AST, \u001b[94m1\u001b[0m)            \u001b[31m│\u001b[0m\n\u001b[31m│\u001b[0m   \u001b[2m 87 \u001b[0m\u001b[2m│   \u001b[0m                                                                                       \u001b[31m│\u001b[0m\n\u001b[31m│\u001b[0m   \u001b[2m 88 \u001b[0m\u001b[2m│   \u001b[0m\u001b[94mdef\u001b[0m \u001b[92mreset_compiler_flags\u001b[0m(\u001b[96mself\u001b[0m):                                                        \u001b[31m│\u001b[0m\n\u001b[31m│\u001b[0m   \u001b[2m 89 \u001b[0m\u001b[2;90m│   │   \u001b[0m\u001b[33m\"\"\"Reset compiler flags to default state.\"\"\"\u001b[0m                                       \u001b[31m│\u001b[0m\n\u001b[31m╰──────────────────────────────────────────────────────────────────────────────────────────────────╯\u001b[0m\n\u001b[91m╭──────────────────────────────────────────────────────────────────────────────────────────────────╮\u001b[0m\n\u001b[91m│\u001b[0m precision \u001b[94m0.807980100402321\u001b[0m                                                                      \u001b[91m│\u001b[0m\n\u001b[91m│\u001b[0m           \u001b[1;91m▲\u001b[0m                                                                                      \u001b[91m│\u001b[0m\n\u001b[91m╰──────────────────────────────────────────────────────────────────────────────────────────────────╯\u001b[0m\n\u001b[1;91mSyntaxError: \u001b[0minvalid syntax\n",
            "text/html": "<pre style=\"white-space:pre;overflow-x:auto;line-height:normal;font-family:Menlo,'DejaVu Sans Mono',consolas,'Courier New',monospace\"><span style=\"color: #800000; text-decoration-color: #800000\">╭─────────────────────────────── </span><span style=\"color: #800000; text-decoration-color: #800000; font-weight: bold\">Traceback </span><span style=\"color: #bf7f7f; text-decoration-color: #bf7f7f; font-weight: bold\">(most recent call last)</span><span style=\"color: #800000; text-decoration-color: #800000\"> ────────────────────────────────╮</span>\n<span style=\"color: #800000; text-decoration-color: #800000\">│</span> <span style=\"color: #bfbf7f; text-decoration-color: #bfbf7f\">/opt/conda/lib/python3.10/site-packages/IPython/core/</span><span style=\"color: #808000; text-decoration-color: #808000; font-weight: bold\">interactiveshell.py</span>:<span style=\"color: #0000ff; text-decoration-color: #0000ff\">3241</span> in <span style=\"color: #00ff00; text-decoration-color: #00ff00\">run_cell_async</span>  <span style=\"color: #800000; text-decoration-color: #800000\">│</span>\n<span style=\"color: #800000; text-decoration-color: #800000\">│</span>                                                                                                  <span style=\"color: #800000; text-decoration-color: #800000\">│</span>\n<span style=\"color: #800000; text-decoration-color: #800000\">│</span>   <span style=\"color: #7f7f7f; text-decoration-color: #7f7f7f\">3238 </span><span style=\"color: #7f7f7f; text-decoration-color: #7f7f7f\">│   │   │   </span><span style=\"color: #0000ff; text-decoration-color: #0000ff\">with</span> <span style=\"color: #00ffff; text-decoration-color: #00ffff\">self</span>.display_trap:                                                       <span style=\"color: #800000; text-decoration-color: #800000\">│</span>\n<span style=\"color: #800000; text-decoration-color: #800000\">│</span>   <span style=\"color: #7f7f7f; text-decoration-color: #7f7f7f\">3239 </span><span style=\"color: #7f7f7f; text-decoration-color: #7f7f7f\">│   │   │   │   </span><span style=\"color: #7f7f7f; text-decoration-color: #7f7f7f\"># Compile to bytecode</span>                                                     <span style=\"color: #800000; text-decoration-color: #800000\">│</span>\n<span style=\"color: #800000; text-decoration-color: #800000\">│</span>   <span style=\"color: #7f7f7f; text-decoration-color: #7f7f7f\">3240 </span><span style=\"color: #7f7f7f; text-decoration-color: #7f7f7f\">│   │   │   │   </span><span style=\"color: #0000ff; text-decoration-color: #0000ff\">try</span>:                                                                      <span style=\"color: #800000; text-decoration-color: #800000\">│</span>\n<span style=\"color: #800000; text-decoration-color: #800000\">│</span> <span style=\"color: #800000; text-decoration-color: #800000\">❱ </span>3241 <span style=\"color: #7f7f7f; text-decoration-color: #7f7f7f\">│   │   │   │   │   </span>code_ast = compiler.ast_parse(cell, filename=cell_name)               <span style=\"color: #800000; text-decoration-color: #800000\">│</span>\n<span style=\"color: #800000; text-decoration-color: #800000\">│</span>   <span style=\"color: #7f7f7f; text-decoration-color: #7f7f7f\">3242 </span><span style=\"color: #7f7f7f; text-decoration-color: #7f7f7f\">│   │   │   │   </span><span style=\"color: #0000ff; text-decoration-color: #0000ff\">except</span> <span style=\"color: #00ffff; text-decoration-color: #00ffff\">self</span>.custom_exceptions <span style=\"color: #0000ff; text-decoration-color: #0000ff\">as</span> e:                                       <span style=\"color: #800000; text-decoration-color: #800000\">│</span>\n<span style=\"color: #800000; text-decoration-color: #800000\">│</span>   <span style=\"color: #7f7f7f; text-decoration-color: #7f7f7f\">3243 </span><span style=\"color: #7f7f7f; text-decoration-color: #7f7f7f\">│   │   │   │   │   </span>etype, value, tb = sys.exc_info()                                     <span style=\"color: #800000; text-decoration-color: #800000\">│</span>\n<span style=\"color: #800000; text-decoration-color: #800000\">│</span>   <span style=\"color: #7f7f7f; text-decoration-color: #7f7f7f\">3244 </span><span style=\"color: #7f7f7f; text-decoration-color: #7f7f7f\">│   │   │   │   │   </span><span style=\"color: #00ffff; text-decoration-color: #00ffff\">self</span>.CustomTB(etype, value, tb)                                       <span style=\"color: #800000; text-decoration-color: #800000\">│</span>\n<span style=\"color: #800000; text-decoration-color: #800000\">│</span>                                                                                                  <span style=\"color: #800000; text-decoration-color: #800000\">│</span>\n<span style=\"color: #800000; text-decoration-color: #800000\">│</span> <span style=\"color: #bfbf7f; text-decoration-color: #bfbf7f\">/opt/conda/lib/python3.10/site-packages/IPython/core/</span><span style=\"color: #808000; text-decoration-color: #808000; font-weight: bold\">compilerop.py</span>:<span style=\"color: #0000ff; text-decoration-color: #0000ff\">86</span> in <span style=\"color: #00ff00; text-decoration-color: #00ff00\">ast_parse</span>               <span style=\"color: #800000; text-decoration-color: #800000\">│</span>\n<span style=\"color: #800000; text-decoration-color: #800000\">│</span>                                                                                                  <span style=\"color: #800000; text-decoration-color: #800000\">│</span>\n<span style=\"color: #800000; text-decoration-color: #800000\">│</span>   <span style=\"color: #7f7f7f; text-decoration-color: #7f7f7f\"> 83 </span><span style=\"color: #7f7f7f; text-decoration-color: #7f7f7f\">│   │   </span>                                                                                   <span style=\"color: #800000; text-decoration-color: #800000\">│</span>\n<span style=\"color: #800000; text-decoration-color: #800000\">│</span>   <span style=\"color: #7f7f7f; text-decoration-color: #7f7f7f\"> 84 </span><span style=\"color: #bfbf7f; text-decoration-color: #bfbf7f\">│   │   </span><span style=\"color: #808000; text-decoration-color: #808000\">Arguments are exactly the same as ast.parse (in the standard library),</span>             <span style=\"color: #800000; text-decoration-color: #800000\">│</span>\n<span style=\"color: #800000; text-decoration-color: #800000\">│</span>   <span style=\"color: #7f7f7f; text-decoration-color: #7f7f7f\"> 85 </span><span style=\"color: #bfbf7f; text-decoration-color: #bfbf7f\">│   │   </span><span style=\"color: #808000; text-decoration-color: #808000\">and are passed to the built-in compile function.\"\"\"</span>                                <span style=\"color: #800000; text-decoration-color: #800000\">│</span>\n<span style=\"color: #800000; text-decoration-color: #800000\">│</span> <span style=\"color: #800000; text-decoration-color: #800000\">❱ </span> 86 <span style=\"color: #7f7f7f; text-decoration-color: #7f7f7f\">│   │   </span><span style=\"color: #0000ff; text-decoration-color: #0000ff\">return</span> <span style=\"color: #00ffff; text-decoration-color: #00ffff\">compile</span>(source, filename, symbol, <span style=\"color: #00ffff; text-decoration-color: #00ffff\">self</span>.flags | PyCF_ONLY_AST, <span style=\"color: #0000ff; text-decoration-color: #0000ff\">1</span>)            <span style=\"color: #800000; text-decoration-color: #800000\">│</span>\n<span style=\"color: #800000; text-decoration-color: #800000\">│</span>   <span style=\"color: #7f7f7f; text-decoration-color: #7f7f7f\"> 87 </span><span style=\"color: #7f7f7f; text-decoration-color: #7f7f7f\">│   </span>                                                                                       <span style=\"color: #800000; text-decoration-color: #800000\">│</span>\n<span style=\"color: #800000; text-decoration-color: #800000\">│</span>   <span style=\"color: #7f7f7f; text-decoration-color: #7f7f7f\"> 88 </span><span style=\"color: #7f7f7f; text-decoration-color: #7f7f7f\">│   </span><span style=\"color: #0000ff; text-decoration-color: #0000ff\">def</span> <span style=\"color: #00ff00; text-decoration-color: #00ff00\">reset_compiler_flags</span>(<span style=\"color: #00ffff; text-decoration-color: #00ffff\">self</span>):                                                        <span style=\"color: #800000; text-decoration-color: #800000\">│</span>\n<span style=\"color: #800000; text-decoration-color: #800000\">│</span>   <span style=\"color: #7f7f7f; text-decoration-color: #7f7f7f\"> 89 </span><span style=\"color: #bfbfbf; text-decoration-color: #bfbfbf\">│   │   </span><span style=\"color: #808000; text-decoration-color: #808000\">\"\"\"Reset compiler flags to default state.\"\"\"</span>                                       <span style=\"color: #800000; text-decoration-color: #800000\">│</span>\n<span style=\"color: #800000; text-decoration-color: #800000\">╰──────────────────────────────────────────────────────────────────────────────────────────────────╯</span>\n<span style=\"color: #ff0000; text-decoration-color: #ff0000\">╭──────────────────────────────────────────────────────────────────────────────────────────────────╮</span>\n<span style=\"color: #ff0000; text-decoration-color: #ff0000\">│</span> precision <span style=\"color: #0000ff; text-decoration-color: #0000ff\">0.807980100402321</span>                                                                      <span style=\"color: #ff0000; text-decoration-color: #ff0000\">│</span>\n<span style=\"color: #ff0000; text-decoration-color: #ff0000\">│</span>           <span style=\"color: #ff0000; text-decoration-color: #ff0000; font-weight: bold\">▲</span>                                                                                      <span style=\"color: #ff0000; text-decoration-color: #ff0000\">│</span>\n<span style=\"color: #ff0000; text-decoration-color: #ff0000\">╰──────────────────────────────────────────────────────────────────────────────────────────────────╯</span>\n<span style=\"color: #ff0000; text-decoration-color: #ff0000; font-weight: bold\">SyntaxError: </span>invalid syntax\n</pre>\n"
          },
          "metadata": {}
        }
      ]
    },
    {
      "cell_type": "markdown",
      "source": [
        "* precision 0.3111225918183273\n",
        "* f1_score 0.3191659886291905\n",
        "* recall 0.3295510091217397\n",
        "* accuracy 0.9829524113575062\n",
        "* mIoU:  0.29805679046190703"
      ],
      "metadata": {
        "id": "gZnRfZ3nTClx"
      }
    },
    {
      "cell_type": "markdown",
      "source": [
        "* precision 0.26088595055841357\n",
        "* f1_score 0.29013017962476445\n",
        "* recall 0.3274049580908574\n",
        "* accuracy 0.988511827256274\n",
        "* mIoU:  0.25725841522216797\n",
        "\n"
      ],
      "metadata": {
        "id": "qBIIwKhBElr5"
      }
    }
  ]
}